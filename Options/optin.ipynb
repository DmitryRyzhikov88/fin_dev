{
 "cells": [
  {
   "cell_type": "code",
   "execution_count": 1,
   "metadata": {},
   "outputs": [],
   "source": [
    "from requests_html import HTMLSession\n",
    "from time import *\n",
    "from random import randint\n",
    "import pandas as pd\n",
    "import numpy as np\n",
    "import csv\n",
    "from requests import request\n",
    "import pandas_datareader.data as web\n",
    "from datetime import datetime, timedelta, time, date\n",
    "# import gspread_dataframe as gd\n",
    "import gspread as gd\n",
    "from google.auth.transport.requests import AuthorizedSession\n",
    "from oauth2client.service_account import ServiceAccountCredentials\n",
    "import asyncio\n",
    "from requests_html import AsyncHTMLSession"
   ]
  },
  {
   "cell_type": "code",
   "execution_count": null,
   "metadata": {},
   "outputs": [],
   "source": []
  },
  {
   "cell_type": "code",
   "execution_count": 2,
   "metadata": {},
   "outputs": [],
   "source": [
    "gc = gd.service_account(filename='Seetzzz-1cb93f64d8d7.json')\n",
    "worksheet = gc.open(\"Skript_Ticker\").worksheet(\"Options_calc\")"
   ]
  },
  {
   "cell_type": "markdown",
   "metadata": {},
   "source": [
    "Задаем параметры"
   ]
  },
  {
   "cell_type": "code",
   "execution_count": 3,
   "metadata": {},
   "outputs": [],
   "source": [
    "ticker = 'INTC'\n",
    "next_ticker_row = '2'"
   ]
  },
  {
   "cell_type": "code",
   "execution_count": 4,
   "metadata": {},
   "outputs": [
    {
     "name": "stdout",
     "output_type": "stream",
     "text": [
      "current_price: 61.85\n",
      "min_put: 49\n",
      "max_сall: 74\n"
     ]
    }
   ],
   "source": [
    "df = web.DataReader(ticker, 'yahoo')\n",
    "current_price = round(float(df[::-1]['Close'][0]), 2)\n",
    "print(f'current_price: {current_price}')\n",
    "\n",
    "min_put = int(current_price - (current_price * 0.2))\n",
    "print(f'min_put: {min_put}')\n",
    "\n",
    "max_сall = int(current_price + (current_price * 0.2))\n",
    "print(f'max_сall: {max_сall}')"
   ]
  },
  {
   "cell_type": "code",
   "execution_count": 5,
   "metadata": {},
   "outputs": [
    {
     "name": "stdout",
     "output_type": "stream",
     "text": [
      "14\n",
      "['2021-02-19 (m)', '2021-02-26 (w)', '2021-03-05 (w)', '2021-03-12 (w)', '2021-03-19 (m)', '2021-03-26 (w)', '2021-04-01 (w)', '2021-04-16 (m)', '2021-06-18 (m)', '2021-07-16 (m)', '2021-09-17 (m)', '2022-01-21 (m)', '2022-06-17 (m)', '2023-01-20 (m)']\n"
     ]
    },
    {
     "name": "stderr",
     "output_type": "stream",
     "text": [
      "<ipython-input-5-53fe6a317472>:14: RuntimeWarning: coroutine 'AsyncHTMLSession.close' was never awaited\n",
      "  session.close()\n",
      "RuntimeWarning: Enable tracemalloc to get the object allocation traceback\n"
     ]
    }
   ],
   "source": [
    "k = 0\n",
    "# парсим все возможные даты в слекте\n",
    "while k < 1:\n",
    "    session = AsyncHTMLSession()\n",
    "    url = await session.get(f'https://www.barchart.com/stocks/quotes/{ticker}/options')\n",
    "    await url.html.arender(timeout=300)\n",
    "    url_parser = url.html.xpath('//*[@id=\"main-content-column\"]/div/div[3]/div[1]/div/div[2]/select')\n",
    "    date_select = url_parser[0].text.split('\\n')\n",
    "    print(len(date_select))\n",
    "\n",
    "    if len(date_select) > 1:\n",
    "        k += 1\n",
    "        print(date_select)\n",
    "    session.close()\n",
    "\n",
    "\n",
    "dates = []\n",
    "puts_bid = []\n",
    "call_bid = []\n",
    "current_price_list = []\n",
    "cost_put_call = []\n",
    "income_put = []\n",
    "income_put_year = []\n",
    "income_call = []\n",
    "income_call_yaer = []\n",
    "day_len_list = []\n",
    "strike_put_list = []\n",
    "strike_call_list = []\n",
    "put_plus_call = []\n",
    "put_plus_call_year = []\n",
    "ticker_list = []\n",
    "days_call = []"
   ]
  },
  {
   "cell_type": "code",
   "execution_count": 6,
   "metadata": {},
   "outputs": [
    {
     "name": "stdout",
     "output_type": "stream",
     "text": [
      "2021-02-19-m\n",
      "2021-02-26-w\n",
      "2021-03-05-w\n",
      "2021-03-12-w\n",
      "2021-03-19-m\n"
     ]
    },
    {
     "name": "stderr",
     "output_type": "stream",
     "text": [
      "Future exception was never retrieved\n",
      "future: <Future finished exception=NetworkError('Protocol error Target.detachFromTarget: Target closed.')>\n",
      "pyppeteer.errors.NetworkError: Protocol error Target.detachFromTarget: Target closed.\n",
      "Future exception was never retrieved\n",
      "future: <Future finished exception=NetworkError('Protocol error (Target.sendMessageToTarget): No session with given id')>\n",
      "pyppeteer.errors.NetworkError: Protocol error (Target.sendMessageToTarget): No session with given id\n"
     ]
    },
    {
     "name": "stdout",
     "output_type": "stream",
     "text": [
      "2021-03-26-w\n",
      "2021-04-01-w\n",
      "2021-04-16-m\n",
      "2021-06-18-m\n",
      "2021-07-16-m\n",
      "2021-09-17-m\n",
      "2022-01-21-m\n",
      "2022-06-17-m\n",
      "2023-01-20-m\n"
     ]
    }
   ],
   "source": [
    "# парсим путы в пределах до мин порогда для каждой имеющейся даты\n",
    "for i in range(len(date_select)): #len(date_select)\n",
    "    session = AsyncHTMLSession()\n",
    "    print(date_select[i].replace(' (w)', '-w').replace(' (m)', '-m'))\n",
    "    date_to_pars = date_select[i].replace(' (w)', '-w').replace(' (m)', '-m')\n",
    "\n",
    "    iteration = 0\n",
    "    while iteration < 1:\n",
    "        url_date = await session.get(f'https://www.barchart.com/stocks/quotes/{ticker}/options?expiration={date_to_pars}')\n",
    "        await url_date.html.arender(timeout=300)\n",
    "        try:\n",
    "            check = url_date.html.xpath(f'//*[@id=\"main-content-column\"]/div/div[5]/div[1]/div/div[2]/div[1]/div[2]/div[2]/div/div/ng-transclude/table')\n",
    "            text_check = check[0].text\n",
    "        except:\n",
    "            text_check = ['0']\n",
    "            pass\n",
    "        iteration_len = text_check.count('Quote Overview')\n",
    "#         print('table len: ', text_check.count('Quote Overview'))\n",
    "\n",
    "        if len(text_check) > 1:\n",
    "            iteration += 1\n",
    "\n",
    "    for j in range(iteration_len):\n",
    "        it = 0\n",
    "        while it < 2:\n",
    "            try:\n",
    "                puts_parser = url_date.html.xpath(f'//*[@id=\"main-content-column\"]/div/div[5]/div[1]/div/div[2]/div[2]/div[2]/div[2]/div/div/ng-transclude/table/tbody/tr[{j+1}]')\n",
    "                strike_put = (puts_parser[0].text.split('\\n'))\n",
    "                if len(strike_put) >= 1:\n",
    "                    it += 1\n",
    "\n",
    "                if float(strike_put[0]) <= current_price and min_put <= float(strike_put[0]):\n",
    "                    day_len = (datetime.strptime(date_to_pars.replace('-w', '').replace('-m', ''), '%Y-%m-%d')).date() - date.today()\n",
    "                    day_len_num = int(str(day_len).split(' ')[0])\n",
    "                    strike_put_list.append(strike_put[0])\n",
    "                    dates.append(date_to_pars)\n",
    "                    puts_bid.append(strike_put[2])\n",
    "                    current_price_list.append(current_price)\n",
    "                    cost_put_call.append(current_price*200)\n",
    "                    income_put.append(float(strike_put[2])*100)\n",
    "                    day_len_list.append(day_len_num)\n",
    "                    income_put_year.append((((round(float(strike_put[2]), 2)*100)/(current_price*100))/day_len_num)*365)\n",
    "                    ticker_list.append(ticker)\n",
    "\n",
    "                else:\n",
    "                    pass\n",
    "            except Exception as err:\n",
    "                print(err)\n",
    "                print(\"EEEEEEEEEERRRRRRRROOOOOORRRRR\")\n",
    "                pass\n",
    "    #\n",
    "    #\n",
    "\n",
    "            # =============== парсим и обрабатываем колы ============\n",
    "\n",
    "            try:\n",
    "                call_parser = url_date.html.xpath(\n",
    "                    f'//*[@id=\"main-content-column\"]/div/div[5]/div[1]/div/div[2]/div[1]/div[2]/div[2]/div/div/ng-transclude/table/tbody/tr[{j + 1}]')\n",
    "                strike_call = (call_parser[0].text.split('\\n'))\n",
    "                if len(strike_call) >= 1:\n",
    "                    it += 1\n",
    "\n",
    "                if current_price <= float(strike_call[0]) and float(strike_call[0]) <= max_сall:\n",
    "                    call_bid.append(strike_call[2])\n",
    "                    strike_call_list.append(strike_call[0])\n",
    "                    income_call.append(float(strike_call[2]) * 100)\n",
    "                    income_call_yaer.append((((round(float(strike_call[2]), 2) * 100) / (current_price * 100)) / day_len_num) * 365)\n",
    "                    days_call.append(day_len_num)\n",
    "\n",
    "                else:\n",
    "                    pass\n",
    "\n",
    "            except Exception as err:\n",
    "                print(err)\n",
    "                print(\"EEEEEEEEEERRRRRRRROOOOOORRRRR\")\n",
    "                pass\n"
   ]
  },
  {
   "cell_type": "code",
   "execution_count": 7,
   "metadata": {},
   "outputs": [],
   "source": [
    "\n",
    "put_data = pd.DataFrame(list(zip(dates, ticker_list, current_price_list, cost_put_call, day_len_list, strike_put_list, puts_bid,\n",
    "                            income_put, income_put_year )),\n",
    "                  columns=['Дата', 'Тикер', 'Цена покупки', 'Сколько денег нужно на один опцион PUT + CALL', 'Длина опциона в днях',\n",
    "                           'Strike PUT', 'Премия PUT', 'Доход от премии PUT', 'Доход от премии PUT в % годовых'\n",
    "                            ]).reset_index(drop=True)\n",
    "\n",
    "\n",
    "call_data = pd.DataFrame(list(zip(days_call, strike_call_list, call_bid,  income_call, income_call_yaer)),\n",
    "                  columns=['Длина опциона в днях', 'Strike CALL', 'Премия CALL', 'Доход от премии CALL', 'Доход от премии CALL в % годовых',\n",
    "                           ]).reset_index(drop=True)"
   ]
  },
  {
   "cell_type": "code",
   "execution_count": 8,
   "metadata": {},
   "outputs": [
    {
     "data": {
      "text/plain": [
       "{'spreadsheetId': '1bfNJIgSEo9V5Jww1-EoUh_onba2bGY2LpDVx4aYlPzc',\n",
       " 'updatedRange': 'Options_calc!J2:N86',\n",
       " 'updatedRows': 85,\n",
       " 'updatedColumns': 5,\n",
       " 'updatedCells': 425}"
      ]
     },
     "execution_count": 8,
     "metadata": {},
     "output_type": "execute_result"
    }
   ],
   "source": [
    "put_row = f'A{next_ticker_row}'\n",
    "\n",
    "call_row = f'J{next_ticker_row}'\n",
    "\n",
    "# # запись в таблицу\n",
    "\n",
    "worksheet.update(put_row, put_data.values.tolist())\n",
    "worksheet.update(call_row, call_data.values.tolist())"
   ]
  },
  {
   "cell_type": "code",
   "execution_count": null,
   "metadata": {},
   "outputs": [],
   "source": []
  }
 ],
 "metadata": {
  "kernelspec": {
   "display_name": "Python 3",
   "language": "python",
   "name": "python3"
  },
  "language_info": {
   "codemirror_mode": {
    "name": "ipython",
    "version": 3
   },
   "file_extension": ".py",
   "mimetype": "text/x-python",
   "name": "python",
   "nbconvert_exporter": "python",
   "pygments_lexer": "ipython3",
   "version": "3.8.3"
  }
 },
 "nbformat": 4,
 "nbformat_minor": 4
}
