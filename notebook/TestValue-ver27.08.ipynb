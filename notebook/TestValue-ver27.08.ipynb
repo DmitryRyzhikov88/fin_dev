{
 "cells": [
  {
   "cell_type": "code",
   "execution_count": 61,
   "metadata": {
    "colab": {
     "base_uri": "https://localhost:8080/",
     "height": 367
    },
    "colab_type": "code",
    "executionInfo": {
     "elapsed": 2107,
     "status": "error",
     "timestamp": 1597651503151,
     "user": {
      "displayName": "Антон Филимонцев",
      "photoUrl": "https://lh3.googleusercontent.com/a-/AOh14GgXMWMDCqDyAK2nY5btETV-A_lrkmEWGgAnMNCs=s64",
      "userId": "13258489990039501932"
     },
     "user_tz": -180
    },
    "id": "wo9POTLE71Tb",
    "outputId": "df76be22-7de1-46cd-eec3-37b2ca5b873c"
   },
   "outputs": [],
   "source": [
    "import pandas as pd\n",
    "import numpy as np\n",
    "import numpy_financial as npf\n",
    "from pandas_datareader import data as wb\n",
    "import datetime\n",
    "import requests\n",
    "from scipy.stats.mstats import gmean\n",
    "import statsmodels.api as sm\n",
    "from scipy import stats\n",
    "from sklearn.metrics import r2_score\n",
    "import matplotlib.pyplot as plt"
   ]
  },
  {
   "cell_type": "code",
   "execution_count": 62,
   "metadata": {
    "colab": {
     "base_uri": "https://localhost:8080/",
     "height": 163
    },
    "colab_type": "code",
    "executionInfo": {
     "elapsed": 2111,
     "status": "error",
     "timestamp": 1597651503160,
     "user": {
      "displayName": "Антон Филимонцев",
      "photoUrl": "https://lh3.googleusercontent.com/a-/AOh14GgXMWMDCqDyAK2nY5btETV-A_lrkmEWGgAnMNCs=s64",
      "userId": "13258489990039501932"
     },
     "user_tz": -180
    },
    "id": "Uh1A2obq71Te",
    "outputId": "521c880a-4077-4f34-edec-462d8db56103"
   },
   "outputs": [],
   "source": [
    "start_time = datetime.datetime.now() # Замер времени выполнения скрипта для одного тикера"
   ]
  },
  {
   "cell_type": "code",
   "execution_count": 63,
   "metadata": {
    "colab": {},
    "colab_type": "code",
    "executionInfo": {
     "elapsed": 2101,
     "status": "aborted",
     "timestamp": 1597651503152,
     "user": {
      "displayName": "Антон Филимонцев",
      "photoUrl": "https://lh3.googleusercontent.com/a-/AOh14GgXMWMDCqDyAK2nY5btETV-A_lrkmEWGgAnMNCs=s64",
      "userId": "13258489990039501932"
     },
     "user_tz": -180
    },
    "id": "SvI1rsk-71Tg"
   },
   "outputs": [],
   "source": [
    "COMPANY = 'MSFT'\n",
    "KEY = '2105b9f242d47b69fc73f0f2205be048'"
   ]
  },
  {
   "cell_type": "code",
   "execution_count": 64,
   "metadata": {
    "colab": {},
    "colab_type": "code",
    "executionInfo": {
     "elapsed": 2099,
     "status": "aborted",
     "timestamp": 1597651503153,
     "user": {
      "displayName": "Антон Филимонцев",
      "photoUrl": "https://lh3.googleusercontent.com/a-/AOh14GgXMWMDCqDyAK2nY5btETV-A_lrkmEWGgAnMNCs=s64",
      "userId": "13258489990039501932"
     },
     "user_tz": -180
    },
    "id": "2wnbO5ew71Th"
   },
   "outputs": [],
   "source": [
    "IS = requests.get(f'https://financialmodelingprep.com/api/v3/income-statement/{COMPANY}?apikey={KEY}').json()\n",
    "FIS = requests.get(f'https://financialmodelingprep.com/api/v3/financials/income-statement/{COMPANY}?apikey={KEY}').json()\n",
    "BL = requests.get(f'https://financialmodelingprep.com/api/v3/balance-sheet-statement/{COMPANY}?apikey={KEY}').json()\n",
    "RT = requests.get(f'https://financialmodelingprep.com/api/v3/ratios/{COMPANY}?apikey={KEY}').json()\n",
    "CF = requests.get(f'https://financialmodelingprep.com/api/v3/cash-flow-statement/{COMPANY}?apikey={KEY}').json()\n",
    "EV = requests.get(f'https://financialmodelingprep.com/api/v3/enterprise-values/{COMPANY}?apikey={KEY}').json()\n",
    "PF = requests.get(f'https://financialmodelingprep.com/api/v3/profile/{COMPANY}?apikey={KEY}').json()\n",
    "CQ = requests.get(f'https://financialmodelingprep.com/api/v3/quote/{COMPANY}?apikey={KEY}').json()\n",
    "FS = requests.get(f'https://financialmodelingprep.com/api/v3/financial-statement-full-as-reported/{COMPANY}?apikey={KEY}').json()\n",
    "KM = requests.get(f'https://financialmodelingprep.com/api/v3/key-metrics/{COMPANY}?apikey={KEY}').json()"
   ]
  },
  {
   "cell_type": "code",
   "execution_count": 65,
   "metadata": {},
   "outputs": [],
   "source": [
    "    financial_income_statement = pd.DataFrame(FIS['financials'])\n",
    "    income_statement = pd.DataFrame(IS)\n",
    "    balance = pd.DataFrame(BL)\n",
    "    ratios = pd.DataFrame(RT)\n",
    "    cash_flow = pd.DataFrame(CF)\n",
    "    enterprise_value = pd.DataFrame(EV)\n",
    "    company_profile = pd.DataFrame(PF)\n",
    "    real_time_quote = pd.DataFrame(CQ)\n",
    "    financial_statement = pd.DataFrame(FS)\n",
    "    key_metrics = pd.DataFrame(KM)"
   ]
  },
  {
   "cell_type": "code",
   "execution_count": 66,
   "metadata": {},
   "outputs": [],
   "source": [
    "LTGrowth = 0.02\n",
    "LTdis = 0.08\n",
    "PRICE = real_time_quote['price'][0]\n",
    "company_profile_beta = company_profile['beta']\n",
    "Total_rating = []"
   ]
  },
  {
   "cell_type": "code",
   "execution_count": 67,
   "metadata": {},
   "outputs": [],
   "source": [
    "work_table = pd.concat(\n",
    "        (income_statement[['date', 'revenue', 'operatingIncome', 'netIncome', 'eps', 'ebitda',\n",
    "                          'depreciationAndAmortization', 'interestExpense', 'incomeBeforeTax',\n",
    "                               'incomeTaxExpense']].replace(np.nan, 0)[0:10],\n",
    "        balance[['totalAssets', 'totalLiabilities', 'totalStockholdersEquity',\n",
    "                        'totalDebt', 'netDebt']].replace(np.nan, 0)[0:10],\n",
    "        ratios[['dividendPayoutRatio', 'dividendYield', 'effectiveTaxRate', 'payoutRatio']].replace(\n",
    "            np.nan, 0)[0:10],\n",
    "        cash_flow[['freeCashFlow', 'dividendsPaid']].replace(np.nan, 0)[0:10],\n",
    "        enterprise_value[['numberOfShares', 'stockPrice']].replace(np.nan, 0)[0:10],\n",
    "        key_metrics[['debtToEquity', 'bookValuePerShare', 'roe', 'currentRatio']].replace(np.nan,\n",
    "                                                                                          0)[0:10],\n",
    "        financial_income_statement['Dividend per Share'].replace(np.nan, 0)[0:10],\n",
    "        company_profile['mktCap'].replace(np.nan, 0)[0:10]\n",
    "\n",
    "        ),axis=1)"
   ]
  },
  {
   "cell_type": "code",
   "execution_count": 68,
   "metadata": {
    "colab": {},
    "colab_type": "code",
    "executionInfo": {
     "elapsed": 2083,
     "status": "aborted",
     "timestamp": 1597651503156,
     "user": {
      "displayName": "Антон Филимонцев",
      "photoUrl": "https://lh3.googleusercontent.com/a-/AOh14GgXMWMDCqDyAK2nY5btETV-A_lrkmEWGgAnMNCs=s64",
      "userId": "13258489990039501932"
     },
     "user_tz": -180
    },
    "id": "Qszk6xyt71Tr"
   },
   "outputs": [
    {
     "name": "stdout",
     "output_type": "stream",
     "text": [
      "         date       revenue  operatingIncome     netIncome      eps  \\\n",
      "0  2020-06-30  143015000000      52826000000  4.428100e+10  5.79817   \n",
      "1  2019-06-30  125843000000      42933000000  3.924000e+10  5.08454   \n",
      "2  2018-06-30  110360000000      35011000000  1.657100e+10  3.88889   \n",
      "3  2017-06-30   96571000000      28970000000  2.548900e+10  3.61560   \n",
      "4  2016-06-30   91154000000      25756000000  2.053900e+10  2.70637   \n",
      "5  2015-06-30   93580000000      17978000000  1.219300e+10  2.29091   \n",
      "6  2014-06-30   86833000000      27653000000  2.207400e+10  2.65000   \n",
      "7  2013-06-30   77849000000      26556000000  2.186300e+10  2.60000   \n",
      "8  2012-06-30   73723000000      21763000000  1.697800e+10  2.55000   \n",
      "9  2011-06-30   69943000000      27161000000  2.315000e+10  2.69000   \n",
      "\n",
      "        ebitda  depreciationAndAmortization  interestExpense  incomeBeforeTax  \\\n",
      "0  68423000000                 1.279600e+10     2.591000e+09      53036000000   \n",
      "1  58056000000                 1.168200e+10     2.686000e+09      43688000000   \n",
      "2  49468000000                 1.026100e+10     2.733000e+09      36474000000   \n",
      "3  38434000000                 8.778000e+09     2.222000e+09      29901000000   \n",
      "4  31357000000                 6.622000e+09     1.243000e+09      25639000000   \n",
      "5  25245000000                 5.957000e+09     7.810000e+08      18507000000   \n",
      "6  33629000000                 5.212000e+09     5.970000e+08      27820000000   \n",
      "7  31236000000                 3.755000e+09     4.290000e+08      27052000000   \n",
      "8  25614000000                 2.967000e+09     3.800000e+08      22267000000   \n",
      "9  31132000000                 2.766000e+09     2.950000e+08      28071000000   \n",
      "\n",
      "   incomeTaxExpense  ...  freeCashFlow  dividendsPaid  numberOfShares  \\\n",
      "0      8.755000e+09  ...  4.523400e+10  -1.513700e+10      7683000000   \n",
      "1      4.448000e+09  ...  3.826000e+10  -1.381100e+10      7753000000   \n",
      "2      1.990300e+10  ...  3.225200e+10  -1.269900e+10      7794000000   \n",
      "3      1.945000e+09  ...  3.137800e+10  -1.184500e+10      7832000000   \n",
      "4      2.953000e+09  ...  2.498200e+10  -1.100600e+10      8013000000   \n",
      "5      6.314000e+09  ...  2.313600e+10  -9.882000e+09      8254000000   \n",
      "6      5.746000e+09  ...  2.674600e+10  -8.879000e+09      8399000000   \n",
      "7      5.189000e+09  ...  2.457600e+10  -7.455000e+09      8470000000   \n",
      "8      5.289000e+09  ...  2.932100e+10  -6.385000e+09      8506000000   \n",
      "9      4.921000e+09  ...  2.463900e+10  -5.180000e+09      8593000000   \n",
      "\n",
      "   stockPrice  debtToEquity  bookValuePerShare       roe  currentRatio  \\\n",
      "0  203.899994      1.546921          15.398152  0.374298      2.515765   \n",
      "1  140.350000      1.800313          13.198762  0.383465      2.528839   \n",
      "2  105.370000      2.129283          10.613036  0.200331      2.900800   \n",
      "3   73.040000      1.853827          11.199055  0.290602      2.918576   \n",
      "4   56.680000      1.687168           8.985024  0.285276      2.352882   \n",
      "5   46.880000      1.178640           9.702326  0.152255      2.473402   \n",
      "6   43.580000      0.919986          10.689844  0.245857      2.504022   \n",
      "7   31.850000      0.804203           9.320425  0.276943      2.711762   \n",
      "8   29.640000      0.827389           7.801905  0.255835      2.602912   \n",
      "9   27.400000      0.904315           6.642965  0.405550      2.603670   \n",
      "\n",
      "   Dividend per Share        mktCap  \n",
      "0       1.97019393466  1.673586e+12  \n",
      "1       1.78137495163           NaN  \n",
      "2       1.62933025404           NaN  \n",
      "3       1.51238508682           NaN  \n",
      "4        1.3735180332           NaN  \n",
      "5       1.19723770293           NaN  \n",
      "6       1.05714966067           NaN  \n",
      "7      0.880165289256           NaN  \n",
      "8      0.750646602398           NaN  \n",
      "9      0.602816245781           NaN  \n",
      "\n",
      "[10 rows x 29 columns]\n"
     ]
    }
   ],
   "source": [
    "print(work_table)"
   ]
  },
  {
   "cell_type": "markdown",
   "metadata": {
    "colab_type": "text",
    "id": "GIz9fw9H71Tt"
   },
   "source": [
    "Расчет показателей качества"
   ]
  },
  {
   "cell_type": "code",
   "execution_count": 69,
   "metadata": {
    "colab": {},
    "colab_type": "code",
    "executionInfo": {
     "elapsed": 2072,
     "status": "aborted",
     "timestamp": 1597651503157,
     "user": {
      "displayName": "Антон Филимонцев",
      "photoUrl": "https://lh3.googleusercontent.com/a-/AOh14GgXMWMDCqDyAK2nY5btETV-A_lrkmEWGgAnMNCs=s64",
      "userId": "13258489990039501932"
     },
     "user_tz": -180
    },
    "id": "dM5v4nTc71Tu"
   },
   "outputs": [
    {
     "name": "stdout",
     "output_type": "stream",
     "text": [
      "revenue_growth 0.07\n",
      "use_of_profit 0.1\n",
      "operating_margin 0.31\n",
      "operating_margin_dynamics Рост\n",
      "net_profit_margin 0.25\n",
      "net_profit_margin_dynamics Рост\n",
      "EPS_growth 0.08\n",
      "debt_level 0.56\n",
      "ROE_DuPont_average 0.30389\n",
      "         date  Profitability  TechnicalEfficiency  FinancialStructure  \\\n",
      "0  2020-06-30       0.309625             0.486556            2.664444   \n",
      "1  2019-06-30       0.311817             0.461467            2.947365   \n",
      "2  2018-06-30       0.150154             0.433498            2.987520   \n",
      "3  2017-06-30       0.263941             0.435220            2.778696   \n",
      "4  2016-06-30       0.225322             0.495483            2.419385   \n",
      "5  2015-06-30       0.130295             0.539590            2.041927   \n",
      "6  2014-06-30       0.254212             0.551645            1.865814   \n",
      "7  2013-06-30       0.280839             0.590432            1.814792   \n",
      "8  2012-06-30       0.230294             0.641139            1.862960   \n",
      "9  2011-06-30       0.330984             0.718038            1.886701   \n",
      "\n",
      "   ROE_DuPont  \n",
      "0    0.401398  \n",
      "1    0.424106  \n",
      "2    0.194462  \n",
      "3    0.319195  \n",
      "4    0.270108  \n",
      "5    0.143559  \n",
      "6    0.261652  \n",
      "7    0.300921  \n",
      "8    0.275068  \n",
      "9    0.448391  \n",
      "ROA_average 0.13\n",
      "[1, 2, 2, 2, 2, 1, 0, 0, 2, 1]\n",
      "Общая оценка = 13\n"
     ]
    }
   ],
   "source": [
    "# считаем рост выручки______________________________________________________________\n",
    "revenue_growth = round((((work_table['revenue'][0]/work_table['revenue'][9]) ** 0.1) -1), 2)\n",
    "\n",
    "print(f'revenue_growth {revenue_growth}')\n",
    "\n",
    "\n",
    "if revenue_growth > 0.06:\n",
    "    revenue_growth_rating = 1\n",
    "elif 0.05 > revenue_growth > 0.02:\n",
    "    revenue_growth_rating = 0\n",
    "else:\n",
    "    revenue_growth_rating = -1\n",
    "\n",
    "Total_rating.append(revenue_growth_rating)\n",
    "\n",
    "# считаем Использование прибыли______________________________________________________________\n",
    "average_dividend_payout_percentage = np.mean(work_table['dividendYield'][0:])\n",
    "\n",
    "# average_percentage_of_buyback  # не найден   !!!!!!!!!!!!!!!!!!!!!!\n",
    "# !!!!!!!!!!!!!!!!!!!!!!!!!!!!!!\n",
    "# !!!!!!!!!!!!!!!!!!!!!!!!\n",
    "# !!!!!!!!!!!!!!!!!!!!!!!!!!!!!!!!!!!!\n",
    "\n",
    "SHAREHOLDERS_EQUITY = (work_table['totalAssets'] - work_table['totalLiabilities'])\n",
    "\n",
    "average_quity_SHAREHOLDERS_EQUITY = round((((SHAREHOLDERS_EQUITY[0] / SHAREHOLDERS_EQUITY[9]) ** 0.1) -1), 2)\n",
    "\n",
    "use_of_profit = round((average_dividend_payout_percentage + average_quity_SHAREHOLDERS_EQUITY), 2)\n",
    "\n",
    "print(f'use_of_profit {use_of_profit}')\n",
    "\n",
    "if use_of_profit < 0.06:\n",
    "    use_of_profit_rating = -2\n",
    "elif 0.1 < use_of_profit > 0.06:\n",
    "    use_of_profit_rating = 0\n",
    "else:\n",
    "    use_of_profit_rating = 2\n",
    "\n",
    "Total_rating.append(use_of_profit_rating)\n",
    "\n",
    "# Считаем Операционную маржу_________________________________________________________________\n",
    "\n",
    "OPERATING_MAR = work_table['operatingIncome']/work_table['revenue']\n",
    "\n",
    "operating_margin = round(np.mean(OPERATING_MAR[0:]), 2)\n",
    "\n",
    "print(f'operating_margin {operating_margin}')\n",
    "\n",
    "if operating_margin < 0.06:\n",
    "    operating_margin_rating = -2\n",
    "elif 0.14 > operating_margin > 0.06:\n",
    "    operating_margin_rating = 0\n",
    "else:\n",
    "    operating_margin_rating = 2\n",
    "\n",
    "Total_rating.append(operating_margin_rating)\n",
    "\n",
    "# Считаем Динамику операционной маржи_________________________________________________________________\n",
    "\n",
    "if OPERATING_MAR.std() < 0.1:\n",
    "    operating_margin_dynamics = 'Рост'\n",
    "    operating_margin_dynamics_rating = 2\n",
    "else:\n",
    "    operating_margin_dynamics = 'Падение'\n",
    "    operating_margin_dynamics_rating = -2\n",
    "\n",
    "Total_rating.append(operating_margin_dynamics_rating)\n",
    "\n",
    "print(f'operating_margin_dynamics {operating_margin_dynamics}')\n",
    "\n",
    "# Считаем Маржу чистой прибыли_________________________________________________________________\n",
    "\n",
    "NET_PROFIT_MAR = work_table['netIncome']/work_table['revenue']\n",
    "\n",
    "net_profit_margin = round(np.mean(NET_PROFIT_MAR[0:]), 2)\n",
    "\n",
    "print(f'net_profit_margin {net_profit_margin}')\n",
    "\n",
    "if net_profit_margin < 0.06:\n",
    "    net_profit_margin_rating = -2\n",
    "elif 0.1 > net_profit_margin > 0.06:\n",
    "    net_profit_margin_rating = 0\n",
    "else:\n",
    "    net_profit_margin_rating = 2\n",
    "\n",
    "Total_rating.append(net_profit_margin_rating)\n",
    "\n",
    "# Считаем Динамику маржи чистой прибыли_________________________________________________________________\n",
    "\n",
    "if NET_PROFIT_MAR.std() < 0.1 :\n",
    "    net_profit_margin_dynamics = 'Рост'\n",
    "    net_profit_margin_dynamics_rating = 1\n",
    "else:\n",
    "    net_profit_margin_dynamics = 'Падение'\n",
    "    net_profit_margin_dynamics_rating = -1\n",
    "\n",
    "Total_rating.append(net_profit_margin_dynamics_rating)\n",
    "\n",
    "print(f'net_profit_margin_dynamics {net_profit_margin_dynamics}')\n",
    "\n",
    "# Считаем Рост EPS_________________________________________________________________\n",
    "\n",
    "EPS_growth = round((((work_table['eps'][0]/work_table['eps'][9]) ** 0.1) -1), 2)   # Первый вариант, eps - берем из API\n",
    "\n",
    "# EPS_growth = round((((SHAREHOLDERS_EQUITY[0] / SHAREHOLDERS_EQUITY[9]) ** 0.1) -1), 2)  # Второй вариант, eps = totalAssets - totalLiabilities\n",
    "\n",
    "#  !!!!!!!!!!!!!!!!!При разных вариантах разные значения!!!!!!!!!!!!!!!!!!!!!!\n",
    "\n",
    "print(f'EPS_growth {EPS_growth}')\n",
    "\n",
    "if EPS_growth < 0.06:\n",
    "    EPS_growth_rating = -2\n",
    "elif 0.1 > EPS_growth > 0.06:\n",
    "    EPS_growth_rating = 0\n",
    "else:\n",
    "    EPS_growth_rating = 2\n",
    "\n",
    "Total_rating.append(EPS_growth_rating)\n",
    "\n",
    "# Считаем Уровень долга_________________________________________________________________\n",
    "\n",
    "debt_level = round(np.mean(work_table['totalLiabilities']/work_table['totalAssets']), 2)\n",
    "\n",
    "print(f'debt_level {debt_level}')\n",
    "\n",
    "if debt_level < 0.5:\n",
    "    debt_level_rating = 1\n",
    "elif 0.7 > debt_level > 0.5:\n",
    "    debt_level_rating = 0\n",
    "else:\n",
    "    debt_level_rating = -1\n",
    "\n",
    "Total_rating.append(debt_level_rating)\n",
    "\n",
    " # ___________________________________ ROE_DuPont _______________________________________________\n",
    "\n",
    "Profitability = []\n",
    "TechnicalEfficiency = []\n",
    "FinancialStructure = []\n",
    "\n",
    "for year in range(0, 10):\n",
    "    last_year = year + 1\n",
    "    Profitability.append(work_table['netIncome'][year] / work_table['revenue'][year])\n",
    "    TechnicalEfficiency.append(work_table['revenue'][year] / (\n",
    "            (work_table['totalAssets'][year] + balance['totalAssets'].replace(np.nan, 0)[last_year]) / 2))\n",
    "    FinancialStructure.append(((work_table['totalAssets'][year] + balance['totalAssets'].replace(np.nan, 0)[last_year]) / 2) /\n",
    "                                      ((work_table['totalStockholdersEquity'][year] +\n",
    "                                        balance['totalStockholdersEquity'].replace(np.nan, 0)[last_year]) / 2))\n",
    "\n",
    "work_table['Profitability'] = Profitability\n",
    "work_table['TechnicalEfficiency'] = TechnicalEfficiency\n",
    "work_table['FinancialStructure'] = FinancialStructure\n",
    "\n",
    "work_table['ROE_DuPont'] = work_table['FinancialStructure'] * work_table['TechnicalEfficiency'] * \\\n",
    "                                   work_table['Profitability']\n",
    "\n",
    "ROE_DuPont = round(work_table['ROE_DuPont'].mean(axis=0), 5)\n",
    "decomp = work_table[['date', 'Profitability', 'TechnicalEfficiency', 'FinancialStructure', 'ROE_DuPont']]\n",
    "\n",
    "print(f'ROE_DuPont_average {ROE_DuPont}')\n",
    "print(decomp)\n",
    "\n",
    "if ROE_DuPont < 0.08:\n",
    "    ROE_average_rating = -2\n",
    "elif 0.14 > ROE_DuPont > 0.08:\n",
    "    ROE_average_rating = 0\n",
    "else:\n",
    "    ROE_average_rating = 2\n",
    "\n",
    "Total_rating.append(ROE_average_rating)\n",
    "\n",
    "# Считаем ROA_________________________________________________________________\n",
    "\n",
    "ROA_average = round(np.mean(work_table['netIncome']/work_table['totalAssets']), 2)\n",
    "\n",
    "print(f'ROA_average {ROA_average}')\n",
    "\n",
    "if ROA_average < 0.06:\n",
    "    ROA_average_rating = -1\n",
    "elif 0.08 > ROA_average > 0.06:\n",
    "    ROA_average_rating = 0\n",
    "else:\n",
    "    ROA_average_rating = 1\n",
    "\n",
    "Total_rating.append(ROA_average_rating)\n",
    "\n",
    "# Получаем общую оценку_________________________________________________________________\n",
    "\n",
    "print(Total_rating)\n",
    "print(f'Общая оценка = {sum(Total_rating)}')"
   ]
  },
  {
   "cell_type": "code",
   "execution_count": 70,
   "metadata": {},
   "outputs": [
    {
     "data": {
      "text/plain": [
       "<matplotlib.axes._subplots.AxesSubplot at 0x19c6e88adf0>"
      ]
     },
     "execution_count": 70,
     "metadata": {},
     "output_type": "execute_result"
    },
    {
     "data": {
      "image/png": "[encoded data removed]",
      "text/plain": [
       "<Figure size 720x432 with 1 Axes>"
      ]
     },
     "metadata": {
      "needs_background": "light"
     },
     "output_type": "display_data"
    }
   ],
   "source": [
    "work_table['netIncome'].plot(figsize=(10,6), title=\"Net Income in Last 10 Years\")"
   ]
  },
  {
   "cell_type": "code",
   "execution_count": 71,
   "metadata": {},
   "outputs": [
    {
     "data": {
      "text/plain": [
       "<matplotlib.axes._subplots.AxesSubplot at 0x19c6e8aa280>"
      ]
     },
     "execution_count": 71,
     "metadata": {},
     "output_type": "execute_result"
    },
    {
     "data": {
      "image/png": "[encoded data removed]",
      "text/plain": [
       "<Figure size 720x432 with 1 Axes>"
      ]
     },
     "metadata": {
      "needs_background": "light"
     },
     "output_type": "display_data"
    }
   ],
   "source": [
    "work_table['revenue'].plot(figsize=(10,6), title=\"Revenue in Last 10 Years\")"
   ]
  },
  {
   "cell_type": "code",
   "execution_count": 72,
   "metadata": {},
   "outputs": [
    {
     "data": {
      "text/plain": [
       "<matplotlib.axes._subplots.AxesSubplot at 0x19c6e7feb50>"
      ]
     },
     "execution_count": 72,
     "metadata": {},
     "output_type": "execute_result"
    },
    {
     "data": {
      "image/png": "[encoded data removed]",
      "text/plain": [
       "<Figure size 720x432 with 1 Axes>"
      ]
     },
     "metadata": {
      "needs_background": "light"
     },
     "output_type": "display_data"
    }
   ],
   "source": [
    "work_table['freeCashFlow'].plot(figsize=(10,6), title=\"FCF in Last 10 Years\")"
   ]
  },
  {
   "cell_type": "markdown",
   "metadata": {
    "colab_type": "text",
    "id": "skmd1uD571Tv"
   },
   "source": [
    "# Оцениваем инвестиционную стоимость  "
   ]
  },
  {
   "cell_type": "code",
   "execution_count": 73,
   "metadata": {
    "colab": {},
    "colab_type": "code",
    "executionInfo": {
     "elapsed": 2058,
     "status": "aborted",
     "timestamp": 1597651503158,
     "user": {
      "displayName": "Антон Филимонцев",
      "photoUrl": "https://lh3.googleusercontent.com/a-/AOh14GgXMWMDCqDyAK2nY5btETV-A_lrkmEWGgAnMNCs=s64",
      "userId": "13258489990039501932"
     },
     "user_tz": -180
    },
    "id": "sL53mULN71Tv"
   },
   "outputs": [
    {
     "name": "stdout",
     "output_type": "stream",
     "text": [
      "Считаем инвестиционную стоимость по дивидендной модели Гордона\n",
      "ROE_formul 0.30389\n",
      "payout_ratio 0.3891564237291216\n",
      "sustgrwothrate 0.18562925439295722\n",
      "RF 0.0069\n",
      "beta 0.88189\n",
      "Годовая доходность S&P500 6.989954239098226\n",
      "Стоимость капитала 6.245866643918334\n",
      "Расчетная стоимость по модели Гордона 18.964913658106845\n",
      "ROE_formul 0.30389\n",
      "payout_ratio 0.3891564237291216\n",
      "sustgrwothrate 0.18562925439295722\n",
      "RF 0.0069\n",
      "beta 0.88189\n",
      "Годовая доходность S&P500 6.989954239098226\n",
      "Стоимость капитала 6.245866643918334\n",
      "Расчетная стоимость по модели Гордона 18.964913658106845\n",
      "Время выполнения :0:00:09.216450\n"
     ]
    }
   ],
   "source": [
    "print('Считаем инвестиционную стоимость по дивидендной модели Гордона')\n",
    "\n",
    "Dtoday =   work_table['dividendsPaid'][0] / work_table['numberOfShares'][0]\n",
    "\n",
    "# ROE and PAyout Ratio\n",
    "\n",
    "ROE_formul = ROE_DuPont\n",
    "print(f'ROE_formul {ROE_formul}')\n",
    "\n",
    "payout_ratio = work_table['payoutRatio'].median(axis = 0)\n",
    "sustgrwothrate = ROE_formul * (1 - payout_ratio)\n",
    "print(f'payout_ratio {payout_ratio}')\n",
    "print(f'sustgrwothrate {sustgrwothrate}')\n",
    "\n",
    "##Cost of equity:\n",
    "# Risk Free Rate\n",
    "start = datetime.datetime(2019, 2, 1)\n",
    "end= datetime.datetime.today().strftime('%Y-%m-%d')\n",
    "#end = datetime.datetime(2020, 2, 27)\n",
    "\n",
    "Treasury = wb.DataReader(['DGS10'], 'fred', start, end)\n",
    "RF = float(Treasury.iloc[-1])\n",
    "RF = RF / 100\n",
    "print(f'RF {RF}')\n",
    "\n",
    "# Beta\n",
    "beta = float(company_profile_beta)\n",
    "print(f'beta {beta}')\n",
    "\n",
    "# Market Return\n",
    "# Считаем годовую доходность\n",
    "data = wb.DataReader('^GSPC', data_source='yahoo', start='2001-1-1') # нужно определиться с переменной\n",
    "data['simple_return'] = (data['Adj Close'] / data['Adj Close'].shift(1)) - 1\n",
    "data['simple_return'].replace(np.nan, 0)\n",
    "avg_returns_a = data['simple_return'].mean() * 250\n",
    "\n",
    "print(f'Годовая доходность S&P500 {avg_returns_a*100}')\n",
    "\n",
    "# Drop all Not a number values using drop method.\n",
    "ke = RF + (beta * (avg_returns_a - RF))\n",
    "print(f'Стоимость капитала {ke*100}')\n",
    "\n",
    "DDM = (Dtoday * (1 + sustgrwothrate)) / (ke - sustgrwothrate)\n",
    "\n",
    "print(f'Расчетная стоимость по модели Гордона {DDM}')\n",
    "\n",
    "valuecompany(COMPANY)\n",
    "\n",
    "print(f'Время выполнения :{datetime.datetime.now() - start_time}') # Замер времени"
   ]
  },
  {
   "cell_type": "markdown",
   "metadata": {
    "colab_type": "text",
    "id": "HlrofKL871Ty"
   },
   "source": [
    "# Расчет методом дисконтирования FCF спрогнозируемого методом линейной регрессии"
   ]
  },
  {
   "cell_type": "code",
   "execution_count": 75,
   "metadata": {
    "colab": {},
    "colab_type": "code",
    "executionInfo": {
     "elapsed": 2044,
     "status": "aborted",
     "timestamp": 1597651503159,
     "user": {
      "displayName": "Антон Филимонцев",
      "photoUrl": "https://lh3.googleusercontent.com/a-/AOh14GgXMWMDCqDyAK2nY5btETV-A_lrkmEWGgAnMNCs=s64",
      "userId": "13258489990039501932"
     },
     "user_tz": -180
    },
    "id": "L_JbtB2D71Ty"
   },
   "outputs": [
    {
     "name": "stdout",
     "output_type": "stream",
     "text": [
      "         date       revenue  operatingIncome     netIncome      eps  \\\n",
      "0  2020-06-30  143015000000      52826000000  4.428100e+10  5.79817   \n",
      "1  2019-06-30  125843000000      42933000000  3.924000e+10  5.08454   \n",
      "2  2018-06-30  110360000000      35011000000  1.657100e+10  3.88889   \n",
      "3  2017-06-30   96571000000      28970000000  2.548900e+10  3.61560   \n",
      "4  2016-06-30   91154000000      25756000000  2.053900e+10  2.70637   \n",
      "5  2015-06-30   93580000000      17978000000  1.219300e+10  2.29091   \n",
      "6  2014-06-30   86833000000      27653000000  2.207400e+10  2.65000   \n",
      "7  2013-06-30   77849000000      26556000000  2.186300e+10  2.60000   \n",
      "8  2012-06-30   73723000000      21763000000  1.697800e+10  2.55000   \n",
      "9  2011-06-30   69943000000      27161000000  2.315000e+10  2.69000   \n",
      "\n",
      "        ebitda  depreciationAndAmortization  interestExpense  incomeBeforeTax  \\\n",
      "0  68423000000                 1.279600e+10     2.591000e+09      53036000000   \n",
      "1  58056000000                 1.168200e+10     2.686000e+09      43688000000   \n",
      "2  49468000000                 1.026100e+10     2.733000e+09      36474000000   \n",
      "3  38434000000                 8.778000e+09     2.222000e+09      29901000000   \n",
      "4  31357000000                 6.622000e+09     1.243000e+09      25639000000   \n",
      "5  25245000000                 5.957000e+09     7.810000e+08      18507000000   \n",
      "6  33629000000                 5.212000e+09     5.970000e+08      27820000000   \n",
      "7  31236000000                 3.755000e+09     4.290000e+08      27052000000   \n",
      "8  25614000000                 2.967000e+09     3.800000e+08      22267000000   \n",
      "9  31132000000                 2.766000e+09     2.950000e+08      28071000000   \n",
      "\n",
      "   incomeTaxExpense  ...       roe  currentRatio  Dividend per Share  \\\n",
      "0      8.755000e+09  ...  0.374298      2.515765       1.97019393466   \n",
      "1      4.448000e+09  ...  0.383465      2.528839       1.78137495163   \n",
      "2      1.990300e+10  ...  0.200331      2.900800       1.62933025404   \n",
      "3      1.945000e+09  ...  0.290602      2.918576       1.51238508682   \n",
      "4      2.953000e+09  ...  0.285276      2.352882        1.3735180332   \n",
      "5      6.314000e+09  ...  0.152255      2.473402       1.19723770293   \n",
      "6      5.746000e+09  ...  0.245857      2.504022       1.05714966067   \n",
      "7      5.189000e+09  ...  0.276943      2.711762      0.880165289256   \n",
      "8      5.289000e+09  ...  0.255835      2.602912      0.750646602398   \n",
      "9      4.921000e+09  ...  0.405550      2.603670      0.602816245781   \n",
      "\n",
      "         mktCap  Profitability  TechnicalEfficiency  FinancialStructure  \\\n",
      "0  1.673586e+12       0.309625             0.486556            2.664444   \n",
      "1           NaN       0.311817             0.461467            2.947365   \n",
      "2           NaN       0.150154             0.433498            2.987520   \n",
      "3           NaN       0.263941             0.435220            2.778696   \n",
      "4           NaN       0.225322             0.495483            2.419385   \n",
      "5           NaN       0.130295             0.539590            2.041927   \n",
      "6           NaN       0.254212             0.551645            1.865814   \n",
      "7           NaN       0.280839             0.590432            1.814792   \n",
      "8           NaN       0.230294             0.641139            1.862960   \n",
      "9           NaN       0.330984             0.718038            1.886701   \n",
      "\n",
      "   ROE_DuPont  year_index  intercept  \n",
      "0    0.401398          10          1  \n",
      "1    0.424106           9          1  \n",
      "2    0.194462           8          1  \n",
      "3    0.319195           7          1  \n",
      "4    0.270108           6          1  \n",
      "5    0.143559           5          1  \n",
      "6    0.261652           4          1  \n",
      "7    0.300921           3          1  \n",
      "8    0.275068           2          1  \n",
      "9    0.448391           1          1  \n",
      "\n",
      "[10 rows x 35 columns]\n",
      "{'next_year1': {'freeCashFlow': 38290127272.72727}, 'next_year2': {'freeCashFlow': 40120733333.333336}, 'next_year3': {'freeCashFlow': 41951339393.93939}, 'next_year4': {'freeCashFlow': 43781945454.545456}, 'next_year5': {'freeCashFlow': 45612551515.15152}}\n",
      "freeCashFlow_pred_lr1 = 38290127272.72727\n",
      "freeCashFlow_pred_lr2 = 40120733333.333336\n",
      "freeCashFlow_pred_lr3 = 41951339393.93939\n",
      "freeCashFlow_pred_lr4 = 43781945454.545456\n",
      "freeCashFlow_pred_lr5 = 45612551515.15152\n",
      "54765581818.18182\n",
      "WACC 0.061427126158272685\n",
      "mktCap 1673585750000.0\n",
      "netDebt 63321500000.0\n",
      "interestExpense 2591000000.0\n",
      "incomeTaxExpense 8755000000.0\n",
      "incomeBeforeTax 53036000000\n",
      "wacc of = MSFT is \n",
      "6.142712615827269%\n",
      "npv = 185872779387.57214\n",
      "Terminal_value_Discounted = 931014890909.0911\n",
      "sum_num = 1116887670296.663\n",
      "Estimated price = 145.37129640721895\n",
      "stock price = 221.15\n",
      "difference_model_and_market_value = -75.77870359278106\n"
     ]
    }
   ],
   "source": [
    "# 'year_index' as the order of the year\n",
    "work_table['year_index'] = range(1, len(work_table) + 1)[::-1]\n",
    "# add intercept\n",
    "work_table['intercept'] = 1\n",
    "\n",
    "print(work_table)\n",
    "\n",
    "\n",
    "# modeling\n",
    "freeCashFlow_model = sm.OLS(work_table['freeCashFlow'], work_table[['year_index','intercept']]).fit()\n",
    "\n",
    "\n",
    "freeCashFlow_pred_lr = freeCashFlow_model.predict([19,1])[0] #Прогнозируем через 10 лет\n",
    "\n",
    "\n",
    "freeCashFlow_pred_lr5 = freeCashFlow_model.predict([14,1])[0] #Прогнозируем через 5 лет\n",
    "freeCashFlow_pred_lr4 = freeCashFlow_model.predict([13,1])[0]\n",
    "freeCashFlow_pred_lr3 = freeCashFlow_model.predict([12,1])[0]\n",
    "freeCashFlow_pred_lr2 = freeCashFlow_model.predict([11,1])[0]\n",
    "freeCashFlow_pred_lr1 = freeCashFlow_model.predict([10,1])[0]\n",
    "\n",
    "\n",
    "# CAGR FCF\n",
    "\n",
    "CF_forecast = {}\n",
    "\n",
    "CF_forecast['next_year1'] = {}\n",
    "CF_forecast['next_year1']['freeCashFlow'] = freeCashFlow_pred_lr1\n",
    "\n",
    "CF_forecast['next_year2'] = {}\n",
    "CF_forecast['next_year2']['freeCashFlow'] = freeCashFlow_pred_lr2\n",
    "\n",
    "CF_forecast['next_year3'] = {}\n",
    "CF_forecast['next_year3']['freeCashFlow'] = freeCashFlow_pred_lr3\n",
    "\n",
    "CF_forecast['next_year4'] = {}\n",
    "CF_forecast['next_year4']['freeCashFlow'] = freeCashFlow_pred_lr4\n",
    "\n",
    "CF_forecast['next_year5'] = {}\n",
    "CF_forecast['next_year5']['freeCashFlow'] = freeCashFlow_pred_lr5\n",
    "\n",
    "print(CF_forecast)\n",
    "\n",
    "print(f'freeCashFlow_pred_lr1 = {freeCashFlow_pred_lr1}')\n",
    "print(f'freeCashFlow_pred_lr2 = {freeCashFlow_pred_lr2}')\n",
    "print(f'freeCashFlow_pred_lr3 = {freeCashFlow_pred_lr3}')\n",
    "print(f'freeCashFlow_pred_lr4 = {freeCashFlow_pred_lr4}')\n",
    "print(f'freeCashFlow_pred_lr5 = {freeCashFlow_pred_lr5}')\n",
    "\n",
    "\n",
    "\n",
    "print(freeCashFlow_pred_lr)\n",
    "\n",
    "\n",
    "# ________________________________________  Расчет WACC  _______________________________________________\n",
    "\n",
    "\n",
    "WACC = (work_table['mktCap'][0] / (work_table['mktCap'][0] + work_table['netDebt'][0:2].mean())) * ke + (\n",
    "                work_table['netDebt'][0:2].mean() / (work_table['mktCap'][0] + work_table['netDebt'][0:2].mean())) * (\n",
    "                        work_table['interestExpense'][0] / work_table['netDebt'][0:2].mean()) \\\n",
    "               * (1 - (work_table['incomeTaxExpense'][0] / work_table['incomeBeforeTax'][0]))\n",
    "\n",
    "print(f'WACC {WACC}')\n",
    "print(f'''mktCap {work_table['mktCap'][0]}''')\n",
    "print(f'''netDebt {work_table['netDebt'][0:2].mean()}''')\n",
    "print(f'''interestExpense {work_table['interestExpense'][0]}''')\n",
    "print(f'''incomeTaxExpense {work_table['incomeTaxExpense'][0]}''')\n",
    "print(f'''incomeBeforeTax {work_table['incomeBeforeTax'][0]}''')\n",
    "\n",
    "wacc_company = WACC\n",
    "\n",
    "print('wacc of = ' + COMPANY + ' is \\n' + str((wacc_company * 100)) + '%')\n",
    "\n",
    "CF_forec = pd.DataFrame.from_dict(CF_forecast, orient='columns')\n",
    "\n",
    "FCF_List = CF_forec.iloc[0:].values.tolist()\n",
    "\n",
    "npv = npf.npv(wacc_company, FCF_List[0])\n",
    "print(f'npv = {npv}')\n",
    "\n",
    "Terminal_value_Discounted = freeCashFlow_pred_lr * (1 + LTGrowth) / (LTdis - LTGrowth)\n",
    "\n",
    "print(f'Terminal_value_Discounted = {Terminal_value_Discounted}')\n",
    "\n",
    "sum_num = npv + Terminal_value_Discounted\n",
    "print(f'sum_num = {sum_num}')\n",
    "\n",
    "spl_num = sum_num / work_table['numberOfShares'][0]\n",
    "print(f'Estimated price = {spl_num}')\n",
    "\n",
    "difference_model_and_market_value = spl_num - PRICE\n",
    "print(f'stock price = {PRICE}')\n",
    "\n",
    "print(f'difference_model_and_market_value = {difference_model_and_market_value}')"
   ]
  },
  {
   "cell_type": "markdown",
   "metadata": {},
   "source": [
    "# Стоимость акции по дивам и балансовой стоимости(линейная регрессия)"
   ]
  },
  {
   "cell_type": "code",
   "execution_count": null,
   "metadata": {},
   "outputs": [],
   "source": [
    "dvd_avg = np.mean((work_table['Dividend per Share']).astype(float))  # Определим средний дивиденд\n",
    "print(dvd_avg)\n"
   ]
  },
  {
   "cell_type": "code",
   "execution_count": null,
   "metadata": {},
   "outputs": [],
   "source": [
    "start = datetime.datetime(1999, 12, 31)\n",
    "end= datetime.datetime.today().strftime('%Y-%m-%d')\n",
    "Treasury = wb.DataReader(['DGS10'], 'fred', start, end)\n",
    "RF = float(Treasury.iloc[-1])\n",
    "risk_free_rate = RF/100\n",
    "# The discounted capital for the dividend of 3-year later\n",
    "dvd_avg / (1 + risk_free_rate) ** 3\n",
    "# The discounted capital for the dividend of 10-year later\n",
    "# dvd_avg/(1+risk_free_rate)**10"
   ]
  },
  {
   "cell_type": "code",
   "execution_count": null,
   "metadata": {},
   "outputs": [],
   "source": [
    "dvd_total = 0\n",
    "for j in range(1, 11):\n",
    "    dvd_total = dvd_total + dvd_avg / (1 + risk_free_rate) ** j\n",
    "print(dvd_total)"
   ]
  },
  {
   "cell_type": "code",
   "execution_count": null,
   "metadata": {},
   "outputs": [],
   "source": [
    "growth_rate_of_10y = (work_table['bookValuePerShare'][0]) / (work_table['bookValuePerShare'][9])\n",
    "avg_growth_rate = growth_rate_of_10y ** (1 / 10)\n",
    "print(avg_growth_rate)"
   ]
  },
  {
   "cell_type": "code",
   "execution_count": null,
   "metadata": {},
   "outputs": [],
   "source": [
    "bvps_pred = (work_table['bookValuePerShare'][0]) * (avg_growth_rate ** 10)\n",
    "print(bvps_pred)"
   ]
  },
  {
   "cell_type": "code",
   "execution_count": null,
   "metadata": {},
   "outputs": [],
   "source": [
    "data_intrinsic = bvps_pred + dvd_total\n",
    "print(data_intrinsic)"
   ]
  },
  {
   "cell_type": "code",
   "execution_count": null,
   "metadata": {},
   "outputs": [],
   "source": [
    "work_table['bookValuePerShare'].plot(figsize=(10,6), title=\"Book Value in Last 10 Years\")"
   ]
  },
  {
   "cell_type": "code",
   "execution_count": null,
   "metadata": {},
   "outputs": [],
   "source": [
    "work_table['Dividend per Share'].astype('float').plot(figsize=(10,6), title=\"Dividend per Share in Last 10 Years\")"
   ]
  },
  {
   "cell_type": "code",
   "execution_count": null,
   "metadata": {},
   "outputs": [],
   "source": [
    "# 'year_index' as the order of the year\n",
    "work_table['year_index'] = range(1, len(work_table) + 1)[::-1]\n",
    "# add intercept\n",
    "work_table['intercept'] = 1"
   ]
  },
  {
   "cell_type": "code",
   "execution_count": null,
   "metadata": {},
   "outputs": [],
   "source": [
    "# modeling\n",
    "bvps_model = sm.OLS(work_table['bookValuePerShare'], work_table[['year_index', 'intercept']]).fit()"
   ]
  },
  {
   "cell_type": "code",
   "execution_count": null,
   "metadata": {},
   "outputs": [],
   "source": [
    "bvps_pred_lr = bvps_model.predict([19, 1])[0]  # Прогнозируем балансовую стоимость через 10 лет\n",
    "print(f'bvps_pred_lr через 10 лет: {bvps_pred_lr}' )"
   ]
  },
  {
   "cell_type": "code",
   "execution_count": null,
   "metadata": {},
   "outputs": [],
   "source": [
    "dvd_model = sm.OLS((work_table['Dividend per Share']).astype(float), work_table[['year_index', 'intercept']]).fit()\n",
    "\n",
    "dvd_model.predict([19, 1])[0]  # Определить дивиденд через 10 лет"
   ]
  },
  {
   "cell_type": "code",
   "execution_count": null,
   "metadata": {},
   "outputs": [],
   "source": [
    "# Дивиденды за 10 лет\n",
    "dvd_total_lr = 0\n",
    "current_year_order = 9\n",
    "for j in range(1, 11):\n",
    "    dvd_new = dvd_model.predict([current_year_order + j, 1])[0]\n",
    "    dvd_total_lr = dvd_total_lr + dvd_new / (1 + risk_free_rate) ** j\n",
    "print(f'dvd_total_lr: {dvd_total_lr}' )"
   ]
  },
  {
   "cell_type": "code",
   "execution_count": null,
   "metadata": {},
   "outputs": [],
   "source": [
    "aapl_intrinsic_lr = dvd_total_lr + bvps_pred_lr\n",
    "print(f'aapl_intrinsic_lr: {aapl_intrinsic_lr}' )"
   ]
  },
  {
   "cell_type": "code",
   "execution_count": null,
   "metadata": {},
   "outputs": [],
   "source": [
    "difference_model_and_market_value = aapl_intrinsic_lr - PRICE\n",
    "print(f'stock price = {PRICE}')\n",
    "print(f'difference_model_and_market_value = {difference_model_and_market_value}')"
   ]
  },
  {
   "cell_type": "markdown",
   "metadata": {},
   "source": [
    "# Оценка дисперсии модели линейной регресси дивов через R-Squared"
   ]
  },
  {
   "cell_type": "code",
   "execution_count": null,
   "metadata": {},
   "outputs": [],
   "source": [
    "# # creating OLS regression\n",
    "\n",
    "print(work_table['Dividend per Share'])\n",
    "\n",
    "r2_table = pd.DataFrame()\n",
    "r2_table['y'] = work_table['Dividend per Share'][0:10].replace(np.nan, 0).replace('', 0, regex=True).astype(float)\n",
    "r2_table['x'] = work_table['year_index']\n",
    "\n",
    "print(r2_table)\n",
    "\n",
    "\n",
    "slope, intercept, r_value, p_value, std_err = stats.linregress(r2_table['x'], r2_table['y'])\n",
    "def linefitline(b):\n",
    "    return intercept + slope * b\n",
    "\n",
    "# line1 = linefitline(r2_table['x'])\n",
    "line1 = linefitline(r2_table['x'])\n",
    "\n",
    "\n",
    "#plot line\n",
    "plt.scatter(r2_table['x'], r2_table['y'])\n",
    "plt.plot(r2_table['x'], line1, c='g')\n",
    "plt.show()\n",
    "\n",
    "\n",
    "line2 = np.full(10, [r2_table['y'].mean()])\n",
    "plt.scatter(r2_table['x'], r2_table['y'])\n",
    "plt.plot(r2_table['x'], line2, c='r')\n",
    "plt.show()\n",
    "\n",
    "differences_line1 = linefitline(r2_table['x']) - r2_table['y']\n",
    "line1sum = 0\n",
    "for k in differences_line1:\n",
    "    line1sum = line1sum + (k * k)\n",
    "\n",
    "differences_line2 = line2 - r2_table['y']\n",
    "line2sum = 0\n",
    "for k in differences_line2:\n",
    "    line2sum = line2sum + (k * k)\n",
    "\n",
    "print(line2sum)\n",
    "\n",
    "r2 = r2_score(r2_table['y'], linefitline(r2_table['x']))\n",
    "print('The rsquared value is: ' + str(r2))"
   ]
  },
  {
   "cell_type": "markdown",
   "metadata": {},
   "source": [
    "# Оценка дисперсии модели линейной регресси FCF через R-Squared"
   ]
  },
  {
   "cell_type": "code",
   "execution_count": null,
   "metadata": {},
   "outputs": [],
   "source": [
    "# # creating OLS regression\n",
    "\n",
    "\n",
    "r2_table_FCF = pd.DataFrame()\n",
    "r2_table_FCF['y'] = work_table['freeCashFlow'].replace(np.nan, 0).replace('', 0, regex=True)\n",
    "r2_table_FCF['x'] = work_table['year_index']\n",
    "\n",
    "print(r2_table_FCF)\n",
    "\n",
    "slope, intercept, r_value, p_value, std_err = stats.linregress(r2_table_FCF['x'], r2_table_FCF['y'])\n",
    "\n",
    "\n",
    "def linefitline(b):\n",
    "    return intercept + slope * b\n",
    "\n",
    "\n",
    "# line1 = linefitline(r2_table['x'])\n",
    "line1 = linefitline(r2_table_FCF['x'])\n",
    "\n",
    "# plot line\n",
    "plt.scatter(r2_table_FCF['x'], r2_table_FCF['y'])\n",
    "plt.plot(r2_table_FCF['x'], line1, c='g')\n",
    "plt.show()\n",
    "\n",
    "line2 = np.full(10, [r2_table_FCF['y'].mean()])\n",
    "plt.scatter(r2_table_FCF['x'], r2_table_FCF['y'])\n",
    "plt.plot(r2_table_FCF['x'], line2, c='r')\n",
    "plt.show()\n",
    "\n",
    "differences_line1 = linefitline(r2_table_FCF['x']) - r2_table_FCF['y']\n",
    "line1sum = 0\n",
    "for k in differences_line1:\n",
    "    line1sum = line1sum + (k * k)\n",
    "\n",
    "differences_line2 = line2 - r2_table_FCF['y']\n",
    "line2sum = 0\n",
    "for k in differences_line2:\n",
    "    line2sum = line2sum + (k * k)\n",
    "\n",
    "print(line2sum)\n",
    "\n",
    "r2_FCF = r2_score(r2_table_FCF['y'], linefitline(r2_table_FCF['x']))\n",
    "print('The rsquared value is: ' + str(r2_FCF))"
   ]
  }
 ],
 "metadata": {
  "colab": {
   "name": "TestValue-ver16.08.ipynb",
   "provenance": []
  },
  "kernelspec": {
   "display_name": "Python 3",
   "language": "python",
   "name": "python3"
  },
  "language_info": {
   "codemirror_mode": {
    "name": "ipython",
    "version": 3
   },
   "file_extension": ".py",
   "mimetype": "text/x-python",
   "name": "python",
   "nbconvert_exporter": "python",
   "pygments_lexer": "ipython3",
   "version": "3.8.3"
  }
 },
 "nbformat": 4,
 "nbformat_minor": 1
}
