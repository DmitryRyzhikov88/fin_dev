{
 "cells": [
  {
   "cell_type": "code",
   "execution_count": 103,
   "metadata": {
    "colab": {
     "base_uri": "https://localhost:8080/",
     "height": 367
    },
    "colab_type": "code",
    "executionInfo": {
     "elapsed": 2107,
     "status": "error",
     "timestamp": 1597651503151,
     "user": {
      "displayName": "Антон Филимонцев",
      "photoUrl": "https://lh3.googleusercontent.com/a-/AOh14GgXMWMDCqDyAK2nY5btETV-A_lrkmEWGgAnMNCs=s64",
      "userId": "13258489990039501932"
     },
     "user_tz": -180
    },
    "id": "wo9POTLE71Tb",
    "outputId": "df76be22-7de1-46cd-eec3-37b2ca5b873c"
   },
   "outputs": [],
   "source": [
    "import pandas as pd\n",
    "import numpy as np\n",
    "import numpy_financial as npf\n",
    "from pandas_datareader import data as wb\n",
    "import datetime\n",
    "import requests\n",
    "from scipy.stats.mstats import gmean\n",
    "import statsmodels.api as sm"
   ]
  },
  {
   "cell_type": "code",
   "execution_count": 104,
   "metadata": {
    "colab": {
     "base_uri": "https://localhost:8080/",
     "height": 163
    },
    "colab_type": "code",
    "executionInfo": {
     "elapsed": 2111,
     "status": "error",
     "timestamp": 1597651503160,
     "user": {
      "displayName": "Антон Филимонцев",
      "photoUrl": "https://lh3.googleusercontent.com/a-/AOh14GgXMWMDCqDyAK2nY5btETV-A_lrkmEWGgAnMNCs=s64",
      "userId": "13258489990039501932"
     },
     "user_tz": -180
    },
    "id": "Uh1A2obq71Te",
    "outputId": "521c880a-4077-4f34-edec-462d8db56103"
   },
   "outputs": [],
   "source": [
    "start_time = datetime.datetime.now() # Замер времени выполнения скрипта для одного тикера"
   ]
  },
  {
   "cell_type": "code",
   "execution_count": 105,
   "metadata": {
    "colab": {},
    "colab_type": "code",
    "executionInfo": {
     "elapsed": 2101,
     "status": "aborted",
     "timestamp": 1597651503152,
     "user": {
      "displayName": "Антон Филимонцев",
      "photoUrl": "https://lh3.googleusercontent.com/a-/AOh14GgXMWMDCqDyAK2nY5btETV-A_lrkmEWGgAnMNCs=s64",
      "userId": "13258489990039501932"
     },
     "user_tz": -180
    },
    "id": "SvI1rsk-71Tg"
   },
   "outputs": [],
   "source": [
    "COMPANY = 'INTC'\n",
    "KEY = '2105b9f242d47b69fc73f0f2205be048'"
   ]
  },
  {
   "cell_type": "code",
   "execution_count": 106,
   "metadata": {
    "colab": {},
    "colab_type": "code",
    "executionInfo": {
     "elapsed": 2099,
     "status": "aborted",
     "timestamp": 1597651503153,
     "user": {
      "displayName": "Антон Филимонцев",
      "photoUrl": "https://lh3.googleusercontent.com/a-/AOh14GgXMWMDCqDyAK2nY5btETV-A_lrkmEWGgAnMNCs=s64",
      "userId": "13258489990039501932"
     },
     "user_tz": -180
    },
    "id": "2wnbO5ew71Th"
   },
   "outputs": [],
   "source": [
    "IS = requests.get(f'https://financialmodelingprep.com/api/v3/income-statement/{COMPANY}?apikey={KEY}').json()\n",
    "FIS = requests.get(f'https://financialmodelingprep.com/api/v3/financials/income-statement/{COMPANY}?apikey={KEY}').json()\n",
    "BL = requests.get(f'https://financialmodelingprep.com/api/v3/balance-sheet-statement/{COMPANY}?apikey={KEY}').json()\n",
    "RT = requests.get(f'https://financialmodelingprep.com/api/v3/ratios/{COMPANY}?apikey={KEY}').json()\n",
    "CF = requests.get(f'https://financialmodelingprep.com/api/v3/cash-flow-statement/{COMPANY}?apikey={KEY}').json()\n",
    "EV = requests.get(f'https://financialmodelingprep.com/api/v3/enterprise-values/{COMPANY}?apikey={KEY}').json()\n",
    "PF = requests.get(f'https://financialmodelingprep.com/api/v3/profile/{COMPANY}?apikey={KEY}').json()\n",
    "CQ = requests.get(f'https://financialmodelingprep.com/api/v3/quote/{COMPANY}?apikey={KEY}').json()\n",
    "FS = requests.get(f'https://financialmodelingprep.com/api/v3/financial-statement-full-as-reported/{COMPANY}?apikey={KEY}').json()\n",
    "KM = requests.get(f'https://financialmodelingprep.com/api/v3/key-metrics/{COMPANY}?apikey={KEY}').json()"
   ]
  },
  {
   "cell_type": "code",
   "execution_count": 107,
   "metadata": {},
   "outputs": [],
   "source": [
    "    financial_income_statement = pd.DataFrame(FIS['financials'])\n",
    "    income_statement = pd.DataFrame(IS)\n",
    "    balance = pd.DataFrame(BL)\n",
    "    ratios = pd.DataFrame(RT)\n",
    "    cash_flow = pd.DataFrame(CF)\n",
    "    enterprise_value = pd.DataFrame(EV)\n",
    "    company_profile = pd.DataFrame(PF)\n",
    "    real_time_quote = pd.DataFrame(CQ)\n",
    "    financial_statement = pd.DataFrame(FS)\n",
    "    key_metrics = pd.DataFrame(KM)"
   ]
  },
  {
   "cell_type": "code",
   "execution_count": 108,
   "metadata": {},
   "outputs": [],
   "source": [
    "work_table = pd.concat(\n",
    "        (income_statement[['date', 'revenue', 'operatingIncome', 'netIncome', 'eps', 'ebitda',\n",
    "                          'depreciationAndAmortization', 'interestExpense']].replace(np.nan, 0)[0:10],\n",
    "        balance[['totalAssets', 'totalLiabilities', 'totalStockholdersEquity',\n",
    "                        'totalDebt']].replace(np.nan, 0)[0:10],\n",
    "        ratios[['dividendPayoutRatio', 'dividendYield', 'effectiveTaxRate', 'payoutRatio']].replace(\n",
    "            np.nan, 0)[0:10],\n",
    "        cash_flow[['freeCashFlow', 'dividendsPaid']].replace(np.nan, 0)[0:10],\n",
    "        enterprise_value[['numberOfShares', 'stockPrice']].replace(np.nan, 0)[0:10],\n",
    "        key_metrics[['debtToEquity', 'bookValuePerShare', 'roe', 'currentRatio']].replace(np.nan,\n",
    "                                                                                          0)[0:10],\n",
    "        financial_income_statement['Dividend per Share'].replace(np.nan, 0)[0:10]\n",
    "\n",
    "        ),axis=1)"
   ]
  },
  {
   "cell_type": "code",
   "execution_count": 109,
   "metadata": {
    "colab": {},
    "colab_type": "code",
    "executionInfo": {
     "elapsed": 2093,
     "status": "aborted",
     "timestamp": 1597651503155,
     "user": {
      "displayName": "Антон Филимонцев",
      "photoUrl": "https://lh3.googleusercontent.com/a-/AOh14GgXMWMDCqDyAK2nY5btETV-A_lrkmEWGgAnMNCs=s64",
      "userId": "13258489990039501932"
     },
     "user_tz": -180
    },
    "id": "oU4Mu1k_71Tp"
   },
   "outputs": [],
   "source": [
    "LTGrowth = 0.01\n",
    "PRICE = real_time_quote['price'][0]\n",
    "company_profile_beta = company_profile['beta']\n",
    "Total_rating = []"
   ]
  },
  {
   "cell_type": "code",
   "execution_count": 110,
   "metadata": {
    "colab": {},
    "colab_type": "code",
    "executionInfo": {
     "elapsed": 2083,
     "status": "aborted",
     "timestamp": 1597651503156,
     "user": {
      "displayName": "Антон Филимонцев",
      "photoUrl": "https://lh3.googleusercontent.com/a-/AOh14GgXMWMDCqDyAK2nY5btETV-A_lrkmEWGgAnMNCs=s64",
      "userId": "13258489990039501932"
     },
     "user_tz": -180
    },
    "id": "Qszk6xyt71Tr"
   },
   "outputs": [
    {
     "name": "stdout",
     "output_type": "stream",
     "text": [
      "         date      revenue  operatingIncome     netIncome      eps  \\\n",
      "0  2019-12-28  71965000000      22035000000  2.104800e+10  4.78243   \n",
      "1  2018-12-29  70848000000      23316000000  2.105300e+10  4.40096   \n",
      "2  2017-12-30  62761000000      18050000000  9.601000e+09  3.16112   \n",
      "3  2016-12-31  59387000000      13133000000  1.031600e+10  2.40139   \n",
      "4  2015-12-26  55355000000      14002000000  1.142000e+10  2.39159   \n",
      "5  2014-12-27  55870000000      15347000000  1.170400e+10  2.36000   \n",
      "6  2013-12-28  52708000000      12291000000  9.620000e+09  1.92000   \n",
      "7  2012-12-29  53341000000      14638000000  1.100500e+10  2.13000   \n",
      "8  2011-12-31  53999000000      17345000000  1.294200e+10  2.44000   \n",
      "9  2010-12-25  43623000000      15463000000  1.146400e+10  2.03000   \n",
      "\n",
      "         ebitda  depreciationAndAmortization  interestExpense   totalAssets  \\\n",
      "0  3.537300e+10                 1.082600e+10      489000000.0  136524000000   \n",
      "1  3.287000e+10                 9.085000e+09      468000000.0  127963000000   \n",
      "2  2.912700e+10                 8.129000e+09      646000000.0  123249000000   \n",
      "3  2.145900e+10                 7.790000e+09      733000000.0  113327000000   \n",
      "4  2.326000e+10                 8.711000e+09      337000000.0  101459000000   \n",
      "5  2.454200e+10                 8.549000e+09      192000000.0   91900000000   \n",
      "6  2.088700e+10                 8.032000e+09      244000000.0   92358000000   \n",
      "7  2.248500e+10                 7.522000e+09       90000000.0   84351000000   \n",
      "8  2.388600e+10                 6.064000e+09       41000000.0   71119000000   \n",
      "9  1.610200e+10                 4.638000e+09              0.0   63186000000   \n",
      "\n",
      "   totalLiabilities  ...  payoutRatio  freeCashFlow  dividendsPaid  \\\n",
      "0       58865000000  ...     0.264918   16932000000  -5.576000e+09   \n",
      "1       52981000000  ...     0.263193   14251000000  -5.541000e+09   \n",
      "2       53364000000  ...     0.528278   10332000000  -5.072000e+09   \n",
      "3       46219000000  ...     0.477414   12183000000  -4.925000e+09   \n",
      "4       39477000000  ...     0.398949   11571000000  -4.556000e+09   \n",
      "5       36035000000  ...     0.376709   10221000000  -4.409000e+09   \n",
      "6       34102000000  ...     0.465593   10029000000  -4.479000e+09   \n",
      "7       33148000000  ...     0.395275    7042000000  -4.350000e+09   \n",
      "8       25208000000  ...     0.318884   10133000000  -4.127000e+09   \n",
      "9       13756000000  ...     0.305565   11485000000  -3.503000e+09   \n",
      "\n",
      "   numberOfShares  stockPrice  debtToEquity  bookValuePerShare       roe  \\\n",
      "0      4473000000       65.69      0.757993          17.361726  0.271031   \n",
      "1      4701000000       46.71      0.706583          15.950223  0.280774   \n",
      "2      4835000000       49.98      0.763597          14.453981  0.137383   \n",
      "3      4875000000       37.42      0.688726          13.765744  0.153722   \n",
      "4      4894000000       29.60      0.636911          12.664896  0.184247   \n",
      "5      5056000000       35.81      0.645037          11.049248  0.209505   \n",
      "6      5097000000       24.72      0.585382          11.429468  0.165133   \n",
      "7      5160000000       21.05      0.647384           9.923062  0.214929   \n",
      "8      5411000000       26.74      0.549062           8.484753  0.281893   \n",
      "9      5696000000       21.24      0.278293           8.678020  0.231924   \n",
      "\n",
      "   currentRatio  Dividend per Share  \n",
      "0      1.400224       1.24659065504  \n",
      "1      1.731445       1.17868538609  \n",
      "2      1.693359       1.04901758014  \n",
      "3      1.748990       1.01025641026  \n",
      "4      2.449188      0.930935839804  \n",
      "5      1.731934      0.872033227848  \n",
      "6      2.364682      0.878752207181  \n",
      "7      2.431230      0.843023255814  \n",
      "8      2.150981      0.762705599704  \n",
      "9      3.389193                 0.0  \n",
      "\n",
      "[10 rows x 25 columns]\n"
     ]
    }
   ],
   "source": [
    "print(work_table)"
   ]
  },
  {
   "cell_type": "markdown",
   "metadata": {
    "colab_type": "text",
    "id": "GIz9fw9H71Tt"
   },
   "source": [
    "Расчет показателей качества"
   ]
  },
  {
   "cell_type": "code",
   "execution_count": 111,
   "metadata": {
    "colab": {},
    "colab_type": "code",
    "executionInfo": {
     "elapsed": 2072,
     "status": "aborted",
     "timestamp": 1597651503157,
     "user": {
      "displayName": "Антон Филимонцев",
      "photoUrl": "https://lh3.googleusercontent.com/a-/AOh14GgXMWMDCqDyAK2nY5btETV-A_lrkmEWGgAnMNCs=s64",
      "userId": "13258489990039501932"
     },
     "user_tz": -180
    },
    "id": "dM5v4nTc71Tu"
   },
   "outputs": [
    {
     "name": "stdout",
     "output_type": "stream",
     "text": [
      "revenue_growth 0.05\n",
      "use_of_profit 0.08\n",
      "operating_margin 0.29\n",
      "operating_margin_dynamics Рост\n",
      "net_profit_margin 0.22\n",
      "net_profit_margin_dynamics Рост\n",
      "EPS_growth 0.09\n",
      "debt_level 0.38\n",
      "ROE_average 0.21\n",
      "ROA_average 0.13\n",
      "[-1, 2, 2, 2, 2, 1, 2, 1, 2, 1]\n",
      "Общая оценка = 14\n"
     ]
    }
   ],
   "source": [
    "# считаем рост выручки______________________________________________________________\n",
    "revenue_growth = round((((work_table['revenue'][0]/work_table['revenue'][9]) ** 0.1) -1), 2)\n",
    "\n",
    "print(f'revenue_growth {revenue_growth}')\n",
    "\n",
    "\n",
    "if revenue_growth > 0.06:\n",
    "    revenue_growth_rating = 1\n",
    "elif 0.05 > revenue_growth > 0.02:\n",
    "    revenue_growth_rating = 0\n",
    "else:\n",
    "    revenue_growth_rating = -1\n",
    "\n",
    "Total_rating.append(revenue_growth_rating)\n",
    "\n",
    "# считаем Использование прибыли______________________________________________________________\n",
    "average_dividend_payout_percentage = np.mean(work_table['dividendYield'][0:])\n",
    "\n",
    "# average_percentage_of_buyback  # не найден   !!!!!!!!!!!!!!!!!!!!!!\n",
    "# !!!!!!!!!!!!!!!!!!!!!!!!!!!!!!\n",
    "# !!!!!!!!!!!!!!!!!!!!!!!!\n",
    "# !!!!!!!!!!!!!!!!!!!!!!!!!!!!!!!!!!!!\n",
    "\n",
    "SHAREHOLDERS_EQUITY = (work_table['totalAssets'] - work_table['totalLiabilities'])\n",
    "\n",
    "average_quity_SHAREHOLDERS_EQUITY = round((((SHAREHOLDERS_EQUITY[0] / SHAREHOLDERS_EQUITY[9]) ** 0.1) -1), 2)\n",
    "\n",
    "use_of_profit = round((average_dividend_payout_percentage + average_quity_SHAREHOLDERS_EQUITY), 2)\n",
    "\n",
    "print(f'use_of_profit {use_of_profit}')\n",
    "\n",
    "if use_of_profit < 0.06:\n",
    "    use_of_profit_rating = -2\n",
    "elif 0.1 < use_of_profit > 0.06:\n",
    "    use_of_profit_rating = 0\n",
    "else:\n",
    "    use_of_profit_rating = 2\n",
    "\n",
    "Total_rating.append(use_of_profit_rating)\n",
    "\n",
    "# Считаем Операционную маржу_________________________________________________________________\n",
    "\n",
    "OPERATING_MAR = work_table['operatingIncome']/work_table['revenue']\n",
    "\n",
    "operating_margin = round(np.mean(OPERATING_MAR[0:]), 2)\n",
    "\n",
    "print(f'operating_margin {operating_margin}')\n",
    "\n",
    "if operating_margin < 0.06:\n",
    "    operating_margin_rating = -2\n",
    "elif 0.14 > operating_margin > 0.06:\n",
    "    operating_margin_rating = 0\n",
    "else:\n",
    "    operating_margin_rating = 2\n",
    "\n",
    "Total_rating.append(operating_margin_rating)\n",
    "\n",
    "# Считаем Динамику операционной маржи_________________________________________________________________\n",
    "\n",
    "if OPERATING_MAR.std() < 0.1:\n",
    "    operating_margin_dynamics = 'Рост'\n",
    "    operating_margin_dynamics_rating = 2\n",
    "else:\n",
    "    operating_margin_dynamics = 'Падение'\n",
    "    operating_margin_dynamics_rating = -2\n",
    "\n",
    "Total_rating.append(operating_margin_dynamics_rating)\n",
    "\n",
    "print(f'operating_margin_dynamics {operating_margin_dynamics}')\n",
    "\n",
    "# Считаем Маржу чистой прибыли_________________________________________________________________\n",
    "\n",
    "NET_PROFIT_MAR = work_table['netIncome']/work_table['revenue']\n",
    "\n",
    "net_profit_margin = round(np.mean(NET_PROFIT_MAR[0:]), 2)\n",
    "\n",
    "print(f'net_profit_margin {net_profit_margin}')\n",
    "\n",
    "if net_profit_margin < 0.06:\n",
    "    net_profit_margin_rating = -2\n",
    "elif 0.1 > net_profit_margin > 0.06:\n",
    "    net_profit_margin_rating = 0\n",
    "else:\n",
    "    net_profit_margin_rating = 2\n",
    "\n",
    "Total_rating.append(net_profit_margin_rating)\n",
    "\n",
    "# Считаем Динамику маржи чистой прибыли_________________________________________________________________\n",
    "\n",
    "if NET_PROFIT_MAR.std() < 0.1 :\n",
    "    net_profit_margin_dynamics = 'Рост'\n",
    "    net_profit_margin_dynamics_rating = 1\n",
    "else:\n",
    "    net_profit_margin_dynamics = 'Падение'\n",
    "    net_profit_margin_dynamics_rating = -1\n",
    "\n",
    "Total_rating.append(net_profit_margin_dynamics_rating)\n",
    "\n",
    "print(f'net_profit_margin_dynamics {net_profit_margin_dynamics}')\n",
    "\n",
    "# Считаем Рост EPS_________________________________________________________________\n",
    "\n",
    "EPS_growth = round((((work_table['eps'][0]/work_table['eps'][9]) ** 0.1) -1), 2)   # Первый вариант, eps - берем из API\n",
    "\n",
    "# EPS_growth = round((((SHAREHOLDERS_EQUITY[0] / SHAREHOLDERS_EQUITY[9]) ** 0.1) -1), 2)  # Второй вариант, eps = totalAssets - totalLiabilities\n",
    "\n",
    "#  !!!!!!!!!!!!!!!!!При разных вариантах разные значения!!!!!!!!!!!!!!!!!!!!!!\n",
    "\n",
    "print(f'EPS_growth {EPS_growth}')\n",
    "\n",
    "if EPS_growth < 0.06:\n",
    "    EPS_growth_rating = -2\n",
    "elif 0.1 < EPS_growth > 0.06:\n",
    "    EPS_growth_rating = 0\n",
    "else:\n",
    "    EPS_growth_rating = 2\n",
    "\n",
    "Total_rating.append(EPS_growth_rating)\n",
    "\n",
    "# Считаем Уровень долга_________________________________________________________________\n",
    "\n",
    "debt_level = round(np.mean(work_table['totalLiabilities']/work_table['totalAssets']), 2)\n",
    "\n",
    "print(f'debt_level {debt_level}')\n",
    "\n",
    "if debt_level < 0.5:\n",
    "    debt_level_rating = 1\n",
    "elif 0.7 > debt_level > 0.5:\n",
    "    debt_level_rating = 0\n",
    "else:\n",
    "    debt_level_rating = -1\n",
    "\n",
    "Total_rating.append(debt_level_rating)\n",
    "\n",
    "# Считаем ROE_________________________________________________________________\n",
    "\n",
    "ROE_average = round(np.mean((work_table['netIncome']/work_table['revenue']) * (work_table['revenue']/work_table['totalAssets']) * \\\n",
    "      (work_table['totalAssets']/work_table['totalStockholdersEquity'])), 2)\n",
    "\n",
    "print(f'ROE_average {ROE_average}')\n",
    "\n",
    "if ROE_average < 0.08:\n",
    "    ROE_average_rating = -2\n",
    "elif 0.14 > ROE_average > 0.08:\n",
    "    ROE_average_rating = 0\n",
    "else:\n",
    "    ROE_average_rating = 2\n",
    "\n",
    "Total_rating.append(ROE_average_rating)\n",
    "\n",
    "# Считаем ROA_________________________________________________________________\n",
    "\n",
    "ROA_average = round(np.mean(work_table['netIncome']/work_table['totalAssets']), 2)\n",
    "\n",
    "print(f'ROA_average {ROA_average}')\n",
    "\n",
    "if ROA_average < 0.06:\n",
    "    ROA_average_rating = -1\n",
    "elif 0.08 > ROA_average > 0.06:\n",
    "    ROA_average_rating = 0\n",
    "else:\n",
    "    ROA_average_rating = 1\n",
    "\n",
    "Total_rating.append(ROA_average_rating)\n",
    "\n",
    "# Получаем общую оценку_________________________________________________________________\n",
    "\n",
    "print(Total_rating)\n",
    "print(f'Общая оценка = {sum(Total_rating)}')"
   ]
  },
  {
   "cell_type": "markdown",
   "metadata": {
    "colab_type": "text",
    "id": "skmd1uD571Tv"
   },
   "source": [
    "# Оцениваем инвестиционную стоимость  "
   ]
  },
  {
   "cell_type": "code",
   "execution_count": 112,
   "metadata": {
    "colab": {},
    "colab_type": "code",
    "executionInfo": {
     "elapsed": 2058,
     "status": "aborted",
     "timestamp": 1597651503158,
     "user": {
      "displayName": "Антон Филимонцев",
      "photoUrl": "https://lh3.googleusercontent.com/a-/AOh14GgXMWMDCqDyAK2nY5btETV-A_lrkmEWGgAnMNCs=s64",
      "userId": "13258489990039501932"
     },
     "user_tz": -180
    },
    "id": "sL53mULN71Tv"
   },
   "outputs": [
    {
     "name": "stdout",
     "output_type": "stream",
     "text": [
      "Считаем инвестиционную стоимость по дивидендной модели Гордона\n",
      "ROE_formul 0.21\n",
      "RF 0.0069\n",
      "beta 0.90978\n",
      "Годовая доходность S&P500 6.866633138376126\n",
      "Стоимость капитала 6.309377296631831\n",
      "Расчетная стоимость по модели Гордона 15.766077601060452\n",
      "Время выполнения :0:00:09.058416\n"
     ]
    }
   ],
   "source": [
    "print('Считаем инвестиционную стоимость по дивидендной модели Гордона')\n",
    "\n",
    "def valuecompany(quote):\n",
    "    Dtoday =   work_table['dividendsPaid'][0] / work_table['numberOfShares'][0]\n",
    "\n",
    "    # ROE and PAyout Ratio\n",
    "\n",
    "    ROE_formul = ROE_average\n",
    "    print(f'ROE_formul {ROE_formul}')\n",
    "\n",
    "    payout_ratio = work_table['dividendPayoutRatio'][0]\n",
    "    sustgrwothrate = ROE_formul * (1 - payout_ratio)\n",
    "\n",
    "    ##Cost of equity:\n",
    "    # Risk Free Rate\n",
    "    start = datetime.datetime(2019, 2, 1)\n",
    "    end= datetime.datetime.today().strftime('%Y-%m-%d')\n",
    "    #end = datetime.datetime(2020, 2, 27)\n",
    "\n",
    "    Treasury = wb.DataReader(['DGS10'], 'fred', start, end)\n",
    "    RF = float(Treasury.iloc[-1])\n",
    "    RF = RF / 100\n",
    "    print(f'RF {RF}')\n",
    "\n",
    "    # Beta\n",
    "    beta = float(company_profile_beta)\n",
    "    print(f'beta {beta}')\n",
    "\n",
    "    # Market Return\n",
    "    # Считаем годовую доходность\n",
    "    data = wb.DataReader('^GSPC', data_source='yahoo', start='2001-1-1') # нужно определиться с переменной\n",
    "    data['simple_return'] = (data['Adj Close'] / data['Adj Close'].shift(1)) - 1\n",
    "    data['simple_return'].replace(np.nan, 0)\n",
    "    avg_returns_a = data['simple_return'].mean() * 250\n",
    "\n",
    "    print(f'Годовая доходность S&P500 {avg_returns_a*100}')\n",
    "\n",
    "    # Drop all Not a number values using drop method.\n",
    "    ke = RF + (beta * (avg_returns_a - RF))\n",
    "    print(f'Стоимость капитала {ke*100}')\n",
    "\n",
    "    DDM = (Dtoday * (1 + sustgrwothrate)) / (ke - sustgrwothrate)\n",
    "\n",
    "    print(f'Расчетная стоимость по модели Гордона {DDM}')\n",
    "    return DDM\n",
    "\n",
    "valuecompany(COMPANY)\n",
    "\n",
    "print(f'Время выполнения :{datetime.datetime.now() - start_time}') # Замер времени"
   ]
  },
  {
   "cell_type": "markdown",
   "metadata": {
    "colab_type": "text",
    "id": "HlrofKL871Ty"
   },
   "source": [
    "# Расчет методом дисконтирования FCF спрогнозируемого методом динейной регрессии"
   ]
  },
  {
   "cell_type": "code",
   "execution_count": 113,
   "metadata": {
    "colab": {},
    "colab_type": "code",
    "executionInfo": {
     "elapsed": 2044,
     "status": "aborted",
     "timestamp": 1597651503159,
     "user": {
      "displayName": "Антон Филимонцев",
      "photoUrl": "https://lh3.googleusercontent.com/a-/AOh14GgXMWMDCqDyAK2nY5btETV-A_lrkmEWGgAnMNCs=s64",
      "userId": "13258489990039501932"
     },
     "user_tz": -180
    },
    "id": "L_JbtB2D71Ty"
   },
   "outputs": [
    {
     "name": "stdout",
     "output_type": "stream",
     "text": [
      "         date      revenue  operatingIncome     netIncome      eps  \\\n",
      "0  2019-12-28  71965000000      22035000000  2.104800e+10  4.78243   \n",
      "1  2018-12-29  70848000000      23316000000  2.105300e+10  4.40096   \n",
      "2  2017-12-30  62761000000      18050000000  9.601000e+09  3.16112   \n",
      "3  2016-12-31  59387000000      13133000000  1.031600e+10  2.40139   \n",
      "4  2015-12-26  55355000000      14002000000  1.142000e+10  2.39159   \n",
      "5  2014-12-27  55870000000      15347000000  1.170400e+10  2.36000   \n",
      "6  2013-12-28  52708000000      12291000000  9.620000e+09  1.92000   \n",
      "7  2012-12-29  53341000000      14638000000  1.100500e+10  2.13000   \n",
      "8  2011-12-31  53999000000      17345000000  1.294200e+10  2.44000   \n",
      "9  2010-12-25  43623000000      15463000000  1.146400e+10  2.03000   \n",
      "\n",
      "         ebitda  depreciationAndAmortization  interestExpense   totalAssets  \\\n",
      "0  3.537300e+10                 1.082600e+10      489000000.0  136524000000   \n",
      "1  3.287000e+10                 9.085000e+09      468000000.0  127963000000   \n",
      "2  2.912700e+10                 8.129000e+09      646000000.0  123249000000   \n",
      "3  2.145900e+10                 7.790000e+09      733000000.0  113327000000   \n",
      "4  2.326000e+10                 8.711000e+09      337000000.0  101459000000   \n",
      "5  2.454200e+10                 8.549000e+09      192000000.0   91900000000   \n",
      "6  2.088700e+10                 8.032000e+09      244000000.0   92358000000   \n",
      "7  2.248500e+10                 7.522000e+09       90000000.0   84351000000   \n",
      "8  2.388600e+10                 6.064000e+09       41000000.0   71119000000   \n",
      "9  1.610200e+10                 4.638000e+09              0.0   63186000000   \n",
      "\n",
      "   totalLiabilities  ...  dividendsPaid  numberOfShares  stockPrice  \\\n",
      "0       58865000000  ...  -5.576000e+09      4473000000       65.69   \n",
      "1       52981000000  ...  -5.541000e+09      4701000000       46.71   \n",
      "2       53364000000  ...  -5.072000e+09      4835000000       49.98   \n",
      "3       46219000000  ...  -4.925000e+09      4875000000       37.42   \n",
      "4       39477000000  ...  -4.556000e+09      4894000000       29.60   \n",
      "5       36035000000  ...  -4.409000e+09      5056000000       35.81   \n",
      "6       34102000000  ...  -4.479000e+09      5097000000       24.72   \n",
      "7       33148000000  ...  -4.350000e+09      5160000000       21.05   \n",
      "8       25208000000  ...  -4.127000e+09      5411000000       26.74   \n",
      "9       13756000000  ...  -3.503000e+09      5696000000       21.24   \n",
      "\n",
      "   debtToEquity  bookValuePerShare       roe  currentRatio  \\\n",
      "0      0.757993          17.361726  0.271031      1.400224   \n",
      "1      0.706583          15.950223  0.280774      1.731445   \n",
      "2      0.763597          14.453981  0.137383      1.693359   \n",
      "3      0.688726          13.765744  0.153722      1.748990   \n",
      "4      0.636911          12.664896  0.184247      2.449188   \n",
      "5      0.645037          11.049248  0.209505      1.731934   \n",
      "6      0.585382          11.429468  0.165133      2.364682   \n",
      "7      0.647384           9.923062  0.214929      2.431230   \n",
      "8      0.549062           8.484753  0.281893      2.150981   \n",
      "9      0.278293           8.678020  0.231924      3.389193   \n",
      "\n",
      "   Dividend per Share  year_index  intercept  \n",
      "0       1.24659065504          10          1  \n",
      "1       1.17868538609           9          1  \n",
      "2       1.04901758014           8          1  \n",
      "3       1.01025641026           7          1  \n",
      "4      0.930935839804           6          1  \n",
      "5      0.872033227848           5          1  \n",
      "6      0.878752207181           4          1  \n",
      "7      0.843023255814           3          1  \n",
      "8      0.762705599704           2          1  \n",
      "9                 0.0           1          1  \n",
      "\n",
      "[10 rows x 27 columns]\n",
      "{'next_year1': {'freeCashFlow': 14202745454.545456}, 'next_year2': {'freeCashFlow': 14821600000.000002}, 'next_year3': {'freeCashFlow': 15440454545.454548}, 'next_year4': {'freeCashFlow': 16059309090.909092}, 'next_year5': {'freeCashFlow': 16678163636.363638}}\n",
      "freeCashFlow_pred_lr1 = 14202745454.545456\n",
      "freeCashFlow_pred_lr2 = 14821600000.000002\n",
      "freeCashFlow_pred_lr3 = 15440454545.454548\n",
      "freeCashFlow_pred_lr4 = 16059309090.909092\n",
      "freeCashFlow_pred_lr5 = 16678163636.363638\n",
      "19772436363.636368\n",
      "RF,interest_coverage_ratio = (0.0069, 50.19836400817996)\n",
      "cost_of_equity = 0.06309377296631831\n",
      "cost_of_debt = 0.0132\n",
      "0.049078540282467185 0.7280986311644477 0.2719013688355522\n",
      "WACC = 0.049078540282467185\n",
      "wacc of = INTC is \n",
      "4.907854028246718%\n",
      "npv = 70039174739.45053\n",
      "Terminal_value_Discounted = 355876457017.54584\n",
      "sum_num = 425915631756.99634\n",
      "Estimated price = 95.21923356963924\n",
      "stock price = 48.65\n",
      "difference_model_and_market_value = 46.569233569639245\n"
     ]
    }
   ],
   "source": [
    "# 'year_index' as the order of the year\n",
    "work_table['year_index'] = range(1, len(work_table) + 1)[::-1]\n",
    "# add intercept\n",
    "work_table['intercept'] = 1\n",
    "\n",
    "print(work_table)\n",
    "\n",
    "\n",
    "# modeling\n",
    "freeCashFlow_model = sm.OLS(work_table['freeCashFlow'], work_table[['year_index','intercept']]).fit()\n",
    "\n",
    "\n",
    "freeCashFlow_pred_lr = freeCashFlow_model.predict([19,1])[0] #Прогнозируем через 10 лет\n",
    "\n",
    "\n",
    "freeCashFlow_pred_lr5 = freeCashFlow_model.predict([14,1])[0] #Прогнозируем через 5 лет\n",
    "freeCashFlow_pred_lr4 = freeCashFlow_model.predict([13,1])[0]\n",
    "freeCashFlow_pred_lr3 = freeCashFlow_model.predict([12,1])[0]\n",
    "freeCashFlow_pred_lr2 = freeCashFlow_model.predict([11,1])[0]\n",
    "freeCashFlow_pred_lr1 = freeCashFlow_model.predict([10,1])[0]\n",
    "\n",
    "\n",
    "# CAGR FCF\n",
    "\n",
    "CF_forecast = {}\n",
    "\n",
    "CF_forecast['next_year1'] = {}\n",
    "CF_forecast['next_year1']['freeCashFlow'] = freeCashFlow_pred_lr1\n",
    "\n",
    "CF_forecast['next_year2'] = {}\n",
    "CF_forecast['next_year2']['freeCashFlow'] = freeCashFlow_pred_lr2\n",
    "\n",
    "CF_forecast['next_year3'] = {}\n",
    "CF_forecast['next_year3']['freeCashFlow'] = freeCashFlow_pred_lr3\n",
    "\n",
    "CF_forecast['next_year4'] = {}\n",
    "CF_forecast['next_year4']['freeCashFlow'] = freeCashFlow_pred_lr4\n",
    "\n",
    "CF_forecast['next_year5'] = {}\n",
    "CF_forecast['next_year5']['freeCashFlow'] = freeCashFlow_pred_lr5\n",
    "\n",
    "print(CF_forecast)\n",
    "\n",
    "print(f'freeCashFlow_pred_lr1 = {freeCashFlow_pred_lr1}')\n",
    "print(f'freeCashFlow_pred_lr2 = {freeCashFlow_pred_lr2}')\n",
    "print(f'freeCashFlow_pred_lr3 = {freeCashFlow_pred_lr3}')\n",
    "print(f'freeCashFlow_pred_lr4 = {freeCashFlow_pred_lr4}')\n",
    "print(f'freeCashFlow_pred_lr5 = {freeCashFlow_pred_lr5}')\n",
    "\n",
    "\n",
    "\n",
    "print(freeCashFlow_pred_lr)\n",
    "\n",
    "\n",
    "# ________________________________________  Расчет WACC  _______________________________________________\n",
    "\n",
    "\n",
    "#Interest coverage ratio = EBIT / interest expenses\n",
    "\n",
    "def interest_coveraga_and_RF(company):\n",
    "  EBIT = work_table['ebitda'][0] - work_table['depreciationAndAmortization'][0]\n",
    "  interest_expense = work_table['interestExpense'][0]\n",
    "  interest_coverage_ratio = EBIT / interest_expense\n",
    "\n",
    "    #RF\n",
    "  start = datetime.datetime(1999, 12, 31)\n",
    "\n",
    "  end= datetime.datetime.today().strftime('%Y-%m-%d')\n",
    "  #end = datetime.datetime(2020, 7, 10)\n",
    "\n",
    "  Treasury = wb.DataReader(['DGS10'], 'fred', start, end)\n",
    "  RF = float(Treasury.iloc[-1])\n",
    "  RF = RF/100\n",
    "  print(f'RF,interest_coverage_ratio = {RF,interest_coverage_ratio}')\n",
    "  return [RF,interest_coverage_ratio]\n",
    "\n",
    "\n",
    "#Cost of debt\n",
    "def cost_of_debt(company, RF,interest_coverage_ratio):\n",
    "  if interest_coverage_ratio > 8.5:\n",
    "    #Rating is AAA\n",
    "    credit_spread = 0.0063\n",
    "  if (interest_coverage_ratio > 6.5) & (interest_coverage_ratio <= 8.5):\n",
    "    #Rating is AA\n",
    "    credit_spread = 0.0078\n",
    "  if (interest_coverage_ratio > 5.5) & (interest_coverage_ratio <=  6.5):\n",
    "    #Rating is A+\n",
    "    credit_spread = 0.0098\n",
    "  if (interest_coverage_ratio > 4.25) & (interest_coverage_ratio <=  5.49):\n",
    "    #Rating is A\n",
    "    credit_spread = 0.0108\n",
    "  if (interest_coverage_ratio > 3) & (interest_coverage_ratio <=  4.25):\n",
    "    #Rating is A-\n",
    "    credit_spread = 0.0122\n",
    "  if (interest_coverage_ratio > 2.5) & (interest_coverage_ratio <=  3):\n",
    "    #Rating is BBB\n",
    "    credit_spread = 0.0156\n",
    "  if (interest_coverage_ratio > 2.25) & (interest_coverage_ratio <=  2.5):\n",
    "    #Rating is BB+\n",
    "    credit_spread = 0.02\n",
    "  if (interest_coverage_ratio > 2) & (interest_coverage_ratio <=  2.25):\n",
    "    #Rating is BB\n",
    "    credit_spread = 0.0240\n",
    "  if (interest_coverage_ratio > 1.75) & (interest_coverage_ratio <=  2):\n",
    "    #Rating is B+\n",
    "    credit_spread = 0.0351\n",
    "  if (interest_coverage_ratio > 1.5) & (interest_coverage_ratio <=  1.75):\n",
    "    #Rating is B\n",
    "    credit_spread = 0.0421\n",
    "  if (interest_coverage_ratio > 1.25) & (interest_coverage_ratio <=  1.5):\n",
    "    #Rating is B-\n",
    "    credit_spread = 0.0515\n",
    "  if (interest_coverage_ratio > 0.8) & (interest_coverage_ratio <=  1.25):\n",
    "    #Rating is CCC\n",
    "    credit_spread = 0.0820\n",
    "  if (interest_coverage_ratio > 0.65) & (interest_coverage_ratio <=  0.8):\n",
    "    #Rating is CC\n",
    "    credit_spread = 0.0864\n",
    "  if (interest_coverage_ratio > 0.2) & (interest_coverage_ratio <=  0.65):\n",
    "    #Rating is C\n",
    "    credit_spread = 0.1134\n",
    "  if interest_coverage_ratio <=  0.2:\n",
    "    #Rating is D\n",
    "    credit_spread = 0.1512\n",
    "\n",
    "  cost_of_debt = RF + credit_spread\n",
    "  print(f'cost_of_debt = {cost_of_debt}')\n",
    "  return cost_of_debt\n",
    "\n",
    "\n",
    "def costofequity(company):\n",
    "\n",
    "  #RF\n",
    "  start = datetime.datetime(1999, 12, 31)\n",
    "  end= datetime.datetime.today().strftime('%Y-%m-%d')\n",
    "  #end = datetime.datetime(2020, 7, 10)\n",
    "\n",
    "  Treasury = wb.DataReader(['DGS10'], 'fred', start, end)\n",
    "  Treasury.dropna(inplace = True)\n",
    "  RF = float(Treasury.iloc[-1])\n",
    "  RF = RF/100\n",
    "\n",
    "\n",
    "    #Beta\n",
    "  beta = float(company_profile_beta)\n",
    "\n",
    "\n",
    "  #Market Return\n",
    "  data = wb.DataReader('^GSPC', data_source='yahoo', start='2001-1-1') # нужно определиться с переменной\n",
    "  data['simple_return'] = (data['Adj Close'] / data['Adj Close'].shift(1)) - 1\n",
    "  data['simple_return'].replace(np.nan, 0)\n",
    "  avg_returns_a = data['simple_return'].mean() * 250\n",
    "  #start = datetime.datetime(1999, 12, 31)\n",
    "  #end= datetime.datetime.today().strftime('%Y-%m-%d')\n",
    "\n",
    "  #SP500 = wb.DataReader(['sp500'], 'fred', start, end)\n",
    "\n",
    "#Drop all Not a number values using drop method.\n",
    "  #SP500.dropna(inplace = True)\n",
    "\n",
    "  #SP500yearlyreturn = (SP500['sp500'].iloc[-1]/ SP500['sp500'].iloc[-252])-1\n",
    "\n",
    "  cost_of_equity = RF+(beta*(avg_returns_a - RF))\n",
    "  print(f'cost_of_equity = {cost_of_equity}')\n",
    "  return cost_of_equity\n",
    "\n",
    "#effective tax rate and capital structure\n",
    "def wacc(company):\n",
    "\n",
    "  ETR = work_table['effectiveTaxRate'][0]\n",
    "\n",
    "\n",
    "  Debt_to = work_table['totalDebt'][0] / (work_table['totalDebt'][0] + work_table['totalStockholdersEquity'][0])\n",
    "  equity_to = work_table['totalStockholdersEquity'][0] / (work_table['totalDebt'][0] + work_table['totalStockholdersEquity'][0])\n",
    "\n",
    "  WACC = (kd*(1-ETR)*Debt_to) + (ke*equity_to)\n",
    "  print(WACC,equity_to,Debt_to)\n",
    "  print(f'WACC = {WACC}')\n",
    "  return WACC\n",
    "\n",
    "\n",
    "RF_and_IntCov = interest_coveraga_and_RF(COMPANY)\n",
    "RF = RF_and_IntCov[0]\n",
    "interest_coverage_ratio = RF_and_IntCov[1]\n",
    "ke = costofequity(COMPANY)\n",
    "kd = cost_of_debt(COMPANY, RF, interest_coverage_ratio)\n",
    "wacc_company = wacc(COMPANY)\n",
    "print('wacc of = ' + COMPANY + ' is \\n' + str((wacc_company * 100)) + '%')\n",
    "\n",
    "\n",
    "#FCF List of CFs for each year\n",
    "\n",
    "CF_forec = pd.DataFrame.from_dict(CF_forecast,orient='columns')\n",
    "\n",
    "FCF_List = CF_forec.iloc[0:].values.tolist()\n",
    "\n",
    "# print(f'FCF_List = {FCF_List[0]}')\n",
    "\n",
    "\n",
    "npv = npf.npv(wacc_company, FCF_List[0])\n",
    "print(f'npv = {npv}')\n",
    "\n",
    "\n",
    "Terminal_value = (freeCashFlow_pred_lr5 * (1 + LTGrowth)) /(wacc_company  - LTGrowth)\n",
    "\n",
    "Terminal_value_Discounted = Terminal_value/( 1 + wacc_company) ** 4\n",
    "\n",
    "print(f'Terminal_value_Discounted = {Terminal_value_Discounted}')\n",
    "\n",
    "sum_num = npv + Terminal_value_Discounted\n",
    "print(f'sum_num = {sum_num}')\n",
    "\n",
    "spl_num = sum_num / work_table['numberOfShares'][0]\n",
    "print(f'Estimated price = {spl_num}')\n",
    "\n",
    "difference_model_and_market_value =  spl_num - PRICE\n",
    "print(f'stock price = {PRICE}')\n",
    "\n",
    "print(f'difference_model_and_market_value = {difference_model_and_market_value}')"
   ]
  },
  {
   "cell_type": "markdown",
   "metadata": {},
   "source": [
    "Стоимость акции по дивам и балансовой стоимости(линейная регрессия)"
   ]
  },
  {
   "cell_type": "code",
   "execution_count": 114,
   "metadata": {},
   "outputs": [
    {
     "name": "stdout",
     "output_type": "stream",
     "text": [
      "0.8772000161881002\n"
     ]
    }
   ],
   "source": [
    "dvd_avg = np.mean((work_table['Dividend per Share']).astype(float))  # Определим средний дивиденд\n",
    "print(dvd_avg)\n"
   ]
  },
  {
   "cell_type": "code",
   "execution_count": 115,
   "metadata": {},
   "outputs": [
    {
     "data": {
      "text/plain": [
       "0.8317317646392224"
      ]
     },
     "execution_count": 115,
     "metadata": {},
     "output_type": "execute_result"
    }
   ],
   "source": [
    "risk_free_rate = 0.0179\n",
    "# The discounted capital for the dividend of 3-year later\n",
    "dvd_avg / (1 + risk_free_rate) ** 3\n",
    "# The discounted capital for the dividend of 10-year later\n",
    "# dvd_avg/(1+risk_free_rate)**10"
   ]
  },
  {
   "cell_type": "code",
   "execution_count": 116,
   "metadata": {},
   "outputs": [
    {
     "name": "stdout",
     "output_type": "stream",
     "text": [
      "7.966806098572237\n"
     ]
    }
   ],
   "source": [
    "dvd_total = 0\n",
    "for j in range(1, 11):\n",
    "    dvd_total = dvd_total + dvd_avg / (1 + risk_free_rate) ** j\n",
    "print(dvd_total)"
   ]
  },
  {
   "cell_type": "code",
   "execution_count": 117,
   "metadata": {},
   "outputs": [
    {
     "name": "stdout",
     "output_type": "stream",
     "text": [
      "1.0718085732695433\n"
     ]
    }
   ],
   "source": [
    "growth_rate_of_10y = (work_table['bookValuePerShare'][0]) / (work_table['bookValuePerShare'][9])\n",
    "avg_growth_rate = growth_rate_of_10y ** (1 / 10)\n",
    "print(avg_growth_rate)"
   ]
  },
  {
   "cell_type": "code",
   "execution_count": 118,
   "metadata": {},
   "outputs": [
    {
     "name": "stdout",
     "output_type": "stream",
     "text": [
      "34.734828718741284\n"
     ]
    }
   ],
   "source": [
    "bvps_pred = (work_table['bookValuePerShare'][0]) * (avg_growth_rate ** 10)\n",
    "print(bvps_pred)"
   ]
  },
  {
   "cell_type": "code",
   "execution_count": 119,
   "metadata": {},
   "outputs": [
    {
     "name": "stdout",
     "output_type": "stream",
     "text": [
      "42.70163481731352\n"
     ]
    }
   ],
   "source": [
    "data_intrinsic = bvps_pred + dvd_total\n",
    "print(data_intrinsic)"
   ]
  },
  {
   "cell_type": "code",
   "execution_count": 120,
   "metadata": {},
   "outputs": [],
   "source": [
    "# 'year_index' as the order of the year\n",
    "work_table['year_index'] = range(1, len(work_table) + 1)[::-1]\n",
    "# add intercept\n",
    "work_table['intercept'] = 1"
   ]
  },
  {
   "cell_type": "code",
   "execution_count": 121,
   "metadata": {},
   "outputs": [
    {
     "data": {
      "text/plain": [
       "<bound method NDFrame.head of          date      revenue  operatingIncome     netIncome      eps  \\\n",
       "0  2019-12-28  71965000000      22035000000  2.104800e+10  4.78243   \n",
       "1  2018-12-29  70848000000      23316000000  2.105300e+10  4.40096   \n",
       "2  2017-12-30  62761000000      18050000000  9.601000e+09  3.16112   \n",
       "3  2016-12-31  59387000000      13133000000  1.031600e+10  2.40139   \n",
       "4  2015-12-26  55355000000      14002000000  1.142000e+10  2.39159   \n",
       "5  2014-12-27  55870000000      15347000000  1.170400e+10  2.36000   \n",
       "6  2013-12-28  52708000000      12291000000  9.620000e+09  1.92000   \n",
       "7  2012-12-29  53341000000      14638000000  1.100500e+10  2.13000   \n",
       "8  2011-12-31  53999000000      17345000000  1.294200e+10  2.44000   \n",
       "9  2010-12-25  43623000000      15463000000  1.146400e+10  2.03000   \n",
       "\n",
       "         ebitda  depreciationAndAmortization  interestExpense   totalAssets  \\\n",
       "0  3.537300e+10                 1.082600e+10      489000000.0  136524000000   \n",
       "1  3.287000e+10                 9.085000e+09      468000000.0  127963000000   \n",
       "2  2.912700e+10                 8.129000e+09      646000000.0  123249000000   \n",
       "3  2.145900e+10                 7.790000e+09      733000000.0  113327000000   \n",
       "4  2.326000e+10                 8.711000e+09      337000000.0  101459000000   \n",
       "5  2.454200e+10                 8.549000e+09      192000000.0   91900000000   \n",
       "6  2.088700e+10                 8.032000e+09      244000000.0   92358000000   \n",
       "7  2.248500e+10                 7.522000e+09       90000000.0   84351000000   \n",
       "8  2.388600e+10                 6.064000e+09       41000000.0   71119000000   \n",
       "9  1.610200e+10                 4.638000e+09              0.0   63186000000   \n",
       "\n",
       "   totalLiabilities  ...  dividendsPaid  numberOfShares  stockPrice  \\\n",
       "0       58865000000  ...  -5.576000e+09      4473000000       65.69   \n",
       "1       52981000000  ...  -5.541000e+09      4701000000       46.71   \n",
       "2       53364000000  ...  -5.072000e+09      4835000000       49.98   \n",
       "3       46219000000  ...  -4.925000e+09      4875000000       37.42   \n",
       "4       39477000000  ...  -4.556000e+09      4894000000       29.60   \n",
       "5       36035000000  ...  -4.409000e+09      5056000000       35.81   \n",
       "6       34102000000  ...  -4.479000e+09      5097000000       24.72   \n",
       "7       33148000000  ...  -4.350000e+09      5160000000       21.05   \n",
       "8       25208000000  ...  -4.127000e+09      5411000000       26.74   \n",
       "9       13756000000  ...  -3.503000e+09      5696000000       21.24   \n",
       "\n",
       "   debtToEquity  bookValuePerShare       roe  currentRatio  \\\n",
       "0      0.757993          17.361726  0.271031      1.400224   \n",
       "1      0.706583          15.950223  0.280774      1.731445   \n",
       "2      0.763597          14.453981  0.137383      1.693359   \n",
       "3      0.688726          13.765744  0.153722      1.748990   \n",
       "4      0.636911          12.664896  0.184247      2.449188   \n",
       "5      0.645037          11.049248  0.209505      1.731934   \n",
       "6      0.585382          11.429468  0.165133      2.364682   \n",
       "7      0.647384           9.923062  0.214929      2.431230   \n",
       "8      0.549062           8.484753  0.281893      2.150981   \n",
       "9      0.278293           8.678020  0.231924      3.389193   \n",
       "\n",
       "   Dividend per Share  year_index  intercept  \n",
       "0       1.24659065504          10          1  \n",
       "1       1.17868538609           9          1  \n",
       "2       1.04901758014           8          1  \n",
       "3       1.01025641026           7          1  \n",
       "4      0.930935839804           6          1  \n",
       "5      0.872033227848           5          1  \n",
       "6      0.878752207181           4          1  \n",
       "7      0.843023255814           3          1  \n",
       "8      0.762705599704           2          1  \n",
       "9                 0.0           1          1  \n",
       "\n",
       "[10 rows x 27 columns]>"
      ]
     },
     "execution_count": 121,
     "metadata": {},
     "output_type": "execute_result"
    }
   ],
   "source": [
    "work_table.head"
   ]
  },
  {
   "cell_type": "code",
   "execution_count": 122,
   "metadata": {},
   "outputs": [],
   "source": [
    "# modeling\n",
    "bvps_model = sm.OLS(work_table['bookValuePerShare'], work_table[['year_index', 'intercept']]).fit()"
   ]
  },
  {
   "cell_type": "code",
   "execution_count": 123,
   "metadata": {},
   "outputs": [
    {
     "name": "stdout",
     "output_type": "stream",
     "text": [
      "bvps_pred_lr через 10 лет: 25.605352639352933\n"
     ]
    }
   ],
   "source": [
    "bvps_pred_lr = bvps_model.predict([19, 1])[0]  # Прогнозируем балансовую стоимость через 10 лет\n",
    "print(f'bvps_pred_lr через 10 лет: {bvps_pred_lr}' )"
   ]
  },
  {
   "cell_type": "code",
   "execution_count": 124,
   "metadata": {},
   "outputs": [
    {
     "data": {
      "text/plain": [
       "2.1547550269695996"
      ]
     },
     "execution_count": 124,
     "metadata": {},
     "output_type": "execute_result"
    }
   ],
   "source": [
    "dvd_model = sm.OLS((work_table['Dividend per Share']).astype(float), work_table[['year_index', 'intercept']]).fit()\n",
    "\n",
    "dvd_model.predict([19, 1])[0]  # Определить дивиденд через 10 лет"
   ]
  },
  {
   "cell_type": "code",
   "execution_count": 125,
   "metadata": {},
   "outputs": [
    {
     "name": "stdout",
     "output_type": "stream",
     "text": [
      "dvd_total_lr: 15.576315931405215\n"
     ]
    }
   ],
   "source": [
    "# Дивиденды за 10 лет\n",
    "dvd_total_lr = 0\n",
    "current_year_order = 9\n",
    "for j in range(1, 11):\n",
    "    dvd_new = dvd_model.predict([current_year_order + j, 1])[0]\n",
    "    dvd_total_lr = dvd_total_lr + dvd_new / (1 + risk_free_rate) ** j\n",
    "print(f'dvd_total_lr: {dvd_total_lr}' )"
   ]
  },
  {
   "cell_type": "code",
   "execution_count": 126,
   "metadata": {},
   "outputs": [
    {
     "name": "stdout",
     "output_type": "stream",
     "text": [
      "aapl_intrinsic_lr: 41.18166857075815\n"
     ]
    }
   ],
   "source": [
    "aapl_intrinsic_lr = dvd_total_lr + bvps_pred_lr\n",
    "print(f'aapl_intrinsic_lr: {aapl_intrinsic_lr}' )"
   ]
  },
  {
   "cell_type": "code",
   "execution_count": null,
   "metadata": {},
   "outputs": [],
   "source": []
  }
 ],
 "metadata": {
  "colab": {
   "name": "TestValue-ver16.08.ipynb",
   "provenance": []
  },
  "kernelspec": {
   "display_name": "Python 3",
   "language": "python",
   "name": "python3"
  },
  "language_info": {
   "codemirror_mode": {
    "name": "ipython",
    "version": 3
   },
   "file_extension": ".py",
   "mimetype": "text/x-python",
   "name": "python",
   "nbconvert_exporter": "python",
   "pygments_lexer": "ipython3",
   "version": "3.8.3"
  }
 },
 "nbformat": 4,
 "nbformat_minor": 1
}
