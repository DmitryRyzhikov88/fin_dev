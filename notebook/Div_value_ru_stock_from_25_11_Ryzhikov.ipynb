{
 "cells": [
  {
   "cell_type": "code",
   "execution_count": 140,
   "metadata": {
    "id": "cbtSyp4jK3HN"
   },
   "outputs": [],
   "source": [
    "import pandas as pd\n",
    "import numpy as np\n",
    "from pandas_datareader import data as wb\n",
    "import matplotlib.pyplot as plt\n",
    "import statsmodels.api as sm\n",
    "import datetime\n",
    "from yahoofinancials import YahooFinancials"
   ]
  },
  {
   "cell_type": "code",
   "execution_count": 141,
   "metadata": {},
   "outputs": [],
   "source": [
    "ticker = 'CHMF.ME' "
   ]
  },
  {
   "cell_type": "markdown",
   "metadata": {
    "id": "BVG1N4v1K3HN"
   },
   "source": [
    "### Импортируем CSV в датафрейм"
   ]
  },
  {
   "cell_type": "code",
   "execution_count": 142,
   "metadata": {
    "id": "S_fJc0syK3HN"
   },
   "outputs": [],
   "source": [
    "# Подключаем csv файл, который выкачиваем из Key Ratio в Morningstar. \n",
    "# Тут данные сразу преобразуются в массив данных, так что дополнительных действий делать не нужно\n",
    "data = pd.read_csv('CHMF Key Ratios.csv', skiprows=2, index_col='Unnamed: 0')"
   ]
  },
  {
   "cell_type": "code",
   "execution_count": 143,
   "metadata": {
    "id": "qUzrlipJK3HN",
    "outputId": "983da3ae-9097-47af-a563-d633a36935c2"
   },
   "outputs": [
    {
     "data": {
      "text/html": [
       "<div>\n",
       "<style scoped>\n",
       "    .dataframe tbody tr th:only-of-type {\n",
       "        vertical-align: middle;\n",
       "    }\n",
       "\n",
       "    .dataframe tbody tr th {\n",
       "        vertical-align: top;\n",
       "    }\n",
       "\n",
       "    .dataframe thead th {\n",
       "        text-align: right;\n",
       "    }\n",
       "</style>\n",
       "<table border=\"1\" class=\"dataframe\">\n",
       "  <thead>\n",
       "    <tr style=\"text-align: right;\">\n",
       "      <th></th>\n",
       "      <th>2010-12</th>\n",
       "      <th>2011-12</th>\n",
       "      <th>2012-12</th>\n",
       "      <th>2013-12</th>\n",
       "      <th>2014-12</th>\n",
       "      <th>2015-12</th>\n",
       "      <th>2016-12</th>\n",
       "      <th>2017-12</th>\n",
       "      <th>2018-12</th>\n",
       "      <th>2019-12</th>\n",
       "      <th>TTM</th>\n",
       "    </tr>\n",
       "  </thead>\n",
       "  <tbody>\n",
       "    <tr>\n",
       "      <th>Revenue USD Mil</th>\n",
       "      <td>12,819</td>\n",
       "      <td>15,812</td>\n",
       "      <td>14,104</td>\n",
       "      <td>13,312</td>\n",
       "      <td>8,296</td>\n",
       "      <td>6,396</td>\n",
       "      <td>5,916</td>\n",
       "      <td>7,848</td>\n",
       "      <td>8,580</td>\n",
       "      <td>8,157</td>\n",
       "      <td>7,080</td>\n",
       "    </tr>\n",
       "    <tr>\n",
       "      <th>Gross Margin %</th>\n",
       "      <td>32.0</td>\n",
       "      <td>98.5</td>\n",
       "      <td>23.5</td>\n",
       "      <td>22.3</td>\n",
       "      <td>34.3</td>\n",
       "      <td>40.8</td>\n",
       "      <td>39.6</td>\n",
       "      <td>39.7</td>\n",
       "      <td>42.7</td>\n",
       "      <td>39.8</td>\n",
       "      <td>39.8</td>\n",
       "    </tr>\n",
       "    <tr>\n",
       "      <th>Operating Income USD Mil</th>\n",
       "      <td>2,095</td>\n",
       "      <td>2,889</td>\n",
       "      <td>1,321</td>\n",
       "      <td>1,192</td>\n",
       "      <td>1,568</td>\n",
       "      <td>1,668</td>\n",
       "      <td>1,515</td>\n",
       "      <td>2,113</td>\n",
       "      <td>2,702</td>\n",
       "      <td>2,305</td>\n",
       "      <td>1,817</td>\n",
       "    </tr>\n",
       "    <tr>\n",
       "      <th>Operating Margin %</th>\n",
       "      <td>16.3</td>\n",
       "      <td>18.3</td>\n",
       "      <td>9.4</td>\n",
       "      <td>9.0</td>\n",
       "      <td>18.9</td>\n",
       "      <td>26.1</td>\n",
       "      <td>25.6</td>\n",
       "      <td>26.9</td>\n",
       "      <td>31.5</td>\n",
       "      <td>28.3</td>\n",
       "      <td>25.7</td>\n",
       "    </tr>\n",
       "    <tr>\n",
       "      <th>Net Income USD Mil</th>\n",
       "      <td>-575</td>\n",
       "      <td>2,035</td>\n",
       "      <td>762</td>\n",
       "      <td>83</td>\n",
       "      <td>-1,602</td>\n",
       "      <td>605</td>\n",
       "      <td>1,621</td>\n",
       "      <td>1,356</td>\n",
       "      <td>2,051</td>\n",
       "      <td>1,766</td>\n",
       "      <td>1,003</td>\n",
       "    </tr>\n",
       "  </tbody>\n",
       "</table>\n",
       "</div>"
      ],
      "text/plain": [
       "                         2010-12 2011-12 2012-12 2013-12 2014-12 2015-12  \\\n",
       "Revenue USD Mil           12,819  15,812  14,104  13,312   8,296   6,396   \n",
       "Gross Margin %              32.0    98.5    23.5    22.3    34.3    40.8   \n",
       "Operating Income USD Mil   2,095   2,889   1,321   1,192   1,568   1,668   \n",
       "Operating Margin %          16.3    18.3     9.4     9.0    18.9    26.1   \n",
       "Net Income USD Mil          -575   2,035     762      83  -1,602     605   \n",
       "\n",
       "                         2016-12 2017-12 2018-12 2019-12    TTM  \n",
       "Revenue USD Mil            5,916   7,848   8,580   8,157  7,080  \n",
       "Gross Margin %              39.6    39.7    42.7    39.8   39.8  \n",
       "Operating Income USD Mil   1,515   2,113   2,702   2,305  1,817  \n",
       "Operating Margin %          25.6    26.9    31.5    28.3   25.7  \n",
       "Net Income USD Mil         1,621   1,356   2,051   1,766  1,003  "
      ]
     },
     "execution_count": 143,
     "metadata": {},
     "output_type": "execute_result"
    }
   ],
   "source": [
    "# Проверяем наличие данных\n",
    "data.head()"
   ]
  },
  {
   "cell_type": "code",
   "execution_count": 144,
   "metadata": {
    "id": "JOvMuGKjK3HO"
   },
   "outputs": [],
   "source": [
    "# Удаляем запятые из данных\n",
    "data = data.apply(lambda x: x.str.replace(',', ''))"
   ]
  },
  {
   "cell_type": "code",
   "execution_count": 145,
   "metadata": {
    "id": "7-UK70M7K3HO",
    "outputId": "70bda2ea-6c11-4526-8105-b4573889f744"
   },
   "outputs": [
    {
     "name": "stdout",
     "output_type": "stream",
     "text": [
      "<class 'pandas.core.frame.DataFrame'>\n",
      "Index: 101 entries, Revenue USD Mil to Asset Turnover\n",
      "Data columns (total 11 columns):\n",
      " #   Column   Non-Null Count  Dtype \n",
      "---  ------   --------------  ----- \n",
      " 0   2010-12  78 non-null     object\n",
      " 1   2011-12  83 non-null     object\n",
      " 2   2012-12  84 non-null     object\n",
      " 3   2013-12  84 non-null     object\n",
      " 4   2014-12  78 non-null     object\n",
      " 5   2015-12  85 non-null     object\n",
      " 6   2016-12  90 non-null     object\n",
      " 7   2017-12  88 non-null     object\n",
      " 8   2018-12  90 non-null     object\n",
      " 9   2019-12  86 non-null     object\n",
      " 10  TTM      73 non-null     object\n",
      "dtypes: object(11)\n",
      "memory usage: 9.5+ KB\n"
     ]
    }
   ],
   "source": [
    "# проверяем типы данных\n",
    "data.info()\n"
   ]
  },
  {
   "cell_type": "markdown",
   "metadata": {
    "id": "90EHC8oJK3HO"
   },
   "source": [
    "Определяем функции поиска данных"
   ]
  },
  {
   "cell_type": "code",
   "execution_count": 146,
   "metadata": {
    "id": "uAaSHMBHK3HO"
   },
   "outputs": [],
   "source": [
    "def search_value(index_name, date):\n",
    "    '''This function return a specific stock metric of at a specific date\n",
    "    from dataframe\n",
    "    '''\n",
    "    return float(data.loc[index_name, date])"
   ]
  },
  {
   "cell_type": "code",
   "execution_count": 147,
   "metadata": {
    "id": "mu1fTlmEK3HO"
   },
   "outputs": [],
   "source": [
    "def historical_value(index_name):\n",
    "    '''This function return a specific stock line metric from dataframe\n",
    "    '''\n",
    "    return data.loc[index_name, ].astype(float)"
   ]
  },
  {
   "cell_type": "markdown",
   "metadata": {
    "id": "8Ox8xj4qK3HO"
   },
   "source": [
    "### Получаем основые финансовые метрики"
   ]
  },
  {
   "cell_type": "markdown",
   "metadata": {
    "id": "99KbtyY5K3HP"
   },
   "source": [
    "(1)Получаем количество акций Shares Outstanding"
   ]
  },
  {
   "cell_type": "code",
   "execution_count": 148,
   "metadata": {
    "id": "yLNisMJcK3HP",
    "outputId": "ad5fb5be-e587-4710-99bb-605b8fde5c3c"
   },
   "outputs": [
    {
     "data": {
      "text/plain": [
       "2010-12    1005.0\n",
       "2011-12    1005.0\n",
       "2012-12     839.0\n",
       "2013-12     811.0\n",
       "2014-12     811.0\n",
       "2015-12     811.0\n",
       "2016-12     811.0\n",
       "2017-12     842.0\n",
       "2018-12     848.0\n",
       "2019-12     849.0\n",
       "TTM         849.0\n",
       "Name: Shares Mil, dtype: float64"
      ]
     },
     "execution_count": 148,
     "metadata": {},
     "output_type": "execute_result"
    }
   ],
   "source": [
    "# Проверяем вид и наличие данных, а также точные даты, они будут использоваться ниже\n",
    "historical_value('Shares Mil')"
   ]
  },
  {
   "cell_type": "markdown",
   "metadata": {
    "id": "PnwJbCJ4K3HP"
   },
   "source": [
    "(2) EPS"
   ]
  },
  {
   "cell_type": "code",
   "execution_count": 149,
   "metadata": {
    "id": "RF6SdnXjK3HP",
    "outputId": "00ba8664-0bf5-4920-df5d-74d8e418037c"
   },
   "outputs": [
    {
     "data": {
      "text/plain": [
       "2010-12   -0.57\n",
       "2011-12    2.02\n",
       "2012-12    0.91\n",
       "2013-12    0.11\n",
       "2014-12   -1.97\n",
       "2015-12    0.75\n",
       "2016-12    2.00\n",
       "2017-12    1.64\n",
       "2018-12    2.47\n",
       "2019-12    2.08\n",
       "TTM        1.21\n",
       "Name: Earnings Per Share USD, dtype: float64"
      ]
     },
     "execution_count": 149,
     "metadata": {},
     "output_type": "execute_result"
    }
   ],
   "source": [
    "historical_value('Earnings Per Share USD')"
   ]
  },
  {
   "cell_type": "markdown",
   "metadata": {
    "id": "HCdYuExRK3HP"
   },
   "source": [
    "(3)Dividend Rate"
   ]
  },
  {
   "cell_type": "code",
   "execution_count": 150,
   "metadata": {
    "id": "SPqmyK_2K3HP",
    "outputId": "947e8e4d-541c-4f86-d644-7c8ab0479e41"
   },
   "outputs": [
    {
     "data": {
      "text/plain": [
       "2010-12    0.13\n",
       "2011-12    0.48\n",
       "2012-12    0.38\n",
       "2013-12    0.26\n",
       "2014-12    1.34\n",
       "2015-12    0.86\n",
       "2016-12    1.16\n",
       "2017-12    1.87\n",
       "2018-12    2.42\n",
       "2019-12    1.90\n",
       "TTM        1.40\n",
       "Name: Dividends USD, dtype: float64"
      ]
     },
     "execution_count": 150,
     "metadata": {},
     "output_type": "execute_result"
    }
   ],
   "source": [
    "historical_value('Dividends USD')"
   ]
  },
  {
   "cell_type": "markdown",
   "metadata": {
    "id": "h9Rn_UkiK3HP"
   },
   "source": [
    "(4)Dividend Yield"
   ]
  },
  {
   "cell_type": "code",
   "execution_count": 151,
   "metadata": {
    "id": "r8HhltR3K3HP",
    "outputId": "7da4056e-46fb-4d32-f62a-a7eb93e926a7"
   },
   "outputs": [
    {
     "data": {
      "text/plain": [
       "2010-12      NaN\n",
       "2011-12     10.5\n",
       "2012-12     29.4\n",
       "2013-12    170.3\n",
       "2014-12      NaN\n",
       "2015-12      NaN\n",
       "2016-12     63.3\n",
       "2017-12    123.6\n",
       "2018-12     94.7\n",
       "2019-12     93.6\n",
       "TTM        115.6\n",
       "Name: Payout Ratio % *, dtype: float64"
      ]
     },
     "execution_count": 151,
     "metadata": {},
     "output_type": "execute_result"
    }
   ],
   "source": [
    "historical_value('Payout Ratio % *')"
   ]
  },
  {
   "cell_type": "markdown",
   "metadata": {
    "id": "44J2IRHCK3HP"
   },
   "source": [
    "(5)Debt/Equity Ratio"
   ]
  },
  {
   "cell_type": "code",
   "execution_count": 152,
   "metadata": {
    "id": "YaWhtMKjK3HP",
    "outputId": "45a32c06-acb1-4d0f-8f2c-150333a1153d"
   },
   "outputs": [
    {
     "data": {
      "text/plain": [
       "2010-12    0.67\n",
       "2011-12    0.72\n",
       "2012-12    0.60\n",
       "2013-12    0.59\n",
       "2014-12    0.94\n",
       "2015-12    0.86\n",
       "2016-12    0.44\n",
       "2017-12    0.45\n",
       "2018-12    0.49\n",
       "2019-12    0.72\n",
       "TTM        0.78\n",
       "Name: Debt/Equity, dtype: float64"
      ]
     },
     "execution_count": 152,
     "metadata": {},
     "output_type": "execute_result"
    }
   ],
   "source": [
    "historical_value('Debt/Equity')"
   ]
  },
  {
   "cell_type": "markdown",
   "metadata": {
    "id": "xFFfGMtoK3HP"
   },
   "source": [
    "(6)Book Value Per Share"
   ]
  },
  {
   "cell_type": "code",
   "execution_count": 153,
   "metadata": {
    "id": "Yrl3bHp1K3HP",
    "outputId": "75599164-f26a-4bcf-ab58-69144ccd2119"
   },
   "outputs": [
    {
     "data": {
      "text/plain": [
       "2010-12    678.87\n",
       "2011-12    654.05\n",
       "2012-12    627.57\n",
       "2013-12    276.54\n",
       "2014-12    369.99\n",
       "2015-12    226.67\n",
       "2016-12    220.62\n",
       "2017-12    225.75\n",
       "2018-12    247.29\n",
       "2019-12    244.96\n",
       "TTM        230.83\n",
       "Name: Book Value Per Share * USD, dtype: float64"
      ]
     },
     "execution_count": 153,
     "metadata": {},
     "output_type": "execute_result"
    }
   ],
   "source": [
    "historical_value('Book Value Per Share * USD')"
   ]
  },
  {
   "cell_type": "markdown",
   "metadata": {
    "id": "gKYxI73YK3HP"
   },
   "source": [
    "(7)ROE (Return on Equity)"
   ]
  },
  {
   "cell_type": "code",
   "execution_count": 154,
   "metadata": {
    "id": "SabsgFs4K3HP",
    "outputId": "4410f712-e293-4579-9289-4099b7831e10"
   },
   "outputs": [
    {
     "data": {
      "text/plain": [
       "2010-12    -7.71\n",
       "2011-12    29.67\n",
       "2012-12    10.98\n",
       "2013-12     1.17\n",
       "2014-12   -32.67\n",
       "2015-12    23.85\n",
       "2016-12    61.42\n",
       "2017-12    42.32\n",
       "2018-12    65.65\n",
       "2019-12    55.82\n",
       "TTM        34.31\n",
       "Name: Return on Equity %, dtype: float64"
      ]
     },
     "execution_count": 154,
     "metadata": {},
     "output_type": "execute_result"
    }
   ],
   "source": [
    "historical_value('Return on Equity %')"
   ]
  },
  {
   "cell_type": "markdown",
   "metadata": {
    "id": "3haglCGyK3HP"
   },
   "source": [
    "(8)Current Ratio"
   ]
  },
  {
   "cell_type": "code",
   "execution_count": 155,
   "metadata": {
    "id": "IW_Iw3FLK3HP",
    "outputId": "5f2bbe81-6c00-44c6-a8c2-cfa514e0f793"
   },
   "outputs": [
    {
     "data": {
      "text/plain": [
       "2010-12    1.50\n",
       "2011-12    1.66\n",
       "2012-12    1.69\n",
       "2013-12    1.92\n",
       "2014-12    2.09\n",
       "2015-12    2.26\n",
       "2016-12    1.56\n",
       "2017-12    1.77\n",
       "2018-12    1.85\n",
       "2019-12    1.95\n",
       "TTM        1.40\n",
       "Name: Current Ratio, dtype: float64"
      ]
     },
     "execution_count": 155,
     "metadata": {},
     "output_type": "execute_result"
    }
   ],
   "source": [
    "historical_value('Current Ratio')"
   ]
  },
  {
   "cell_type": "code",
   "execution_count": 156,
   "metadata": {
    "id": "F5QFLZTCK3HP"
   },
   "outputs": [],
   "source": [
    "# Назначаем переменные количества акций за последний и предыдущий периоды\n",
    "numberOfShares0 = search_value('Shares Mil', 'TTM')\n",
    "numberOfShares1 = search_value('Shares Mil', '2019-12') # Периоды указываем как в шаге выше"
   ]
  },
  {
   "cell_type": "code",
   "execution_count": 157,
   "metadata": {
    "id": "mD1A7BGOK3HP"
   },
   "outputs": [],
   "source": [
    "# Назначаем переменные операционного CashFlow\n",
    "operatingCashFlow0 = search_value('Operating Cash Flow USD Mil', 'TTM')\n",
    "operatingCashFlow1 = search_value('Operating Cash Flow USD Mil', '2019-12') # Периоды указываем как в шаге выше\n",
    "operatingCashFlow2 = search_value('Operating Cash Flow USD Mil', '2018-12')\n",
    "operatingCashFlow3 = search_value('Operating Cash Flow USD Mil', '2017-12') # незабыть умножить на миллион"
   ]
  },
  {
   "cell_type": "markdown",
   "metadata": {
    "id": "2_yZ9q6wK3HP"
   },
   "source": [
    "## Get Stock Price"
   ]
  },
  {
   "cell_type": "code",
   "execution_count": 158,
   "metadata": {
    "id": "ZuRfRJbuK3HP"
   },
   "outputs": [],
   "source": [
    "# Получаем данные с yahoo finance для одного тикера\n",
    "price = wb.DataReader('CHMF.ME', data_source='yahoo', start='2010-1-1') "
   ]
  },
  {
   "cell_type": "markdown",
   "metadata": {
    "id": "I4VNtvy3K3HP"
   },
   "source": [
    "Latest P/E"
   ]
  },
  {
   "cell_type": "code",
   "execution_count": 159,
   "metadata": {
    "id": "5B8dQpAMK3HP",
    "outputId": "50010f02-5661-42af-c5fd-19dcb9769fb5"
   },
   "outputs": [
    {
     "name": "stdout",
     "output_type": "stream",
     "text": [
      "511.153822678786\n"
     ]
    }
   ],
   "source": [
    "latest_price = price.loc['2020-10-27','Close']\n",
    "latest_eps = search_value('Earnings Per Share USD', '2019-12')# Периоды указываем как в шаге выше\n",
    "latest_PtoE = latest_price/latest_eps\n",
    "print(latest_PtoE)"
   ]
  },
  {
   "cell_type": "markdown",
   "metadata": {
    "id": "AnC5ubMeK3HQ"
   },
   "source": [
    "Latest P/BV"
   ]
  },
  {
   "cell_type": "code",
   "execution_count": 160,
   "metadata": {
    "id": "LS4_IEt9K3HQ",
    "outputId": "727f1a70-0513-4d04-fa68-714b905ec238"
   },
   "outputs": [
    {
     "name": "stdout",
     "output_type": "stream",
     "text": [
      "3.600587851077727\n"
     ]
    }
   ],
   "source": [
    "latest_price = price.loc['2020-07-15','Close']\n",
    "latest_eps = search_value('Book Value Per Share * USD', '2019-12')\n",
    "latest_PtoBV = latest_price/latest_eps\n",
    "print(latest_PtoBV)"
   ]
  },
  {
   "cell_type": "markdown",
   "metadata": {
    "id": "OIhwhhLwK3HQ"
   },
   "source": [
    "Traspose Dataframe"
   ]
  },
  {
   "cell_type": "code",
   "execution_count": 161,
   "metadata": {
    "id": "Gma10VSeK3HQ"
   },
   "outputs": [],
   "source": [
    "data = data.T\n"
   ]
  },
  {
   "cell_type": "code",
   "execution_count": 162,
   "metadata": {
    "id": "cG5KH9_KK3HQ",
    "outputId": "fe5054d8-e9ea-4a8a-a4a3-3649070de623"
   },
   "outputs": [
    {
     "data": {
      "text/html": [
       "<div>\n",
       "<style scoped>\n",
       "    .dataframe tbody tr th:only-of-type {\n",
       "        vertical-align: middle;\n",
       "    }\n",
       "\n",
       "    .dataframe tbody tr th {\n",
       "        vertical-align: top;\n",
       "    }\n",
       "\n",
       "    .dataframe thead th {\n",
       "        text-align: right;\n",
       "    }\n",
       "</style>\n",
       "<table border=\"1\" class=\"dataframe\">\n",
       "  <thead>\n",
       "    <tr style=\"text-align: right;\">\n",
       "      <th></th>\n",
       "      <th>Shares Mil</th>\n",
       "      <th>Earnings Per Share USD</th>\n",
       "      <th>Dividends USD</th>\n",
       "      <th>Payout Ratio % *</th>\n",
       "      <th>Debt/Equity</th>\n",
       "      <th>Book Value Per Share * USD</th>\n",
       "      <th>Return on Equity %</th>\n",
       "      <th>Current Ratio</th>\n",
       "    </tr>\n",
       "  </thead>\n",
       "  <tbody>\n",
       "    <tr>\n",
       "      <th>2010-12</th>\n",
       "      <td>1005</td>\n",
       "      <td>-0.57</td>\n",
       "      <td>0.13</td>\n",
       "      <td>NaN</td>\n",
       "      <td>0.67</td>\n",
       "      <td>678.87</td>\n",
       "      <td>-7.71</td>\n",
       "      <td>1.50</td>\n",
       "    </tr>\n",
       "    <tr>\n",
       "      <th>2011-12</th>\n",
       "      <td>1005</td>\n",
       "      <td>2.02</td>\n",
       "      <td>0.48</td>\n",
       "      <td>10.5</td>\n",
       "      <td>0.72</td>\n",
       "      <td>654.05</td>\n",
       "      <td>29.67</td>\n",
       "      <td>1.66</td>\n",
       "    </tr>\n",
       "    <tr>\n",
       "      <th>2012-12</th>\n",
       "      <td>839</td>\n",
       "      <td>0.91</td>\n",
       "      <td>0.38</td>\n",
       "      <td>29.4</td>\n",
       "      <td>0.60</td>\n",
       "      <td>627.57</td>\n",
       "      <td>10.98</td>\n",
       "      <td>1.69</td>\n",
       "    </tr>\n",
       "    <tr>\n",
       "      <th>2013-12</th>\n",
       "      <td>811</td>\n",
       "      <td>0.11</td>\n",
       "      <td>0.26</td>\n",
       "      <td>170.3</td>\n",
       "      <td>0.59</td>\n",
       "      <td>276.54</td>\n",
       "      <td>1.17</td>\n",
       "      <td>1.92</td>\n",
       "    </tr>\n",
       "    <tr>\n",
       "      <th>2014-12</th>\n",
       "      <td>811</td>\n",
       "      <td>-1.97</td>\n",
       "      <td>1.34</td>\n",
       "      <td>NaN</td>\n",
       "      <td>0.94</td>\n",
       "      <td>369.99</td>\n",
       "      <td>-32.67</td>\n",
       "      <td>2.09</td>\n",
       "    </tr>\n",
       "  </tbody>\n",
       "</table>\n",
       "</div>"
      ],
      "text/plain": [
       "        Shares Mil Earnings Per Share USD Dividends USD Payout Ratio % *  \\\n",
       "2010-12       1005                  -0.57          0.13              NaN   \n",
       "2011-12       1005                   2.02          0.48             10.5   \n",
       "2012-12        839                   0.91          0.38             29.4   \n",
       "2013-12        811                   0.11          0.26            170.3   \n",
       "2014-12        811                  -1.97          1.34              NaN   \n",
       "\n",
       "        Debt/Equity Book Value Per Share * USD Return on Equity %  \\\n",
       "2010-12        0.67                     678.87              -7.71   \n",
       "2011-12        0.72                     654.05              29.67   \n",
       "2012-12        0.60                     627.57              10.98   \n",
       "2013-12        0.59                     276.54               1.17   \n",
       "2014-12        0.94                     369.99             -32.67   \n",
       "\n",
       "        Current Ratio  \n",
       "2010-12          1.50  \n",
       "2011-12          1.66  \n",
       "2012-12          1.69  \n",
       "2013-12          1.92  \n",
       "2014-12          2.09  "
      ]
     },
     "execution_count": 162,
     "metadata": {},
     "output_type": "execute_result"
    }
   ],
   "source": [
    "col_names = ['Shares Mil','Earnings Per Share USD','Dividends USD',\n",
    "            'Payout Ratio % *', 'Debt/Equity', 'Book Value Per Share * USD',\n",
    "            'Return on Equity %', 'Current Ratio']\n",
    "data = data[col_names]\n",
    "data.head()"
   ]
  },
  {
   "cell_type": "code",
   "execution_count": 163,
   "metadata": {
    "id": "C6BwTRvmK3HQ",
    "outputId": "61dc9957-26bb-41f5-a57a-2e2cc87fee39"
   },
   "outputs": [
    {
     "data": {
      "text/html": [
       "<div>\n",
       "<style scoped>\n",
       "    .dataframe tbody tr th:only-of-type {\n",
       "        vertical-align: middle;\n",
       "    }\n",
       "\n",
       "    .dataframe tbody tr th {\n",
       "        vertical-align: top;\n",
       "    }\n",
       "\n",
       "    .dataframe thead th {\n",
       "        text-align: right;\n",
       "    }\n",
       "</style>\n",
       "<table border=\"1\" class=\"dataframe\">\n",
       "  <thead>\n",
       "    <tr style=\"text-align: right;\">\n",
       "      <th></th>\n",
       "      <th>shares_outstanding</th>\n",
       "      <th>earning_per_share</th>\n",
       "      <th>dividend_rate</th>\n",
       "      <th>dividend_yield</th>\n",
       "      <th>debt_to_equity</th>\n",
       "      <th>book_value_per_share</th>\n",
       "      <th>return_on_equity</th>\n",
       "      <th>current_ratio</th>\n",
       "    </tr>\n",
       "  </thead>\n",
       "  <tbody>\n",
       "    <tr>\n",
       "      <th>2010-12</th>\n",
       "      <td>1005</td>\n",
       "      <td>-0.57</td>\n",
       "      <td>0.13</td>\n",
       "      <td>NaN</td>\n",
       "      <td>0.67</td>\n",
       "      <td>678.87</td>\n",
       "      <td>-7.71</td>\n",
       "      <td>1.50</td>\n",
       "    </tr>\n",
       "    <tr>\n",
       "      <th>2011-12</th>\n",
       "      <td>1005</td>\n",
       "      <td>2.02</td>\n",
       "      <td>0.48</td>\n",
       "      <td>10.5</td>\n",
       "      <td>0.72</td>\n",
       "      <td>654.05</td>\n",
       "      <td>29.67</td>\n",
       "      <td>1.66</td>\n",
       "    </tr>\n",
       "    <tr>\n",
       "      <th>2012-12</th>\n",
       "      <td>839</td>\n",
       "      <td>0.91</td>\n",
       "      <td>0.38</td>\n",
       "      <td>29.4</td>\n",
       "      <td>0.60</td>\n",
       "      <td>627.57</td>\n",
       "      <td>10.98</td>\n",
       "      <td>1.69</td>\n",
       "    </tr>\n",
       "    <tr>\n",
       "      <th>2013-12</th>\n",
       "      <td>811</td>\n",
       "      <td>0.11</td>\n",
       "      <td>0.26</td>\n",
       "      <td>170.3</td>\n",
       "      <td>0.59</td>\n",
       "      <td>276.54</td>\n",
       "      <td>1.17</td>\n",
       "      <td>1.92</td>\n",
       "    </tr>\n",
       "    <tr>\n",
       "      <th>2014-12</th>\n",
       "      <td>811</td>\n",
       "      <td>-1.97</td>\n",
       "      <td>1.34</td>\n",
       "      <td>NaN</td>\n",
       "      <td>0.94</td>\n",
       "      <td>369.99</td>\n",
       "      <td>-32.67</td>\n",
       "      <td>2.09</td>\n",
       "    </tr>\n",
       "  </tbody>\n",
       "</table>\n",
       "</div>"
      ],
      "text/plain": [
       "        shares_outstanding earning_per_share dividend_rate dividend_yield  \\\n",
       "2010-12               1005             -0.57          0.13            NaN   \n",
       "2011-12               1005              2.02          0.48           10.5   \n",
       "2012-12                839              0.91          0.38           29.4   \n",
       "2013-12                811              0.11          0.26          170.3   \n",
       "2014-12                811             -1.97          1.34            NaN   \n",
       "\n",
       "        debt_to_equity book_value_per_share return_on_equity current_ratio  \n",
       "2010-12           0.67               678.87            -7.71          1.50  \n",
       "2011-12           0.72               654.05            29.67          1.66  \n",
       "2012-12           0.60               627.57            10.98          1.69  \n",
       "2013-12           0.59               276.54             1.17          1.92  \n",
       "2014-12           0.94               369.99           -32.67          2.09  "
      ]
     },
     "execution_count": 163,
     "metadata": {},
     "output_type": "execute_result"
    }
   ],
   "source": [
    "new_col = ['shares_outstanding', 'earning_per_share', 'dividend_rate', \n",
    "           'dividend_yield', 'debt_to_equity', 'book_value_per_share',\n",
    "          'return_on_equity', 'current_ratio']\n",
    "data.columns = new_col\n",
    "data.head()"
   ]
  },
  {
   "cell_type": "code",
   "execution_count": 164,
   "metadata": {
    "id": "Q8LPsIeMK3HQ"
   },
   "outputs": [],
   "source": [
    "data = data.apply(pd.to_numeric)"
   ]
  },
  {
   "cell_type": "markdown",
   "metadata": {
    "id": "NiEIwESAK3HQ"
   },
   "source": [
    "## Calculating intrinsic value"
   ]
  },
  {
   "cell_type": "markdown",
   "metadata": {
    "id": "RQR-2R-2K3HQ"
   },
   "source": [
    "Расчет методом дивидендов и балансовой стоимости"
   ]
  },
  {
   "cell_type": "code",
   "execution_count": 165,
   "metadata": {
    "id": "9-H-s1H-K3HQ",
    "outputId": "2f032838-14d0-4573-fac7-8541d8ca4c49"
   },
   "outputs": [
    {
     "name": "stdout",
     "output_type": "stream",
     "text": [
      "1.1090909090909091\n"
     ]
    }
   ],
   "source": [
    "dvd_avg = data['dividend_rate'].mean() # Определим средний дивиденд\n",
    "print(dvd_avg)"
   ]
  },
  {
   "cell_type": "code",
   "execution_count": 166,
   "metadata": {
    "id": "MxqIGProK3HQ",
    "outputId": "368bd7e9-5047-4c31-e19f-592b43e025d8"
   },
   "outputs": [
    {
     "data": {
      "text/plain": [
       "0.6750269678806677"
      ]
     },
     "execution_count": 166,
     "metadata": {},
     "output_type": "execute_result"
    }
   ],
   "source": [
    "risk_free_rate = 0.18 # подставить WACC \n",
    "# The discounted capital for the dividend of 3-year later\n",
    "dvd_avg/(1+risk_free_rate)**3\n",
    "# The discounted capital for the dividend of 10-year later\n",
    "#dvd_avg/(1+risk_free_rate)**10"
   ]
  },
  {
   "cell_type": "code",
   "execution_count": 167,
   "metadata": {
    "id": "f89e70LLK3HQ",
    "outputId": "6f4ec4de-fc6c-4c9a-b5f0-7ef6892f52db"
   },
   "outputs": [
    {
     "name": "stdout",
     "output_type": "stream",
     "text": [
      "4.984350254370713\n"
     ]
    }
   ],
   "source": [
    "dvd_total = 0\n",
    "for i in range(1,11):\n",
    "    dvd_total = dvd_total + dvd_avg/(1+risk_free_rate)**i\n",
    "print(dvd_total)"
   ]
  },
  {
   "cell_type": "markdown",
   "metadata": {
    "id": "z6cmFl1mK3HQ"
   },
   "source": [
    "Estimate future book value"
   ]
  },
  {
   "cell_type": "code",
   "execution_count": 168,
   "metadata": {
    "id": "WS2R9TivK3HQ",
    "outputId": "c2dac60f-3911-4c7b-a34c-60eaa1ed1290"
   },
   "outputs": [
    {
     "name": "stdout",
     "output_type": "stream",
     "text": [
      "0.8966219327103968\n"
     ]
    }
   ],
   "source": [
    "book_value = data['book_value_per_share']\n",
    "growth_rate_of_9y= book_value['2019-12']/book_value['2011-12'] # Периоды указываем как в шаге выше\n",
    "avg_growth_rate = growth_rate_of_9y**(1/9)\n",
    "print(avg_growth_rate)"
   ]
  },
  {
   "cell_type": "code",
   "execution_count": 169,
   "metadata": {
    "id": "cQoo3rVkK3HQ",
    "outputId": "a79b0a6a-ba93-4b48-f351-08ed76665fbe"
   },
   "outputs": [
    {
     "name": "stdout",
     "output_type": "stream",
     "text": [
      "82.26000941159776\n"
     ]
    }
   ],
   "source": [
    "bvps_pred = book_value['2019-12']*(avg_growth_rate**10) # Периоды указываем как в шаге выше\n",
    "print(bvps_pred)"
   ]
  },
  {
   "cell_type": "markdown",
   "metadata": {
    "id": "t2b44CYTK3HQ"
   },
   "source": [
    "## Стоимость акции по дивам и балансовой стоимости (наивный метод)"
   ]
  },
  {
   "cell_type": "code",
   "execution_count": 170,
   "metadata": {
    "id": "hp-NgLMrK3HQ",
    "outputId": "e2aff74d-0ac6-4e8a-b430-9e4e710064d7"
   },
   "outputs": [
    {
     "name": "stdout",
     "output_type": "stream",
     "text": [
      "87.24435966596847\n"
     ]
    }
   ],
   "source": [
    "data_intrinsic = bvps_pred + dvd_total\n",
    "print(data_intrinsic)"
   ]
  },
  {
   "cell_type": "code",
   "execution_count": 171,
   "metadata": {
    "id": "026ePSvwK3HQ",
    "outputId": "10e919ff-9ec5-4c2d-c0ca-6f1a09257b29"
   },
   "outputs": [
    {
     "data": {
      "text/plain": [
       "-794.7556403340316"
      ]
     },
     "execution_count": 171,
     "metadata": {},
     "output_type": "execute_result"
    }
   ],
   "source": [
    "data_intrinsic - latest_price #Маржа безопасности"
   ]
  },
  {
   "cell_type": "code",
   "execution_count": 172,
   "metadata": {
    "id": "tZIcUjmIK3HQ",
    "outputId": "48e02555-2cb7-47ee-9894-d97f450bf928"
   },
   "outputs": [
    {
     "data": {
      "text/plain": [
       "<matplotlib.axes._subplots.AxesSubplot at 0x2094dd2b910>"
      ]
     },
     "execution_count": 172,
     "metadata": {},
     "output_type": "execute_result"
    },
    {
     "data": {
      "image/png": "[encoded data removed]",
      "text/plain": [
       "<Figure size 720x432 with 1 Axes>"
      ]
     },
     "metadata": {
      "needs_background": "light"
     },
     "output_type": "display_data"
    }
   ],
   "source": [
    "data['dividend_rate'].plot(figsize=(10,6), title=\"PM's Dividends in Last 10 Years\")"
   ]
  },
  {
   "cell_type": "code",
   "execution_count": 173,
   "metadata": {
    "id": "N6i2T-VnK3HQ",
    "outputId": "e9367460-b0be-4312-a152-2a84ddceabcf"
   },
   "outputs": [
    {
     "data": {
      "text/plain": [
       "<matplotlib.axes._subplots.AxesSubplot at 0x2094f963610>"
      ]
     },
     "execution_count": 173,
     "metadata": {},
     "output_type": "execute_result"
    },
    {
     "data": {
      "image/png": "[encoded data removed]",
      "text/plain": [
       "<Figure size 720x432 with 1 Axes>"
      ]
     },
     "metadata": {
      "needs_background": "light"
     },
     "output_type": "display_data"
    }
   ],
   "source": [
    "data['book_value_per_share'].plot(figsize=(10,6), title=\"PM's Book Value in Last 10 Years\")"
   ]
  },
  {
   "cell_type": "markdown",
   "metadata": {
    "id": "Bru3L1MfK3HQ"
   },
   "source": [
    "### Расчет стоимости по дивам и балансовой стоимости с помощью линейной регрессии"
   ]
  },
  {
   "cell_type": "code",
   "execution_count": 174,
   "metadata": {
    "colab": {
     "base_uri": "https://localhost:8080/",
     "height": 214
    },
    "executionInfo": {
     "elapsed": 2181,
     "status": "error",
     "timestamp": 1606203303100,
     "user": {
      "displayName": "Антон Филимонцев",
      "photoUrl": "https://lh3.googleusercontent.com/a-/AOh14GgXMWMDCqDyAK2nY5btETV-A_lrkmEWGgAnMNCs=s64",
      "userId": "13258489990039501932"
     },
     "user_tz": -180
    },
    "id": "GDd-s7tRK3HR",
    "outputId": "b84455e0-0191-4e39-84fa-6f17b00096c5"
   },
   "outputs": [],
   "source": [
    "# 'year_index' as the order of the year\n",
    "data['year_index'] = range(1, len(data) + 1)\n",
    "# add intercept\n",
    "data['intercept'] = 1"
   ]
  },
  {
   "cell_type": "code",
   "execution_count": 175,
   "metadata": {
    "colab": {
     "base_uri": "https://localhost:8080/",
     "height": 163
    },
    "executionInfo": {
     "elapsed": 2499,
     "status": "error",
     "timestamp": 1606203303577,
     "user": {
      "displayName": "Антон Филимонцев",
      "photoUrl": "https://lh3.googleusercontent.com/a-/AOh14GgXMWMDCqDyAK2nY5btETV-A_lrkmEWGgAnMNCs=s64",
      "userId": "13258489990039501932"
     },
     "user_tz": -180
    },
    "id": "RAIiATj4K3HR",
    "outputId": "d4ddb79b-77eb-4a6f-b681-17c7eff58016"
   },
   "outputs": [
    {
     "data": {
      "text/html": [
       "<div>\n",
       "<style scoped>\n",
       "    .dataframe tbody tr th:only-of-type {\n",
       "        vertical-align: middle;\n",
       "    }\n",
       "\n",
       "    .dataframe tbody tr th {\n",
       "        vertical-align: top;\n",
       "    }\n",
       "\n",
       "    .dataframe thead th {\n",
       "        text-align: right;\n",
       "    }\n",
       "</style>\n",
       "<table border=\"1\" class=\"dataframe\">\n",
       "  <thead>\n",
       "    <tr style=\"text-align: right;\">\n",
       "      <th></th>\n",
       "      <th>shares_outstanding</th>\n",
       "      <th>earning_per_share</th>\n",
       "      <th>dividend_rate</th>\n",
       "      <th>dividend_yield</th>\n",
       "      <th>debt_to_equity</th>\n",
       "      <th>book_value_per_share</th>\n",
       "      <th>return_on_equity</th>\n",
       "      <th>current_ratio</th>\n",
       "      <th>year_index</th>\n",
       "      <th>intercept</th>\n",
       "    </tr>\n",
       "  </thead>\n",
       "  <tbody>\n",
       "    <tr>\n",
       "      <th>2010-12</th>\n",
       "      <td>1005</td>\n",
       "      <td>-0.57</td>\n",
       "      <td>0.13</td>\n",
       "      <td>NaN</td>\n",
       "      <td>0.67</td>\n",
       "      <td>678.87</td>\n",
       "      <td>-7.71</td>\n",
       "      <td>1.50</td>\n",
       "      <td>1</td>\n",
       "      <td>1</td>\n",
       "    </tr>\n",
       "    <tr>\n",
       "      <th>2011-12</th>\n",
       "      <td>1005</td>\n",
       "      <td>2.02</td>\n",
       "      <td>0.48</td>\n",
       "      <td>10.5</td>\n",
       "      <td>0.72</td>\n",
       "      <td>654.05</td>\n",
       "      <td>29.67</td>\n",
       "      <td>1.66</td>\n",
       "      <td>2</td>\n",
       "      <td>1</td>\n",
       "    </tr>\n",
       "    <tr>\n",
       "      <th>2012-12</th>\n",
       "      <td>839</td>\n",
       "      <td>0.91</td>\n",
       "      <td>0.38</td>\n",
       "      <td>29.4</td>\n",
       "      <td>0.60</td>\n",
       "      <td>627.57</td>\n",
       "      <td>10.98</td>\n",
       "      <td>1.69</td>\n",
       "      <td>3</td>\n",
       "      <td>1</td>\n",
       "    </tr>\n",
       "    <tr>\n",
       "      <th>2013-12</th>\n",
       "      <td>811</td>\n",
       "      <td>0.11</td>\n",
       "      <td>0.26</td>\n",
       "      <td>170.3</td>\n",
       "      <td>0.59</td>\n",
       "      <td>276.54</td>\n",
       "      <td>1.17</td>\n",
       "      <td>1.92</td>\n",
       "      <td>4</td>\n",
       "      <td>1</td>\n",
       "    </tr>\n",
       "    <tr>\n",
       "      <th>2014-12</th>\n",
       "      <td>811</td>\n",
       "      <td>-1.97</td>\n",
       "      <td>1.34</td>\n",
       "      <td>NaN</td>\n",
       "      <td>0.94</td>\n",
       "      <td>369.99</td>\n",
       "      <td>-32.67</td>\n",
       "      <td>2.09</td>\n",
       "      <td>5</td>\n",
       "      <td>1</td>\n",
       "    </tr>\n",
       "  </tbody>\n",
       "</table>\n",
       "</div>"
      ],
      "text/plain": [
       "         shares_outstanding  earning_per_share  dividend_rate  dividend_yield  \\\n",
       "2010-12                1005              -0.57           0.13             NaN   \n",
       "2011-12                1005               2.02           0.48            10.5   \n",
       "2012-12                 839               0.91           0.38            29.4   \n",
       "2013-12                 811               0.11           0.26           170.3   \n",
       "2014-12                 811              -1.97           1.34             NaN   \n",
       "\n",
       "         debt_to_equity  book_value_per_share  return_on_equity  \\\n",
       "2010-12            0.67                678.87             -7.71   \n",
       "2011-12            0.72                654.05             29.67   \n",
       "2012-12            0.60                627.57             10.98   \n",
       "2013-12            0.59                276.54              1.17   \n",
       "2014-12            0.94                369.99            -32.67   \n",
       "\n",
       "         current_ratio  year_index  intercept  \n",
       "2010-12           1.50           1          1  \n",
       "2011-12           1.66           2          1  \n",
       "2012-12           1.69           3          1  \n",
       "2013-12           1.92           4          1  \n",
       "2014-12           2.09           5          1  "
      ]
     },
     "execution_count": 175,
     "metadata": {},
     "output_type": "execute_result"
    }
   ],
   "source": [
    "data.head()"
   ]
  },
  {
   "cell_type": "code",
   "execution_count": 176,
   "metadata": {
    "executionInfo": {
     "elapsed": 2475,
     "status": "aborted",
     "timestamp": 1606203303555,
     "user": {
      "displayName": "Антон Филимонцев",
      "photoUrl": "https://lh3.googleusercontent.com/a-/AOh14GgXMWMDCqDyAK2nY5btETV-A_lrkmEWGgAnMNCs=s64",
      "userId": "13258489990039501932"
     },
     "user_tz": -180
    },
    "id": "ufpzHsdgK3HR"
   },
   "outputs": [],
   "source": [
    "# modeling\n",
    "bvps_model = sm.OLS(data['book_value_per_share'], data[['year_index','intercept']]).fit()"
   ]
  },
  {
   "cell_type": "code",
   "execution_count": 177,
   "metadata": {
    "executionInfo": {
     "elapsed": 2465,
     "status": "aborted",
     "timestamp": 1606203303556,
     "user": {
      "displayName": "Антон Филимонцев",
      "photoUrl": "https://lh3.googleusercontent.com/a-/AOh14GgXMWMDCqDyAK2nY5btETV-A_lrkmEWGgAnMNCs=s64",
      "userId": "13258489990039501932"
     },
     "user_tz": -180
    },
    "id": "a2JVM2DtK3HR"
   },
   "outputs": [
    {
     "name": "stdout",
     "output_type": "stream",
     "text": [
      "-258.7013636363639\n"
     ]
    }
   ],
   "source": [
    "bvps_pred_lr = bvps_model.predict([19,1])[0] #Прогнозируем балансовую стоимость через 10 лет\n",
    "print(bvps_pred_lr)"
   ]
  },
  {
   "cell_type": "code",
   "execution_count": 178,
   "metadata": {
    "executionInfo": {
     "elapsed": 2463,
     "status": "aborted",
     "timestamp": 1606203303557,
     "user": {
      "displayName": "Антон Филимонцев",
      "photoUrl": "https://lh3.googleusercontent.com/a-/AOh14GgXMWMDCqDyAK2nY5btETV-A_lrkmEWGgAnMNCs=s64",
      "userId": "13258489990039501932"
     },
     "user_tz": -180
    },
    "id": "0tbvBEzbK3HR"
   },
   "outputs": [],
   "source": [
    "data_new = data.dropna(subset = ['dividend_rate']) #Избавиться от NAN"
   ]
  },
  {
   "cell_type": "code",
   "execution_count": 179,
   "metadata": {
    "executionInfo": {
     "elapsed": 2462,
     "status": "aborted",
     "timestamp": 1606203303558,
     "user": {
      "displayName": "Антон Филимонцев",
      "photoUrl": "https://lh3.googleusercontent.com/a-/AOh14GgXMWMDCqDyAK2nY5btETV-A_lrkmEWGgAnMNCs=s64",
      "userId": "13258489990039501932"
     },
     "user_tz": -180
    },
    "id": "whZJp9BZK3HR"
   },
   "outputs": [],
   "source": [
    "dvd_model = sm.OLS(data_new['dividend_rate'], data_new[['year_index','intercept']]).fit()"
   ]
  },
  {
   "cell_type": "code",
   "execution_count": 180,
   "metadata": {
    "executionInfo": {
     "elapsed": 2452,
     "status": "aborted",
     "timestamp": 1606203303559,
     "user": {
      "displayName": "Антон Филимонцев",
      "photoUrl": "https://lh3.googleusercontent.com/a-/AOh14GgXMWMDCqDyAK2nY5btETV-A_lrkmEWGgAnMNCs=s64",
      "userId": "13258489990039501932"
     },
     "user_tz": -180
    },
    "id": "gZ2Lq2kEK3HR"
   },
   "outputs": [
    {
     "data": {
      "text/plain": [
       "3.613363636363638"
      ]
     },
     "execution_count": 180,
     "metadata": {},
     "output_type": "execute_result"
    }
   ],
   "source": [
    "dvd_model.predict([19,1])[0] #Определить дивиденд через 10 лет"
   ]
  },
  {
   "cell_type": "code",
   "execution_count": 181,
   "metadata": {
    "executionInfo": {
     "elapsed": 2442,
     "status": "aborted",
     "timestamp": 1606203303560,
     "user": {
      "displayName": "Антон Филимонцев",
      "photoUrl": "https://lh3.googleusercontent.com/a-/AOh14GgXMWMDCqDyAK2nY5btETV-A_lrkmEWGgAnMNCs=s64",
      "userId": "13258489990039501932"
     },
     "user_tz": -180
    },
    "id": "mF23jJ4GK3HR"
   },
   "outputs": [
    {
     "name": "stdout",
     "output_type": "stream",
     "text": [
      "11.21205246825244\n"
     ]
    }
   ],
   "source": [
    "# Дивиденды за 10 лет\n",
    "dvd_total_lr = 0\n",
    "current_year_order = 9\n",
    "for i in range(1,11):\n",
    "    dvd_new = dvd_model.predict([current_year_order + i,1])[0]\n",
    "    dvd_total_lr = dvd_total_lr + dvd_new/(1+risk_free_rate)**i\n",
    "print(dvd_total_lr)"
   ]
  },
  {
   "cell_type": "code",
   "execution_count": 182,
   "metadata": {
    "executionInfo": {
     "elapsed": 2431,
     "status": "aborted",
     "timestamp": 1606203303560,
     "user": {
      "displayName": "Антон Филимонцев",
      "photoUrl": "https://lh3.googleusercontent.com/a-/AOh14GgXMWMDCqDyAK2nY5btETV-A_lrkmEWGgAnMNCs=s64",
      "userId": "13258489990039501932"
     },
     "user_tz": -180
    },
    "id": "md3yeA0aK3HR"
   },
   "outputs": [
    {
     "name": "stdout",
     "output_type": "stream",
     "text": [
      "-247.48931116811147\n"
     ]
    }
   ],
   "source": [
    "aapl_intrinsic_lr = dvd_total_lr + bvps_pred_lr\n",
    "print(aapl_intrinsic_lr)"
   ]
  },
  {
   "cell_type": "code",
   "execution_count": 183,
   "metadata": {
    "executionInfo": {
     "elapsed": 2422,
     "status": "aborted",
     "timestamp": 1606203303561,
     "user": {
      "displayName": "Антон Филимонцев",
      "photoUrl": "https://lh3.googleusercontent.com/a-/AOh14GgXMWMDCqDyAK2nY5btETV-A_lrkmEWGgAnMNCs=s64",
      "userId": "13258489990039501932"
     },
     "user_tz": -180
    },
    "id": "hfG3EfgQK3HR"
   },
   "outputs": [
    {
     "data": {
      "text/plain": [
       "-1129.4893111681115"
      ]
     },
     "execution_count": 183,
     "metadata": {},
     "output_type": "execute_result"
    }
   ],
   "source": [
    "aapl_intrinsic_lr - latest_price #Маржа безопасности"
   ]
  },
  {
   "cell_type": "markdown",
   "metadata": {
    "id": "Zi33AGjsK3HR"
   },
   "source": [
    "Пиотроски F-score"
   ]
  },
  {
   "cell_type": "code",
   "execution_count": 184,
   "metadata": {
    "executionInfo": {
     "elapsed": 2421,
     "status": "aborted",
     "timestamp": 1606203303562,
     "user": {
      "displayName": "Антон Филимонцев",
      "photoUrl": "https://lh3.googleusercontent.com/a-/AOh14GgXMWMDCqDyAK2nY5btETV-A_lrkmEWGgAnMNCs=s64",
      "userId": "13258489990039501932"
     },
     "user_tz": -180
    },
    "id": "Db940i8sK3HR"
   },
   "outputs": [],
   "source": [
    "# Подключаем файл xls с Балансом компании, выкачиваем его из Morningstar. \n",
    "file = 'Balance Sheet_Annual_As Originally Reported.xls'\n",
    "xl = pd.ExcelFile(file)"
   ]
  },
  {
   "cell_type": "code",
   "execution_count": 185,
   "metadata": {
    "executionInfo": {
     "elapsed": 2411,
     "status": "aborted",
     "timestamp": 1606203303562,
     "user": {
      "displayName": "Антон Филимонцев",
      "photoUrl": "https://lh3.googleusercontent.com/a-/AOh14GgXMWMDCqDyAK2nY5btETV-A_lrkmEWGgAnMNCs=s64",
      "userId": "13258489990039501932"
     },
     "user_tz": -180
    },
    "id": "_rX4zrJIK3HR"
   },
   "outputs": [
    {
     "name": "stdout",
     "output_type": "stream",
     "text": [
      "['CHMF']\n"
     ]
    }
   ],
   "source": [
    "# Смотрим, какие Листы есть в файле, определяем на каком находятся нужные данные\n",
    "print(xl.sheet_names)"
   ]
  },
  {
   "cell_type": "code",
   "execution_count": 186,
   "metadata": {
    "executionInfo": {
     "elapsed": 2410,
     "status": "aborted",
     "timestamp": 1606203303563,
     "user": {
      "displayName": "Антон Филимонцев",
      "photoUrl": "https://lh3.googleusercontent.com/a-/AOh14GgXMWMDCqDyAK2nY5btETV-A_lrkmEWGgAnMNCs=s64",
      "userId": "13258489990039501932"
     },
     "user_tz": -180
    },
    "id": "ds9UVr46K3HR"
   },
   "outputs": [],
   "source": [
    "# Получаем данные с нужного листа и записываем их в массив данных. \n",
    "# Делаем первую колонку индексной, чтобы она дальше не использовалась в вычислениях\n",
    "df1 = xl.parse('CHMF', index_col='CHMF_BalanceSheet_Annual_As_Originally_Reported' )\n",
    "balance = xl.parse('CHMF', index_col='CHMF_BalanceSheet_Annual_As_Originally_Reported' )\n",
    "\n",
    "balance = balance.apply(lambda x: x.str.replace(',', ''))\n",
    "\n",
    "balance_table = balance.T.astype(float).fillna(0)"
   ]
  },
  {
   "cell_type": "code",
   "execution_count": null,
   "metadata": {},
   "outputs": [],
   "source": []
  },
  {
   "cell_type": "code",
   "execution_count": 187,
   "metadata": {
    "executionInfo": {
     "elapsed": 2409,
     "status": "aborted",
     "timestamp": 1606203303563,
     "user": {
      "displayName": "Антон Филимонцев",
      "photoUrl": "https://lh3.googleusercontent.com/a-/AOh14GgXMWMDCqDyAK2nY5btETV-A_lrkmEWGgAnMNCs=s64",
      "userId": "13258489990039501932"
     },
     "user_tz": -180
    },
    "id": "D4l_p2-aK3HR"
   },
   "outputs": [],
   "source": [
    "#Удаляем запятые\n",
    "df1 = df1.apply(lambda x: x.str.replace(',', ''))"
   ]
  },
  {
   "cell_type": "code",
   "execution_count": 188,
   "metadata": {
    "executionInfo": {
     "elapsed": 2400,
     "status": "aborted",
     "timestamp": 1606203303564,
     "user": {
      "displayName": "Антон Филимонцев",
      "photoUrl": "https://lh3.googleusercontent.com/a-/AOh14GgXMWMDCqDyAK2nY5btETV-A_lrkmEWGgAnMNCs=s64",
      "userId": "13258489990039501932"
     },
     "user_tz": -180
    },
    "id": "pyz4lPfyK3HR"
   },
   "outputs": [
    {
     "data": {
      "text/html": [
       "<div>\n",
       "<style scoped>\n",
       "    .dataframe tbody tr th:only-of-type {\n",
       "        vertical-align: middle;\n",
       "    }\n",
       "\n",
       "    .dataframe tbody tr th {\n",
       "        vertical-align: top;\n",
       "    }\n",
       "\n",
       "    .dataframe thead th {\n",
       "        text-align: right;\n",
       "    }\n",
       "</style>\n",
       "<table border=\"1\" class=\"dataframe\">\n",
       "  <thead>\n",
       "    <tr style=\"text-align: right;\">\n",
       "      <th></th>\n",
       "      <th>2015</th>\n",
       "      <th>2016</th>\n",
       "      <th>2017</th>\n",
       "      <th>2018</th>\n",
       "      <th>2019</th>\n",
       "    </tr>\n",
       "    <tr>\n",
       "      <th>CHMF_BalanceSheet_Annual_As_Originally_Reported</th>\n",
       "      <th></th>\n",
       "      <th></th>\n",
       "      <th></th>\n",
       "      <th></th>\n",
       "      <th></th>\n",
       "    </tr>\n",
       "  </thead>\n",
       "  <tbody>\n",
       "    <tr>\n",
       "      <th>Total Assets</th>\n",
       "      <td>5866785000</td>\n",
       "      <td>6483000000</td>\n",
       "      <td>7209000000</td>\n",
       "      <td>5874000000</td>\n",
       "      <td>8222000000</td>\n",
       "    </tr>\n",
       "    <tr>\n",
       "      <th>Total Current Assets</th>\n",
       "      <td>2936974000</td>\n",
       "      <td>2808000000</td>\n",
       "      <td>2952000000</td>\n",
       "      <td>2072000000</td>\n",
       "      <td>3095000000</td>\n",
       "    </tr>\n",
       "    <tr>\n",
       "      <th>Cash, Cash Equivalents and Short Term Investments</th>\n",
       "      <td>1658069000</td>\n",
       "      <td>1173000000</td>\n",
       "      <td>1043000000</td>\n",
       "      <td>235000000</td>\n",
       "      <td>1087000000</td>\n",
       "    </tr>\n",
       "    <tr>\n",
       "      <th>Cash and Cash Equivalents</th>\n",
       "      <td>1647168000</td>\n",
       "      <td>1154000000</td>\n",
       "      <td>1031000000</td>\n",
       "      <td>228000000</td>\n",
       "      <td>1081000000</td>\n",
       "    </tr>\n",
       "    <tr>\n",
       "      <th>Cash</th>\n",
       "      <td>113360000</td>\n",
       "      <td>128000000</td>\n",
       "      <td>71000000</td>\n",
       "      <td>130000000</td>\n",
       "      <td>875000000</td>\n",
       "    </tr>\n",
       "  </tbody>\n",
       "</table>\n",
       "</div>"
      ],
      "text/plain": [
       "                                                          2015        2016  \\\n",
       "CHMF_BalanceSheet_Annual_As_Originally_Reported                              \n",
       "Total Assets                                        5866785000  6483000000   \n",
       "    Total Current Assets                            2936974000  2808000000   \n",
       "        Cash, Cash Equivalents and Short Term I...  1658069000  1173000000   \n",
       "            Cash and Cash Equivalents               1647168000  1154000000   \n",
       "                Cash                                 113360000   128000000   \n",
       "\n",
       "                                                          2017        2018  \\\n",
       "CHMF_BalanceSheet_Annual_As_Originally_Reported                              \n",
       "Total Assets                                        7209000000  5874000000   \n",
       "    Total Current Assets                            2952000000  2072000000   \n",
       "        Cash, Cash Equivalents and Short Term I...  1043000000   235000000   \n",
       "            Cash and Cash Equivalents               1031000000   228000000   \n",
       "                Cash                                  71000000   130000000   \n",
       "\n",
       "                                                          2019  \n",
       "CHMF_BalanceSheet_Annual_As_Originally_Reported                 \n",
       "Total Assets                                        8222000000  \n",
       "    Total Current Assets                            3095000000  \n",
       "        Cash, Cash Equivalents and Short Term I...  1087000000  \n",
       "            Cash and Cash Equivalents               1081000000  \n",
       "                Cash                                 875000000  "
      ]
     },
     "execution_count": 188,
     "metadata": {},
     "output_type": "execute_result"
    }
   ],
   "source": [
    "# Проверяем наличие данных\n",
    "df1.head()"
   ]
  },
  {
   "cell_type": "code",
   "execution_count": 189,
   "metadata": {
    "executionInfo": {
     "elapsed": 2390,
     "status": "aborted",
     "timestamp": 1606203303564,
     "user": {
      "displayName": "Антон Филимонцев",
      "photoUrl": "https://lh3.googleusercontent.com/a-/AOh14GgXMWMDCqDyAK2nY5btETV-A_lrkmEWGgAnMNCs=s64",
      "userId": "13258489990039501932"
     },
     "user_tz": -180
    },
    "id": "qH0eI9T9K3HR"
   },
   "outputs": [
    {
     "name": "stdout",
     "output_type": "stream",
     "text": [
      "<class 'pandas.core.frame.DataFrame'>\n",
      "Index: 139 entries, Total Assets to Fiscal year ends in Dec 31 | USD\n",
      "Data columns (total 5 columns):\n",
      " #   Column  Non-Null Count  Dtype \n",
      "---  ------  --------------  ----- \n",
      " 0   2015    122 non-null    object\n",
      " 1   2016    121 non-null    object\n",
      " 2   2017    124 non-null    object\n",
      " 3   2018    119 non-null    object\n",
      " 4   2019    117 non-null    object\n",
      "dtypes: object(5)\n",
      "memory usage: 6.5+ KB\n"
     ]
    }
   ],
   "source": [
    "# Проверяем тип данных\n",
    "df1.info()"
   ]
  },
  {
   "cell_type": "code",
   "execution_count": 190,
   "metadata": {
    "executionInfo": {
     "elapsed": 2389,
     "status": "aborted",
     "timestamp": 1606203303565,
     "user": {
      "displayName": "Антон Филимонцев",
      "photoUrl": "https://lh3.googleusercontent.com/a-/AOh14GgXMWMDCqDyAK2nY5btETV-A_lrkmEWGgAnMNCs=s64",
      "userId": "13258489990039501932"
     },
     "user_tz": -180
    },
    "id": "k1z7dN8GK3HR"
   },
   "outputs": [],
   "source": [
    "def search_value(index_name, date):\n",
    "    '''This function return a specific stock metric of at a specific date\n",
    "    from dataframe\n",
    "    '''\n",
    "    return float(df1.loc[index_name, date])"
   ]
  },
  {
   "cell_type": "code",
   "execution_count": 191,
   "metadata": {
    "executionInfo": {
     "elapsed": 2387,
     "status": "aborted",
     "timestamp": 1606203303565,
     "user": {
      "displayName": "Антон Филимонцев",
      "photoUrl": "https://lh3.googleusercontent.com/a-/AOh14GgXMWMDCqDyAK2nY5btETV-A_lrkmEWGgAnMNCs=s64",
      "userId": "13258489990039501932"
     },
     "user_tz": -180
    },
    "id": "IKh84wOIK3HR"
   },
   "outputs": [],
   "source": [
    "def historical_value(index_name):\n",
    "    '''This function return a specific stock line metric from dataframe\n",
    "    '''\n",
    "    return df1.loc[index_name, ].astype(float)"
   ]
  },
  {
   "cell_type": "code",
   "execution_count": 192,
   "metadata": {
    "executionInfo": {
     "elapsed": 2379,
     "status": "aborted",
     "timestamp": 1606203303566,
     "user": {
      "displayName": "Антон Филимонцев",
      "photoUrl": "https://lh3.googleusercontent.com/a-/AOh14GgXMWMDCqDyAK2nY5btETV-A_lrkmEWGgAnMNCs=s64",
      "userId": "13258489990039501932"
     },
     "user_tz": -180
    },
    "id": "hqgYQEJMK3HR"
   },
   "outputs": [
    {
     "data": {
      "text/plain": [
       "2015    5.866785e+09\n",
       "2016    6.483000e+09\n",
       "2017    7.209000e+09\n",
       "2018    5.874000e+09\n",
       "2019    8.222000e+09\n",
       "Name: Total Assets, dtype: float64"
      ]
     },
     "execution_count": 192,
     "metadata": {},
     "output_type": "execute_result"
    }
   ],
   "source": [
    "# Проверяем вид и наличие данных, а также точные даты, они будут использоваться ниже\n",
    "historical_value('Total Assets')"
   ]
  },
  {
   "cell_type": "code",
   "execution_count": 193,
   "metadata": {
    "executionInfo": {
     "elapsed": 2370,
     "status": "aborted",
     "timestamp": 1606203303567,
     "user": {
      "displayName": "Антон Филимонцев",
      "photoUrl": "https://lh3.googleusercontent.com/a-/AOh14GgXMWMDCqDyAK2nY5btETV-A_lrkmEWGgAnMNCs=s64",
      "userId": "13258489990039501932"
     },
     "user_tz": -180
    },
    "id": "6dOWIZfuK3HR"
   },
   "outputs": [
    {
     "data": {
      "text/plain": [
       "2015    3.599017e+09\n",
       "2016    3.442000e+09\n",
       "2017    3.811000e+09\n",
       "2018    2.995000e+09\n",
       "2019    4.744000e+09\n",
       "Name: Total Liabilities, dtype: float64"
      ]
     },
     "execution_count": 193,
     "metadata": {},
     "output_type": "execute_result"
    }
   ],
   "source": [
    "# Проверяем вид и наличие данных, а также точные даты, они будут использоваться ниже\n",
    "historical_value('Total Liabilities')"
   ]
  },
  {
   "cell_type": "code",
   "execution_count": 194,
   "metadata": {
    "executionInfo": {
     "elapsed": 2368,
     "status": "aborted",
     "timestamp": 1606203303567,
     "user": {
      "displayName": "Антон Филимонцев",
      "photoUrl": "https://lh3.googleusercontent.com/a-/AOh14GgXMWMDCqDyAK2nY5btETV-A_lrkmEWGgAnMNCs=s64",
      "userId": "13258489990039501932"
     },
     "user_tz": -180
    },
    "id": "cT6mZHXGK3HR"
   },
   "outputs": [],
   "source": [
    "# Назначаем переменные активов и долгов\n",
    "totalAssets0 = search_value('Total Assets', '2019')  # Периоды указываем как в шаге выше\n",
    "totalAssets1 = search_value('Total Assets', '2018')\n",
    "totalAssets2 = search_value('Total Assets', '2017')\n",
    "totalLiabilities0 = search_value('Total Liabilities', '2019')\n",
    "totalLiabilities1 = search_value('Total Liabilities', '2018')\n",
    "longTermDebt0 = search_value('            Long Term Debt and Capital Lease Obligation', '2019') \n",
    "longTermDebt1 = search_value('            Long Term Debt and Capital Lease Obligation', '2018')\n",
    "# Названия строк из файла приходится брать с пробелами, как в самом файле"
   ]
  },
  {
   "cell_type": "code",
   "execution_count": 195,
   "metadata": {
    "executionInfo": {
     "elapsed": 2367,
     "status": "aborted",
     "timestamp": 1606203303568,
     "user": {
      "displayName": "Антон Филимонцев",
      "photoUrl": "https://lh3.googleusercontent.com/a-/AOh14GgXMWMDCqDyAK2nY5btETV-A_lrkmEWGgAnMNCs=s64",
      "userId": "13258489990039501932"
     },
     "user_tz": -180
    },
    "id": "zps-YNLmK3HS"
   },
   "outputs": [],
   "source": [
    "# Подключаем файл xls с Доходами компании, выкачиваем его из Morningstar. \n",
    "file2 = 'Income Statement_Annual_As Originally Reported.xls'\n",
    "xl2 = pd.ExcelFile(file2)"
   ]
  },
  {
   "cell_type": "code",
   "execution_count": 196,
   "metadata": {
    "executionInfo": {
     "elapsed": 2359,
     "status": "aborted",
     "timestamp": 1606203303569,
     "user": {
      "displayName": "Антон Филимонцев",
      "photoUrl": "https://lh3.googleusercontent.com/a-/AOh14GgXMWMDCqDyAK2nY5btETV-A_lrkmEWGgAnMNCs=s64",
      "userId": "13258489990039501932"
     },
     "user_tz": -180
    },
    "id": "uO9XdxrjK3HS"
   },
   "outputs": [
    {
     "name": "stdout",
     "output_type": "stream",
     "text": [
      "['CHMF']\n"
     ]
    }
   ],
   "source": [
    "# Смотрим, какие Листы есть в файле, определяем на каком находятся нужные данные\n",
    "print(xl2.sheet_names)"
   ]
  },
  {
   "cell_type": "code",
   "execution_count": 197,
   "metadata": {
    "executionInfo": {
     "elapsed": 2357,
     "status": "aborted",
     "timestamp": 1606203303569,
     "user": {
      "displayName": "Антон Филимонцев",
      "photoUrl": "https://lh3.googleusercontent.com/a-/AOh14GgXMWMDCqDyAK2nY5btETV-A_lrkmEWGgAnMNCs=s64",
      "userId": "13258489990039501932"
     },
     "user_tz": -180
    },
    "id": "kW3cvKQeK3HS"
   },
   "outputs": [],
   "source": [
    "# Получаем данные с нужного листа и записываем их в массив данных. \n",
    "# Делаем первую колонку индексной, чтобы она дальше не использовалась в вычислениях\n",
    "df2 = xl2.parse('CHMF', index_col='CHMF_IncomeStatement_Annual_As_Originally_Reported' )"
   ]
  },
  {
   "cell_type": "code",
   "execution_count": 198,
   "metadata": {
    "executionInfo": {
     "elapsed": 2356,
     "status": "aborted",
     "timestamp": 1606203303570,
     "user": {
      "displayName": "Антон Филимонцев",
      "photoUrl": "https://lh3.googleusercontent.com/a-/AOh14GgXMWMDCqDyAK2nY5btETV-A_lrkmEWGgAnMNCs=s64",
      "userId": "13258489990039501932"
     },
     "user_tz": -180
    },
    "id": "gfV-YgiUK3HS"
   },
   "outputs": [],
   "source": [
    "#Удаляем запятые\n",
    "df2 = df2.apply(lambda x: x.str.replace(',', '')) "
   ]
  },
  {
   "cell_type": "code",
   "execution_count": 199,
   "metadata": {
    "executionInfo": {
     "elapsed": 2346,
     "status": "aborted",
     "timestamp": 1606203303570,
     "user": {
      "displayName": "Антон Филимонцев",
      "photoUrl": "https://lh3.googleusercontent.com/a-/AOh14GgXMWMDCqDyAK2nY5btETV-A_lrkmEWGgAnMNCs=s64",
      "userId": "13258489990039501932"
     },
     "user_tz": -180
    },
    "id": "22_Ca9rGK3HS"
   },
   "outputs": [
    {
     "data": {
      "text/html": [
       "<div>\n",
       "<style scoped>\n",
       "    .dataframe tbody tr th:only-of-type {\n",
       "        vertical-align: middle;\n",
       "    }\n",
       "\n",
       "    .dataframe tbody tr th {\n",
       "        vertical-align: top;\n",
       "    }\n",
       "\n",
       "    .dataframe thead th {\n",
       "        text-align: right;\n",
       "    }\n",
       "</style>\n",
       "<table border=\"1\" class=\"dataframe\">\n",
       "  <thead>\n",
       "    <tr style=\"text-align: right;\">\n",
       "      <th></th>\n",
       "      <th>2015</th>\n",
       "      <th>2016</th>\n",
       "      <th>2017</th>\n",
       "      <th>2018</th>\n",
       "      <th>2019</th>\n",
       "      <th>TTM</th>\n",
       "    </tr>\n",
       "    <tr>\n",
       "      <th>CHMF_IncomeStatement_Annual_As_Originally_Reported</th>\n",
       "      <th></th>\n",
       "      <th></th>\n",
       "      <th></th>\n",
       "      <th></th>\n",
       "      <th></th>\n",
       "      <th></th>\n",
       "    </tr>\n",
       "  </thead>\n",
       "  <tbody>\n",
       "    <tr>\n",
       "      <th>Gross Profit</th>\n",
       "      <td>2608432000</td>\n",
       "      <td>2343000000</td>\n",
       "      <td>3113000000</td>\n",
       "      <td>3662000000</td>\n",
       "      <td>3249000000</td>\n",
       "      <td>2813000000</td>\n",
       "    </tr>\n",
       "    <tr>\n",
       "      <th>Total Revenue</th>\n",
       "      <td>6395921000</td>\n",
       "      <td>5916000000</td>\n",
       "      <td>7848000000</td>\n",
       "      <td>8580000000</td>\n",
       "      <td>8157000000</td>\n",
       "      <td>7077000000</td>\n",
       "    </tr>\n",
       "    <tr>\n",
       "      <th>Business Revenue</th>\n",
       "      <td>6155388000</td>\n",
       "      <td>5697000000</td>\n",
       "      <td>7594000000</td>\n",
       "      <td>8311000000</td>\n",
       "      <td>7863000000</td>\n",
       "      <td>6810000000</td>\n",
       "    </tr>\n",
       "    <tr>\n",
       "      <th>Other Revenue</th>\n",
       "      <td>240533000</td>\n",
       "      <td>219000000</td>\n",
       "      <td>254000000</td>\n",
       "      <td>269000000</td>\n",
       "      <td>294000000</td>\n",
       "      <td>267000000</td>\n",
       "    </tr>\n",
       "    <tr>\n",
       "      <th>Cost of Revenue</th>\n",
       "      <td>-3787489000</td>\n",
       "      <td>-3573000000</td>\n",
       "      <td>-4735000000</td>\n",
       "      <td>-4918000000</td>\n",
       "      <td>-4908000000</td>\n",
       "      <td>-4264000000</td>\n",
       "    </tr>\n",
       "  </tbody>\n",
       "</table>\n",
       "</div>"
      ],
      "text/plain": [
       "                                                           2015         2016  \\\n",
       "CHMF_IncomeStatement_Annual_As_Originally_Reported                             \n",
       "Gross Profit                                         2608432000   2343000000   \n",
       "    Total Revenue                                    6395921000   5916000000   \n",
       "        Business Revenue                             6155388000   5697000000   \n",
       "        Other Revenue                                 240533000    219000000   \n",
       "    Cost of Revenue                                 -3787489000  -3573000000   \n",
       "\n",
       "                                                           2017         2018  \\\n",
       "CHMF_IncomeStatement_Annual_As_Originally_Reported                             \n",
       "Gross Profit                                         3113000000   3662000000   \n",
       "    Total Revenue                                    7848000000   8580000000   \n",
       "        Business Revenue                             7594000000   8311000000   \n",
       "        Other Revenue                                 254000000    269000000   \n",
       "    Cost of Revenue                                 -4735000000  -4918000000   \n",
       "\n",
       "                                                           2019          TTM  \n",
       "CHMF_IncomeStatement_Annual_As_Originally_Reported                            \n",
       "Gross Profit                                         3249000000   2813000000  \n",
       "    Total Revenue                                    8157000000   7077000000  \n",
       "        Business Revenue                             7863000000   6810000000  \n",
       "        Other Revenue                                 294000000    267000000  \n",
       "    Cost of Revenue                                 -4908000000  -4264000000  "
      ]
     },
     "execution_count": 199,
     "metadata": {},
     "output_type": "execute_result"
    }
   ],
   "source": [
    "# Проверяем наличие данных\n",
    "df2.head()"
   ]
  },
  {
   "cell_type": "code",
   "execution_count": 200,
   "metadata": {
    "executionInfo": {
     "elapsed": 2337,
     "status": "aborted",
     "timestamp": 1606203303571,
     "user": {
      "displayName": "Антон Филимонцев",
      "photoUrl": "https://lh3.googleusercontent.com/a-/AOh14GgXMWMDCqDyAK2nY5btETV-A_lrkmEWGgAnMNCs=s64",
      "userId": "13258489990039501932"
     },
     "user_tz": -180
    },
    "id": "n4jfJzymK3HS"
   },
   "outputs": [
    {
     "name": "stdout",
     "output_type": "stream",
     "text": [
      "<class 'pandas.core.frame.DataFrame'>\n",
      "Index: 139 entries, Total Assets to Fiscal year ends in Dec 31 | USD\n",
      "Data columns (total 5 columns):\n",
      " #   Column  Non-Null Count  Dtype \n",
      "---  ------  --------------  ----- \n",
      " 0   2015    122 non-null    object\n",
      " 1   2016    121 non-null    object\n",
      " 2   2017    124 non-null    object\n",
      " 3   2018    119 non-null    object\n",
      " 4   2019    117 non-null    object\n",
      "dtypes: object(5)\n",
      "memory usage: 11.5+ KB\n"
     ]
    }
   ],
   "source": [
    "# Проверяем типы данных\n",
    "df1.info()"
   ]
  },
  {
   "cell_type": "code",
   "execution_count": 201,
   "metadata": {
    "executionInfo": {
     "elapsed": 2335,
     "status": "aborted",
     "timestamp": 1606203303571,
     "user": {
      "displayName": "Антон Филимонцев",
      "photoUrl": "https://lh3.googleusercontent.com/a-/AOh14GgXMWMDCqDyAK2nY5btETV-A_lrkmEWGgAnMNCs=s64",
      "userId": "13258489990039501932"
     },
     "user_tz": -180
    },
    "id": "0z1a0IuJK3HS"
   },
   "outputs": [],
   "source": [
    "def search_value(index_name, date):\n",
    "    '''This function return a specific stock metric of at a specific date\n",
    "    from dataframe\n",
    "    '''\n",
    "    return float(df2.loc[index_name, date])"
   ]
  },
  {
   "cell_type": "code",
   "execution_count": 202,
   "metadata": {
    "executionInfo": {
     "elapsed": 2334,
     "status": "aborted",
     "timestamp": 1606203303572,
     "user": {
      "displayName": "Антон Филимонцев",
      "photoUrl": "https://lh3.googleusercontent.com/a-/AOh14GgXMWMDCqDyAK2nY5btETV-A_lrkmEWGgAnMNCs=s64",
      "userId": "13258489990039501932"
     },
     "user_tz": -180
    },
    "id": "uqLfnn8cK3HS"
   },
   "outputs": [],
   "source": [
    "def historical_value(index_name):\n",
    "    '''This function return a specific stock line metric from dataframe\n",
    "    '''\n",
    "    return df2.loc[index_name, ].astype(float)"
   ]
  },
  {
   "cell_type": "code",
   "execution_count": 203,
   "metadata": {
    "executionInfo": {
     "elapsed": 2325,
     "status": "aborted",
     "timestamp": 1606203303572,
     "user": {
      "displayName": "Антон Филимонцев",
      "photoUrl": "https://lh3.googleusercontent.com/a-/AOh14GgXMWMDCqDyAK2nY5btETV-A_lrkmEWGgAnMNCs=s64",
      "userId": "13258489990039501932"
     },
     "user_tz": -180
    },
    "id": "EKm3B3zrK3HS"
   },
   "outputs": [
    {
     "data": {
      "text/plain": [
       "2015    6.395921e+09\n",
       "2016    5.916000e+09\n",
       "2017    7.848000e+09\n",
       "2018    8.580000e+09\n",
       "2019    8.157000e+09\n",
       "TTM     7.077000e+09\n",
       "Name:     Total Revenue, dtype: float64"
      ]
     },
     "execution_count": 203,
     "metadata": {},
     "output_type": "execute_result"
    }
   ],
   "source": [
    "# Проверяем вид и наличие данных, а также точные даты, они будут использоваться ниже\n",
    "historical_value('    Total Revenue')"
   ]
  },
  {
   "cell_type": "code",
   "execution_count": 204,
   "metadata": {
    "executionInfo": {
     "elapsed": 2316,
     "status": "aborted",
     "timestamp": 1606203303573,
     "user": {
      "displayName": "Антон Филимонцев",
      "photoUrl": "https://lh3.googleusercontent.com/a-/AOh14GgXMWMDCqDyAK2nY5btETV-A_lrkmEWGgAnMNCs=s64",
      "userId": "13258489990039501932"
     },
     "user_tz": -180
    },
    "id": "gQDMAYjLK3HS"
   },
   "outputs": [
    {
     "data": {
      "text/plain": [
       "2015    6.049930e+08\n",
       "2016    1.621000e+09\n",
       "2017    1.356000e+09\n",
       "2018    2.051000e+09\n",
       "2019    1.766000e+09\n",
       "TTM     1.003000e+09\n",
       "Name: Net Income Available to Common Stockholders, dtype: float64"
      ]
     },
     "execution_count": 204,
     "metadata": {},
     "output_type": "execute_result"
    }
   ],
   "source": [
    "# Проверяем вид и наличие данных, а также точные даты, они будут использоваться ниже\n",
    "historical_value('Net Income Available to Common Stockholders')"
   ]
  },
  {
   "cell_type": "code",
   "execution_count": 205,
   "metadata": {
    "executionInfo": {
     "elapsed": 2307,
     "status": "aborted",
     "timestamp": 1606203303574,
     "user": {
      "displayName": "Антон Филимонцев",
      "photoUrl": "https://lh3.googleusercontent.com/a-/AOh14GgXMWMDCqDyAK2nY5btETV-A_lrkmEWGgAnMNCs=s64",
      "userId": "13258489990039501932"
     },
     "user_tz": -180
    },
    "id": "3z4Qvg2hK3HS"
   },
   "outputs": [
    {
     "data": {
      "text/plain": [
       "2015    2.608432e+09\n",
       "2016    2.343000e+09\n",
       "2017    3.113000e+09\n",
       "2018    3.662000e+09\n",
       "2019    3.249000e+09\n",
       "TTM     2.813000e+09\n",
       "Name: Gross Profit, dtype: float64"
      ]
     },
     "execution_count": 205,
     "metadata": {},
     "output_type": "execute_result"
    }
   ],
   "source": [
    "# Проверяем вид и наличие данных, а также точные даты, они будут использоваться ниже\n",
    "historical_value('Gross Profit')"
   ]
  },
  {
   "cell_type": "code",
   "execution_count": 206,
   "metadata": {
    "executionInfo": {
     "elapsed": 2305,
     "status": "aborted",
     "timestamp": 1606203303574,
     "user": {
      "displayName": "Антон Филимонцев",
      "photoUrl": "https://lh3.googleusercontent.com/a-/AOh14GgXMWMDCqDyAK2nY5btETV-A_lrkmEWGgAnMNCs=s64",
      "userId": "13258489990039501932"
     },
     "user_tz": -180
    },
    "id": "Q3jhMiKyK3HS"
   },
   "outputs": [],
   "source": [
    "# Назначаем переменные доходности\n",
    "# Периоды указываем как в шаге выше\n",
    "netIncome0 = search_value('Net Income Available to Common Stockholders', 'TTM')\n",
    "netIncome1 = search_value('Net Income Available to Common Stockholders', '2019') \n",
    "grossProfit0 = search_value('Gross Profit', 'TTM')\n",
    "grossProfit1 = search_value('Gross Profit', '2019')\n",
    "revenue0 = search_value('    Total Revenue', 'TTM')\n",
    "revenue1 = search_value('    Total Revenue', '2019')"
   ]
  },
  {
   "cell_type": "code",
   "execution_count": 207,
   "metadata": {
    "executionInfo": {
     "elapsed": 2297,
     "status": "aborted",
     "timestamp": 1606203303575,
     "user": {
      "displayName": "Антон Филимонцев",
      "photoUrl": "https://lh3.googleusercontent.com/a-/AOh14GgXMWMDCqDyAK2nY5btETV-A_lrkmEWGgAnMNCs=s64",
      "userId": "13258489990039501932"
     },
     "user_tz": -180
    },
    "id": "ifv_FNXbK3HS"
   },
   "outputs": [
    {
     "name": "stdout",
     "output_type": "stream",
     "text": [
      "f_score is 4\n"
     ]
    }
   ],
   "source": [
    "# Считаем F-Score. Формула не идеальная, к ней есть вопросы\n",
    "\n",
    "cashflow_op = (operatingCashFlow0 + operatingCashFlow1 + operatingCashFlow2 + operatingCashFlow3) * 1000000\n",
    "\n",
    "ROA_FS = (round(netIncome0/((totalAssets0 + totalAssets1)/2), 2)>0)  \n",
    "CFO_FS = int(operatingCashFlow0 * 1000000>0)\n",
    "ROA_D_FS = int((round(netIncome0/((totalAssets0 + totalAssets1)/2), 2))>\n",
    "               (round(netIncome1/((totalAssets1 + totalAssets2)/2), 2)))\n",
    "CFO_ROA_FS = int((cashflow_op/totalAssets0)>(netIncome0/\n",
    "                    ((totalAssets0 + totalAssets1)/2)))          \n",
    "CR_FS = int((totalAssets0/totalLiabilities0)>      \n",
    "             (totalAssets1/totalLiabilities1))           \n",
    "LTD_FS = int(longTermDebt0 <= longTermDebt1)\n",
    "DILUTION_FS = int(numberOfShares0  <= numberOfShares1)\n",
    "GM_FS = int(grossProfit0/revenue0 > grossProfit1/revenue1)\n",
    "ATO_FS = int((revenue0/((totalAssets0 + totalAssets1)/2)) >\n",
    "            (revenue1/((totalAssets1 + totalAssets2)/2)))\n",
    "F_score = ROA_FS + CFO_FS + ROA_D_FS + CFO_ROA_FS + LTD_FS + CR_FS + DILUTION_FS + GM_FS + ATO_FS  \n",
    "\n",
    "print(f'f_score is {F_score}')\n",
    "\n",
    "\n",
    "# Вопросы к методике \n",
    "#1. ПРи расчете ROA_FS, мы исследуем число на предмет положительности относительно нуля, но это может быть только в одном случае, если числитель больше нуля, тогда в этой формуле знаменатель не нужен, ведь он в принципе не может быть меньше ноля\n",
    "#2. Зачем нам складывать в знаменателях значения за 2 года?\n",
    "#3. При сравнениее OCF не обязательно приводить показатель к миллиардам, т.к. нас интересует в принципе он больше нуля или нет\n",
    "#4. Почему мы считаем cashflow_op как сумма за 4 последних года, если в принципе нас интересует конкретно за последний год\n",
    "\n"
   ]
  },
  {
   "cell_type": "markdown",
   "metadata": {},
   "source": [
    "# Расчет WACC"
   ]
  },
  {
   "cell_type": "code",
   "execution_count": 208,
   "metadata": {
    "executionInfo": {
     "elapsed": 2296,
     "status": "aborted",
     "timestamp": 1606203303576,
     "user": {
      "displayName": "Антон Филимонцев",
      "photoUrl": "https://lh3.googleusercontent.com/a-/AOh14GgXMWMDCqDyAK2nY5btETV-A_lrkmEWGgAnMNCs=s64",
      "userId": "13258489990039501932"
     },
     "user_tz": -180
    },
    "id": "TxOgpI1XK3HS"
   },
   "outputs": [],
   "source": [
    "start = datetime.datetime(2019, 2, 1)\n",
    "end = datetime.datetime.today().strftime('%Y-%m-%d')\n",
    "beta = YahooFinancials(ticker).get_beta()\n",
    "mktCap_2019 =  numberOfShares1 * latest_price \n",
    "\n",
    "\n",
    "iterestExpense_2019 = search_value('            Interest Expense Net of Capitalized Interest', '2019')\n",
    "incomeTaxExpense_2019 = search_value('Provision for Income Tax', '2019')\n",
    "incomeBeforeTax_2019 = search_value('Pretax Income', '2019')\n",
    "\n",
    "\n",
    "Treasury = wb.DataReader(['DGS10'], 'fred', start, end)\n",
    "RF = float(Treasury.iloc[-1])\n",
    "RF = RF / 100\n",
    "    \n",
    "data = wb.DataReader('^GSPC', data_source='yahoo', start='2001-1-1')  # нужно определиться с переменной\n",
    "data['simple_return'] = (data['Adj Close'] / data['Adj Close'].shift(1)) - 1\n",
    "data['simple_return'].replace(np.nan, 0)\n",
    "avg_returns_a = data['simple_return'].mean() * 250\n",
    "    \n",
    "ke = RF + (float(beta) * (avg_returns_a - RF))\n",
    "# ke = RF + (float(work_table['beta'][0]) * (avg_returns_a - RF))"
   ]
  },
  {
   "cell_type": "code",
   "execution_count": null,
   "metadata": {},
   "outputs": [],
   "source": []
  },
  {
   "cell_type": "code",
   "execution_count": 209,
   "metadata": {},
   "outputs": [
    {
     "data": {
      "text/plain": [
       "-0.681931621058953"
      ]
     },
     "execution_count": 209,
     "metadata": {},
     "output_type": "execute_result"
    }
   ],
   "source": [
    "balance_table['netDebt'] =  balance_table['                Current Debt'][0:5] + balance_table['                Long Term Debt'][0:5] \\\n",
    "              -  balance_table['            Cash and Cash Equivalents'].fillna(0)[0:5]\n",
    "\n",
    "\n",
    "WACC = (mktCap_2019 / (mktCap_2019 + balance_table['netDebt'][0:2][::-1].mean())) * ke + (\n",
    "        balance_table['netDebt'][0:2][::-1].mean() / (mktCap_2019 + balance_table['netDebt'][0:2][::-1].mean())) * (\n",
    "               iterestExpense_2019 / balance_table['netDebt'][0:2][::-1].mean()) \\\n",
    "       * (1 - (incomeTaxExpense_2019 / incomeBeforeTax_2019))\n",
    "\n",
    "\n",
    "WACC"
   ]
  },
  {
   "cell_type": "code",
   "execution_count": null,
   "metadata": {},
   "outputs": [],
   "source": []
  }
 ],
 "metadata": {
  "colab": {
   "name": "Div_value_ru_stock_from_29.10_Ryzhikov.ipynb",
   "provenance": []
  },
  "kernelspec": {
   "display_name": "Python 3",
   "language": "python",
   "name": "python3"
  },
  "language_info": {
   "codemirror_mode": {
    "name": "ipython",
    "version": 3
   },
   "file_extension": ".py",
   "mimetype": "text/x-python",
   "name": "python",
   "nbconvert_exporter": "python",
   "pygments_lexer": "ipython3",
   "version": "3.8.3"
  }
 },
 "nbformat": 4,
 "nbformat_minor": 1
}
