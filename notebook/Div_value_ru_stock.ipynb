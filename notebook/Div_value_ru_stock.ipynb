{
 "cells": [
  {
   "cell_type": "code",
   "execution_count": 1,
   "metadata": {},
   "outputs": [],
   "source": [
    "import pandas as pd\n",
    "from pandas_datareader import data as wb\n",
    "import matplotlib.pyplot as plt\n",
    "import statsmodels.api as sm"
   ]
  },
  {
   "cell_type": "markdown",
   "metadata": {},
   "source": [
    "### Импортируем CSV в датафрейм"
   ]
  },
  {
   "cell_type": "code",
   "execution_count": 2,
   "metadata": {},
   "outputs": [],
   "source": [
    "data = pd.read_csv('/stock/GZPFY Key Ratios.csv', skiprows=2, index_col='Unnamed: 0')"
   ]
  },
  {
   "cell_type": "code",
   "execution_count": 3,
   "metadata": {},
   "outputs": [
    {
     "data": {
      "text/html": [
       "<div>\n",
       "<style scoped>\n",
       "    .dataframe tbody tr th:only-of-type {\n",
       "        vertical-align: middle;\n",
       "    }\n",
       "\n",
       "    .dataframe tbody tr th {\n",
       "        vertical-align: top;\n",
       "    }\n",
       "\n",
       "    .dataframe thead th {\n",
       "        text-align: right;\n",
       "    }\n",
       "</style>\n",
       "<table border=\"1\" class=\"dataframe\">\n",
       "  <thead>\n",
       "    <tr style=\"text-align: right;\">\n",
       "      <th></th>\n",
       "      <th>2010-12</th>\n",
       "      <th>2011-12</th>\n",
       "      <th>2012-12</th>\n",
       "      <th>2013-12</th>\n",
       "      <th>2014-12</th>\n",
       "      <th>2015-12</th>\n",
       "      <th>2016-12</th>\n",
       "      <th>2017-12</th>\n",
       "      <th>2018-12</th>\n",
       "      <th>2019-12</th>\n",
       "      <th>TTM</th>\n",
       "    </tr>\n",
       "  </thead>\n",
       "  <tbody>\n",
       "    <tr>\n",
       "      <th>Revenue RUB Mil</th>\n",
       "      <td>1,002,509</td>\n",
       "      <td>1,413,007</td>\n",
       "      <td>1,230,266</td>\n",
       "      <td>1,267,603</td>\n",
       "      <td>1,408,238</td>\n",
       "      <td>1,467,943</td>\n",
       "      <td>1,545,608</td>\n",
       "      <td>1,857,931</td>\n",
       "      <td>2,489,292</td>\n",
       "      <td>2,485,308</td>\n",
       "      <td>2,413,517</td>\n",
       "    </tr>\n",
       "    <tr>\n",
       "      <th>Gross Margin %</th>\n",
       "      <td>75.9</td>\n",
       "      <td>74.2</td>\n",
       "      <td>50.0</td>\n",
       "      <td>57.1</td>\n",
       "      <td>54.5</td>\n",
       "      <td>55.1</td>\n",
       "      <td>55.7</td>\n",
       "      <td>56.2</td>\n",
       "      <td>58.9</td>\n",
       "      <td>55.5</td>\n",
       "      <td>53.5</td>\n",
       "    </tr>\n",
       "    <tr>\n",
       "      <th>Operating Income RUB Mil</th>\n",
       "      <td>142,490</td>\n",
       "      <td>223,249</td>\n",
       "      <td>203,238</td>\n",
       "      <td>226,756</td>\n",
       "      <td>219,656</td>\n",
       "      <td>222,744</td>\n",
       "      <td>238,316</td>\n",
       "      <td>302,523</td>\n",
       "      <td>456,742</td>\n",
       "      <td>446,568</td>\n",
       "      <td>345,993</td>\n",
       "    </tr>\n",
       "    <tr>\n",
       "      <th>Operating Margin %</th>\n",
       "      <td>14.2</td>\n",
       "      <td>15.8</td>\n",
       "      <td>16.5</td>\n",
       "      <td>17.9</td>\n",
       "      <td>15.6</td>\n",
       "      <td>15.2</td>\n",
       "      <td>15.4</td>\n",
       "      <td>16.3</td>\n",
       "      <td>18.3</td>\n",
       "      <td>18.0</td>\n",
       "      <td>14.3</td>\n",
       "    </tr>\n",
       "    <tr>\n",
       "      <th>Net Income RUB Mil</th>\n",
       "      <td>96,299</td>\n",
       "      <td>171,204</td>\n",
       "      <td>176,296</td>\n",
       "      <td>177,917</td>\n",
       "      <td>122,093</td>\n",
       "      <td>109,661</td>\n",
       "      <td>200,179</td>\n",
       "      <td>253,274</td>\n",
       "      <td>376,667</td>\n",
       "      <td>400,201</td>\n",
       "      <td>278,501</td>\n",
       "    </tr>\n",
       "  </tbody>\n",
       "</table>\n",
       "</div>"
      ],
      "text/plain": [
       "                            2010-12    2011-12    2012-12    2013-12  \\\n",
       "Revenue RUB Mil           1,002,509  1,413,007  1,230,266  1,267,603   \n",
       "Gross Margin %                 75.9       74.2       50.0       57.1   \n",
       "Operating Income RUB Mil    142,490    223,249    203,238    226,756   \n",
       "Operating Margin %             14.2       15.8       16.5       17.9   \n",
       "Net Income RUB Mil           96,299    171,204    176,296    177,917   \n",
       "\n",
       "                            2014-12    2015-12    2016-12    2017-12  \\\n",
       "Revenue RUB Mil           1,408,238  1,467,943  1,545,608  1,857,931   \n",
       "Gross Margin %                 54.5       55.1       55.7       56.2   \n",
       "Operating Income RUB Mil    219,656    222,744    238,316    302,523   \n",
       "Operating Margin %             15.6       15.2       15.4       16.3   \n",
       "Net Income RUB Mil          122,093    109,661    200,179    253,274   \n",
       "\n",
       "                            2018-12    2019-12        TTM  \n",
       "Revenue RUB Mil           2,489,292  2,485,308  2,413,517  \n",
       "Gross Margin %                 58.9       55.5       53.5  \n",
       "Operating Income RUB Mil    456,742    446,568    345,993  \n",
       "Operating Margin %             18.3       18.0       14.3  \n",
       "Net Income RUB Mil          376,667    400,201    278,501  "
      ]
     },
     "execution_count": 3,
     "metadata": {},
     "output_type": "execute_result"
    }
   ],
   "source": [
    "data.head()"
   ]
  },
  {
   "cell_type": "code",
   "execution_count": 4,
   "metadata": {},
   "outputs": [],
   "source": [
    "data = data.apply(lambda x: x.str.replace(',', '')) #Удаляем запятые"
   ]
  },
  {
   "cell_type": "markdown",
   "metadata": {},
   "source": [
    "Определяем функции поиска данных"
   ]
  },
  {
   "cell_type": "code",
   "execution_count": 5,
   "metadata": {},
   "outputs": [],
   "source": [
    "def search_value(index_name, date):\n",
    "    '''This function return a specific stock metric of at a specific date\n",
    "    from dataframe\n",
    "    '''\n",
    "    return float(data.loc[index_name, date])"
   ]
  },
  {
   "cell_type": "code",
   "execution_count": 6,
   "metadata": {},
   "outputs": [],
   "source": [
    "def historical_value(index_name):\n",
    "    '''This function return a specific stock line metric from dataframe\n",
    "    '''\n",
    "    return data.loc[index_name, ].astype(float)"
   ]
  },
  {
   "cell_type": "markdown",
   "metadata": {},
   "source": [
    "### Получаем основые финансовые метрики"
   ]
  },
  {
   "cell_type": "markdown",
   "metadata": {},
   "source": [
    "(1)Получаем количество акций Shares Outstanding"
   ]
  },
  {
   "cell_type": "code",
   "execution_count": 7,
   "metadata": {},
   "outputs": [
    {
     "data": {
      "text/plain": [
       "2010-12    944.0\n",
       "2011-12    944.0\n",
       "2012-12    944.0\n",
       "2013-12    944.0\n",
       "2014-12    944.0\n",
       "2015-12    944.0\n",
       "2016-12    944.0\n",
       "2017-12    944.0\n",
       "2018-12    944.0\n",
       "2019-12    944.0\n",
       "TTM        944.0\n",
       "Name: Shares Mil, dtype: float64"
      ]
     },
     "execution_count": 7,
     "metadata": {},
     "output_type": "execute_result"
    }
   ],
   "source": [
    "historical_value('Shares Mil')"
   ]
  },
  {
   "cell_type": "markdown",
   "metadata": {},
   "source": [
    "(2) EPS"
   ]
  },
  {
   "cell_type": "code",
   "execution_count": 8,
   "metadata": {},
   "outputs": [
    {
     "data": {
      "text/plain": [
       "2010-12    102.48\n",
       "2011-12    169.95\n",
       "2012-12    186.85\n",
       "2013-12    188.55\n",
       "2014-12    129.40\n",
       "2015-12    116.20\n",
       "2016-12    212.15\n",
       "2017-12    268.40\n",
       "2018-12    399.20\n",
       "2019-12    424.10\n",
       "TTM        295.10\n",
       "Name: Earnings Per Share RUB, dtype: float64"
      ]
     },
     "execution_count": 8,
     "metadata": {},
     "output_type": "execute_result"
    }
   ],
   "source": [
    "historical_value('Earnings Per Share RUB')"
   ]
  },
  {
   "cell_type": "markdown",
   "metadata": {},
   "source": [
    "(3)Dividend Rate"
   ]
  },
  {
   "cell_type": "code",
   "execution_count": 9,
   "metadata": {},
   "outputs": [
    {
     "data": {
      "text/plain": [
       "2010-12     14.93\n",
       "2011-12     21.91\n",
       "2012-12     30.69\n",
       "2013-12     21.24\n",
       "2014-12     43.31\n",
       "2015-12     74.27\n",
       "2016-12      2.78\n",
       "2017-12    106.83\n",
       "2018-12    140.96\n",
       "2019-12    130.30\n",
       "TTM        130.30\n",
       "Name: Dividends RUB, dtype: float64"
      ]
     },
     "execution_count": 9,
     "metadata": {},
     "output_type": "execute_result"
    }
   ],
   "source": [
    "historical_value('Dividends RUB')"
   ]
  },
  {
   "cell_type": "markdown",
   "metadata": {},
   "source": [
    "(4)Dividend Yield"
   ]
  },
  {
   "cell_type": "code",
   "execution_count": 10,
   "metadata": {},
   "outputs": [
    {
     "data": {
      "text/plain": [
       "2010-12    14.6\n",
       "2011-12    13.9\n",
       "2012-12    16.4\n",
       "2013-12    11.3\n",
       "2014-12    11.7\n",
       "2015-12    53.8\n",
       "2016-12    24.6\n",
       "2017-12    21.7\n",
       "2018-12    19.8\n",
       "2019-12    36.9\n",
       "TTM        44.1\n",
       "Name: Payout Ratio % *, dtype: float64"
      ]
     },
     "execution_count": 10,
     "metadata": {},
     "output_type": "execute_result"
    }
   ],
   "source": [
    "historical_value('Payout Ratio % *')"
   ]
  },
  {
   "cell_type": "markdown",
   "metadata": {},
   "source": [
    "(5)Debt/Equity Ratio"
   ]
  },
  {
   "cell_type": "code",
   "execution_count": 11,
   "metadata": {},
   "outputs": [
    {
     "data": {
      "text/plain": [
       "2010-12    0.26\n",
       "2011-12    0.23\n",
       "2012-12    0.20\n",
       "2013-12    0.27\n",
       "2014-12    0.47\n",
       "2015-12    0.58\n",
       "2016-12    0.44\n",
       "2017-12    0.37\n",
       "2018-12    0.38\n",
       "2019-12    0.37\n",
       "TTM        0.41\n",
       "Name: Debt/Equity, dtype: float64"
      ]
     },
     "execution_count": 11,
     "metadata": {},
     "output_type": "execute_result"
    }
   ],
   "source": [
    "historical_value('Debt/Equity')"
   ]
  },
  {
   "cell_type": "markdown",
   "metadata": {},
   "source": [
    "(6)Book Value Per Share"
   ]
  },
  {
   "cell_type": "code",
   "execution_count": 12,
   "metadata": {},
   "outputs": [
    {
     "data": {
      "text/plain": [
       "2010-12    19.71\n",
       "2011-12    22.52\n",
       "2012-12    29.13\n",
       "2013-12    29.25\n",
       "2014-12    19.88\n",
       "2015-12    16.80\n",
       "2016-12    22.97\n",
       "2017-12    27.87\n",
       "2018-12    28.34\n",
       "2019-12    35.42\n",
       "TTM        31.06\n",
       "Name: Book Value Per Share * RUB, dtype: float64"
      ]
     },
     "execution_count": 12,
     "metadata": {},
     "output_type": "execute_result"
    }
   ],
   "source": [
    "historical_value('Book Value Per Share * RUB')"
   ]
  },
  {
   "cell_type": "markdown",
   "metadata": {},
   "source": [
    "(7)ROE (Return on Equity)"
   ]
  },
  {
   "cell_type": "code",
   "execution_count": 13,
   "metadata": {},
   "outputs": [
    {
     "data": {
      "text/plain": [
       "2010-12    18.20\n",
       "2011-12    25.87\n",
       "2012-12    22.22\n",
       "2013-12    19.91\n",
       "2014-12    12.10\n",
       "2015-12     9.87\n",
       "2016-12    15.90\n",
       "2017-12    17.39\n",
       "2018-12    22.20\n",
       "2019-12    20.54\n",
       "TTM        14.01\n",
       "Name: Return on Equity %, dtype: float64"
      ]
     },
     "execution_count": 13,
     "metadata": {},
     "output_type": "execute_result"
    }
   ],
   "source": [
    "historical_value('Return on Equity %')"
   ]
  },
  {
   "cell_type": "markdown",
   "metadata": {},
   "source": [
    "(8)Current Ratio"
   ]
  },
  {
   "cell_type": "code",
   "execution_count": 14,
   "metadata": {},
   "outputs": [
    {
     "data": {
      "text/plain": [
       "2010-12    1.46\n",
       "2011-12    2.05\n",
       "2012-12    1.87\n",
       "2013-12    2.08\n",
       "2014-12    1.88\n",
       "2015-12    1.46\n",
       "2016-12    1.37\n",
       "2017-12    0.88\n",
       "2018-12    1.18\n",
       "2019-12    1.50\n",
       "TTM        1.48\n",
       "Name: Current Ratio, dtype: float64"
      ]
     },
     "execution_count": 14,
     "metadata": {},
     "output_type": "execute_result"
    }
   ],
   "source": [
    "historical_value('Current Ratio')"
   ]
  },
  {
   "cell_type": "markdown",
   "metadata": {},
   "source": [
    "## Get Stock Price"
   ]
  },
  {
   "cell_type": "code",
   "execution_count": 15,
   "metadata": {},
   "outputs": [],
   "source": [
    "price = wb.DataReader('SIBN.ME', data_source='yahoo', start='2010-1-1') # Получаем данные с yahoo finance для одного тикера"
   ]
  },
  {
   "cell_type": "markdown",
   "metadata": {},
   "source": [
    "Latest P/E"
   ]
  },
  {
   "cell_type": "code",
   "execution_count": 16,
   "metadata": {},
   "outputs": [
    {
     "name": "stdout",
     "output_type": "stream",
     "text": [
      "0.7577222497135477\n"
     ]
    }
   ],
   "source": [
    "latest_price = price.loc['2020-07-14','Close']\n",
    "latest_eps = search_value('Earnings Per Share RUB', '2019-12')\n",
    "latest_PtoE = latest_price/latest_eps\n",
    "print(latest_PtoE)"
   ]
  },
  {
   "cell_type": "markdown",
   "metadata": {},
   "source": [
    "Latest P/BV"
   ]
  },
  {
   "cell_type": "code",
   "execution_count": 17,
   "metadata": {},
   "outputs": [
    {
     "name": "stdout",
     "output_type": "stream",
     "text": [
      "8.952569342278814\n"
     ]
    }
   ],
   "source": [
    "latest_price = price.loc['2020-07-15','Close']\n",
    "latest_eps = search_value('Book Value Per Share * RUB', '2019-12')\n",
    "latest_PtoBV = latest_price/latest_eps\n",
    "print(latest_PtoBV)"
   ]
  },
  {
   "cell_type": "markdown",
   "metadata": {},
   "source": [
    "Traspose Dataframe"
   ]
  },
  {
   "cell_type": "code",
   "execution_count": 18,
   "metadata": {},
   "outputs": [],
   "source": [
    "data = data.T"
   ]
  },
  {
   "cell_type": "code",
   "execution_count": 19,
   "metadata": {},
   "outputs": [
    {
     "data": {
      "text/html": [
       "<div>\n",
       "<style scoped>\n",
       "    .dataframe tbody tr th:only-of-type {\n",
       "        vertical-align: middle;\n",
       "    }\n",
       "\n",
       "    .dataframe tbody tr th {\n",
       "        vertical-align: top;\n",
       "    }\n",
       "\n",
       "    .dataframe thead th {\n",
       "        text-align: right;\n",
       "    }\n",
       "</style>\n",
       "<table border=\"1\" class=\"dataframe\">\n",
       "  <thead>\n",
       "    <tr style=\"text-align: right;\">\n",
       "      <th></th>\n",
       "      <th>Shares Mil</th>\n",
       "      <th>Earnings Per Share RUB</th>\n",
       "      <th>Dividends RUB</th>\n",
       "      <th>Payout Ratio % *</th>\n",
       "      <th>Debt/Equity</th>\n",
       "      <th>Book Value Per Share * RUB</th>\n",
       "      <th>Return on Equity %</th>\n",
       "      <th>Current Ratio</th>\n",
       "    </tr>\n",
       "  </thead>\n",
       "  <tbody>\n",
       "    <tr>\n",
       "      <th>2010-12</th>\n",
       "      <td>944</td>\n",
       "      <td>102.48</td>\n",
       "      <td>14.93</td>\n",
       "      <td>14.6</td>\n",
       "      <td>0.26</td>\n",
       "      <td>19.71</td>\n",
       "      <td>18.20</td>\n",
       "      <td>1.46</td>\n",
       "    </tr>\n",
       "    <tr>\n",
       "      <th>2011-12</th>\n",
       "      <td>944</td>\n",
       "      <td>169.95</td>\n",
       "      <td>21.91</td>\n",
       "      <td>13.9</td>\n",
       "      <td>0.23</td>\n",
       "      <td>22.52</td>\n",
       "      <td>25.87</td>\n",
       "      <td>2.05</td>\n",
       "    </tr>\n",
       "    <tr>\n",
       "      <th>2012-12</th>\n",
       "      <td>944</td>\n",
       "      <td>186.85</td>\n",
       "      <td>30.69</td>\n",
       "      <td>16.4</td>\n",
       "      <td>0.20</td>\n",
       "      <td>29.13</td>\n",
       "      <td>22.22</td>\n",
       "      <td>1.87</td>\n",
       "    </tr>\n",
       "    <tr>\n",
       "      <th>2013-12</th>\n",
       "      <td>944</td>\n",
       "      <td>188.55</td>\n",
       "      <td>21.24</td>\n",
       "      <td>11.3</td>\n",
       "      <td>0.27</td>\n",
       "      <td>29.25</td>\n",
       "      <td>19.91</td>\n",
       "      <td>2.08</td>\n",
       "    </tr>\n",
       "    <tr>\n",
       "      <th>2014-12</th>\n",
       "      <td>944</td>\n",
       "      <td>129.40</td>\n",
       "      <td>43.31</td>\n",
       "      <td>11.7</td>\n",
       "      <td>0.47</td>\n",
       "      <td>19.88</td>\n",
       "      <td>12.10</td>\n",
       "      <td>1.88</td>\n",
       "    </tr>\n",
       "  </tbody>\n",
       "</table>\n",
       "</div>"
      ],
      "text/plain": [
       "        Shares Mil Earnings Per Share RUB Dividends RUB Payout Ratio % *  \\\n",
       "2010-12        944                 102.48         14.93             14.6   \n",
       "2011-12        944                 169.95         21.91             13.9   \n",
       "2012-12        944                 186.85         30.69             16.4   \n",
       "2013-12        944                 188.55         21.24             11.3   \n",
       "2014-12        944                 129.40         43.31             11.7   \n",
       "\n",
       "        Debt/Equity Book Value Per Share * RUB Return on Equity %  \\\n",
       "2010-12        0.26                      19.71              18.20   \n",
       "2011-12        0.23                      22.52              25.87   \n",
       "2012-12        0.20                      29.13              22.22   \n",
       "2013-12        0.27                      29.25              19.91   \n",
       "2014-12        0.47                      19.88              12.10   \n",
       "\n",
       "        Current Ratio  \n",
       "2010-12          1.46  \n",
       "2011-12          2.05  \n",
       "2012-12          1.87  \n",
       "2013-12          2.08  \n",
       "2014-12          1.88  "
      ]
     },
     "execution_count": 19,
     "metadata": {},
     "output_type": "execute_result"
    }
   ],
   "source": [
    "col_names = ['Shares Mil','Earnings Per Share RUB','Dividends RUB',\n",
    "            'Payout Ratio % *', 'Debt/Equity', 'Book Value Per Share * RUB',\n",
    "            'Return on Equity %', 'Current Ratio']\n",
    "data = data[col_names]\n",
    "data.head()"
   ]
  },
  {
   "cell_type": "code",
   "execution_count": 20,
   "metadata": {},
   "outputs": [
    {
     "data": {
      "text/html": [
       "<div>\n",
       "<style scoped>\n",
       "    .dataframe tbody tr th:only-of-type {\n",
       "        vertical-align: middle;\n",
       "    }\n",
       "\n",
       "    .dataframe tbody tr th {\n",
       "        vertical-align: top;\n",
       "    }\n",
       "\n",
       "    .dataframe thead th {\n",
       "        text-align: right;\n",
       "    }\n",
       "</style>\n",
       "<table border=\"1\" class=\"dataframe\">\n",
       "  <thead>\n",
       "    <tr style=\"text-align: right;\">\n",
       "      <th></th>\n",
       "      <th>shares_outstanding</th>\n",
       "      <th>earning_per_share</th>\n",
       "      <th>dividend_rate</th>\n",
       "      <th>dividend_yield</th>\n",
       "      <th>debt_to_equity</th>\n",
       "      <th>book_value_per_share</th>\n",
       "      <th>return_on_equity</th>\n",
       "      <th>current_ratio</th>\n",
       "    </tr>\n",
       "  </thead>\n",
       "  <tbody>\n",
       "    <tr>\n",
       "      <th>2010-12</th>\n",
       "      <td>944</td>\n",
       "      <td>102.48</td>\n",
       "      <td>14.93</td>\n",
       "      <td>14.6</td>\n",
       "      <td>0.26</td>\n",
       "      <td>19.71</td>\n",
       "      <td>18.20</td>\n",
       "      <td>1.46</td>\n",
       "    </tr>\n",
       "    <tr>\n",
       "      <th>2011-12</th>\n",
       "      <td>944</td>\n",
       "      <td>169.95</td>\n",
       "      <td>21.91</td>\n",
       "      <td>13.9</td>\n",
       "      <td>0.23</td>\n",
       "      <td>22.52</td>\n",
       "      <td>25.87</td>\n",
       "      <td>2.05</td>\n",
       "    </tr>\n",
       "    <tr>\n",
       "      <th>2012-12</th>\n",
       "      <td>944</td>\n",
       "      <td>186.85</td>\n",
       "      <td>30.69</td>\n",
       "      <td>16.4</td>\n",
       "      <td>0.20</td>\n",
       "      <td>29.13</td>\n",
       "      <td>22.22</td>\n",
       "      <td>1.87</td>\n",
       "    </tr>\n",
       "    <tr>\n",
       "      <th>2013-12</th>\n",
       "      <td>944</td>\n",
       "      <td>188.55</td>\n",
       "      <td>21.24</td>\n",
       "      <td>11.3</td>\n",
       "      <td>0.27</td>\n",
       "      <td>29.25</td>\n",
       "      <td>19.91</td>\n",
       "      <td>2.08</td>\n",
       "    </tr>\n",
       "    <tr>\n",
       "      <th>2014-12</th>\n",
       "      <td>944</td>\n",
       "      <td>129.40</td>\n",
       "      <td>43.31</td>\n",
       "      <td>11.7</td>\n",
       "      <td>0.47</td>\n",
       "      <td>19.88</td>\n",
       "      <td>12.10</td>\n",
       "      <td>1.88</td>\n",
       "    </tr>\n",
       "  </tbody>\n",
       "</table>\n",
       "</div>"
      ],
      "text/plain": [
       "        shares_outstanding earning_per_share dividend_rate dividend_yield  \\\n",
       "2010-12                944            102.48         14.93           14.6   \n",
       "2011-12                944            169.95         21.91           13.9   \n",
       "2012-12                944            186.85         30.69           16.4   \n",
       "2013-12                944            188.55         21.24           11.3   \n",
       "2014-12                944            129.40         43.31           11.7   \n",
       "\n",
       "        debt_to_equity book_value_per_share return_on_equity current_ratio  \n",
       "2010-12           0.26                19.71            18.20          1.46  \n",
       "2011-12           0.23                22.52            25.87          2.05  \n",
       "2012-12           0.20                29.13            22.22          1.87  \n",
       "2013-12           0.27                29.25            19.91          2.08  \n",
       "2014-12           0.47                19.88            12.10          1.88  "
      ]
     },
     "execution_count": 20,
     "metadata": {},
     "output_type": "execute_result"
    }
   ],
   "source": [
    "new_col = ['shares_outstanding', 'earning_per_share', 'dividend_rate', \n",
    "           'dividend_yield', 'debt_to_equity', 'book_value_per_share',\n",
    "          'return_on_equity', 'current_ratio']\n",
    "data.columns = new_col\n",
    "data.head()"
   ]
  },
  {
   "cell_type": "code",
   "execution_count": 21,
   "metadata": {},
   "outputs": [],
   "source": [
    "data = data.apply(pd.to_numeric)"
   ]
  },
  {
   "cell_type": "markdown",
   "metadata": {},
   "source": [
    "## Calculating intrinsic value"
   ]
  },
  {
   "cell_type": "markdown",
   "metadata": {},
   "source": [
    "Расчет методом дивидендов и балансовой стоимости"
   ]
  },
  {
   "cell_type": "code",
   "execution_count": 22,
   "metadata": {},
   "outputs": [
    {
     "name": "stdout",
     "output_type": "stream",
     "text": [
      "65.22909090909091\n"
     ]
    }
   ],
   "source": [
    "dvd_avg = data['dividend_rate'].mean() # Определим средний дивиденд\n",
    "print(dvd_avg)"
   ]
  },
  {
   "cell_type": "code",
   "execution_count": 41,
   "metadata": {},
   "outputs": [
    {
     "data": {
      "text/plain": [
       "39.70043852407678"
      ]
     },
     "execution_count": 41,
     "metadata": {},
     "output_type": "execute_result"
    }
   ],
   "source": [
    "risk_free_rate = 0.18\n",
    "# The discounted capital for the dividend of 3-year later\n",
    "dvd_avg/(1+risk_free_rate)**3\n",
    "# The discounted capital for the dividend of 10-year later\n",
    "#dvd_avg/(1+risk_free_rate)**10"
   ]
  },
  {
   "cell_type": "code",
   "execution_count": 42,
   "metadata": {},
   "outputs": [
    {
     "name": "stdout",
     "output_type": "stream",
     "text": [
      "293.1451634849241\n"
     ]
    }
   ],
   "source": [
    "dvd_total = 0\n",
    "for i in range(1,11):\n",
    "    dvd_total = dvd_total + dvd_avg/(1+risk_free_rate)**i\n",
    "print(dvd_total)"
   ]
  },
  {
   "cell_type": "markdown",
   "metadata": {},
   "source": [
    "Estimate future book value"
   ]
  },
  {
   "cell_type": "code",
   "execution_count": 43,
   "metadata": {},
   "outputs": [
    {
     "name": "stdout",
     "output_type": "stream",
     "text": [
      "1.0672954529262744\n"
     ]
    }
   ],
   "source": [
    "book_value = data['book_value_per_share']\n",
    "growth_rate_of_9y= book_value['2019-12']/book_value['2010-12']\n",
    "avg_growth_rate = growth_rate_of_9y**(1/9)\n",
    "print(avg_growth_rate)"
   ]
  },
  {
   "cell_type": "code",
   "execution_count": 44,
   "metadata": {},
   "outputs": [
    {
     "name": "stdout",
     "output_type": "stream",
     "text": [
      "67.93524541190331\n"
     ]
    }
   ],
   "source": [
    "bvps_pred = book_value['2019-12']*(avg_growth_rate**10)\n",
    "print(bvps_pred)"
   ]
  },
  {
   "cell_type": "markdown",
   "metadata": {},
   "source": [
    "## Стоимость акции по дивам и балансовой стоимости (наивный метод)"
   ]
  },
  {
   "cell_type": "code",
   "execution_count": 45,
   "metadata": {},
   "outputs": [
    {
     "name": "stdout",
     "output_type": "stream",
     "text": [
      "361.0804088968274\n"
     ]
    }
   ],
   "source": [
    "data_intrinsic = bvps_pred + dvd_total\n",
    "print(data_intrinsic)"
   ]
  },
  {
   "cell_type": "code",
   "execution_count": 46,
   "metadata": {},
   "outputs": [
    {
     "data": {
      "text/plain": [
       "43.98040279331178"
      ]
     },
     "execution_count": 46,
     "metadata": {},
     "output_type": "execute_result"
    }
   ],
   "source": [
    "data_intrinsic - latest_price #Маржа безопасности"
   ]
  },
  {
   "cell_type": "code",
   "execution_count": 47,
   "metadata": {},
   "outputs": [
    {
     "data": {
      "text/plain": [
       "<matplotlib.axes._subplots.AxesSubplot at 0x1fcc10dfc48>"
      ]
     },
     "execution_count": 47,
     "metadata": {},
     "output_type": "execute_result"
    },
    {
     "data": {
      "image/png": "[encoded data removed]",
      "text/plain": [
       "<Figure size 720x432 with 1 Axes>"
      ]
     },
     "metadata": {
      "needs_background": "light"
     },
     "output_type": "display_data"
    }
   ],
   "source": [
    "data['dividend_rate'].plot(figsize=(10,6), title=\"PM's Dividends in Last 10 Years\")"
   ]
  },
  {
   "cell_type": "code",
   "execution_count": 48,
   "metadata": {},
   "outputs": [
    {
     "data": {
      "text/plain": [
       "<matplotlib.axes._subplots.AxesSubplot at 0x1fcc113d288>"
      ]
     },
     "execution_count": 48,
     "metadata": {},
     "output_type": "execute_result"
    },
    {
     "data": {
      "image/png": "[encoded data removed]",
      "text/plain": [
       "<Figure size 720x432 with 1 Axes>"
      ]
     },
     "metadata": {
      "needs_background": "light"
     },
     "output_type": "display_data"
    }
   ],
   "source": [
    "data['book_value_per_share'].plot(figsize=(10,6), title=\"PM's Book Value in Last 10 Years\")"
   ]
  },
  {
   "cell_type": "markdown",
   "metadata": {},
   "source": [
    "### Расчет стоимости по дивам и балансовой стоимости с помощью линейной регрессии"
   ]
  },
  {
   "cell_type": "code",
   "execution_count": 49,
   "metadata": {},
   "outputs": [],
   "source": [
    "# 'year_index' as the order of the year\n",
    "data['year_index'] = range(1, len(data) + 1)\n",
    "# add intercept\n",
    "data['intercept'] = 1"
   ]
  },
  {
   "cell_type": "code",
   "execution_count": 50,
   "metadata": {},
   "outputs": [
    {
     "data": {
      "text/html": [
       "<div>\n",
       "<style scoped>\n",
       "    .dataframe tbody tr th:only-of-type {\n",
       "        vertical-align: middle;\n",
       "    }\n",
       "\n",
       "    .dataframe tbody tr th {\n",
       "        vertical-align: top;\n",
       "    }\n",
       "\n",
       "    .dataframe thead th {\n",
       "        text-align: right;\n",
       "    }\n",
       "</style>\n",
       "<table border=\"1\" class=\"dataframe\">\n",
       "  <thead>\n",
       "    <tr style=\"text-align: right;\">\n",
       "      <th></th>\n",
       "      <th>shares_outstanding</th>\n",
       "      <th>earning_per_share</th>\n",
       "      <th>dividend_rate</th>\n",
       "      <th>dividend_yield</th>\n",
       "      <th>debt_to_equity</th>\n",
       "      <th>book_value_per_share</th>\n",
       "      <th>return_on_equity</th>\n",
       "      <th>current_ratio</th>\n",
       "      <th>year_index</th>\n",
       "      <th>intercept</th>\n",
       "    </tr>\n",
       "  </thead>\n",
       "  <tbody>\n",
       "    <tr>\n",
       "      <th>2010-12</th>\n",
       "      <td>944</td>\n",
       "      <td>102.48</td>\n",
       "      <td>14.93</td>\n",
       "      <td>14.6</td>\n",
       "      <td>0.26</td>\n",
       "      <td>19.71</td>\n",
       "      <td>18.20</td>\n",
       "      <td>1.46</td>\n",
       "      <td>1</td>\n",
       "      <td>1</td>\n",
       "    </tr>\n",
       "    <tr>\n",
       "      <th>2011-12</th>\n",
       "      <td>944</td>\n",
       "      <td>169.95</td>\n",
       "      <td>21.91</td>\n",
       "      <td>13.9</td>\n",
       "      <td>0.23</td>\n",
       "      <td>22.52</td>\n",
       "      <td>25.87</td>\n",
       "      <td>2.05</td>\n",
       "      <td>2</td>\n",
       "      <td>1</td>\n",
       "    </tr>\n",
       "    <tr>\n",
       "      <th>2012-12</th>\n",
       "      <td>944</td>\n",
       "      <td>186.85</td>\n",
       "      <td>30.69</td>\n",
       "      <td>16.4</td>\n",
       "      <td>0.20</td>\n",
       "      <td>29.13</td>\n",
       "      <td>22.22</td>\n",
       "      <td>1.87</td>\n",
       "      <td>3</td>\n",
       "      <td>1</td>\n",
       "    </tr>\n",
       "    <tr>\n",
       "      <th>2013-12</th>\n",
       "      <td>944</td>\n",
       "      <td>188.55</td>\n",
       "      <td>21.24</td>\n",
       "      <td>11.3</td>\n",
       "      <td>0.27</td>\n",
       "      <td>29.25</td>\n",
       "      <td>19.91</td>\n",
       "      <td>2.08</td>\n",
       "      <td>4</td>\n",
       "      <td>1</td>\n",
       "    </tr>\n",
       "    <tr>\n",
       "      <th>2014-12</th>\n",
       "      <td>944</td>\n",
       "      <td>129.40</td>\n",
       "      <td>43.31</td>\n",
       "      <td>11.7</td>\n",
       "      <td>0.47</td>\n",
       "      <td>19.88</td>\n",
       "      <td>12.10</td>\n",
       "      <td>1.88</td>\n",
       "      <td>5</td>\n",
       "      <td>1</td>\n",
       "    </tr>\n",
       "  </tbody>\n",
       "</table>\n",
       "</div>"
      ],
      "text/plain": [
       "         shares_outstanding  earning_per_share  dividend_rate  dividend_yield  \\\n",
       "2010-12                 944             102.48          14.93            14.6   \n",
       "2011-12                 944             169.95          21.91            13.9   \n",
       "2012-12                 944             186.85          30.69            16.4   \n",
       "2013-12                 944             188.55          21.24            11.3   \n",
       "2014-12                 944             129.40          43.31            11.7   \n",
       "\n",
       "         debt_to_equity  book_value_per_share  return_on_equity  \\\n",
       "2010-12            0.26                 19.71             18.20   \n",
       "2011-12            0.23                 22.52             25.87   \n",
       "2012-12            0.20                 29.13             22.22   \n",
       "2013-12            0.27                 29.25             19.91   \n",
       "2014-12            0.47                 19.88             12.10   \n",
       "\n",
       "         current_ratio  year_index  intercept  \n",
       "2010-12           1.46           1          1  \n",
       "2011-12           2.05           2          1  \n",
       "2012-12           1.87           3          1  \n",
       "2013-12           2.08           4          1  \n",
       "2014-12           1.88           5          1  "
      ]
     },
     "execution_count": 50,
     "metadata": {},
     "output_type": "execute_result"
    }
   ],
   "source": [
    "data.head()"
   ]
  },
  {
   "cell_type": "code",
   "execution_count": 51,
   "metadata": {},
   "outputs": [],
   "source": [
    "# modeling\n",
    "bvps_model = sm.OLS(data['book_value_per_share'], data[['year_index','intercept']]).fit()"
   ]
  },
  {
   "cell_type": "code",
   "execution_count": 52,
   "metadata": {},
   "outputs": [
    {
     "name": "stdout",
     "output_type": "stream",
     "text": [
      "38.28663636363636\n"
     ]
    }
   ],
   "source": [
    "bvps_pred_lr = bvps_model.predict([19,1])[0] #Прогнозируем балансовую стоимость через 10 лет\n",
    "print(bvps_pred_lr)"
   ]
  },
  {
   "cell_type": "code",
   "execution_count": 53,
   "metadata": {},
   "outputs": [],
   "source": [
    "data_new = data.dropna(subset = ['dividend_rate']) #Избавиться от NAN"
   ]
  },
  {
   "cell_type": "code",
   "execution_count": 54,
   "metadata": {},
   "outputs": [],
   "source": [
    "dvd_model = sm.OLS(data_new['dividend_rate'], data_new[['year_index','intercept']]).fit()"
   ]
  },
  {
   "cell_type": "code",
   "execution_count": 55,
   "metadata": {},
   "outputs": [
    {
     "data": {
      "text/plain": [
       "239.17736363636368"
      ]
     },
     "execution_count": 55,
     "metadata": {},
     "output_type": "execute_result"
    }
   ],
   "source": [
    "dvd_model.predict([19,1])[0] #Определить дивиденд через 10 лет"
   ]
  },
  {
   "cell_type": "code",
   "execution_count": 56,
   "metadata": {},
   "outputs": [
    {
     "name": "stdout",
     "output_type": "stream",
     "text": [
      "725.7250623780853\n"
     ]
    }
   ],
   "source": [
    "# Дивиденды за 10 лет\n",
    "dvd_total_lr = 0\n",
    "current_year_order = 9\n",
    "for i in range(1,11):\n",
    "    dvd_new = dvd_model.predict([current_year_order + i,1])[0]\n",
    "    dvd_total_lr = dvd_total_lr + dvd_new/(1+risk_free_rate)**i\n",
    "print(dvd_total_lr)"
   ]
  },
  {
   "cell_type": "code",
   "execution_count": 57,
   "metadata": {},
   "outputs": [
    {
     "name": "stdout",
     "output_type": "stream",
     "text": [
      "764.0116987417217\n"
     ]
    }
   ],
   "source": [
    "aapl_intrinsic_lr = dvd_total_lr + bvps_pred_lr\n",
    "print(aapl_intrinsic_lr)"
   ]
  },
  {
   "cell_type": "code",
   "execution_count": 58,
   "metadata": {},
   "outputs": [
    {
     "data": {
      "text/plain": [
       "446.9116926382061"
      ]
     },
     "execution_count": 58,
     "metadata": {},
     "output_type": "execute_result"
    }
   ],
   "source": [
    "aapl_intrinsic_lr - latest_price #Маржа безопасности"
   ]
  },
  {
   "cell_type": "code",
   "execution_count": null,
   "metadata": {},
   "outputs": [],
   "source": []
  }
 ],
 "metadata": {
  "kernelspec": {
   "display_name": "Python 3",
   "language": "python",
   "name": "python3"
  },
  "language_info": {
   "codemirror_mode": {
    "name": "ipython",
    "version": 3
   },
   "file_extension": ".py",
   "mimetype": "text/x-python",
   "name": "python",
   "nbconvert_exporter": "python",
   "pygments_lexer": "ipython3",
   "version": "3.7.6"
  }
 },
 "nbformat": 4,
 "nbformat_minor": 2
}
