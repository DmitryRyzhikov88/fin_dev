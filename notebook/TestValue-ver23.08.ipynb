{
 "cells": [
  {
   "cell_type": "code",
   "execution_count": 127,
   "metadata": {
    "colab": {
     "base_uri": "https://localhost:8080/",
     "height": 367
    },
    "colab_type": "code",
    "executionInfo": {
     "elapsed": 2107,
     "status": "error",
     "timestamp": 1597651503151,
     "user": {
      "displayName": "Антон Филимонцев",
      "photoUrl": "https://lh3.googleusercontent.com/a-/AOh14GgXMWMDCqDyAK2nY5btETV-A_lrkmEWGgAnMNCs=s64",
      "userId": "13258489990039501932"
     },
     "user_tz": -180
    },
    "id": "wo9POTLE71Tb",
    "outputId": "df76be22-7de1-46cd-eec3-37b2ca5b873c"
   },
   "outputs": [],
   "source": [
    "import pandas as pd\n",
    "import numpy as np\n",
    "import numpy_financial as npf\n",
    "from pandas_datareader import data as wb\n",
    "import datetime\n",
    "import requests\n",
    "from scipy.stats.mstats import gmean\n",
    "import statsmodels.api as sm\n",
    "from scipy import stats\n",
    "from sklearn.metrics import r2_score\n",
    "import matplotlib.pyplot as plt"
   ]
  },
  {
   "cell_type": "code",
   "execution_count": 128,
   "metadata": {
    "colab": {
     "base_uri": "https://localhost:8080/",
     "height": 163
    },
    "colab_type": "code",
    "executionInfo": {
     "elapsed": 2111,
     "status": "error",
     "timestamp": 1597651503160,
     "user": {
      "displayName": "Антон Филимонцев",
      "photoUrl": "https://lh3.googleusercontent.com/a-/AOh14GgXMWMDCqDyAK2nY5btETV-A_lrkmEWGgAnMNCs=s64",
      "userId": "13258489990039501932"
     },
     "user_tz": -180
    },
    "id": "Uh1A2obq71Te",
    "outputId": "521c880a-4077-4f34-edec-462d8db56103"
   },
   "outputs": [],
   "source": [
    "start_time = datetime.datetime.now() # Замер времени выполнения скрипта для одного тикера"
   ]
  },
  {
   "cell_type": "code",
   "execution_count": 129,
   "metadata": {
    "colab": {},
    "colab_type": "code",
    "executionInfo": {
     "elapsed": 2101,
     "status": "aborted",
     "timestamp": 1597651503152,
     "user": {
      "displayName": "Антон Филимонцев",
      "photoUrl": "https://lh3.googleusercontent.com/a-/AOh14GgXMWMDCqDyAK2nY5btETV-A_lrkmEWGgAnMNCs=s64",
      "userId": "13258489990039501932"
     },
     "user_tz": -180
    },
    "id": "SvI1rsk-71Tg"
   },
   "outputs": [],
   "source": [
    "COMPANY = 'GE'\n",
    "KEY = '2105b9f242d47b69fc73f0f2205be048'"
   ]
  },
  {
   "cell_type": "code",
   "execution_count": 130,
   "metadata": {
    "colab": {},
    "colab_type": "code",
    "executionInfo": {
     "elapsed": 2099,
     "status": "aborted",
     "timestamp": 1597651503153,
     "user": {
      "displayName": "Антон Филимонцев",
      "photoUrl": "https://lh3.googleusercontent.com/a-/AOh14GgXMWMDCqDyAK2nY5btETV-A_lrkmEWGgAnMNCs=s64",
      "userId": "13258489990039501932"
     },
     "user_tz": -180
    },
    "id": "2wnbO5ew71Th"
   },
   "outputs": [],
   "source": [
    "IS = requests.get(f'https://financialmodelingprep.com/api/v3/income-statement/{COMPANY}?apikey={KEY}').json()\n",
    "FIS = requests.get(f'https://financialmodelingprep.com/api/v3/financials/income-statement/{COMPANY}?apikey={KEY}').json()\n",
    "BL = requests.get(f'https://financialmodelingprep.com/api/v3/balance-sheet-statement/{COMPANY}?apikey={KEY}').json()\n",
    "RT = requests.get(f'https://financialmodelingprep.com/api/v3/ratios/{COMPANY}?apikey={KEY}').json()\n",
    "CF = requests.get(f'https://financialmodelingprep.com/api/v3/cash-flow-statement/{COMPANY}?apikey={KEY}').json()\n",
    "EV = requests.get(f'https://financialmodelingprep.com/api/v3/enterprise-values/{COMPANY}?apikey={KEY}').json()\n",
    "PF = requests.get(f'https://financialmodelingprep.com/api/v3/profile/{COMPANY}?apikey={KEY}').json()\n",
    "CQ = requests.get(f'https://financialmodelingprep.com/api/v3/quote/{COMPANY}?apikey={KEY}').json()\n",
    "FS = requests.get(f'https://financialmodelingprep.com/api/v3/financial-statement-full-as-reported/{COMPANY}?apikey={KEY}').json()\n",
    "KM = requests.get(f'https://financialmodelingprep.com/api/v3/key-metrics/{COMPANY}?apikey={KEY}').json()"
   ]
  },
  {
   "cell_type": "code",
   "execution_count": 131,
   "metadata": {},
   "outputs": [],
   "source": [
    "    financial_income_statement = pd.DataFrame(FIS['financials'])\n",
    "    income_statement = pd.DataFrame(IS)\n",
    "    balance = pd.DataFrame(BL)\n",
    "    ratios = pd.DataFrame(RT)\n",
    "    cash_flow = pd.DataFrame(CF)\n",
    "    enterprise_value = pd.DataFrame(EV)\n",
    "    company_profile = pd.DataFrame(PF)\n",
    "    real_time_quote = pd.DataFrame(CQ)\n",
    "    financial_statement = pd.DataFrame(FS)\n",
    "    key_metrics = pd.DataFrame(KM)"
   ]
  },
  {
   "cell_type": "code",
   "execution_count": 132,
   "metadata": {},
   "outputs": [],
   "source": [
    "LTGrowth = 0.02\n",
    "LTdis = 0.08\n",
    "PRICE = real_time_quote['price'][0]\n",
    "company_profile_beta = company_profile['beta']\n",
    "Total_rating = []"
   ]
  },
  {
   "cell_type": "code",
   "execution_count": 133,
   "metadata": {},
   "outputs": [],
   "source": [
    "work_table = pd.concat(\n",
    "        (income_statement[['date', 'revenue', 'operatingIncome', 'netIncome', 'eps', 'ebitda',\n",
    "                          'depreciationAndAmortization', 'interestExpense']].replace(np.nan, 0)[0:10],\n",
    "        balance[['totalAssets', 'totalLiabilities', 'totalStockholdersEquity',\n",
    "                        'totalDebt']].replace(np.nan, 0)[0:10],\n",
    "        ratios[['dividendPayoutRatio', 'dividendYield', 'effectiveTaxRate', 'payoutRatio']].replace(\n",
    "            np.nan, 0)[0:10],\n",
    "        cash_flow[['freeCashFlow', 'dividendsPaid']].replace(np.nan, 0)[0:10],\n",
    "        enterprise_value[['numberOfShares', 'stockPrice']].replace(np.nan, 0)[0:10],\n",
    "        key_metrics[['debtToEquity', 'bookValuePerShare', 'roe', 'currentRatio']].replace(np.nan,\n",
    "                                                                                          0)[0:10],\n",
    "        financial_income_statement['Dividend per Share'].replace(np.nan, 0)[0:10]\n",
    "\n",
    "        ),axis=1)"
   ]
  },
  {
   "cell_type": "code",
   "execution_count": 134,
   "metadata": {
    "colab": {},
    "colab_type": "code",
    "executionInfo": {
     "elapsed": 2083,
     "status": "aborted",
     "timestamp": 1597651503156,
     "user": {
      "displayName": "Антон Филимонцев",
      "photoUrl": "https://lh3.googleusercontent.com/a-/AOh14GgXMWMDCqDyAK2nY5btETV-A_lrkmEWGgAnMNCs=s64",
      "userId": "13258489990039501932"
     },
     "user_tz": -180
    },
    "id": "Qszk6xyt71Tr"
   },
   "outputs": [
    {
     "name": "stdout",
     "output_type": "stream",
     "text": [
      "         date       revenue  operatingIncome    netIncome       eps  \\\n",
      "0  2019-12-31   95215000000       3470000000  -4979000000  0.284460   \n",
      "1  2018-12-31   97012000000     -17537000000 -22354000000 -0.741000   \n",
      "2  2017-12-31   99279000000      -8470000000  -8484000000 -0.192700   \n",
      "3  2016-12-31  119468000000      10223000000   7500000000  0.581040   \n",
      "4  2015-12-31  115158000000       8141000000  -6126000000  0.282140   \n",
      "5  2015-02-27  148589000000      15457000000  19001000000  0.015233   \n",
      "6  2014-12-31  147811000000      17824000000  15233000000  1.480000   \n",
      "7  2013-12-31  142937000000      15669000000  13057000000  1.280000   \n",
      "8  2012-12-31  147359000000      18217000000  13641000000  1.470000   \n",
      "9  2011-12-31  147300000000      20798000000  14151000000  1.230000   \n",
      "\n",
      "        ebitda  depreciationAndAmortization  interestExpense   totalAssets  \\\n",
      "0   -110000000                 5.595000e+09              0.0  266048000000   \n",
      "1 -16355000000                 6.582000e+09              0.0  311072000000   \n",
      "2    753000000                 6.194000e+09              0.0  369245000000   \n",
      "3  15034000000                 7.070000e+09              0.0  365183000000   \n",
      "4  -7764000000                 4.847000e+09              0.0  493071000000   \n",
      "5  15457000000                 0.000000e+00              0.0  648349000000   \n",
      "6  20186000000                 4.953000e+09              0.0  648349000000   \n",
      "7  22143000000                 9.762000e+09              0.0  656560000000   \n",
      "8  20483000000                 9.346000e+09              0.0  685328000000   \n",
      "9  17604000000                 9.185000e+09              0.0  717242000000   \n",
      "\n",
      "   totalLiabilities  ...  payoutRatio  freeCashFlow  dividendsPaid  \\\n",
      "0      237732000000  ...    -0.130347    2678000000     -649000000   \n",
      "1      280091000000  ...    -0.200143   -1968000000    -4474000000   \n",
      "2      313213000000  ...    -1.019566    -541000000    -8650000000   \n",
      "3      289356000000  ...     1.174133   -6788000000    -8806000000   \n",
      "4      394798000000  ...    -1.517303   12583000000    -9295000000   \n",
      "5      511516000000  ...     0.465818   13788000000    -8851000000   \n",
      "6      520190000000  ...     0.581107   20572000000    -8852000000   \n",
      "7      525994000000  ...     0.598989   15121000000    -7821000000   \n",
      "8      562302000000  ...     0.527014   16205000000    -7189000000   \n",
      "9      600804000000  ...     0.456364   20709000000    -6458000000   \n",
      "\n",
      "   numberOfShares  stockPrice  debtToEquity  bookValuePerShare       roe  \\\n",
      "0      8724000000       12.73      8.395677           3.245759 -0.175837   \n",
      "1      8691000000        8.75      9.040735           3.564722 -0.721539   \n",
      "2      8687000000       15.34      5.589895           6.450098 -0.151413   \n",
      "3      9130000000       28.81      3.816002           8.305257  0.098909   \n",
      "4      9944000000       27.98      4.017360           9.882643 -0.062337   \n",
      "5               0       23.90      0.000000           0.000000  0.000000   \n",
      "6     10123000000       22.97      4.058942          12.660180  0.118860   \n",
      "7     10289000000       24.52      4.028568          12.689863  0.100003   \n",
      "8     10564000000       21.38      4.570595          11.645778  0.110879   \n",
      "9     10620000000       18.17      5.159862          10.964030  0.121532   \n",
      "\n",
      "   currentRatio  Dividend per Share  \n",
      "0      0.000000                 0.0  \n",
      "1      0.000000     0.0421125302037  \n",
      "2      0.000000                 0.0  \n",
      "3      0.000000                 0.0  \n",
      "4      0.000000                 0.0  \n",
      "5      1.190023                 0.0  \n",
      "6      0.000000                0.89  \n",
      "7      0.000000                 0.0  \n",
      "8      0.000000                 0.0  \n",
      "9      0.000000                 0.0  \n",
      "\n",
      "[10 rows x 25 columns]\n"
     ]
    }
   ],
   "source": [
    "print(work_table)"
   ]
  },
  {
   "cell_type": "markdown",
   "metadata": {
    "colab_type": "text",
    "id": "GIz9fw9H71Tt"
   },
   "source": [
    "Расчет показателей качества"
   ]
  },
  {
   "cell_type": "code",
   "execution_count": 135,
   "metadata": {
    "colab": {},
    "colab_type": "code",
    "executionInfo": {
     "elapsed": 2072,
     "status": "aborted",
     "timestamp": 1597651503157,
     "user": {
      "displayName": "Антон Филимонцев",
      "photoUrl": "https://lh3.googleusercontent.com/a-/AOh14GgXMWMDCqDyAK2nY5btETV-A_lrkmEWGgAnMNCs=s64",
      "userId": "13258489990039501932"
     },
     "user_tz": -180
    },
    "id": "dM5v4nTc71Tu"
   },
   "outputs": [
    {
     "name": "stdout",
     "output_type": "stream",
     "text": [
      "revenue_growth -0.04\n",
      "use_of_profit -0.1\n",
      "operating_margin 0.05\n",
      "operating_margin_dynamics Падение\n",
      "net_profit_margin 0.02\n",
      "net_profit_margin_dynamics Падение\n",
      "EPS_growth -0.14\n",
      "debt_level 0.83\n",
      "ROE_DuPont_average -0.00975\n",
      "   Profitability  TechnicalEfficiency  FinancialStructure  ROE_DuPont\n",
      "0      -0.052292             0.329966            9.732701   -0.167934\n",
      "1      -0.230425             0.285196            7.818567   -0.513808\n",
      "2      -0.085456             0.270357            5.569798   -0.128683\n",
      "3       0.062778             0.278398            4.929661    0.086157\n",
      "4      -0.053196             0.201780           11.614787   -0.124673\n",
      "5       0.127876             0.229181           10.117885    0.296522\n",
      "6       0.103057             0.226546            5.043614    0.117754\n",
      "7       0.091348             0.213039            5.291523    0.102976\n",
      "8       0.092570             0.210127            5.857123    0.113929\n",
      "9       0.096069             0.200619            6.238828    0.120243\n",
      "ROA_average 0.0\n",
      "[-1, -2, -2, -2, -2, -1, -2, -1, -2, -1]\n",
      "Общая оценка = -16\n"
     ]
    }
   ],
   "source": [
    "# считаем рост выручки______________________________________________________________\n",
    "revenue_growth = round((((work_table['revenue'][0]/work_table['revenue'][9]) ** 0.1) -1), 2)\n",
    "\n",
    "print(f'revenue_growth {revenue_growth}')\n",
    "\n",
    "\n",
    "if revenue_growth > 0.06:\n",
    "    revenue_growth_rating = 1\n",
    "elif 0.05 > revenue_growth > 0.02:\n",
    "    revenue_growth_rating = 0\n",
    "else:\n",
    "    revenue_growth_rating = -1\n",
    "\n",
    "Total_rating.append(revenue_growth_rating)\n",
    "\n",
    "# считаем Использование прибыли______________________________________________________________\n",
    "average_dividend_payout_percentage = np.mean(work_table['dividendYield'][0:])\n",
    "\n",
    "# average_percentage_of_buyback  # не найден   !!!!!!!!!!!!!!!!!!!!!!\n",
    "# !!!!!!!!!!!!!!!!!!!!!!!!!!!!!!\n",
    "# !!!!!!!!!!!!!!!!!!!!!!!!\n",
    "# !!!!!!!!!!!!!!!!!!!!!!!!!!!!!!!!!!!!\n",
    "\n",
    "SHAREHOLDERS_EQUITY = (work_table['totalAssets'] - work_table['totalLiabilities'])\n",
    "\n",
    "average_quity_SHAREHOLDERS_EQUITY = round((((SHAREHOLDERS_EQUITY[0] / SHAREHOLDERS_EQUITY[9]) ** 0.1) -1), 2)\n",
    "\n",
    "use_of_profit = round((average_dividend_payout_percentage + average_quity_SHAREHOLDERS_EQUITY), 2)\n",
    "\n",
    "print(f'use_of_profit {use_of_profit}')\n",
    "\n",
    "if use_of_profit < 0.06:\n",
    "    use_of_profit_rating = -2\n",
    "elif 0.1 < use_of_profit > 0.06:\n",
    "    use_of_profit_rating = 0\n",
    "else:\n",
    "    use_of_profit_rating = 2\n",
    "\n",
    "Total_rating.append(use_of_profit_rating)\n",
    "\n",
    "# Считаем Операционную маржу_________________________________________________________________\n",
    "\n",
    "OPERATING_MAR = work_table['operatingIncome']/work_table['revenue']\n",
    "\n",
    "operating_margin = round(np.mean(OPERATING_MAR[0:]), 2)\n",
    "\n",
    "print(f'operating_margin {operating_margin}')\n",
    "\n",
    "if operating_margin < 0.06:\n",
    "    operating_margin_rating = -2\n",
    "elif 0.14 > operating_margin > 0.06:\n",
    "    operating_margin_rating = 0\n",
    "else:\n",
    "    operating_margin_rating = 2\n",
    "\n",
    "Total_rating.append(operating_margin_rating)\n",
    "\n",
    "# Считаем Динамику операционной маржи_________________________________________________________________\n",
    "\n",
    "if OPERATING_MAR.std() < 0.1:\n",
    "    operating_margin_dynamics = 'Рост'\n",
    "    operating_margin_dynamics_rating = 2\n",
    "else:\n",
    "    operating_margin_dynamics = 'Падение'\n",
    "    operating_margin_dynamics_rating = -2\n",
    "\n",
    "Total_rating.append(operating_margin_dynamics_rating)\n",
    "\n",
    "print(f'operating_margin_dynamics {operating_margin_dynamics}')\n",
    "\n",
    "# Считаем Маржу чистой прибыли_________________________________________________________________\n",
    "\n",
    "NET_PROFIT_MAR = work_table['netIncome']/work_table['revenue']\n",
    "\n",
    "net_profit_margin = round(np.mean(NET_PROFIT_MAR[0:]), 2)\n",
    "\n",
    "print(f'net_profit_margin {net_profit_margin}')\n",
    "\n",
    "if net_profit_margin < 0.06:\n",
    "    net_profit_margin_rating = -2\n",
    "elif 0.1 > net_profit_margin > 0.06:\n",
    "    net_profit_margin_rating = 0\n",
    "else:\n",
    "    net_profit_margin_rating = 2\n",
    "\n",
    "Total_rating.append(net_profit_margin_rating)\n",
    "\n",
    "# Считаем Динамику маржи чистой прибыли_________________________________________________________________\n",
    "\n",
    "if NET_PROFIT_MAR.std() < 0.1 :\n",
    "    net_profit_margin_dynamics = 'Рост'\n",
    "    net_profit_margin_dynamics_rating = 1\n",
    "else:\n",
    "    net_profit_margin_dynamics = 'Падение'\n",
    "    net_profit_margin_dynamics_rating = -1\n",
    "\n",
    "Total_rating.append(net_profit_margin_dynamics_rating)\n",
    "\n",
    "print(f'net_profit_margin_dynamics {net_profit_margin_dynamics}')\n",
    "\n",
    "# Считаем Рост EPS_________________________________________________________________\n",
    "\n",
    "EPS_growth = round((((work_table['eps'][0]/work_table['eps'][9]) ** 0.1) -1), 2)   # Первый вариант, eps - берем из API\n",
    "\n",
    "# EPS_growth = round((((SHAREHOLDERS_EQUITY[0] / SHAREHOLDERS_EQUITY[9]) ** 0.1) -1), 2)  # Второй вариант, eps = totalAssets - totalLiabilities\n",
    "\n",
    "#  !!!!!!!!!!!!!!!!!При разных вариантах разные значения!!!!!!!!!!!!!!!!!!!!!!\n",
    "\n",
    "print(f'EPS_growth {EPS_growth}')\n",
    "\n",
    "if EPS_growth < 0.06:\n",
    "    EPS_growth_rating = -2\n",
    "elif 0.1 > EPS_growth > 0.06:\n",
    "    EPS_growth_rating = 0\n",
    "else:\n",
    "    EPS_growth_rating = 2\n",
    "\n",
    "Total_rating.append(EPS_growth_rating)\n",
    "\n",
    "# Считаем Уровень долга_________________________________________________________________\n",
    "\n",
    "debt_level = round(np.mean(work_table['totalLiabilities']/work_table['totalAssets']), 2)\n",
    "\n",
    "print(f'debt_level {debt_level}')\n",
    "\n",
    "if debt_level < 0.5:\n",
    "    debt_level_rating = 1\n",
    "elif 0.7 > debt_level > 0.5:\n",
    "    debt_level_rating = 0\n",
    "else:\n",
    "    debt_level_rating = -1\n",
    "\n",
    "Total_rating.append(debt_level_rating)\n",
    "\n",
    " # ___________________________________ ROE_DuPont _______________________________________________\n",
    "\n",
    "Profitability = []\n",
    "TechnicalEfficiency = []\n",
    "FinancialStructure = []\n",
    "\n",
    "for year in range(0, 10):\n",
    "    last_year = year + 1\n",
    "    Profitability.append(work_table['netIncome'][year] / work_table['revenue'][year])\n",
    "    TechnicalEfficiency.append(work_table['revenue'][year] / (\n",
    "            (work_table['totalAssets'][year] + balance['totalAssets'].replace(np.nan, 0)[last_year]) / 2))\n",
    "    FinancialStructure.append(((work_table['totalAssets'][year] + balance['totalAssets'].replace(np.nan, 0)[last_year]) / 2) /\n",
    "                                      ((work_table['totalStockholdersEquity'][year] +\n",
    "                                        balance['totalStockholdersEquity'].replace(np.nan, 0)[last_year]) / 2))\n",
    "\n",
    "work_table['Profitability'] = Profitability\n",
    "work_table['TechnicalEfficiency'] = TechnicalEfficiency\n",
    "work_table['FinancialStructure'] = FinancialStructure\n",
    "\n",
    "work_table['ROE_DuPont'] = work_table['FinancialStructure'] * work_table['TechnicalEfficiency'] * \\\n",
    "                                   work_table['Profitability']\n",
    "\n",
    "ROE_DuPont = round(work_table['ROE_DuPont'].mean(axis=0), 5)\n",
    "decomp = work_table[['Profitability', 'TechnicalEfficiency', 'FinancialStructure', 'ROE_DuPont']]\n",
    "\n",
    "print(f'ROE_DuPont_average {ROE_DuPont}')\n",
    "print(decomp)\n",
    "\n",
    "if ROE_DuPont < 0.08:\n",
    "    ROE_average_rating = -2\n",
    "elif 0.14 > ROE_DuPont > 0.08:\n",
    "    ROE_average_rating = 0\n",
    "else:\n",
    "    ROE_average_rating = 2\n",
    "\n",
    "Total_rating.append(ROE_average_rating)\n",
    "\n",
    "# Считаем ROA_________________________________________________________________\n",
    "\n",
    "ROA_average = round(np.mean(work_table['netIncome']/work_table['totalAssets']), 2)\n",
    "\n",
    "print(f'ROA_average {ROA_average}')\n",
    "\n",
    "if ROA_average < 0.06:\n",
    "    ROA_average_rating = -1\n",
    "elif 0.08 > ROA_average > 0.06:\n",
    "    ROA_average_rating = 0\n",
    "else:\n",
    "    ROA_average_rating = 1\n",
    "\n",
    "Total_rating.append(ROA_average_rating)\n",
    "\n",
    "# Получаем общую оценку_________________________________________________________________\n",
    "\n",
    "print(Total_rating)\n",
    "print(f'Общая оценка = {sum(Total_rating)}')"
   ]
  },
  {
   "cell_type": "code",
   "execution_count": 136,
   "metadata": {},
   "outputs": [
    {
     "data": {
      "text/plain": [
       "<matplotlib.axes._subplots.AxesSubplot at 0x21c56dc7250>"
      ]
     },
     "execution_count": 136,
     "metadata": {},
     "output_type": "execute_result"
    },
    {
     "data": {
      "image/png": "[encoded data removed]",
      "text/plain": [
       "<Figure size 720x432 with 1 Axes>"
      ]
     },
     "metadata": {
      "needs_background": "light"
     },
     "output_type": "display_data"
    }
   ],
   "source": [
    "work_table['netIncome'].plot(figsize=(10,6), title=\"Net Income in Last 10 Years\")"
   ]
  },
  {
   "cell_type": "code",
   "execution_count": 137,
   "metadata": {},
   "outputs": [
    {
     "data": {
      "text/plain": [
       "<matplotlib.axes._subplots.AxesSubplot at 0x21c5744ca60>"
      ]
     },
     "execution_count": 137,
     "metadata": {},
     "output_type": "execute_result"
    },
    {
     "data": {
      "image/png": "[encoded data removed]",
      "text/plain": [
       "<Figure size 720x432 with 1 Axes>"
      ]
     },
     "metadata": {
      "needs_background": "light"
     },
     "output_type": "display_data"
    }
   ],
   "source": [
    "work_table['revenue'].plot(figsize=(10,6), title=\"Revenue in Last 10 Years\")"
   ]
  },
  {
   "cell_type": "code",
   "execution_count": 138,
   "metadata": {},
   "outputs": [
    {
     "data": {
      "text/plain": [
       "<matplotlib.axes._subplots.AxesSubplot at 0x21c57567220>"
      ]
     },
     "execution_count": 138,
     "metadata": {},
     "output_type": "execute_result"
    },
    {
     "data": {
      "image/png": "[encoded data removed]",
      "text/plain": [
       "<Figure size 720x432 with 1 Axes>"
      ]
     },
     "metadata": {
      "needs_background": "light"
     },
     "output_type": "display_data"
    }
   ],
   "source": [
    "work_table['freeCashFlow'].plot(figsize=(10,6), title=\"FCF in Last 10 Years\")"
   ]
  },
  {
   "cell_type": "markdown",
   "metadata": {
    "colab_type": "text",
    "id": "skmd1uD571Tv"
   },
   "source": [
    "# Оцениваем инвестиционную стоимость  "
   ]
  },
  {
   "cell_type": "code",
   "execution_count": 139,
   "metadata": {
    "colab": {},
    "colab_type": "code",
    "executionInfo": {
     "elapsed": 2058,
     "status": "aborted",
     "timestamp": 1597651503158,
     "user": {
      "displayName": "Антон Филимонцев",
      "photoUrl": "https://lh3.googleusercontent.com/a-/AOh14GgXMWMDCqDyAK2nY5btETV-A_lrkmEWGgAnMNCs=s64",
      "userId": "13258489990039501932"
     },
     "user_tz": -180
    },
    "id": "sL53mULN71Tv"
   },
   "outputs": [
    {
     "name": "stdout",
     "output_type": "stream",
     "text": [
      "Считаем инвестиционную стоимость по дивидендной модели Гордона\n",
      "ROE_formul -0.00975\n",
      "RF 0.006500000000000001\n",
      "beta 1.177065\n",
      "Годовая доходность S&P500 6.873573160722257\n",
      "Стоимость капитала 7.975550142425544\n",
      "Расчетная стоимость по модели Гордона -0.8104817786282731\n",
      "Время выполнения :0:00:09.193340\n"
     ]
    }
   ],
   "source": [
    "print('Считаем инвестиционную стоимость по дивидендной модели Гордона')\n",
    "\n",
    "def valuecompany(quote):\n",
    "    Dtoday =   work_table['dividendsPaid'][0] / work_table['numberOfShares'][0]\n",
    "\n",
    "    # ROE and PAyout Ratio\n",
    "\n",
    "    ROE_formul = ROE_DuPont\n",
    "    print(f'ROE_formul {ROE_formul}')\n",
    "\n",
    "    payout_ratio = work_table['dividendPayoutRatio'][0]\n",
    "    sustgrwothrate = ROE_formul * (1 - payout_ratio)\n",
    "\n",
    "    ##Cost of equity:\n",
    "    # Risk Free Rate\n",
    "    start = datetime.datetime(2019, 2, 1)\n",
    "    end= datetime.datetime.today().strftime('%Y-%m-%d')\n",
    "    #end = datetime.datetime(2020, 2, 27)\n",
    "\n",
    "    Treasury = wb.DataReader(['DGS10'], 'fred', start, end)\n",
    "    RF = float(Treasury.iloc[-1])\n",
    "    RF = RF / 100\n",
    "    print(f'RF {RF}')\n",
    "\n",
    "    # Beta\n",
    "    beta = float(company_profile_beta)\n",
    "    print(f'beta {beta}')\n",
    "\n",
    "    # Market Return\n",
    "    # Считаем годовую доходность\n",
    "    data = wb.DataReader('^GSPC', data_source='yahoo', start='2001-1-1') # нужно определиться с переменной\n",
    "    data['simple_return'] = (data['Adj Close'] / data['Adj Close'].shift(1)) - 1\n",
    "    data['simple_return'].replace(np.nan, 0)\n",
    "    avg_returns_a = data['simple_return'].mean() * 250\n",
    "\n",
    "    print(f'Годовая доходность S&P500 {avg_returns_a*100}')\n",
    "\n",
    "    # Drop all Not a number values using drop method.\n",
    "    ke = RF + (beta * (avg_returns_a - RF))\n",
    "    print(f'Стоимость капитала {ke*100}')\n",
    "\n",
    "    DDM = (Dtoday * (1 + sustgrwothrate)) / (ke - sustgrwothrate)\n",
    "\n",
    "    print(f'Расчетная стоимость по модели Гордона {DDM}')\n",
    "    return DDM\n",
    "\n",
    "valuecompany(COMPANY)\n",
    "\n",
    "print(f'Время выполнения :{datetime.datetime.now() - start_time}') # Замер времени"
   ]
  },
  {
   "cell_type": "markdown",
   "metadata": {
    "colab_type": "text",
    "id": "HlrofKL871Ty"
   },
   "source": [
    "# Расчет методом дисконтирования FCF спрогнозируемого методом динейной регрессии"
   ]
  },
  {
   "cell_type": "code",
   "execution_count": 140,
   "metadata": {
    "colab": {},
    "colab_type": "code",
    "executionInfo": {
     "elapsed": 2044,
     "status": "aborted",
     "timestamp": 1597651503159,
     "user": {
      "displayName": "Антон Филимонцев",
      "photoUrl": "https://lh3.googleusercontent.com/a-/AOh14GgXMWMDCqDyAK2nY5btETV-A_lrkmEWGgAnMNCs=s64",
      "userId": "13258489990039501932"
     },
     "user_tz": -180
    },
    "id": "L_JbtB2D71Ty"
   },
   "outputs": [
    {
     "name": "stdout",
     "output_type": "stream",
     "text": [
      "         date       revenue  operatingIncome    netIncome       eps  \\\n",
      "0  2019-12-31   95215000000       3470000000  -4979000000  0.284460   \n",
      "1  2018-12-31   97012000000     -17537000000 -22354000000 -0.741000   \n",
      "2  2017-12-31   99279000000      -8470000000  -8484000000 -0.192700   \n",
      "3  2016-12-31  119468000000      10223000000   7500000000  0.581040   \n",
      "4  2015-12-31  115158000000       8141000000  -6126000000  0.282140   \n",
      "5  2015-02-27  148589000000      15457000000  19001000000  0.015233   \n",
      "6  2014-12-31  147811000000      17824000000  15233000000  1.480000   \n",
      "7  2013-12-31  142937000000      15669000000  13057000000  1.280000   \n",
      "8  2012-12-31  147359000000      18217000000  13641000000  1.470000   \n",
      "9  2011-12-31  147300000000      20798000000  14151000000  1.230000   \n",
      "\n",
      "        ebitda  depreciationAndAmortization  interestExpense   totalAssets  \\\n",
      "0   -110000000                 5.595000e+09              0.0  266048000000   \n",
      "1 -16355000000                 6.582000e+09              0.0  311072000000   \n",
      "2    753000000                 6.194000e+09              0.0  369245000000   \n",
      "3  15034000000                 7.070000e+09              0.0  365183000000   \n",
      "4  -7764000000                 4.847000e+09              0.0  493071000000   \n",
      "5  15457000000                 0.000000e+00              0.0  648349000000   \n",
      "6  20186000000                 4.953000e+09              0.0  648349000000   \n",
      "7  22143000000                 9.762000e+09              0.0  656560000000   \n",
      "8  20483000000                 9.346000e+09              0.0  685328000000   \n",
      "9  17604000000                 9.185000e+09              0.0  717242000000   \n",
      "\n",
      "   totalLiabilities  ...  bookValuePerShare       roe  currentRatio  \\\n",
      "0      237732000000  ...           3.245759 -0.175837      0.000000   \n",
      "1      280091000000  ...           3.564722 -0.721539      0.000000   \n",
      "2      313213000000  ...           6.450098 -0.151413      0.000000   \n",
      "3      289356000000  ...           8.305257  0.098909      0.000000   \n",
      "4      394798000000  ...           9.882643 -0.062337      0.000000   \n",
      "5      511516000000  ...           0.000000  0.000000      1.190023   \n",
      "6      520190000000  ...          12.660180  0.118860      0.000000   \n",
      "7      525994000000  ...          12.689863  0.100003      0.000000   \n",
      "8      562302000000  ...          11.645778  0.110879      0.000000   \n",
      "9      600804000000  ...          10.964030  0.121532      0.000000   \n",
      "\n",
      "   Dividend per Share  Profitability  TechnicalEfficiency  FinancialStructure  \\\n",
      "0                 0.0      -0.052292             0.329966            9.732701   \n",
      "1     0.0421125302037      -0.230425             0.285196            7.818567   \n",
      "2                 0.0      -0.085456             0.270357            5.569798   \n",
      "3                 0.0       0.062778             0.278398            4.929661   \n",
      "4                 0.0      -0.053196             0.201780           11.614787   \n",
      "5                 0.0       0.127876             0.229181           10.117885   \n",
      "6                0.89       0.103057             0.226546            5.043614   \n",
      "7                 0.0       0.091348             0.213039            5.291523   \n",
      "8                 0.0       0.092570             0.210127            5.857123   \n",
      "9                 0.0       0.096069             0.200619            6.238828   \n",
      "\n",
      "   ROE_DuPont  year_index  intercept  \n",
      "0   -0.167934          10          1  \n",
      "1   -0.513808           9          1  \n",
      "2   -0.128683           8          1  \n",
      "3    0.086157           7          1  \n",
      "4   -0.124673           6          1  \n",
      "5    0.296522           5          1  \n",
      "6    0.117754           4          1  \n",
      "7    0.102976           3          1  \n",
      "8    0.113929           2          1  \n",
      "9    0.120243           1          1  \n",
      "\n",
      "[10 rows x 31 columns]\n",
      "{'next_year1': {'freeCashFlow': -3066418181.8181763}, 'next_year2': {'freeCashFlow': -5800266666.66666}, 'next_year3': {'freeCashFlow': -8534115151.515144}, 'next_year4': {'freeCashFlow': -11267963636.363625}, 'next_year5': {'freeCashFlow': -14001812121.212112}}\n",
      "freeCashFlow_pred_lr1 = -3066418181.8181763\n",
      "freeCashFlow_pred_lr2 = -5800266666.66666\n",
      "freeCashFlow_pred_lr3 = -8534115151.515144\n",
      "freeCashFlow_pred_lr4 = -11267963636.363625\n",
      "freeCashFlow_pred_lr5 = -14001812121.212112\n",
      "-27671054545.454536\n"
     ]
    },
    {
     "name": "stderr",
     "output_type": "stream",
     "text": [
      "<ipython-input-140-93f7c8b36921>:63: RuntimeWarning: divide by zero encountered in double_scalars\n",
      "  interest_coverage_ratio = EBIT / interest_expense\n"
     ]
    },
    {
     "name": "stdout",
     "output_type": "stream",
     "text": [
      "RF,interest_coverage_ratio = (0.006500000000000001, -inf)\n",
      "cost_of_equity = 0.07975550142425544\n",
      "cost_of_debt = 0.1577\n",
      "0.21515658307434082 0.23755432138123123 0.7624456786187688\n",
      "WACC = 0.21515658307434082\n",
      "wacc of = GE is \n",
      "21.515658307434084%\n",
      "npv = -26320854414.892326\n",
      "Terminal_value_Discounted = -470407927272.7272\n",
      "sum_num = -496728781687.6195\n",
      "Estimated price = -56.938191390144375\n",
      "stock price = 6.31\n",
      "difference_model_and_market_value = -63.24819139014438\n"
     ]
    }
   ],
   "source": [
    "# 'year_index' as the order of the year\n",
    "work_table['year_index'] = range(1, len(work_table) + 1)[::-1]\n",
    "# add intercept\n",
    "work_table['intercept'] = 1\n",
    "\n",
    "print(work_table)\n",
    "\n",
    "\n",
    "# modeling\n",
    "freeCashFlow_model = sm.OLS(work_table['freeCashFlow'], work_table[['year_index','intercept']]).fit()\n",
    "\n",
    "\n",
    "freeCashFlow_pred_lr = freeCashFlow_model.predict([19,1])[0] #Прогнозируем через 10 лет\n",
    "\n",
    "\n",
    "freeCashFlow_pred_lr5 = freeCashFlow_model.predict([14,1])[0] #Прогнозируем через 5 лет\n",
    "freeCashFlow_pred_lr4 = freeCashFlow_model.predict([13,1])[0]\n",
    "freeCashFlow_pred_lr3 = freeCashFlow_model.predict([12,1])[0]\n",
    "freeCashFlow_pred_lr2 = freeCashFlow_model.predict([11,1])[0]\n",
    "freeCashFlow_pred_lr1 = freeCashFlow_model.predict([10,1])[0]\n",
    "\n",
    "\n",
    "# CAGR FCF\n",
    "\n",
    "CF_forecast = {}\n",
    "\n",
    "CF_forecast['next_year1'] = {}\n",
    "CF_forecast['next_year1']['freeCashFlow'] = freeCashFlow_pred_lr1\n",
    "\n",
    "CF_forecast['next_year2'] = {}\n",
    "CF_forecast['next_year2']['freeCashFlow'] = freeCashFlow_pred_lr2\n",
    "\n",
    "CF_forecast['next_year3'] = {}\n",
    "CF_forecast['next_year3']['freeCashFlow'] = freeCashFlow_pred_lr3\n",
    "\n",
    "CF_forecast['next_year4'] = {}\n",
    "CF_forecast['next_year4']['freeCashFlow'] = freeCashFlow_pred_lr4\n",
    "\n",
    "CF_forecast['next_year5'] = {}\n",
    "CF_forecast['next_year5']['freeCashFlow'] = freeCashFlow_pred_lr5\n",
    "\n",
    "print(CF_forecast)\n",
    "\n",
    "print(f'freeCashFlow_pred_lr1 = {freeCashFlow_pred_lr1}')\n",
    "print(f'freeCashFlow_pred_lr2 = {freeCashFlow_pred_lr2}')\n",
    "print(f'freeCashFlow_pred_lr3 = {freeCashFlow_pred_lr3}')\n",
    "print(f'freeCashFlow_pred_lr4 = {freeCashFlow_pred_lr4}')\n",
    "print(f'freeCashFlow_pred_lr5 = {freeCashFlow_pred_lr5}')\n",
    "\n",
    "\n",
    "\n",
    "print(freeCashFlow_pred_lr)\n",
    "\n",
    "\n",
    "# ________________________________________  Расчет WACC  _______________________________________________\n",
    "\n",
    "\n",
    "#Interest coverage ratio = EBIT / interest expenses\n",
    "\n",
    "def interest_coveraga_and_RF(company):\n",
    "  EBIT = work_table['ebitda'][0] - work_table['depreciationAndAmortization'][0]\n",
    "  interest_expense = work_table['interestExpense'][0]\n",
    "  interest_coverage_ratio = EBIT / interest_expense\n",
    "\n",
    "    #RF\n",
    "  start = datetime.datetime(1999, 12, 31)\n",
    "\n",
    "  end= datetime.datetime.today().strftime('%Y-%m-%d')\n",
    "  #end = datetime.datetime(2020, 7, 10)\n",
    "\n",
    "  Treasury = wb.DataReader(['DGS10'], 'fred', start, end)\n",
    "  RF = float(Treasury.iloc[-1])\n",
    "  RF = RF/100\n",
    "  print(f'RF,interest_coverage_ratio = {RF,interest_coverage_ratio}')\n",
    "  return [RF,interest_coverage_ratio]\n",
    "\n",
    "\n",
    "#Cost of debt\n",
    "def cost_of_debt(company, RF,interest_coverage_ratio):\n",
    "  if interest_coverage_ratio > 8.5:\n",
    "    #Rating is AAA\n",
    "    credit_spread = 0.0063\n",
    "  if (interest_coverage_ratio > 6.5) & (interest_coverage_ratio <= 8.5):\n",
    "    #Rating is AA\n",
    "    credit_spread = 0.0078\n",
    "  if (interest_coverage_ratio > 5.5) & (interest_coverage_ratio <=  6.5):\n",
    "    #Rating is A+\n",
    "    credit_spread = 0.0098\n",
    "  if (interest_coverage_ratio > 4.25) & (interest_coverage_ratio <=  5.49):\n",
    "    #Rating is A\n",
    "    credit_spread = 0.0108\n",
    "  if (interest_coverage_ratio > 3) & (interest_coverage_ratio <=  4.25):\n",
    "    #Rating is A-\n",
    "    credit_spread = 0.0122\n",
    "  if (interest_coverage_ratio > 2.5) & (interest_coverage_ratio <=  3):\n",
    "    #Rating is BBB\n",
    "    credit_spread = 0.0156\n",
    "  if (interest_coverage_ratio > 2.25) & (interest_coverage_ratio <=  2.5):\n",
    "    #Rating is BB+\n",
    "    credit_spread = 0.02\n",
    "  if (interest_coverage_ratio > 2) & (interest_coverage_ratio <=  2.25):\n",
    "    #Rating is BB\n",
    "    credit_spread = 0.0240\n",
    "  if (interest_coverage_ratio > 1.75) & (interest_coverage_ratio <=  2):\n",
    "    #Rating is B+\n",
    "    credit_spread = 0.0351\n",
    "  if (interest_coverage_ratio > 1.5) & (interest_coverage_ratio <=  1.75):\n",
    "    #Rating is B\n",
    "    credit_spread = 0.0421\n",
    "  if (interest_coverage_ratio > 1.25) & (interest_coverage_ratio <=  1.5):\n",
    "    #Rating is B-\n",
    "    credit_spread = 0.0515\n",
    "  if (interest_coverage_ratio > 0.8) & (interest_coverage_ratio <=  1.25):\n",
    "    #Rating is CCC\n",
    "    credit_spread = 0.0820\n",
    "  if (interest_coverage_ratio > 0.65) & (interest_coverage_ratio <=  0.8):\n",
    "    #Rating is CC\n",
    "    credit_spread = 0.0864\n",
    "  if (interest_coverage_ratio > 0.2) & (interest_coverage_ratio <=  0.65):\n",
    "    #Rating is C\n",
    "    credit_spread = 0.1134\n",
    "  if interest_coverage_ratio <=  0.2:\n",
    "    #Rating is D\n",
    "    credit_spread = 0.1512\n",
    "\n",
    "  cost_of_debt = RF + credit_spread\n",
    "  print(f'cost_of_debt = {cost_of_debt}')\n",
    "  return cost_of_debt\n",
    "\n",
    "\n",
    "def costofequity(company):\n",
    "\n",
    "  #RF\n",
    "  start = datetime.datetime(1999, 12, 31)\n",
    "  end= datetime.datetime.today().strftime('%Y-%m-%d')\n",
    "  #end = datetime.datetime(2020, 7, 10)\n",
    "\n",
    "  Treasury = wb.DataReader(['DGS10'], 'fred', start, end)\n",
    "  Treasury.dropna(inplace = True)\n",
    "  RF = float(Treasury.iloc[-1])\n",
    "  RF = RF/100\n",
    "\n",
    "\n",
    "    #Beta\n",
    "  beta = float(company_profile_beta)\n",
    "\n",
    "\n",
    "  #Market Return\n",
    "  data = wb.DataReader('^GSPC', data_source='yahoo', start='2001-1-1') # нужно определиться с переменной\n",
    "  data['simple_return'] = (data['Adj Close'] / data['Adj Close'].shift(1)) - 1\n",
    "  data['simple_return'].replace(np.nan, 0)\n",
    "  avg_returns_a = data['simple_return'].mean() * 250\n",
    "  #start = datetime.datetime(1999, 12, 31)\n",
    "  #end= datetime.datetime.today().strftime('%Y-%m-%d')\n",
    "\n",
    "  #SP500 = wb.DataReader(['sp500'], 'fred', start, end)\n",
    "\n",
    "#Drop all Not a number values using drop method.\n",
    "  #SP500.dropna(inplace = True)\n",
    "\n",
    "  #SP500yearlyreturn = (SP500['sp500'].iloc[-1]/ SP500['sp500'].iloc[-252])-1\n",
    "\n",
    "  cost_of_equity = RF+(beta*(avg_returns_a - RF))\n",
    "  print(f'cost_of_equity = {cost_of_equity}')\n",
    "  return cost_of_equity\n",
    "\n",
    "#effective tax rate and capital structure\n",
    "def wacc(company):\n",
    "\n",
    "  ETR = work_table['effectiveTaxRate'][0]\n",
    "\n",
    "\n",
    "  Debt_to = work_table['totalDebt'][0] / (work_table['totalDebt'][0] + work_table['totalStockholdersEquity'][0])\n",
    "  equity_to = work_table['totalStockholdersEquity'][0] / (work_table['totalDebt'][0] + work_table['totalStockholdersEquity'][0])\n",
    "\n",
    "  WACC = (kd*(1-ETR)*Debt_to) + (ke*equity_to)\n",
    "  print(WACC,equity_to,Debt_to)\n",
    "  print(f'WACC = {WACC}')\n",
    "  return WACC\n",
    "\n",
    "\n",
    "RF_and_IntCov = interest_coveraga_and_RF(COMPANY)\n",
    "RF = RF_and_IntCov[0]\n",
    "interest_coverage_ratio = RF_and_IntCov[1]\n",
    "ke = costofequity(COMPANY)\n",
    "kd = cost_of_debt(COMPANY, RF, interest_coverage_ratio)\n",
    "wacc_company = wacc(COMPANY)\n",
    "print('wacc of = ' + COMPANY + ' is \\n' + str((wacc_company * 100)) + '%')\n",
    "\n",
    "\n",
    "#FCF List of CFs for each year\n",
    "\n",
    "CF_forec = pd.DataFrame.from_dict(CF_forecast,orient='columns')\n",
    "\n",
    "FCF_List = CF_forec.iloc[0:].values.tolist()\n",
    "\n",
    "# print(f'FCF_List = {FCF_List[0]}')\n",
    "\n",
    "\n",
    "npv = npf.npv(wacc_company, FCF_List[0])\n",
    "print(f'npv = {npv}')\n",
    "\n",
    "\n",
    "#Terminal_value = (freeCashFlow_pred_lr5 * (1 + LTGrowth)) /(wacc_company  - LTGrowth)\n",
    "\n",
    "#Terminal_value_Discounted = Terminal_value/( 1 + wacc_company) ** 4\n",
    "\n",
    "Terminal_value_Discounted = freeCashFlow_pred_lr * (1 + LTGrowth) / (LTdis - LTGrowth)\n",
    "print(f'Terminal_value_Discounted = {Terminal_value_Discounted}')\n",
    "\n",
    "sum_num = npv + Terminal_value_Discounted\n",
    "print(f'sum_num = {sum_num}')\n",
    "\n",
    "spl_num = sum_num / work_table['numberOfShares'][0]\n",
    "print(f'Estimated price = {spl_num}')\n",
    "\n",
    "difference_model_and_market_value =  spl_num - PRICE\n",
    "print(f'stock price = {PRICE}')\n",
    "\n",
    "print(f'difference_model_and_market_value = {difference_model_and_market_value}')"
   ]
  },
  {
   "cell_type": "markdown",
   "metadata": {},
   "source": [
    "# Стоимость акции по дивам и балансовой стоимости(линейная регрессия)"
   ]
  },
  {
   "cell_type": "code",
   "execution_count": 141,
   "metadata": {},
   "outputs": [
    {
     "name": "stdout",
     "output_type": "stream",
     "text": [
      "0.09321125302037\n"
     ]
    }
   ],
   "source": [
    "dvd_avg = np.mean((work_table['Dividend per Share']).astype(float))  # Определим средний дивиденд\n",
    "print(dvd_avg)\n"
   ]
  },
  {
   "cell_type": "code",
   "execution_count": 142,
   "metadata": {},
   "outputs": [
    {
     "data": {
      "text/plain": [
       "0.09141700913101179"
      ]
     },
     "execution_count": 142,
     "metadata": {},
     "output_type": "execute_result"
    }
   ],
   "source": [
    "start = datetime.datetime(1999, 12, 31)\n",
    "end= datetime.datetime.today().strftime('%Y-%m-%d')\n",
    "Treasury = wb.DataReader(['DGS10'], 'fred', start, end)\n",
    "RF = float(Treasury.iloc[-1])\n",
    "risk_free_rate = RF/100\n",
    "# The discounted capital for the dividend of 3-year later\n",
    "dvd_avg / (1 + risk_free_rate) ** 3\n",
    "# The discounted capital for the dividend of 10-year later\n",
    "# dvd_avg/(1+risk_free_rate)**10"
   ]
  },
  {
   "cell_type": "code",
   "execution_count": 143,
   "metadata": {},
   "outputs": [
    {
     "name": "stdout",
     "output_type": "stream",
     "text": [
      "0.8996379309502957\n"
     ]
    }
   ],
   "source": [
    "dvd_total = 0\n",
    "for j in range(1, 11):\n",
    "    dvd_total = dvd_total + dvd_avg / (1 + risk_free_rate) ** j\n",
    "print(dvd_total)"
   ]
  },
  {
   "cell_type": "code",
   "execution_count": 144,
   "metadata": {},
   "outputs": [
    {
     "name": "stdout",
     "output_type": "stream",
     "text": [
      "0.8853899797835171\n"
     ]
    }
   ],
   "source": [
    "growth_rate_of_10y = (work_table['bookValuePerShare'][0]) / (work_table['bookValuePerShare'][9])\n",
    "avg_growth_rate = growth_rate_of_10y ** (1 / 10)\n",
    "print(avg_growth_rate)"
   ]
  },
  {
   "cell_type": "code",
   "execution_count": 145,
   "metadata": {},
   "outputs": [
    {
     "name": "stdout",
     "output_type": "stream",
     "text": [
      "0.9608647761233379\n"
     ]
    }
   ],
   "source": [
    "bvps_pred = (work_table['bookValuePerShare'][0]) * (avg_growth_rate ** 10)\n",
    "print(bvps_pred)"
   ]
  },
  {
   "cell_type": "code",
   "execution_count": 146,
   "metadata": {},
   "outputs": [
    {
     "name": "stdout",
     "output_type": "stream",
     "text": [
      "1.8605027070736335\n"
     ]
    }
   ],
   "source": [
    "data_intrinsic = bvps_pred + dvd_total\n",
    "print(data_intrinsic)"
   ]
  },
  {
   "cell_type": "code",
   "execution_count": 147,
   "metadata": {},
   "outputs": [
    {
     "data": {
      "text/plain": [
       "<matplotlib.axes._subplots.AxesSubplot at 0x21c57318fd0>"
      ]
     },
     "execution_count": 147,
     "metadata": {},
     "output_type": "execute_result"
    },
    {
     "data": {
      "image/png": "[encoded data removed]",
      "text/plain": [
       "<Figure size 720x432 with 1 Axes>"
      ]
     },
     "metadata": {
      "needs_background": "light"
     },
     "output_type": "display_data"
    }
   ],
   "source": [
    "work_table['bookValuePerShare'].plot(figsize=(10,6), title=\"Book Value in Last 10 Years\")"
   ]
  },
  {
   "cell_type": "code",
   "execution_count": 148,
   "metadata": {},
   "outputs": [
    {
     "data": {
      "text/plain": [
       "<matplotlib.axes._subplots.AxesSubplot at 0x21c599abac0>"
      ]
     },
     "execution_count": 148,
     "metadata": {},
     "output_type": "execute_result"
    },
    {
     "data": {
      "image/png": "[encoded data removed]",
      "text/plain": [
       "<Figure size 720x432 with 1 Axes>"
      ]
     },
     "metadata": {
      "needs_background": "light"
     },
     "output_type": "display_data"
    }
   ],
   "source": [
    "work_table['Dividend per Share'].astype('float').plot(figsize=(10,6), title=\"Dividend per Share in Last 10 Years\")"
   ]
  },
  {
   "cell_type": "code",
   "execution_count": 149,
   "metadata": {},
   "outputs": [],
   "source": [
    "# 'year_index' as the order of the year\n",
    "work_table['year_index'] = range(1, len(work_table) + 1)[::-1]\n",
    "# add intercept\n",
    "work_table['intercept'] = 1"
   ]
  },
  {
   "cell_type": "code",
   "execution_count": 150,
   "metadata": {},
   "outputs": [],
   "source": [
    "# modeling\n",
    "bvps_model = sm.OLS(work_table['bookValuePerShare'], work_table[['year_index', 'intercept']]).fit()"
   ]
  },
  {
   "cell_type": "code",
   "execution_count": 151,
   "metadata": {},
   "outputs": [
    {
     "name": "stdout",
     "output_type": "stream",
     "text": [
      "bvps_pred_lr через 10 лет: -5.1838492972489725\n"
     ]
    }
   ],
   "source": [
    "bvps_pred_lr = bvps_model.predict([19, 1])[0]  # Прогнозируем балансовую стоимость через 10 лет\n",
    "print(f'bvps_pred_lr через 10 лет: {bvps_pred_lr}' )"
   ]
  },
  {
   "cell_type": "code",
   "execution_count": 152,
   "metadata": {},
   "outputs": [
    {
     "data": {
      "text/plain": [
       "-0.10112429786296542"
      ]
     },
     "execution_count": 152,
     "metadata": {},
     "output_type": "execute_result"
    }
   ],
   "source": [
    "dvd_model = sm.OLS((work_table['Dividend per Share']).astype(float), work_table[['year_index', 'intercept']]).fit()\n",
    "\n",
    "dvd_model.predict([19, 1])[0]  # Определить дивиденд через 10 лет"
   ]
  },
  {
   "cell_type": "code",
   "execution_count": 153,
   "metadata": {},
   "outputs": [
    {
     "name": "stdout",
     "output_type": "stream",
     "text": [
      "dvd_total_lr: -0.3433691555267789\n"
     ]
    }
   ],
   "source": [
    "# Дивиденды за 10 лет\n",
    "dvd_total_lr = 0\n",
    "current_year_order = 9\n",
    "for j in range(1, 11):\n",
    "    dvd_new = dvd_model.predict([current_year_order + j, 1])[0]\n",
    "    dvd_total_lr = dvd_total_lr + dvd_new / (1 + risk_free_rate) ** j\n",
    "print(f'dvd_total_lr: {dvd_total_lr}' )"
   ]
  },
  {
   "cell_type": "code",
   "execution_count": 154,
   "metadata": {},
   "outputs": [
    {
     "name": "stdout",
     "output_type": "stream",
     "text": [
      "aapl_intrinsic_lr: -5.5272184527757515\n"
     ]
    }
   ],
   "source": [
    "aapl_intrinsic_lr = dvd_total_lr + bvps_pred_lr\n",
    "print(f'aapl_intrinsic_lr: {aapl_intrinsic_lr}' )"
   ]
  },
  {
   "cell_type": "code",
   "execution_count": 155,
   "metadata": {},
   "outputs": [
    {
     "name": "stdout",
     "output_type": "stream",
     "text": [
      "stock price = 6.31\n",
      "difference_model_and_market_value = -11.837218452775751\n"
     ]
    }
   ],
   "source": [
    "difference_model_and_market_value = aapl_intrinsic_lr - PRICE\n",
    "print(f'stock price = {PRICE}')\n",
    "print(f'difference_model_and_market_value = {difference_model_and_market_value}')"
   ]
  },
  {
   "cell_type": "markdown",
   "metadata": {},
   "source": [
    "# Оценка дисперсии модели линейной регресси дивов через R-Squared"
   ]
  },
  {
   "cell_type": "code",
   "execution_count": 156,
   "metadata": {},
   "outputs": [
    {
     "name": "stdout",
     "output_type": "stream",
     "text": [
      "0                0.0\n",
      "1    0.0421125302037\n",
      "2                0.0\n",
      "3                0.0\n",
      "4                0.0\n",
      "5                0.0\n",
      "6               0.89\n",
      "7                0.0\n",
      "8                0.0\n",
      "9                0.0\n",
      "Name: Dividend per Share, dtype: object\n",
      "          y   x\n",
      "0  0.000000  10\n",
      "1  0.042113   9\n",
      "2  0.000000   8\n",
      "3  0.000000   7\n",
      "4  0.000000   6\n",
      "5  0.000000   5\n",
      "6  0.890000   4\n",
      "7  0.000000   3\n",
      "8  0.000000   2\n",
      "9  0.000000   1\n"
     ]
    },
    {
     "data": {
      "image/png": "[encoded data removed]",
      "text/plain": [
       "<Figure size 432x288 with 1 Axes>"
      ]
     },
     "metadata": {
      "needs_background": "light"
     },
     "output_type": "display_data"
    },
    {
     "data": {
      "image/png": "[encoded data removed]",
      "text/plain": [
       "<Figure size 432x288 with 1 Axes>"
      ]
     },
     "metadata": {
      "needs_background": "light"
     },
     "output_type": "display_data"
    },
    {
     "name": "stdout",
     "output_type": "stream",
     "text": [
      "0.7069900883038831\n",
      "The rsquared value is: 0.02418118601457586\n"
     ]
    }
   ],
   "source": [
    "# # creating OLS regression\n",
    "\n",
    "print(work_table['Dividend per Share'])\n",
    "\n",
    "r2_table = pd.DataFrame()\n",
    "r2_table['y'] = work_table['Dividend per Share'][0:10].replace(np.nan, 0).replace('', 0, regex=True).astype(float)\n",
    "r2_table['x'] = work_table['year_index']\n",
    "\n",
    "print(r2_table)\n",
    "\n",
    "\n",
    "slope, intercept, r_value, p_value, std_err = stats.linregress(r2_table['x'], r2_table['y'])\n",
    "def linefitline(b):\n",
    "    return intercept + slope * b\n",
    "\n",
    "# line1 = linefitline(r2_table['x'])\n",
    "line1 = linefitline(r2_table['x'])\n",
    "\n",
    "\n",
    "#plot line\n",
    "plt.scatter(r2_table['x'], r2_table['y'])\n",
    "plt.plot(r2_table['x'], line1, c='g')\n",
    "plt.show()\n",
    "\n",
    "\n",
    "line2 = np.full(10, [r2_table['y'].mean()])\n",
    "plt.scatter(r2_table['x'], r2_table['y'])\n",
    "plt.plot(r2_table['x'], line2, c='r')\n",
    "plt.show()\n",
    "\n",
    "differences_line1 = linefitline(r2_table['x']) - r2_table['y']\n",
    "line1sum = 0\n",
    "for k in differences_line1:\n",
    "    line1sum = line1sum + (k * k)\n",
    "\n",
    "differences_line2 = line2 - r2_table['y']\n",
    "line2sum = 0\n",
    "for k in differences_line2:\n",
    "    line2sum = line2sum + (k * k)\n",
    "\n",
    "print(line2sum)\n",
    "\n",
    "r2 = r2_score(r2_table['y'], linefitline(r2_table['x']))\n",
    "print('The rsquared value is: ' + str(r2))"
   ]
  },
  {
   "cell_type": "markdown",
   "metadata": {},
   "source": [
    "# Оценка дисперсии модели линейной регресси FCF через R-Squared"
   ]
  },
  {
   "cell_type": "code",
   "execution_count": 157,
   "metadata": {},
   "outputs": [
    {
     "name": "stdout",
     "output_type": "stream",
     "text": [
      "             y   x\n",
      "0   2678000000  10\n",
      "1  -1968000000   9\n",
      "2   -541000000   8\n",
      "3  -6788000000   7\n",
      "4  12583000000   6\n",
      "5  13788000000   5\n",
      "6  20572000000   4\n",
      "7  15121000000   3\n",
      "8  16205000000   2\n",
      "9  20709000000   1\n"
     ]
    },
    {
     "data": {
      "image/png": "[encoded data removed]",
      "text/plain": [
       "<Figure size 432x288 with 1 Axes>"
      ]
     },
     "metadata": {
      "needs_background": "light"
     },
     "output_type": "display_data"
    },
    {
     "data": {
      "image/png": "[encoded data removed]",
      "text/plain": [
       "<Figure size 432x288 with 1 Axes>"
      ]
     },
     "metadata": {
      "needs_background": "light"
     },
     "output_type": "display_data"
    },
    {
     "name": "stdout",
     "output_type": "stream",
     "text": [
      "8.961532089e+20\n",
      "The rsquared value is: 0.6880508999692089\n"
     ]
    }
   ],
   "source": [
    "# # creating OLS regression\n",
    "\n",
    "\n",
    "r2_table_FCF = pd.DataFrame()\n",
    "r2_table_FCF['y'] = work_table['freeCashFlow'].replace(np.nan, 0).replace('', 0, regex=True)\n",
    "r2_table_FCF['x'] = work_table['year_index']\n",
    "\n",
    "print(r2_table_FCF)\n",
    "\n",
    "slope, intercept, r_value, p_value, std_err = stats.linregress(r2_table_FCF['x'], r2_table_FCF['y'])\n",
    "\n",
    "\n",
    "def linefitline(b):\n",
    "    return intercept + slope * b\n",
    "\n",
    "\n",
    "# line1 = linefitline(r2_table['x'])\n",
    "line1 = linefitline(r2_table_FCF['x'])\n",
    "\n",
    "# plot line\n",
    "plt.scatter(r2_table_FCF['x'], r2_table_FCF['y'])\n",
    "plt.plot(r2_table_FCF['x'], line1, c='g')\n",
    "plt.show()\n",
    "\n",
    "line2 = np.full(10, [r2_table_FCF['y'].mean()])\n",
    "plt.scatter(r2_table_FCF['x'], r2_table_FCF['y'])\n",
    "plt.plot(r2_table_FCF['x'], line2, c='r')\n",
    "plt.show()\n",
    "\n",
    "differences_line1 = linefitline(r2_table_FCF['x']) - r2_table_FCF['y']\n",
    "line1sum = 0\n",
    "for k in differences_line1:\n",
    "    line1sum = line1sum + (k * k)\n",
    "\n",
    "differences_line2 = line2 - r2_table_FCF['y']\n",
    "line2sum = 0\n",
    "for k in differences_line2:\n",
    "    line2sum = line2sum + (k * k)\n",
    "\n",
    "print(line2sum)\n",
    "\n",
    "r2_FCF = r2_score(r2_table_FCF['y'], linefitline(r2_table_FCF['x']))\n",
    "print('The rsquared value is: ' + str(r2_FCF))"
   ]
  }
 ],
 "metadata": {
  "colab": {
   "name": "TestValue-ver16.08.ipynb",
   "provenance": []
  },
  "kernelspec": {
   "display_name": "Python 3",
   "language": "python",
   "name": "python3"
  },
  "language_info": {
   "codemirror_mode": {
    "name": "ipython",
    "version": 3
   },
   "file_extension": ".py",
   "mimetype": "text/x-python",
   "name": "python",
   "nbconvert_exporter": "python",
   "pygments_lexer": "ipython3",
   "version": "3.8.3"
  }
 },
 "nbformat": 4,
 "nbformat_minor": 1
}
