{
 "cells": [
  {
   "cell_type": "code",
   "execution_count": 7,
   "metadata": {},
   "outputs": [],
   "source": [
    "import requests\n",
    "import pandas as pd\n",
    "\n",
    "demo = '2105b9f242d47b69fc73f0f2205be048'\n",
    "\n",
    "stock = 'QCOM'\n",
    "BS = requests.get(f\"https://financialmodelingprep.com/api/v3/balance-sheet-statement/{stock}?apikey={demo}\").json()\n",
    "BS2009 = BS[10]\n",
    "BS2010 = BS[9]\n",
    "BS2011 = BS[8]\n",
    "BS2012 = BS[7]\n",
    "BS2013 = BS[6]\n",
    "BS2014 = BS[5]\n",
    "BS2015 = BS[4]\n",
    "BS2016 = BS[3]\n",
    "BS2017 = BS[2]\n",
    "BS2018 = BS[1]\n",
    "BS2019= BS[0]\n",
    "\n",
    "IS = requests.get(f'https://financialmodelingprep.com/api/v3/income-statement/{stock}?apikey={demo}').json()\n",
    "IS2010 = IS[9]\n",
    "IS2011 = IS[8]\n",
    "IS2012 = IS[7]\n",
    "IS2013 = IS[6]\n",
    "IS2014 = IS[5]\n",
    "IS2015 = IS[4]\n",
    "IS2016 = IS[3]\n",
    "IS2017 = IS[2]\n",
    "IS2018 = IS[1]\n",
    "IS2019 = IS[0]"
   ]
  },
  {
   "cell_type": "code",
   "execution_count": 8,
   "metadata": {},
   "outputs": [],
   "source": [
    "#Element 1 net income / sales as profitability indicator:\n",
    "Profitability2010 = IS2010['netIncome']/IS2010['revenue']\n",
    "Profitability2011 = IS2011['netIncome']/IS2011['revenue']\n",
    "Profitability2012 = IS2012['netIncome']/IS2012['revenue']\n",
    "Profitability2013 = IS2013['netIncome']/IS2013['revenue']\n",
    "Profitability2014 = IS2014['netIncome']/IS2014['revenue']\n",
    "Profitability2015 = IS2015['netIncome']/IS2015['revenue']\n",
    "Profitability2016 = IS2016['netIncome']/IS2016['revenue']\n",
    "Profitability2017 = IS2017['netIncome']/IS2017['revenue']\n",
    "Profitability2018 = IS2018['netIncome']/IS2018['revenue']\n",
    "Profitability2019 = IS2019['netIncome']/IS2019['revenue']\n",
    "\n",
    "#Element 2 Technical Analysis\n",
    "TechnicalEfficiency2010 = IS2010['revenue']/((BS2010['totalAssets'] + BS2009['totalAssets'])/2)\n",
    "TechnicalEfficiency2011 = IS2011['revenue']/((BS2011['totalAssets'] + BS2010['totalAssets'])/2)\n",
    "TechnicalEfficiency2012 = IS2012['revenue']/((BS2012['totalAssets'] + BS2011['totalAssets'])/2)\n",
    "TechnicalEfficiency2013 = IS2013['revenue']/((BS2013['totalAssets'] + BS2012['totalAssets'])/2)\n",
    "TechnicalEfficiency2014 = IS2014['revenue']/((BS2014['totalAssets'] + BS2013['totalAssets'])/2)\n",
    "TechnicalEfficiency2015 = IS2015['revenue']/((BS2015['totalAssets'] + BS2014['totalAssets'])/2)\n",
    "TechnicalEfficiency2016 = IS2016['revenue']/((BS2016['totalAssets'] + BS2015['totalAssets'])/2)\n",
    "TechnicalEfficiency2017 = IS2017['revenue']/((BS2017['totalAssets'] + BS2016['totalAssets'])/2)\n",
    "TechnicalEfficiency2018 = IS2018['revenue']/((BS2018['totalAssets'] + BS2017['totalAssets'])/2)\n",
    "TechnicalEfficiency2019 = IS2019['revenue']/((BS2019['totalAssets'] + BS2018['totalAssets'])/2)\n",
    "\n",
    "#Element 3 Firm Financial Structure\n",
    "FinancialStructure2010 = ((BS2010['totalAssets'] + BS2009['totalAssets'])/2)/((BS2010['totalStockholdersEquity'] + BS2009['totalStockholdersEquity'] )/2)\n",
    "FinancialStructure2011 = ((BS2011['totalAssets'] + BS2010['totalAssets'])/2)/((BS2011['totalStockholdersEquity'] + BS2010['totalStockholdersEquity'] )/2)\n",
    "FinancialStructure2012 = ((BS2012['totalAssets'] + BS2011['totalAssets'])/2)/((BS2012['totalStockholdersEquity'] + BS2011['totalStockholdersEquity'] )/2)\n",
    "FinancialStructure2013 = ((BS2013['totalAssets'] + BS2012['totalAssets'])/2)/((BS2013['totalStockholdersEquity'] + BS2012['totalStockholdersEquity'] )/2)\n",
    "FinancialStructure2014 = ((BS2014['totalAssets'] + BS2013['totalAssets'])/2)/((BS2014['totalStockholdersEquity'] + BS2013['totalStockholdersEquity'] )/2)\n",
    "FinancialStructure2015 = ((BS2015['totalAssets'] + BS2014['totalAssets'])/2)/((BS2015['totalStockholdersEquity'] + BS2014['totalStockholdersEquity'] )/2)\n",
    "FinancialStructure2016 = ((BS2016['totalAssets'] + BS2015['totalAssets'])/2)/((BS2016['totalStockholdersEquity'] + BS2015['totalStockholdersEquity'] )/2)\n",
    "FinancialStructure2017 = ((BS2017['totalAssets'] + BS2016['totalAssets'])/2)/((BS2017['totalStockholdersEquity'] + BS2016['totalStockholdersEquity'] )/2)\n",
    "FinancialStructure2018 = ((BS2018['totalAssets'] + BS2017['totalAssets'])/2)/ ((BS2018['totalStockholdersEquity'] + BS2017['totalStockholdersEquity'] )/2)\n",
    "FinancialStructure2019 = ((BS2019['totalAssets'] + BS2018['totalAssets'])/2)/((BS2019['totalStockholdersEquity'] + BS2018['totalStockholdersEquity'] )/2)"
   ]
  },
  {
   "cell_type": "code",
   "execution_count": 9,
   "metadata": {},
   "outputs": [],
   "source": [
    "ROE2010 = Profitability2010 * TechnicalEfficiency2010 * FinancialStructure2010\n",
    "ROE2011 = Profitability2011 * TechnicalEfficiency2011 * FinancialStructure2011\n",
    "ROE2012 = Profitability2012 * TechnicalEfficiency2012 * FinancialStructure2012\n",
    "ROE2013 = Profitability2013 * TechnicalEfficiency2013 * FinancialStructure2013\n",
    "ROE2014 = Profitability2014 * TechnicalEfficiency2014 * FinancialStructure2014\n",
    "ROE2015 = Profitability2015 * TechnicalEfficiency2015 * FinancialStructure2015\n",
    "ROE2016 = Profitability2016 * TechnicalEfficiency2016 * FinancialStructure2016\n",
    "ROE2017 = Profitability2017 * TechnicalEfficiency2017 * FinancialStructure2017\n",
    "ROE2018= Profitability2018 * TechnicalEfficiency2018 * FinancialStructure2018\n",
    "ROE2019 = Profitability2019 * TechnicalEfficiency2019 * FinancialStructure2019"
   ]
  },
  {
   "cell_type": "code",
   "execution_count": 13,
   "metadata": {},
   "outputs": [
    {
     "name": "stdout",
     "output_type": "stream",
     "text": [
      "      Profitability *  Tech Efficiency *  Financial Structure =       ROE\n",
      "2010         0.295666           0.378579               1.409069  0.157721\n",
      "2011         0.284816           0.446518               1.401284  0.178209\n",
      "2012         0.319492           0.481431               1.313523  0.202037\n",
      "2013         0.275597           0.561766               1.271753  0.196894\n",
      "2014         0.300789           0.563014               1.250249  0.211728\n",
      "2015         0.208496           0.508826               1.407706  0.149341\n",
      "2016         0.242209           0.456672               1.632225  0.180541\n",
      "2017         0.109848           0.377750               1.884796  0.078210\n",
      "2018        -0.219539           0.460490               3.112351 -0.314645\n",
      "2019         0.224084           0.596056              11.489678  1.534640\n"
     ]
    }
   ],
   "source": [
    "FY2010 = [Profitability2010,TechnicalEfficiency2010,FinancialStructure2010,ROE2010]\n",
    "FY2011 = [Profitability2011,TechnicalEfficiency2011,FinancialStructure2011,ROE2011]\n",
    "FY2012 = [Profitability2012,TechnicalEfficiency2012,FinancialStructure2012,ROE2012]\n",
    "FY2013 = [Profitability2013,TechnicalEfficiency2013,FinancialStructure2013,ROE2013]\n",
    "FY2014 = [Profitability2014,TechnicalEfficiency2014,FinancialStructure2014,ROE2014]\n",
    "FY2015 = [Profitability2015,TechnicalEfficiency2015,FinancialStructure2015,ROE2015]\n",
    "FY2016 = [Profitability2016,TechnicalEfficiency2016,FinancialStructure2016,ROE2016]\n",
    "FY2017 = [Profitability2017,TechnicalEfficiency2017,FinancialStructure2017,ROE2017]\n",
    "FY2018 = [Profitability2018,TechnicalEfficiency2018,FinancialStructure2018,ROE2018]\n",
    "FY2019 = [Profitability2019,TechnicalEfficiency2019,FinancialStructure2019,ROE2019]\n",
    "\n",
    "ROE_decomposition = pd.DataFrame([FY2010,FY2011,FY2012,FY2013,FY2014,FY2015,FY2016,FY2017,FY2018, FY2019],columns=['Profitability *','Tech Efficiency *','Financial Structure =','ROE'],index=['2010', '2011', '2012', '2013', '2014', '2015', '2016', '2017', '2018', '2019'])\n",
    "\n",
    "print(ROE_decomposition)"
   ]
  },
  {
   "cell_type": "code",
   "execution_count": 11,
   "metadata": {},
   "outputs": [
    {
     "name": "stdout",
     "output_type": "stream",
     "text": [
      "0.25746757096556017\n"
     ]
    }
   ],
   "source": [
    "mean = (ROE2010 + ROE2011 + ROE2012 + ROE2013 + ROE2014 + ROE2015 + ROE2016 + ROE2017 + ROE2018 + ROE2019) / 10\n",
    "print(mean)\n"
   ]
  },
  {
   "cell_type": "code",
   "execution_count": null,
   "metadata": {},
   "outputs": [],
   "source": []
  }
 ],
 "metadata": {
  "kernelspec": {
   "display_name": "Python 3",
   "language": "python",
   "name": "python3"
  },
  "language_info": {
   "codemirror_mode": {
    "name": "ipython",
    "version": 3
   },
   "file_extension": ".py",
   "mimetype": "text/x-python",
   "name": "python",
   "nbconvert_exporter": "python",
   "pygments_lexer": "ipython3",
   "version": "3.8.3"
  }
 },
 "nbformat": 4,
 "nbformat_minor": 4
}
