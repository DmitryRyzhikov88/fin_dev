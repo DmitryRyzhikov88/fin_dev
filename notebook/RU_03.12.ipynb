{
 "cells": [
  {
   "cell_type": "code",
   "execution_count": 814,
   "metadata": {
    "id": "cbtSyp4jK3HN"
   },
   "outputs": [],
   "source": [
    "import pandas as pd\n",
    "import numpy as np\n",
    "from pandas_datareader import data as wb\n",
    "import matplotlib.pyplot as plt\n",
    "import statsmodels.api as sm\n",
    "import datetime\n",
    "from yahoofinancials import YahooFinancials\n",
    "from requests_html import HTMLSession\n",
    "import numpy_financial as npf\n"
   ]
  },
  {
   "cell_type": "code",
   "execution_count": 815,
   "metadata": {},
   "outputs": [],
   "source": [
    "\n",
    "ticker_table = 'CHMF' \n",
    "ticker = 'CHMF.ME' \n"
   ]
  },
  {
   "cell_type": "markdown",
   "metadata": {},
   "source": [
    "Получаем курс доллара "
   ]
  },
  {
   "cell_type": "code",
   "execution_count": 816,
   "metadata": {},
   "outputs": [
    {
     "data": {
      "text/plain": [
       "75.6151"
      ]
     },
     "execution_count": 816,
     "metadata": {},
     "output_type": "execute_result"
    }
   ],
   "source": [
    "session = HTMLSession()\n",
    "usd_rub_course = session.get('https://finance.rambler.ru/currencies/USD/')\n",
    "usd_rub = usd_rub_course.html.find('.finance-currency-plate__currency')\n",
    "USD_COURSE = float(usd_rub[0].text)\n",
    "USD_COURSE"
   ]
  },
  {
   "cell_type": "code",
   "execution_count": 817,
   "metadata": {},
   "outputs": [
    {
     "name": "stdout",
     "output_type": "stream",
     "text": [
      "                         2010-12  2011-12 2012-12 2013-12 2014-12 2015-12  \\\n",
      "Revenue USD Mil            12819    15812   14104   13312    8296    6396   \n",
      "Gross Margin %              32.0     98.5    23.5    22.3    34.3    40.8   \n",
      "Operating Income USD Mil    2095     2889    1321    1192    1568    1668   \n",
      "Operating Margin %          16.3     18.3     9.4     9.0    18.9    26.1   \n",
      "Net Income USD Mil          -575     2035     762      83   -1602     605   \n",
      "...                          ...      ...     ...     ...     ...     ...   \n",
      "Cash Conversion Cycle      98.76  2218.35   74.51   70.20   82.95   56.90   \n",
      "Receivables Turnover       10.57    14.46   12.39   10.94    8.14   11.57   \n",
      "Inventory Turnover          3.26     0.10    4.43    4.73    3.83    5.14   \n",
      "Fixed Assets Turnover       1.53     2.14    1.75    1.55    1.39    2.10   \n",
      "Asset Turnover              0.66     0.85    0.84    0.88    0.75    0.95   \n",
      "\n",
      "                         2016-12 2017-12 2018-12 2019-12    TTM  \n",
      "Revenue USD Mil             5916    7848    8580    8157   7080  \n",
      "Gross Margin %              39.6    39.7    42.7    39.8   39.8  \n",
      "Operating Income USD Mil    1515    2113    2702    2305   1817  \n",
      "Operating Margin %          25.6    26.9    31.5    28.3   25.7  \n",
      "Net Income USD Mil          1621    1356    2051    1766   1003  \n",
      "...                          ...     ...     ...     ...    ...  \n",
      "Cash Conversion Cycle      58.90   58.53   62.06   60.07  61.07  \n",
      "Receivables Turnover       12.47   14.20   14.90   14.36  13.00  \n",
      "Inventory Turnover          4.71    4.92    4.59    4.41   4.51  \n",
      "Fixed Assets Turnover       2.04    2.27    2.37    1.98   1.71  \n",
      "Asset Turnover              0.96    1.15    1.31    1.16   0.97  \n",
      "\n",
      "[101 rows x 11 columns]\n"
     ]
    }
   ],
   "source": [
    "Income_df = pd.read_excel(f'''J:/Новая папка/{ticker_table}/Income Statement_Annual_As Originally Reported.xls''').apply(lambda x: x.str.replace(',', '')).fillna(0)\n",
    "Balance_df = pd.read_excel(f'''J:/Новая папка/{ticker_table}/Balance Sheet_Annual_As Originally Reported.xls''', index_col=None).apply(lambda x: x.str.replace(',', '')).fillna(0)\n",
    "Key_Ratios_df = pd.read_csv(f'''J:/Новая папка/{ticker_table}/{ticker_table} Key Ratios.csv''', skiprows=2, index_col='Unnamed: 0').apply(lambda x: x.str.replace(',', ''))\n",
    "Cash_df = pd.read_excel(f'''J:/Новая папка/{ticker_table}/Cash Flow_Annual_As Originally Reported.xls''').apply(lambda x: x.str.replace(',', '.')).fillna(0)\n",
    "# Здесь нужно указать путь Excel таблицы на компьютере\n",
    "# !!!!!!!!!!!!!!!!!!!!!!!!!!!!!!!!!!!!!!!!!!!!!!!!!!!!!!!!!!!!!!!!!!!!!!!!!!!!!!!!!!!!!!!!!!!!!!!!!!!!!!!!!!\n",
    "print(Key_Ratios_df)\n",
    "\n",
    "Key_Ratios_df = Key_Ratios_df.T[::-1]\n",
    "Key_Ratios_df['date'] = ['TTM','2019', '2018', '2017', '2016', '2015', '2014', '2013', '2012', '2011', '2010']\n",
    "Key_Ratios_df.set_index(['date'], inplace = True)\n",
    "Balance_df = Balance_df.T[::-1]\n",
    "Income_df = Income_df.T[::-1]\n",
    "Cash_df = Cash_df.T[::-1]\n",
    "\n",
    "\n",
    "\n",
    "try:\n",
    "    Income_df.columns = Income_df.iloc[11].fillna(0)\n",
    "    Balance_df.columns = Balance_df.iloc[10].fillna(0)\n",
    "    Cash_df.columns = Cash_df.iloc[11].fillna(0)\n",
    "except :\n",
    "    print('except')\n",
    "    Balance_df.columns = Balance_df.iloc[9].fillna(0)\n",
    "    Income_df.columns = Income_df.iloc[9].fillna(0)\n",
    "    Cash_df.columns = Cash_df.iloc[9].fillna(0)\n",
    "\n",
    "    \n",
    "    \n",
    "try:\n",
    "    Key_Ratios_df[['revenue', 'eps', 'payout_ratio', 'tax_rate', 'debt_equity', 'bookValuePerShare',\n",
    "                    'currentRatio', 'operatingIncome', 'netIncome', 'freeCashFlow', 'numberOfShares', 'dividends', 'operatingCashFlow'\n",
    "                   ]] = pd.DataFrame(Key_Ratios_df[['Revenue RUB Mil', 'Earnings Per Share RUB', 'Payout Ratio % *', 'Tax Rate %', 'Debt/Equity',\n",
    "                                            'Book Value Per Share * RUB', 'Current Ratio', 'Operating Income RUB Mil',\n",
    "                                            'Net Income RUB Mil', 'Free Cash Flow RUB Mil', 'Shares Mil', 'Dividends RUB',\n",
    "                                   'Operating Cash Flow RUB Mil']].fillna(0)[0:11].astype(float))\n",
    "    \n",
    "    Key_Ratios_df[['revenue', 'operatingIncome', 'netIncome', 'freeCashFlow', 'numberOfShares', 'dividends', 'operatingCashFlow']] \\\n",
    "    = Key_Ratios_df[['revenue', 'operatingIncome', 'netIncome', 'freeCashFlow', 'numberOfShares', 'dividends', 'operatingCashFlow']] * 1000000\n",
    "\n",
    "except:    \n",
    "    Key_Ratios_df[['revenue', 'eps', 'payout_ratio', 'tax_rate', 'debt_equity', 'bookValuePerShare',\n",
    "                'currentRatio', 'operatingIncome', 'netIncome', 'freeCashFlow', 'numberOfShares', 'dividends', 'operatingCashFlow'\n",
    "               ]] = pd.DataFrame(Key_Ratios_df[['Revenue USD Mil', 'Earnings Per Share USD', 'Payout Ratio % *', 'Tax Rate %', 'Debt/Equity',\n",
    "                                        'Book Value Per Share * USD', 'Current Ratio', 'Operating Income USD Mil',\n",
    "                                        'Net Income USD Mil', 'Free Cash Flow USD Mil', 'Shares Mil', 'Dividends USD',\n",
    "                               'Operating Cash Flow USD Mil']].fillna(0)[0:11].astype(float)) \n",
    "    \n",
    "    Key_Ratios_df[['revenue', 'eps',  'bookValuePerShare', 'operatingIncome', 'netIncome', 'freeCashFlow', 'dividends', 'operatingCashFlow']] \\\n",
    "    = Key_Ratios_df[['revenue', 'eps',  'bookValuePerShare', 'operatingIncome', 'netIncome', 'freeCashFlow', 'dividends', 'operatingCashFlow']] * USD_COURSE\n",
    "    \n",
    "    Key_Ratios_df[['revenue', 'operatingIncome', 'netIncome', 'freeCashFlow', 'numberOfShares', 'dividends', 'operatingCashFlow']] \\\n",
    "    = Key_Ratios_df[['revenue', 'operatingIncome', 'netIncome', 'freeCashFlow', 'numberOfShares', 'dividends', 'operatingCashFlow']] * 1000000\n",
    "\n",
    "    \n",
    "try:   \n",
    "    Balance_df = Balance_df[['Total Assets', 'Total Liabilities', '    Equity Attributable to Parent Stockholders', '                Current Debt', '                Long Term Debt', \n",
    "                            '            Cash and Cash Equivalents', '            Long Term Debt and Capital Lease Obligation'\n",
    "                ]].fillna(0)[0:10].astype(float)\n",
    "    Balance_df = Balance_df.T.drop_duplicates().T # удаляем дубликаты столбцов\n",
    "    Balance_df[['сurrent_debt', 'long_term_debt']] = pd.DataFrame(Balance_df[['                Current Debt', '                Long Term Debt']])\n",
    "    \n",
    "except:\n",
    "    Balance_df = Balance_df[['Total Assets', 'Total Liabilities', '    Equity Attributable to Parent Stockholders', '            Current Debt and Capital Lease Obligation',\n",
    "                             '                Long Term Debt', '            Cash and Cash Equivalents', \n",
    "                             '            Long Term Debt and Capital Lease Obligation']].fillna(0)[0:10].astype(float)\n",
    "    Balance_df = Balance_df.T.drop_duplicates().T # удаляем дубликаты столбцов\n",
    "    Balance_df['сurrent_debt'] = pd.DataFrame(Balance_df['                Current Debt'])\n",
    "    \n",
    "  \n",
    "\n",
    "Income_df = Income_df[['    Total Revenue', '            Interest Expense Net of Capitalized Interest', 'Provision for Income Tax', \n",
    "                       'Net Income Available to Common Stockholders', 'Gross Profit',\n",
    "                       'Pretax Income']].fillna(0)[0:10].astype(float)\n",
    "\n",
    "Income_df = Income_df.T.drop_duplicates().T\n"
   ]
  },
  {
   "cell_type": "code",
   "execution_count": null,
   "metadata": {
    "id": "F5QFLZTCK3HP"
   },
   "outputs": [],
   "source": []
  },
  {
   "cell_type": "code",
   "execution_count": 818,
   "metadata": {
    "id": "mD1A7BGOK3HP"
   },
   "outputs": [
    {
     "data": {
      "text/html": [
       "<div>\n",
       "<style scoped>\n",
       "    .dataframe tbody tr th:only-of-type {\n",
       "        vertical-align: middle;\n",
       "    }\n",
       "\n",
       "    .dataframe tbody tr th {\n",
       "        vertical-align: top;\n",
       "    }\n",
       "\n",
       "    .dataframe thead th {\n",
       "        text-align: right;\n",
       "    }\n",
       "</style>\n",
       "<table border=\"1\" class=\"dataframe\">\n",
       "  <thead>\n",
       "    <tr style=\"text-align: right;\">\n",
       "      <th></th>\n",
       "      <th>Revenue USD Mil</th>\n",
       "      <th>Gross Margin %</th>\n",
       "      <th>Operating Income USD Mil</th>\n",
       "      <th>Operating Margin %</th>\n",
       "      <th>Net Income USD Mil</th>\n",
       "      <th>Earnings Per Share USD</th>\n",
       "      <th>Dividends USD</th>\n",
       "      <th>Payout Ratio % *</th>\n",
       "      <th>Shares Mil</th>\n",
       "      <th>Book Value Per Share * USD</th>\n",
       "      <th>...</th>\n",
       "      <th>tax_rate</th>\n",
       "      <th>debt_equity</th>\n",
       "      <th>bookValuePerShare</th>\n",
       "      <th>currentRatio</th>\n",
       "      <th>operatingIncome</th>\n",
       "      <th>netIncome</th>\n",
       "      <th>freeCashFlow</th>\n",
       "      <th>numberOfShares</th>\n",
       "      <th>dividends</th>\n",
       "      <th>operatingCashFlow</th>\n",
       "    </tr>\n",
       "    <tr>\n",
       "      <th>date</th>\n",
       "      <th></th>\n",
       "      <th></th>\n",
       "      <th></th>\n",
       "      <th></th>\n",
       "      <th></th>\n",
       "      <th></th>\n",
       "      <th></th>\n",
       "      <th></th>\n",
       "      <th></th>\n",
       "      <th></th>\n",
       "      <th></th>\n",
       "      <th></th>\n",
       "      <th></th>\n",
       "      <th></th>\n",
       "      <th></th>\n",
       "      <th></th>\n",
       "      <th></th>\n",
       "      <th></th>\n",
       "      <th></th>\n",
       "      <th></th>\n",
       "      <th></th>\n",
       "    </tr>\n",
       "  </thead>\n",
       "  <tbody>\n",
       "    <tr>\n",
       "      <th>TTM</th>\n",
       "      <td>7080</td>\n",
       "      <td>39.8</td>\n",
       "      <td>1817</td>\n",
       "      <td>25.7</td>\n",
       "      <td>1003</td>\n",
       "      <td>1.21</td>\n",
       "      <td>1.40</td>\n",
       "      <td>115.6</td>\n",
       "      <td>849</td>\n",
       "      <td>230.48</td>\n",
       "      <td>...</td>\n",
       "      <td>19.23</td>\n",
       "      <td>0.78</td>\n",
       "      <td>17427.768248</td>\n",
       "      <td>1.40</td>\n",
       "      <td>1.373926e+11</td>\n",
       "      <td>7.584195e+10</td>\n",
       "      <td>5.293057e+10</td>\n",
       "      <td>8.490000e+08</td>\n",
       "      <td>105861140.0</td>\n",
       "      <td>1.623456e+11</td>\n",
       "    </tr>\n",
       "    <tr>\n",
       "      <th>2019</th>\n",
       "      <td>8157</td>\n",
       "      <td>39.8</td>\n",
       "      <td>2305</td>\n",
       "      <td>28.3</td>\n",
       "      <td>1766</td>\n",
       "      <td>2.08</td>\n",
       "      <td>1.90</td>\n",
       "      <td>93.6</td>\n",
       "      <td>849</td>\n",
       "      <td>244.96</td>\n",
       "      <td>...</td>\n",
       "      <td>20.83</td>\n",
       "      <td>0.72</td>\n",
       "      <td>18522.674896</td>\n",
       "      <td>1.95</td>\n",
       "      <td>1.742928e+11</td>\n",
       "      <td>1.335363e+11</td>\n",
       "      <td>8.121062e+10</td>\n",
       "      <td>8.490000e+08</td>\n",
       "      <td>143668690.0</td>\n",
       "      <td>1.733098e+11</td>\n",
       "    </tr>\n",
       "    <tr>\n",
       "      <th>2018</th>\n",
       "      <td>8580</td>\n",
       "      <td>42.7</td>\n",
       "      <td>2702</td>\n",
       "      <td>31.5</td>\n",
       "      <td>2051</td>\n",
       "      <td>2.47</td>\n",
       "      <td>2.42</td>\n",
       "      <td>94.7</td>\n",
       "      <td>848</td>\n",
       "      <td>247.29</td>\n",
       "      <td>...</td>\n",
       "      <td>18.58</td>\n",
       "      <td>0.49</td>\n",
       "      <td>18698.858079</td>\n",
       "      <td>1.85</td>\n",
       "      <td>2.043120e+11</td>\n",
       "      <td>1.550866e+11</td>\n",
       "      <td>1.184132e+11</td>\n",
       "      <td>8.480000e+08</td>\n",
       "      <td>182988542.0</td>\n",
       "      <td>1.704364e+11</td>\n",
       "    </tr>\n",
       "    <tr>\n",
       "      <th>2017</th>\n",
       "      <td>7848</td>\n",
       "      <td>39.7</td>\n",
       "      <td>2113</td>\n",
       "      <td>26.9</td>\n",
       "      <td>1356</td>\n",
       "      <td>1.64</td>\n",
       "      <td>1.87</td>\n",
       "      <td>123.6</td>\n",
       "      <td>842</td>\n",
       "      <td>225.75</td>\n",
       "      <td>...</td>\n",
       "      <td>23.19</td>\n",
       "      <td>0.45</td>\n",
       "      <td>17070.108825</td>\n",
       "      <td>1.77</td>\n",
       "      <td>1.597747e+11</td>\n",
       "      <td>1.025341e+11</td>\n",
       "      <td>1.000388e+11</td>\n",
       "      <td>8.420000e+08</td>\n",
       "      <td>141400237.0</td>\n",
       "      <td>1.447273e+11</td>\n",
       "    </tr>\n",
       "    <tr>\n",
       "      <th>2016</th>\n",
       "      <td>5916</td>\n",
       "      <td>39.6</td>\n",
       "      <td>1515</td>\n",
       "      <td>25.6</td>\n",
       "      <td>1621</td>\n",
       "      <td>2.00</td>\n",
       "      <td>1.16</td>\n",
       "      <td>63.3</td>\n",
       "      <td>811</td>\n",
       "      <td>220.62</td>\n",
       "      <td>...</td>\n",
       "      <td>5.65</td>\n",
       "      <td>0.44</td>\n",
       "      <td>16682.203362</td>\n",
       "      <td>1.56</td>\n",
       "      <td>1.145569e+11</td>\n",
       "      <td>1.225721e+11</td>\n",
       "      <td>7.198558e+10</td>\n",
       "      <td>8.110000e+08</td>\n",
       "      <td>87713516.0</td>\n",
       "      <td>1.116835e+11</td>\n",
       "    </tr>\n",
       "    <tr>\n",
       "      <th>2015</th>\n",
       "      <td>6396</td>\n",
       "      <td>40.8</td>\n",
       "      <td>1668</td>\n",
       "      <td>26.1</td>\n",
       "      <td>605</td>\n",
       "      <td>0.75</td>\n",
       "      <td>0.86</td>\n",
       "      <td>NaN</td>\n",
       "      <td>811</td>\n",
       "      <td>226.67</td>\n",
       "      <td>...</td>\n",
       "      <td>22.15</td>\n",
       "      <td>0.86</td>\n",
       "      <td>17139.674717</td>\n",
       "      <td>2.26</td>\n",
       "      <td>1.261260e+11</td>\n",
       "      <td>4.574714e+10</td>\n",
       "      <td>1.069198e+11</td>\n",
       "      <td>8.110000e+08</td>\n",
       "      <td>65028986.0</td>\n",
       "      <td>1.401148e+11</td>\n",
       "    </tr>\n",
       "    <tr>\n",
       "      <th>2014</th>\n",
       "      <td>8296</td>\n",
       "      <td>34.3</td>\n",
       "      <td>1568</td>\n",
       "      <td>18.9</td>\n",
       "      <td>-1602</td>\n",
       "      <td>-1.97</td>\n",
       "      <td>1.34</td>\n",
       "      <td>NaN</td>\n",
       "      <td>811</td>\n",
       "      <td>369.99</td>\n",
       "      <td>...</td>\n",
       "      <td>0.00</td>\n",
       "      <td>0.94</td>\n",
       "      <td>27976.830849</td>\n",
       "      <td>2.09</td>\n",
       "      <td>1.185645e+11</td>\n",
       "      <td>-1.211354e+11</td>\n",
       "      <td>9.519941e+10</td>\n",
       "      <td>8.110000e+08</td>\n",
       "      <td>101324234.0</td>\n",
       "      <td>1.541036e+11</td>\n",
       "    </tr>\n",
       "    <tr>\n",
       "      <th>2013</th>\n",
       "      <td>13312</td>\n",
       "      <td>22.3</td>\n",
       "      <td>1192</td>\n",
       "      <td>9.0</td>\n",
       "      <td>83</td>\n",
       "      <td>0.11</td>\n",
       "      <td>0.26</td>\n",
       "      <td>170.3</td>\n",
       "      <td>811</td>\n",
       "      <td>276.54</td>\n",
       "      <td>...</td>\n",
       "      <td>42.74</td>\n",
       "      <td>0.59</td>\n",
       "      <td>20910.599754</td>\n",
       "      <td>1.92</td>\n",
       "      <td>9.013320e+10</td>\n",
       "      <td>6.276053e+09</td>\n",
       "      <td>3.024604e+10</td>\n",
       "      <td>8.110000e+08</td>\n",
       "      <td>19659926.0</td>\n",
       "      <td>1.193206e+11</td>\n",
       "    </tr>\n",
       "    <tr>\n",
       "      <th>2012</th>\n",
       "      <td>14104</td>\n",
       "      <td>23.5</td>\n",
       "      <td>1321</td>\n",
       "      <td>9.4</td>\n",
       "      <td>762</td>\n",
       "      <td>0.91</td>\n",
       "      <td>0.38</td>\n",
       "      <td>29.4</td>\n",
       "      <td>839</td>\n",
       "      <td>627.57</td>\n",
       "      <td>...</td>\n",
       "      <td>25.41</td>\n",
       "      <td>0.60</td>\n",
       "      <td>47453.768307</td>\n",
       "      <td>1.69</td>\n",
       "      <td>9.988755e+10</td>\n",
       "      <td>5.761871e+10</td>\n",
       "      <td>2.283576e+10</td>\n",
       "      <td>8.390000e+08</td>\n",
       "      <td>28733738.0</td>\n",
       "      <td>1.323264e+11</td>\n",
       "    </tr>\n",
       "    <tr>\n",
       "      <th>2011</th>\n",
       "      <td>15812</td>\n",
       "      <td>98.5</td>\n",
       "      <td>2889</td>\n",
       "      <td>18.3</td>\n",
       "      <td>2035</td>\n",
       "      <td>2.02</td>\n",
       "      <td>0.48</td>\n",
       "      <td>10.5</td>\n",
       "      <td>1005</td>\n",
       "      <td>654.05</td>\n",
       "      <td>...</td>\n",
       "      <td>19.19</td>\n",
       "      <td>0.72</td>\n",
       "      <td>49456.056155</td>\n",
       "      <td>1.66</td>\n",
       "      <td>2.184520e+11</td>\n",
       "      <td>1.538767e+11</td>\n",
       "      <td>2.185276e+10</td>\n",
       "      <td>1.005000e+09</td>\n",
       "      <td>36295248.0</td>\n",
       "      <td>1.516083e+11</td>\n",
       "    </tr>\n",
       "    <tr>\n",
       "      <th>2010</th>\n",
       "      <td>12819</td>\n",
       "      <td>32.0</td>\n",
       "      <td>2095</td>\n",
       "      <td>16.3</td>\n",
       "      <td>-575</td>\n",
       "      <td>-0.57</td>\n",
       "      <td>0.13</td>\n",
       "      <td>NaN</td>\n",
       "      <td>1005</td>\n",
       "      <td>678.87</td>\n",
       "      <td>...</td>\n",
       "      <td>25.52</td>\n",
       "      <td>0.67</td>\n",
       "      <td>51332.822937</td>\n",
       "      <td>1.50</td>\n",
       "      <td>1.584136e+11</td>\n",
       "      <td>-4.347868e+10</td>\n",
       "      <td>-5.867732e+10</td>\n",
       "      <td>1.005000e+09</td>\n",
       "      <td>9829963.0</td>\n",
       "      <td>2.260891e+10</td>\n",
       "    </tr>\n",
       "  </tbody>\n",
       "</table>\n",
       "<p>11 rows × 114 columns</p>\n",
       "</div>"
      ],
      "text/plain": [
       "     Revenue USD Mil Gross Margin % Operating Income USD Mil  \\\n",
       "date                                                           \n",
       "TTM             7080           39.8                     1817   \n",
       "2019            8157           39.8                     2305   \n",
       "2018            8580           42.7                     2702   \n",
       "2017            7848           39.7                     2113   \n",
       "2016            5916           39.6                     1515   \n",
       "2015            6396           40.8                     1668   \n",
       "2014            8296           34.3                     1568   \n",
       "2013           13312           22.3                     1192   \n",
       "2012           14104           23.5                     1321   \n",
       "2011           15812           98.5                     2889   \n",
       "2010           12819           32.0                     2095   \n",
       "\n",
       "     Operating Margin % Net Income USD Mil Earnings Per Share USD  \\\n",
       "date                                                                \n",
       "TTM                25.7               1003                   1.21   \n",
       "2019               28.3               1766                   2.08   \n",
       "2018               31.5               2051                   2.47   \n",
       "2017               26.9               1356                   1.64   \n",
       "2016               25.6               1621                   2.00   \n",
       "2015               26.1                605                   0.75   \n",
       "2014               18.9              -1602                  -1.97   \n",
       "2013                9.0                 83                   0.11   \n",
       "2012                9.4                762                   0.91   \n",
       "2011               18.3               2035                   2.02   \n",
       "2010               16.3               -575                  -0.57   \n",
       "\n",
       "     Dividends USD Payout Ratio % * Shares Mil Book Value Per Share * USD  \\\n",
       "date                                                                        \n",
       "TTM           1.40            115.6        849                     230.48   \n",
       "2019          1.90             93.6        849                     244.96   \n",
       "2018          2.42             94.7        848                     247.29   \n",
       "2017          1.87            123.6        842                     225.75   \n",
       "2016          1.16             63.3        811                     220.62   \n",
       "2015          0.86              NaN        811                     226.67   \n",
       "2014          1.34              NaN        811                     369.99   \n",
       "2013          0.26            170.3        811                     276.54   \n",
       "2012          0.38             29.4        839                     627.57   \n",
       "2011          0.48             10.5       1005                     654.05   \n",
       "2010          0.13              NaN       1005                     678.87   \n",
       "\n",
       "      ... tax_rate debt_equity bookValuePerShare currentRatio operatingIncome  \\\n",
       "date  ...                                                                       \n",
       "TTM   ...    19.23        0.78      17427.768248         1.40    1.373926e+11   \n",
       "2019  ...    20.83        0.72      18522.674896         1.95    1.742928e+11   \n",
       "2018  ...    18.58        0.49      18698.858079         1.85    2.043120e+11   \n",
       "2017  ...    23.19        0.45      17070.108825         1.77    1.597747e+11   \n",
       "2016  ...     5.65        0.44      16682.203362         1.56    1.145569e+11   \n",
       "2015  ...    22.15        0.86      17139.674717         2.26    1.261260e+11   \n",
       "2014  ...     0.00        0.94      27976.830849         2.09    1.185645e+11   \n",
       "2013  ...    42.74        0.59      20910.599754         1.92    9.013320e+10   \n",
       "2012  ...    25.41        0.60      47453.768307         1.69    9.988755e+10   \n",
       "2011  ...    19.19        0.72      49456.056155         1.66    2.184520e+11   \n",
       "2010  ...    25.52        0.67      51332.822937         1.50    1.584136e+11   \n",
       "\n",
       "         netIncome  freeCashFlow numberOfShares    dividends operatingCashFlow  \n",
       "date                                                                            \n",
       "TTM   7.584195e+10  5.293057e+10   8.490000e+08  105861140.0      1.623456e+11  \n",
       "2019  1.335363e+11  8.121062e+10   8.490000e+08  143668690.0      1.733098e+11  \n",
       "2018  1.550866e+11  1.184132e+11   8.480000e+08  182988542.0      1.704364e+11  \n",
       "2017  1.025341e+11  1.000388e+11   8.420000e+08  141400237.0      1.447273e+11  \n",
       "2016  1.225721e+11  7.198558e+10   8.110000e+08   87713516.0      1.116835e+11  \n",
       "2015  4.574714e+10  1.069198e+11   8.110000e+08   65028986.0      1.401148e+11  \n",
       "2014 -1.211354e+11  9.519941e+10   8.110000e+08  101324234.0      1.541036e+11  \n",
       "2013  6.276053e+09  3.024604e+10   8.110000e+08   19659926.0      1.193206e+11  \n",
       "2012  5.761871e+10  2.283576e+10   8.390000e+08   28733738.0      1.323264e+11  \n",
       "2011  1.538767e+11  2.185276e+10   1.005000e+09   36295248.0      1.516083e+11  \n",
       "2010 -4.347868e+10 -5.867732e+10   1.005000e+09    9829963.0      2.260891e+10  \n",
       "\n",
       "[11 rows x 114 columns]"
      ]
     },
     "execution_count": 818,
     "metadata": {},
     "output_type": "execute_result"
    }
   ],
   "source": [
    "Key_Ratios_df"
   ]
  },
  {
   "cell_type": "markdown",
   "metadata": {
    "id": "2_yZ9q6wK3HP"
   },
   "source": [
    "## Get Stock Price"
   ]
  },
  {
   "cell_type": "code",
   "execution_count": 819,
   "metadata": {
    "id": "ZuRfRJbuK3HP"
   },
   "outputs": [],
   "source": [
    "# Получаем данные с yahoo finance для одного тикера\n",
    "price = wb.DataReader(ticker, data_source='yahoo', start='2010-1-1') "
   ]
  },
  {
   "cell_type": "markdown",
   "metadata": {
    "id": "I4VNtvy3K3HP"
   },
   "source": [
    "Latest P/E"
   ]
  },
  {
   "cell_type": "code",
   "execution_count": 820,
   "metadata": {
    "id": "5B8dQpAMK3HP",
    "outputId": "50010f02-5661-42af-c5fd-19dcb9769fb5"
   },
   "outputs": [
    {
     "name": "stdout",
     "output_type": "stream",
     "text": [
      "12.068514663304711\n",
      "1104.199951171875\n"
     ]
    }
   ],
   "source": [
    "latest_price = price.loc['2020-11-20','Close']\n",
    "latest_eps = Key_Ratios_df['eps'][0]# Периоды указываем как в шаге выше\n",
    "latest_PtoE = latest_price/Key_Ratios_df['eps'][0]\n",
    "print(latest_PtoE)\n",
    "print(latest_price)"
   ]
  },
  {
   "cell_type": "markdown",
   "metadata": {
    "id": "AnC5ubMeK3HQ"
   },
   "source": [
    "Latest P/BV"
   ]
  },
  {
   "cell_type": "code",
   "execution_count": 821,
   "metadata": {
    "id": "LS4_IEt9K3HQ",
    "outputId": "727f1a70-0513-4d04-fa68-714b905ec238"
   },
   "outputs": [
    {
     "name": "stdout",
     "output_type": "stream",
     "text": [
      "0.0633586547318583\n"
     ]
    }
   ],
   "source": [
    "latest_price = price.loc['2020-11-20','Close']\n",
    "latest_eps = Key_Ratios_df['bookValuePerShare'][0]\n",
    "latest_PtoBV = latest_price/latest_eps\n",
    "print(latest_PtoBV)"
   ]
  },
  {
   "cell_type": "code",
   "execution_count": null,
   "metadata": {},
   "outputs": [],
   "source": []
  },
  {
   "cell_type": "code",
   "execution_count": 822,
   "metadata": {},
   "outputs": [
    {
     "data": {
      "text/plain": [
       "numpy.float64"
      ]
     },
     "execution_count": 822,
     "metadata": {},
     "output_type": "execute_result"
    }
   ],
   "source": [
    "type(Balance_df['Total Assets'][0])"
   ]
  },
  {
   "cell_type": "markdown",
   "metadata": {},
   "source": [
    "# Расчет WACC"
   ]
  },
  {
   "cell_type": "code",
   "execution_count": 823,
   "metadata": {},
   "outputs": [
    {
     "data": {
      "text/plain": [
       "849000000.0"
      ]
     },
     "execution_count": 823,
     "metadata": {},
     "output_type": "execute_result"
    }
   ],
   "source": [
    "numberOfShares0 = Key_Ratios_df['numberOfShares'][0]\n",
    "numberOfShares1 = Key_Ratios_df['numberOfShares'][0] # Периоды указываем как в шаге выше\n",
    "numberOfShares = numberOfShares0\n",
    "numberOfShares"
   ]
  },
  {
   "cell_type": "code",
   "execution_count": 824,
   "metadata": {},
   "outputs": [
    {
     "name": "stdout",
     "output_type": "stream",
     "text": [
      "6.01\n"
     ]
    }
   ],
   "source": [
    "start = datetime.datetime(2019, 2, 1)\n",
    "end = datetime.datetime.today().strftime('%Y-%m-%d')\n",
    "beta = YahooFinancials(ticker).get_beta()\n",
    "mktCap_2019 =  numberOfShares * (latest_price)\n",
    "\n",
    "\n",
    "# Treasury = wb.DataReader(['DGS10'], 'fred', start, end) # найти способ взять для русских компаний \n",
    "# RF = float(Treasury.iloc[-1])\n",
    "\n",
    "# ________________________________________ Парсим RF ___________________________\n",
    "session = HTMLSession()\n",
    "r = session.get('https://quote.rbc.ru/ticker/119252')\n",
    "RF_pars = r.html.xpath('''/html/body[@class='ticker-view g-body-bottom-padding']/div[@class='l-window l-window-overflow-mob']/div[@class='g-relative g-clear']/div[@class='l-col-container']/div[@class='l-table']/div[@class='g-relative']/div[@class='l-table l-table-min-height']/div[@class='l-col-main']/div[@class='q-item__bonds']/div[@class='q-item__bonds__wrap l-col-center-590']/div[@class='q-item__bonds__list']/div[@class='q-item__bonds__item'][1]/div[@class='q-item__bonds__info']/div[@class='q-item__bonds__value']''')\n",
    "\n",
    "RF = float(RF_pars[0].text[:-1].replace(',', '.'))\n",
    "print(RF)\n",
    "# RF = 0.0509\n",
    "    \n",
    "data = wb.DataReader('IMOEX.ME', data_source='yahoo', start='2007-1-1')  # заменить индекс на мосбиржи\n",
    "data['simple_return'] = (data['Adj Close'] / data['Adj Close'].shift(1)) - 1\n",
    "data['simple_return'].replace(np.nan, 0)\n",
    "avg_returns_a = data['simple_return'].mean() * 250\n",
    "    \n",
    "ke = RF + (float(beta) * (avg_returns_a - RF))\n",
    "# ke = RF + (float(work_table['beta'][0]) * (avg_returns_a - RF))\n",
    "\n"
   ]
  },
  {
   "cell_type": "code",
   "execution_count": 825,
   "metadata": {},
   "outputs": [],
   "source": [
    "# Income_df['Provision'] = Income_df['Provision for Income Tax']\n",
    "\n",
    "# Income_df['Provision for Income Tax'].T.groupby(level=0).first().T\n",
    "\n"
   ]
  },
  {
   "cell_type": "code",
   "execution_count": 826,
   "metadata": {},
   "outputs": [
    {
     "data": {
      "text/plain": [
       "0.9666923168686317"
      ]
     },
     "execution_count": 826,
     "metadata": {},
     "output_type": "execute_result"
    }
   ],
   "source": [
    "Balance_df['netDebt'] =  Balance_df['сurrent_debt'] + Balance_df['                Long Term Debt'] \\\n",
    "              -  Balance_df['            Cash and Cash Equivalents']\n",
    "\n",
    "\n",
    "WACC = (mktCap_2019 / (mktCap_2019 + Balance_df['netDebt'][0:2].mean())) * ke + (\n",
    "        Balance_df['netDebt'][0:2].mean() / (mktCap_2019 + Balance_df['netDebt'][0:2].mean())) * (\n",
    "               Income_df['            Interest Expense Net of Capitalized Interest'][1] / Balance_df['netDebt'][0:2].mean())* \\\n",
    "        (1 + (Income_df['Provision for Income Tax'][1] / Income_df['Pretax Income'][1]))\n",
    "\n",
    "\n",
    "\n",
    "WACC"
   ]
  },
  {
   "cell_type": "code",
   "execution_count": null,
   "metadata": {},
   "outputs": [],
   "source": []
  },
  {
   "cell_type": "code",
   "execution_count": 827,
   "metadata": {},
   "outputs": [
    {
     "name": "stdout",
     "output_type": "stream",
     "text": [
      "mktCap_2019 937465758544.9219\n",
      "balance_table netDebt 1198500000.0\n",
      "ke 0.9680438745799949\n",
      "interestExpense_2019 -137000000.0\n",
      "incomeTaxExpense_2019 -465000000.0\n",
      "incomeBeforeTax_2019 2232000000.0\n",
      "WACC 0.9666923168686317\n",
      "numberOfShares 849000000.0\n",
      "latest_price 1104.199951171875\n",
      "**************************************************\n",
      "RF 6.01\n"
     ]
    }
   ],
   "source": [
    "print(f'mktCap_2019 {mktCap_2019}')\n",
    "print(f'''balance_table netDebt {Balance_df['netDebt'][0:2].mean()}''')\n",
    "print(f'''ke {ke}''')\n",
    "print(f'''interestExpense_2019 {Income_df['            Interest Expense Net of Capitalized Interest'][1]}''')\n",
    "print(f'''incomeTaxExpense_2019 {Income_df['Provision for Income Tax'][1]}''')\n",
    "print(f'''incomeBeforeTax_2019 {Income_df['Pretax Income'][1]}''')\n",
    "print(f'''WACC {WACC}''')\n",
    "print(f'''numberOfShares {numberOfShares}''')\n",
    "print(f'''latest_price {latest_price}''')\n",
    "print(\"*\"* 50)\n",
    "print(f'''RF {RF}''')\n",
    "\n",
    " "
   ]
  },
  {
   "cell_type": "markdown",
   "metadata": {
    "id": "NiEIwESAK3HQ"
   },
   "source": [
    "## Calculating intrinsic value"
   ]
  },
  {
   "cell_type": "markdown",
   "metadata": {
    "id": "RQR-2R-2K3HQ"
   },
   "source": [
    "Расчет методом дивидендов и балансовой стоимости"
   ]
  },
  {
   "cell_type": "code",
   "execution_count": 828,
   "metadata": {
    "id": "9-H-s1H-K3HQ",
    "outputId": "2f032838-14d0-4573-fac7-8541d8ca4c49"
   },
   "outputs": [
    {
     "name": "stdout",
     "output_type": "stream",
     "text": [
      "83864020.0\n"
     ]
    }
   ],
   "source": [
    "dvd_avg = Key_Ratios_df['dividends'].mean() # Определим средний дивиденд\n",
    "print(dvd_avg)"
   ]
  },
  {
   "cell_type": "code",
   "execution_count": 829,
   "metadata": {
    "id": "MxqIGProK3HQ",
    "outputId": "368bd7e9-5047-4c31-e19f-592b43e025d8"
   },
   "outputs": [
    {
     "data": {
      "text/plain": [
       "11024690.66926012"
      ]
     },
     "execution_count": 829,
     "metadata": {},
     "output_type": "execute_result"
    }
   ],
   "source": [
    "# risk_free_rate = 0.18 # подставить WACC \n",
    "# The discounted capital for the dividend of 3-year later\n",
    "dvd_avg/(1+WACC)**3\n",
    "# The discounted capital for the dividend of 10-year later\n",
    "#dvd_avg/(1+risk_free_rate)**10"
   ]
  },
  {
   "cell_type": "code",
   "execution_count": 830,
   "metadata": {
    "id": "f89e70LLK3HQ",
    "outputId": "6f4ec4de-fc6c-4c9a-b5f0-7ef6892f52db"
   },
   "outputs": [
    {
     "name": "stdout",
     "output_type": "stream",
     "text": [
      "86653367.97884077\n"
     ]
    }
   ],
   "source": [
    "dvd_total = 0\n",
    "for i in range(1,11):\n",
    "    dvd_total = dvd_total + dvd_avg/(1+WACC)**i\n",
    "print(dvd_total)"
   ]
  },
  {
   "cell_type": "code",
   "execution_count": null,
   "metadata": {},
   "outputs": [],
   "source": []
  },
  {
   "cell_type": "markdown",
   "metadata": {
    "id": "z6cmFl1mK3HQ"
   },
   "source": [
    "Estimate future book value"
   ]
  },
  {
   "cell_type": "code",
   "execution_count": 831,
   "metadata": {
    "id": "WS2R9TivK3HQ",
    "outputId": "c2dac60f-3911-4c7b-a34c-60eaa1ed1290"
   },
   "outputs": [
    {
     "name": "stdout",
     "output_type": "stream",
     "text": [
      "0.8946711895397021\n"
     ]
    }
   ],
   "source": [
    "growth_rate_of_9y= Key_Ratios_df['bookValuePerShare'][0]/Key_Ratios_df['bookValuePerShare'][8] # Периоды указываем как в шаге выше\n",
    "avg_growth_rate = growth_rate_of_9y**(1/9)\n",
    "print(avg_growth_rate)"
   ]
  },
  {
   "cell_type": "code",
   "execution_count": 832,
   "metadata": {
    "id": "cQoo3rVkK3HQ",
    "outputId": "a79b0a6a-ba93-4b48-f351-08ed76665fbe"
   },
   "outputs": [
    {
     "name": "stdout",
     "output_type": "stream",
     "text": [
      "5726.329035816934\n"
     ]
    }
   ],
   "source": [
    "bvps_pred = Key_Ratios_df['bookValuePerShare'][0]*(avg_growth_rate**10) # Периоды указываем как в шаге выше\n",
    "print(bvps_pred)"
   ]
  },
  {
   "cell_type": "markdown",
   "metadata": {
    "id": "t2b44CYTK3HQ"
   },
   "source": [
    "## Стоимость акции по дивам и балансовой стоимости (наивный метод)"
   ]
  },
  {
   "cell_type": "code",
   "execution_count": 833,
   "metadata": {
    "id": "hp-NgLMrK3HQ",
    "outputId": "e2aff74d-0ac6-4e8a-b430-9e4e710064d7"
   },
   "outputs": [
    {
     "name": "stdout",
     "output_type": "stream",
     "text": [
      "86659094.30787659\n"
     ]
    }
   ],
   "source": [
    "data_intrinsic = bvps_pred + dvd_total\n",
    "print(data_intrinsic)"
   ]
  },
  {
   "cell_type": "code",
   "execution_count": 834,
   "metadata": {
    "id": "026ePSvwK3HQ",
    "outputId": "10e919ff-9ec5-4c2d-c0ca-6f1a09257b29"
   },
   "outputs": [
    {
     "data": {
      "text/plain": [
       "86657990.10792542"
      ]
     },
     "execution_count": 834,
     "metadata": {},
     "output_type": "execute_result"
    }
   ],
   "source": [
    "data_intrinsic - latest_price #Маржа безопасности"
   ]
  },
  {
   "cell_type": "code",
   "execution_count": 835,
   "metadata": {
    "id": "tZIcUjmIK3HQ",
    "outputId": "48e02555-2cb7-47ee-9894-d97f450bf928"
   },
   "outputs": [
    {
     "data": {
      "text/plain": [
       "<matplotlib.axes._subplots.AxesSubplot at 0x1b2eee528b0>"
      ]
     },
     "execution_count": 835,
     "metadata": {},
     "output_type": "execute_result"
    },
    {
     "data": {
      "image/png": "[encoded data removed]",
      "text/plain": [
       "<Figure size 720x432 with 1 Axes>"
      ]
     },
     "metadata": {
      "needs_background": "light"
     },
     "output_type": "display_data"
    }
   ],
   "source": [
    "Key_Ratios_df['dividends'].plot(figsize=(10,6), title=\"PM's Dividends in Last 10 Years\")"
   ]
  },
  {
   "cell_type": "code",
   "execution_count": 836,
   "metadata": {
    "id": "N6i2T-VnK3HQ",
    "outputId": "e9367460-b0be-4312-a152-2a84ddceabcf"
   },
   "outputs": [
    {
     "data": {
      "text/plain": [
       "<matplotlib.axes._subplots.AxesSubplot at 0x1b2ed89ddc0>"
      ]
     },
     "execution_count": 836,
     "metadata": {},
     "output_type": "execute_result"
    },
    {
     "data": {
      "image/png": "[encoded data removed]",
      "text/plain": [
       "<Figure size 720x432 with 1 Axes>"
      ]
     },
     "metadata": {
      "needs_background": "light"
     },
     "output_type": "display_data"
    }
   ],
   "source": [
    "Key_Ratios_df['bookValuePerShare'].plot(figsize=(10,6), title=\"PM's Book Value in Last 10 Years\")"
   ]
  },
  {
   "cell_type": "markdown",
   "metadata": {
    "id": "Bru3L1MfK3HQ"
   },
   "source": [
    "### Расчет стоимости по дивам и балансовой стоимости с помощью линейной регрессии"
   ]
  },
  {
   "cell_type": "code",
   "execution_count": 837,
   "metadata": {
    "colab": {
     "base_uri": "https://localhost:8080/",
     "height": 214
    },
    "executionInfo": {
     "elapsed": 2181,
     "status": "error",
     "timestamp": 1606203303100,
     "user": {
      "displayName": "Антон Филимонцев",
      "photoUrl": "https://lh3.googleusercontent.com/a-/AOh14GgXMWMDCqDyAK2nY5btETV-A_lrkmEWGgAnMNCs=s64",
      "userId": "13258489990039501932"
     },
     "user_tz": -180
    },
    "id": "GDd-s7tRK3HR",
    "outputId": "b84455e0-0191-4e39-84fa-6f17b00096c5"
   },
   "outputs": [],
   "source": [
    "# 'year_index' as the order of the year\n",
    "data['year_index'] = range(1, len(data) + 1)\n",
    "# add intercept\n",
    "data['intercept'] = 1"
   ]
  },
  {
   "cell_type": "code",
   "execution_count": 838,
   "metadata": {
    "colab": {
     "base_uri": "https://localhost:8080/",
     "height": 163
    },
    "executionInfo": {
     "elapsed": 2499,
     "status": "error",
     "timestamp": 1606203303577,
     "user": {
      "displayName": "Антон Филимонцев",
      "photoUrl": "https://lh3.googleusercontent.com/a-/AOh14GgXMWMDCqDyAK2nY5btETV-A_lrkmEWGgAnMNCs=s64",
      "userId": "13258489990039501932"
     },
     "user_tz": -180
    },
    "id": "RAIiATj4K3HR",
    "outputId": "d4ddb79b-77eb-4a6f-b681-17c7eff58016"
   },
   "outputs": [
    {
     "data": {
      "text/html": [
       "<div>\n",
       "<style scoped>\n",
       "    .dataframe tbody tr th:only-of-type {\n",
       "        vertical-align: middle;\n",
       "    }\n",
       "\n",
       "    .dataframe tbody tr th {\n",
       "        vertical-align: top;\n",
       "    }\n",
       "\n",
       "    .dataframe thead th {\n",
       "        text-align: right;\n",
       "    }\n",
       "</style>\n",
       "<table border=\"1\" class=\"dataframe\">\n",
       "  <thead>\n",
       "    <tr style=\"text-align: right;\">\n",
       "      <th></th>\n",
       "      <th>High</th>\n",
       "      <th>Low</th>\n",
       "      <th>Open</th>\n",
       "      <th>Close</th>\n",
       "      <th>Volume</th>\n",
       "      <th>Adj Close</th>\n",
       "      <th>simple_return</th>\n",
       "      <th>year_index</th>\n",
       "      <th>intercept</th>\n",
       "    </tr>\n",
       "    <tr>\n",
       "      <th>Date</th>\n",
       "      <th></th>\n",
       "      <th></th>\n",
       "      <th></th>\n",
       "      <th></th>\n",
       "      <th></th>\n",
       "      <th></th>\n",
       "      <th></th>\n",
       "      <th></th>\n",
       "      <th></th>\n",
       "    </tr>\n",
       "  </thead>\n",
       "  <tbody>\n",
       "    <tr>\n",
       "      <th>2013-03-04</th>\n",
       "      <td>1477.270020</td>\n",
       "      <td>1461.489990</td>\n",
       "      <td>1473.540039</td>\n",
       "      <td>1464.449951</td>\n",
       "      <td>0.0</td>\n",
       "      <td>1464.449951</td>\n",
       "      <td>NaN</td>\n",
       "      <td>1</td>\n",
       "      <td>1</td>\n",
       "    </tr>\n",
       "    <tr>\n",
       "      <th>2013-03-05</th>\n",
       "      <td>1486.729980</td>\n",
       "      <td>1485.040039</td>\n",
       "      <td>1485.040039</td>\n",
       "      <td>1486.420044</td>\n",
       "      <td>0.0</td>\n",
       "      <td>1486.420044</td>\n",
       "      <td>0.015002</td>\n",
       "      <td>2</td>\n",
       "      <td>1</td>\n",
       "    </tr>\n",
       "    <tr>\n",
       "      <th>2013-03-06</th>\n",
       "      <td>1498.020020</td>\n",
       "      <td>1485.040039</td>\n",
       "      <td>1485.040039</td>\n",
       "      <td>1491.489990</td>\n",
       "      <td>0.0</td>\n",
       "      <td>1491.489990</td>\n",
       "      <td>0.003411</td>\n",
       "      <td>3</td>\n",
       "      <td>1</td>\n",
       "    </tr>\n",
       "    <tr>\n",
       "      <th>2013-03-07</th>\n",
       "      <td>1498.290039</td>\n",
       "      <td>1489.020020</td>\n",
       "      <td>1491.989990</td>\n",
       "      <td>1491.349976</td>\n",
       "      <td>0.0</td>\n",
       "      <td>1491.349976</td>\n",
       "      <td>-0.000094</td>\n",
       "      <td>4</td>\n",
       "      <td>1</td>\n",
       "    </tr>\n",
       "    <tr>\n",
       "      <th>2013-03-11</th>\n",
       "      <td>1506.420044</td>\n",
       "      <td>1503.640015</td>\n",
       "      <td>1503.979980</td>\n",
       "      <td>1505.930054</td>\n",
       "      <td>0.0</td>\n",
       "      <td>1505.930054</td>\n",
       "      <td>0.009776</td>\n",
       "      <td>5</td>\n",
       "      <td>1</td>\n",
       "    </tr>\n",
       "  </tbody>\n",
       "</table>\n",
       "</div>"
      ],
      "text/plain": [
       "                   High          Low         Open        Close  Volume  \\\n",
       "Date                                                                     \n",
       "2013-03-04  1477.270020  1461.489990  1473.540039  1464.449951     0.0   \n",
       "2013-03-05  1486.729980  1485.040039  1485.040039  1486.420044     0.0   \n",
       "2013-03-06  1498.020020  1485.040039  1485.040039  1491.489990     0.0   \n",
       "2013-03-07  1498.290039  1489.020020  1491.989990  1491.349976     0.0   \n",
       "2013-03-11  1506.420044  1503.640015  1503.979980  1505.930054     0.0   \n",
       "\n",
       "              Adj Close  simple_return  year_index  intercept  \n",
       "Date                                                           \n",
       "2013-03-04  1464.449951            NaN           1          1  \n",
       "2013-03-05  1486.420044       0.015002           2          1  \n",
       "2013-03-06  1491.489990       0.003411           3          1  \n",
       "2013-03-07  1491.349976      -0.000094           4          1  \n",
       "2013-03-11  1505.930054       0.009776           5          1  "
      ]
     },
     "execution_count": 838,
     "metadata": {},
     "output_type": "execute_result"
    }
   ],
   "source": [
    "data.head()"
   ]
  },
  {
   "cell_type": "code",
   "execution_count": 839,
   "metadata": {
    "executionInfo": {
     "elapsed": 2475,
     "status": "aborted",
     "timestamp": 1606203303555,
     "user": {
      "displayName": "Антон Филимонцев",
      "photoUrl": "https://lh3.googleusercontent.com/a-/AOh14GgXMWMDCqDyAK2nY5btETV-A_lrkmEWGgAnMNCs=s64",
      "userId": "13258489990039501932"
     },
     "user_tz": -180
    },
    "id": "ufpzHsdgK3HR"
   },
   "outputs": [
    {
     "name": "stdout",
     "output_type": "stream",
     "text": [
      "-19579.773993999974\n"
     ]
    }
   ],
   "source": [
    "\n",
    "# 'year_index' as the order of the year\n",
    "Key_Ratios_df['year_index'] = range(1, len(Key_Ratios_df) + 1)[::-1]\n",
    "# add intercept\n",
    "Key_Ratios_df['intercept'] = 1\n",
    "# print(Key_Ratios_df['year_index'])\n",
    "\n",
    "bvps_model = sm.OLS(Key_Ratios_df['bookValuePerShare'], Key_Ratios_df[['year_index', 'intercept']]).fit()\n",
    "\n",
    "bvps_pred_lr = bvps_model.predict([19, 1])[0] #Прогнозируем балансовую стоимость через 10 лет\n",
    "print(bvps_pred_lr)"
   ]
  },
  {
   "cell_type": "code",
   "execution_count": 840,
   "metadata": {
    "executionInfo": {
     "elapsed": 2462,
     "status": "aborted",
     "timestamp": 1606203303558,
     "user": {
      "displayName": "Антон Филимонцев",
      "photoUrl": "https://lh3.googleusercontent.com/a-/AOh14GgXMWMDCqDyAK2nY5btETV-A_lrkmEWGgAnMNCs=s64",
      "userId": "13258489990039501932"
     },
     "user_tz": -180
    },
    "id": "whZJp9BZK3HR"
   },
   "outputs": [],
   "source": [
    "dvd_model = sm.OLS(Key_Ratios_df['dividends'], Key_Ratios_df[['year_index','intercept']]).fit()\n"
   ]
  },
  {
   "cell_type": "code",
   "execution_count": 841,
   "metadata": {
    "executionInfo": {
     "elapsed": 2452,
     "status": "aborted",
     "timestamp": 1606203303559,
     "user": {
      "displayName": "Антон Филимонцев",
      "photoUrl": "https://lh3.googleusercontent.com/a-/AOh14GgXMWMDCqDyAK2nY5btETV-A_lrkmEWGgAnMNCs=s64",
      "userId": "13258489990039501932"
     },
     "user_tz": -180
    },
    "id": "gZ2Lq2kEK3HR"
   },
   "outputs": [
    {
     "data": {
      "text/plain": [
       "273224852.7"
      ]
     },
     "execution_count": 841,
     "metadata": {},
     "output_type": "execute_result"
    }
   ],
   "source": [
    "dvd_model.predict([19,1])[0] #Определить дивиденд через 10 лет"
   ]
  },
  {
   "cell_type": "code",
   "execution_count": 842,
   "metadata": {
    "executionInfo": {
     "elapsed": 2442,
     "status": "aborted",
     "timestamp": 1606203303560,
     "user": {
      "displayName": "Антон Филимонцев",
      "photoUrl": "https://lh3.googleusercontent.com/a-/AOh14GgXMWMDCqDyAK2nY5btETV-A_lrkmEWGgAnMNCs=s64",
      "userId": "13258489990039501932"
     },
     "user_tz": -180
    },
    "id": "mF23jJ4GK3HR"
   },
   "outputs": [
    {
     "name": "stdout",
     "output_type": "stream",
     "text": [
      "162251364.39850667\n"
     ]
    }
   ],
   "source": [
    "# Дивиденды за 10 лет\n",
    "dvd_total_lr = 0\n",
    "current_year_order = 9\n",
    "for i in range(1,11):\n",
    "    dvd_new = dvd_model.predict([current_year_order + i,1])[0]\n",
    "    dvd_total_lr = dvd_total_lr + dvd_new/(1+WACC)**i\n",
    "print(dvd_total_lr)"
   ]
  },
  {
   "cell_type": "code",
   "execution_count": 843,
   "metadata": {
    "executionInfo": {
     "elapsed": 2431,
     "status": "aborted",
     "timestamp": 1606203303560,
     "user": {
      "displayName": "Антон Филимонцев",
      "photoUrl": "https://lh3.googleusercontent.com/a-/AOh14GgXMWMDCqDyAK2nY5btETV-A_lrkmEWGgAnMNCs=s64",
      "userId": "13258489990039501932"
     },
     "user_tz": -180
    },
    "id": "md3yeA0aK3HR"
   },
   "outputs": [
    {
     "name": "stdout",
     "output_type": "stream",
     "text": [
      "162231784.62451267\n"
     ]
    }
   ],
   "source": [
    "aapl_intrinsic_lr = dvd_total_lr + bvps_pred_lr\n",
    "print(aapl_intrinsic_lr)"
   ]
  },
  {
   "cell_type": "code",
   "execution_count": 844,
   "metadata": {
    "executionInfo": {
     "elapsed": 2422,
     "status": "aborted",
     "timestamp": 1606203303561,
     "user": {
      "displayName": "Антон Филимонцев",
      "photoUrl": "https://lh3.googleusercontent.com/a-/AOh14GgXMWMDCqDyAK2nY5btETV-A_lrkmEWGgAnMNCs=s64",
      "userId": "13258489990039501932"
     },
     "user_tz": -180
    },
    "id": "hfG3EfgQK3HR"
   },
   "outputs": [
    {
     "data": {
      "text/plain": [
       "162230680.4245615"
      ]
     },
     "execution_count": 844,
     "metadata": {},
     "output_type": "execute_result"
    }
   ],
   "source": [
    "aapl_intrinsic_lr - latest_price #Маржа безопасности"
   ]
  },
  {
   "cell_type": "markdown",
   "metadata": {
    "id": "Zi33AGjsK3HR"
   },
   "source": [
    "Пиотроски F-score"
   ]
  },
  {
   "cell_type": "code",
   "execution_count": null,
   "metadata": {
    "executionInfo": {
     "elapsed": 2368,
     "status": "aborted",
     "timestamp": 1606203303567,
     "user": {
      "displayName": "Антон Филимонцев",
      "photoUrl": "https://lh3.googleusercontent.com/a-/AOh14GgXMWMDCqDyAK2nY5btETV-A_lrkmEWGgAnMNCs=s64",
      "userId": "13258489990039501932"
     },
     "user_tz": -180
    },
    "id": "cT6mZHXGK3HR"
   },
   "outputs": [],
   "source": []
  },
  {
   "cell_type": "code",
   "execution_count": null,
   "metadata": {
    "executionInfo": {
     "elapsed": 2305,
     "status": "aborted",
     "timestamp": 1606203303574,
     "user": {
      "displayName": "Антон Филимонцев",
      "photoUrl": "https://lh3.googleusercontent.com/a-/AOh14GgXMWMDCqDyAK2nY5btETV-A_lrkmEWGgAnMNCs=s64",
      "userId": "13258489990039501932"
     },
     "user_tz": -180
    },
    "id": "Q3jhMiKyK3HS"
   },
   "outputs": [],
   "source": []
  },
  {
   "cell_type": "code",
   "execution_count": 845,
   "metadata": {
    "executionInfo": {
     "elapsed": 2297,
     "status": "aborted",
     "timestamp": 1606203303575,
     "user": {
      "displayName": "Антон Филимонцев",
      "photoUrl": "https://lh3.googleusercontent.com/a-/AOh14GgXMWMDCqDyAK2nY5btETV-A_lrkmEWGgAnMNCs=s64",
      "userId": "13258489990039501932"
     },
     "user_tz": -180
    },
    "id": "ifv_FNXbK3HS"
   },
   "outputs": [
    {
     "name": "stdout",
     "output_type": "stream",
     "text": [
      "f_score is 4\n"
     ]
    }
   ],
   "source": [
    "# Считаем F-Score. Формула не идеальная, к ней есть вопросы\n",
    "\n",
    "cashflow_op = (Key_Ratios_df['operatingCashFlow'][0] + Key_Ratios_df['operatingCashFlow'][1] + Key_Ratios_df['operatingCashFlow'][2] \\\n",
    "               + Key_Ratios_df['operatingCashFlow'][3]) \n",
    "\n",
    "ROA_FS = (round(Income_df['Net Income Available to Common Stockholders'][0]/((Balance_df['Total Assets'][0] + Balance_df['Total Assets'][1])/2), 2)>0)  \n",
    "CFO_FS = int(Key_Ratios_df['operatingCashFlow'][0]>0)\n",
    "ROA_D_FS = int((round(Income_df['Net Income Available to Common Stockholders'][0]/((Balance_df['Total Assets'][0] + Balance_df['Total Assets'][1])/2), 2))>\n",
    "               (round(Income_df['Net Income Available to Common Stockholders'][1]/((Balance_df['Total Assets'][1] + Balance_df['Total Assets'][2])/2), 2)))\n",
    "CFO_ROA_FS = int((cashflow_op/Balance_df['Total Assets'][0])>(Income_df['Net Income Available to Common Stockholders'][0]/ ((Balance_df['Total Assets'][0] + Balance_df['Total Assets'][1])/2)))          \n",
    "CR_FS = int((Balance_df['Total Assets'][0]/Balance_df['Total Liabilities'][0])>      \n",
    "             (Balance_df['Total Assets'][1]/Balance_df['Total Liabilities'][1]))           \n",
    "LTD_FS = int(Balance_df['            Long Term Debt and Capital Lease Obligation'][0] <= Balance_df['            Long Term Debt and Capital Lease Obligation'][1])\n",
    "DILUTION_FS = int(numberOfShares0  <= numberOfShares1)\n",
    "GM_FS = int(Income_df['Gross Profit'][0]/Income_df['    Total Revenue'][0] > Income_df['Gross Profit'][1]/Income_df['    Total Revenue'][1])\n",
    "ATO_FS = int((Income_df['    Total Revenue'][0]/((Balance_df['Total Assets'][0] + Balance_df['Total Assets'][1])/2)) >\n",
    "            (Income_df['    Total Revenue'][1]/((Balance_df['Total Assets'][1] + Balance_df['Total Assets'][2])/2)))\n",
    "F_score = ROA_FS + CFO_FS + ROA_D_FS + CFO_ROA_FS + LTD_FS + CR_FS + DILUTION_FS + GM_FS + ATO_FS  \n",
    "\n",
    "print(f'f_score is {F_score}')\n",
    "\n",
    "\n",
    "# Вопросы к методике \n",
    "#1. ПРи расчете ROA_FS, мы исследуем число на предмет положительности относительно нуля, но это может быть только в одном случае, если числитель больше нуля, тогда в этой формуле знаменатель не нужен, ведь он в принципе не может быть меньше ноля\n",
    "#2. Зачем нам складывать в знаменателях значения за 2 года?\n",
    "#3. При сравнениее OCF не обязательно приводить показатель к миллиардам, т.к. нас интересует в принципе он больше нуля или нет\n",
    "#4. Почему мы считаем cashflow_op как сумма за 4 последних года, если в принципе нас интересует конкретно за последний год\n"
   ]
  },
  {
   "cell_type": "code",
   "execution_count": null,
   "metadata": {},
   "outputs": [],
   "source": []
  },
  {
   "cell_type": "code",
   "execution_count": 846,
   "metadata": {},
   "outputs": [
    {
     "name": "stdout",
     "output_type": "stream",
     "text": [
      "freeCashFlow_pred_lr1 = 102035015940.00002\n",
      "freeCashFlow_pred_lr2 = 112931151850.00002\n",
      "freeCashFlow_pred_lr3 = 123827287760.00002\n",
      "freeCashFlow_pred_lr4 = 134723423670.00002\n",
      "freeCashFlow_pred_lr5 = 145619559580.0\n",
      "date\n",
      "TTM     5.293057e+10\n",
      "2019    8.121062e+10\n",
      "2018    1.184132e+11\n",
      "2017    1.000388e+11\n",
      "2016    7.198558e+10\n",
      "2015    1.069198e+11\n",
      "2014    9.519941e+10\n",
      "2013    3.024604e+10\n",
      "2012    2.283576e+10\n",
      "2011    2.185276e+10\n",
      "2010   -5.867732e+10\n",
      "Name: freeCashFlow, dtype: float64\n",
      "52930570000.0\n"
     ]
    }
   ],
   "source": [
    "# 'year_index' as the order of the year\n",
    "Key_Ratios_df['year_index'] = range(1, len(Key_Ratios_df) + 1)[::-1]\n",
    "# add intercept\n",
    "Key_Ratios_df['intercept'] = 1\n",
    "\n",
    "Key_Ratios_df['freeCashFlow'] = Key_Ratios_df['freeCashFlow']\n",
    "# print(work_table)\n",
    "\n",
    "# modeling\n",
    "freeCashFlow_model = sm.OLS(Key_Ratios_df['freeCashFlow'], Key_Ratios_df[['year_index', 'intercept']]).fit()\n",
    "\n",
    "freeCashFlow_pred_lr = freeCashFlow_model.predict([19, 1])[0]  # Прогнозируем через 10 лет\n",
    "\n",
    "freeCashFlow_pred_lr5 = freeCashFlow_model.predict([14, 1])[0]  # Прогнозируем через 5 лет\n",
    "freeCashFlow_pred_lr4 = freeCashFlow_model.predict([13, 1])[0]\n",
    "freeCashFlow_pred_lr3 = freeCashFlow_model.predict([12, 1])[0]\n",
    "freeCashFlow_pred_lr2 = freeCashFlow_model.predict([11, 1])[0]\n",
    "freeCashFlow_pred_lr1 = freeCashFlow_model.predict([10, 1])[0]\n",
    "\n",
    "# CAGR FCF\n",
    "\n",
    "CF_forecast = {}\n",
    "\n",
    "CF_forecast['next_year1'] = {}\n",
    "CF_forecast['next_year1']['freeCashFlow'] = freeCashFlow_pred_lr1\n",
    "\n",
    "CF_forecast['next_year2'] = {}\n",
    "CF_forecast['next_year2']['freeCashFlow'] = freeCashFlow_pred_lr2\n",
    "\n",
    "CF_forecast['next_year3'] = {}\n",
    "CF_forecast['next_year3']['freeCashFlow'] = freeCashFlow_pred_lr3\n",
    "\n",
    "CF_forecast['next_year4'] = {}\n",
    "CF_forecast['next_year4']['freeCashFlow'] = freeCashFlow_pred_lr4\n",
    "\n",
    "CF_forecast['next_year5'] = {}\n",
    "CF_forecast['next_year5']['freeCashFlow'] = freeCashFlow_pred_lr5\n",
    "\n",
    "# print(CF_forecast)\n",
    "\n",
    "print(f'freeCashFlow_pred_lr1 = {freeCashFlow_pred_lr1}')\n",
    "print(f'freeCashFlow_pred_lr2 = {freeCashFlow_pred_lr2}')\n",
    "print(f'freeCashFlow_pred_lr3 = {freeCashFlow_pred_lr3}')\n",
    "print(f'freeCashFlow_pred_lr4 = {freeCashFlow_pred_lr4}')\n",
    "print(f'freeCashFlow_pred_lr5 = {freeCashFlow_pred_lr5}')\n",
    "\n",
    "# print(freeCashFlow_pred_lr)\n",
    "\n",
    "print(Key_Ratios_df['freeCashFlow'])\n",
    "print(Key_Ratios_df['freeCashFlow'][0])"
   ]
  },
  {
   "cell_type": "code",
   "execution_count": 847,
   "metadata": {},
   "outputs": [
    {
     "name": "stdout",
     "output_type": "stream",
     "text": [
      "npv = 218915385642.90668\n",
      "Terminal_value_Discounted = 3401704065210.0\n",
      "sum_num = 3620619450852.9067\n",
      "Estimated price = 4264.569435633577\n",
      "stock price = CHMF.ME    1141.6\n",
      "Name: price, dtype: float64\n",
      "difference_model_and_market_value = CHMF.ME    3122.969436\n",
      "Name: price, dtype: float64\n"
     ]
    }
   ],
   "source": [
    "LTGrowth = 0.02\n",
    "LTdis = 0.08\n",
    "PRICE = wb.get_quote_yahoo(f'{ticker_table}.ME')['price']\n",
    "\n",
    "\n",
    "CF_forec = pd.DataFrame.from_dict(CF_forecast, orient='columns')\n",
    "\n",
    "FCF_List = CF_forec.iloc[0:].values.tolist()\n",
    "\n",
    "npv = npf.npv(WACC, FCF_List[0])\n",
    "print(f'npv = {npv}')\n",
    "\n",
    "Terminal_value_Discounted = freeCashFlow_pred_lr * (1 + LTGrowth) / (LTdis - LTGrowth)\n",
    "\n",
    "print(f'Terminal_value_Discounted = {Terminal_value_Discounted}')\n",
    "\n",
    "sum_num = npv + Terminal_value_Discounted\n",
    "print(f'sum_num = {sum_num}')\n",
    "\n",
    "spl_num = sum_num / (Key_Ratios_df['numberOfShares'][0])\n",
    "print(f'Estimated price = {spl_num}')\n",
    "\n",
    "difference_model_and_market_value = spl_num - PRICE\n",
    "\n",
    "print(f'stock price = {PRICE}')\n",
    "\n",
    "print(f'difference_model_and_market_value = {difference_model_and_market_value}')"
   ]
  },
  {
   "cell_type": "code",
   "execution_count": null,
   "metadata": {},
   "outputs": [],
   "source": []
  },
  {
   "cell_type": "code",
   "execution_count": null,
   "metadata": {},
   "outputs": [],
   "source": []
  },
  {
   "cell_type": "code",
   "execution_count": null,
   "metadata": {},
   "outputs": [],
   "source": []
  },
  {
   "cell_type": "code",
   "execution_count": null,
   "metadata": {},
   "outputs": [],
   "source": []
  },
  {
   "cell_type": "code",
   "execution_count": null,
   "metadata": {},
   "outputs": [],
   "source": []
  }
 ],
 "metadata": {
  "colab": {
   "name": "Div_value_ru_stock_from_29.10_Ryzhikov.ipynb",
   "provenance": []
  },
  "kernelspec": {
   "display_name": "Python 3",
   "language": "python",
   "name": "python3"
  },
  "language_info": {
   "codemirror_mode": {
    "name": "ipython",
    "version": 3
   },
   "file_extension": ".py",
   "mimetype": "text/x-python",
   "name": "python",
   "nbconvert_exporter": "python",
   "pygments_lexer": "ipython3",
   "version": "3.8.3"
  }
 },
 "nbformat": 4,
 "nbformat_minor": 1
}
