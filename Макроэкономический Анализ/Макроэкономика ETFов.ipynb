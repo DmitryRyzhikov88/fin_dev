{
 "cells": [
  {
   "cell_type": "markdown",
   "metadata": {
    "jp-MarkdownHeadingCollapsed": true,
    "tags": []
   },
   "source": [
    "### Функция"
   ]
  },
  {
   "cell_type": "code",
   "execution_count": 1,
   "metadata": {},
   "outputs": [],
   "source": [
    "import warnings\n",
    "import pandas as pd\n",
    "import numpy as np\n",
    "import json\n",
    "import xgboost as xgb\n",
    "from sklearn.feature_selection import SelectKBest\n",
    "from sklearn.feature_selection import f_classif\n",
    "from sklearn.linear_model import LinearRegression\n",
    "from sklearn.model_selection import train_test_split\n",
    "import empyrical as ep\n",
    "import yfinance as yf\n",
    "import statsmodels.api as sm\n",
    "from sklearn import preprocessing\n",
    "from scipy import stats\n",
    "from scipy.signal import argrelextrema\n",
    "import pandas_gbq\n",
    "import sys, os\n",
    "from google.cloud import bigquery\n",
    "from google.oauth2 import service_account\n",
    "from multiprocessing.pool import ThreadPool\n",
    "import datetime\n",
    "from bokeh.plotting import figure\n",
    "from bokeh.io import show, output_notebook\n",
    "from bokeh.layouts import row\n",
    "from bokeh.io import output_file, output_notebook\n",
    "from bokeh.models import LinearAxis, Range1d\n",
    "from bokeh.models import Slope\n",
    "from bokeh.models import PolyAnnotation\n",
    "from bokeh.models.widgets import Tabs, Panel\n",
    "import requests\n",
    "import ipywidgets as widgets\n",
    "from ipywidgets import interact, interact_manual\n",
    "import sys\n",
    "import time\n",
    "warnings.filterwarnings('ignore')\n",
    "pd.options.mode.chained_assignment = None  # default='warn"
   ]
  },
  {
   "cell_type": "code",
   "execution_count": 2,
   "metadata": {},
   "outputs": [],
   "source": [
    "def prepare_data_frame(bd_data, currency, sql_index, yahoo_df):\n",
    "    tickers = bd_data.index.tolist()\n",
    "    #     print(tickers)\n",
    "    Data_for_Portfolio_TOTAL = pd.DataFrame()\n",
    "\n",
    "    for ticker in tickers:\n",
    "        try:\n",
    "            # =====================================================================\n",
    "            io = json.loads(bd_data.loc[ticker].loc['annuals'].replace(\"'\", '\"'))\n",
    "            pd.DataFrame(io['income_statement']).replace('No Debt', 0).replace('At Loss', 0).replace('-', 0).replace('',\n",
    "                                                                                                                     0).replace(\n",
    "                'N/A', 0).astype(float)\n",
    "            pre_date_list = pd.Series(io['Fiscal Year'])\n",
    "            pre_date_list = pre_date_list.str.split(\"-\")\n",
    "            data = pre_date_list.to_list()\n",
    "            names = [\"Date\", \"Month\"]\n",
    "            atata = pd.DataFrame(data[:-1], columns=names)\n",
    "            date_list = atata['Date'].append(pd.Series(data[-1]), ignore_index=True)\n",
    "            income_df = pd.DataFrame(io['income_statement']).set_index(date_list).replace('No Debt', 0).replace \\\n",
    "                ('At Loss', 0).replace('-', 0).replace('', 0).replace('N/A', 0).astype(float)\n",
    "            balance_df = pd.DataFrame(io['balance_sheet']).set_index(date_list).replace('No Debt', 0).replace \\\n",
    "                ('At Loss', 0).replace('-', 0).replace('', 0).replace('N/A', 0).astype(float)\n",
    "            cashflow_df = pd.DataFrame(io['cashflow_statement']).set_index(date_list).replace('No Debt', 0).replace \\\n",
    "                ('At Loss', 0).replace('-', 0).replace('', 0).replace('N/A', 0).astype(float)\n",
    "            valuation_ratios_df = pd.DataFrame(io['valuation_ratios']).set_index(date_list).replace('No Debt',\n",
    "                                                                                                    0).replace \\\n",
    "                ('At Loss', 0).replace('-', 0).replace('', 0).replace('N/A', 0).astype(float)\n",
    "            valuation_and_quality_df = pd.DataFrame(io['valuation_and_quality']).set_index(date_list).drop(\n",
    "                ['Restated Filing Date', 'Filing Date', 'Earnings Release Date'], axis=1).replace('', 0).replace(\n",
    "                'No Debt', 0).replace('At Loss', 0).replace('-', 0).replace('N/A', 0).astype(float)\n",
    "            common_size_ratios_df = pd.DataFrame(io['common_size_ratios']).set_index(date_list).replace('No Debt', 0) \\\n",
    "                .replace('At Loss', 0).replace('', 0).replace('-', 0).replace('N/A', 0).replace(\n",
    "                'Negative Tangible Equity',\n",
    "                0).astype(float)\n",
    "            per_share_data_df = pd.DataFrame(io['per_share_data_array']).set_index(date_list).replace('', 0) \\\n",
    "                .replace('No Debt', 0).replace('-', 0).replace('N/A', 0).astype(float)\n",
    "            check = 1\n",
    "        except:\n",
    "            print('aaaaaaaaaaaaaa')\n",
    "            check = 0\n",
    "            pass\n",
    "        \n",
    "        if check == 1:\n",
    "            try:\n",
    "                Data_for_Portfolio = pd.DataFrame()\n",
    "\n",
    "                Data_for_Portfolio['PE'] = valuation_ratios_df[\"PE Ratio\"]\n",
    "                Data_for_Portfolio['PB'] = valuation_ratios_df[\"PB Ratio\"]\n",
    "                Data_for_Portfolio['PS'] = valuation_ratios_df[\"PS Ratio\"]\n",
    "                Data_for_Portfolio['PEG'] = valuation_ratios_df[\"PEG Ratio\"]\n",
    "                Data_for_Portfolio['E/P'] = income_df['Net Income'] / valuation_and_quality_df['Market Cap']\n",
    "                Data_for_Portfolio['Revenue'] = income_df['Revenue']\n",
    "                Data_for_Portfolio['Net_Income'] = income_df['Net Income']\n",
    "                Data_for_Portfolio['FCF_Margin_%'] = common_size_ratios_df['FCF Margin %']\n",
    "                Data_for_Portfolio['Market Cap'] = valuation_and_quality_df['Market Cap']\n",
    "                try:\n",
    "                    Data_for_Portfolio['Shares Outstanding'] = valuation_and_quality_df['Shares Outstanding (EOP)']\n",
    "                except:\n",
    "                    pass\n",
    "                Data_for_Portfolio['Intrinsic Value: Projected FCF'] = valuation_and_quality_df['Intrinsic Value: Projected FCF']\n",
    "                Data_for_Portfolio['Net Margin %'] = income_df['Net Margin %']\n",
    "                try:\n",
    "                    Data_for_Portfolio['Operating Margin %'] = common_size_ratios_df['Operating Margin %']\n",
    "                except:\n",
    "                    pass\n",
    "                Data_for_Portfolio['ROE %'] = common_size_ratios_df['ROE %']\n",
    "                Data_for_Portfolio['ROA %'] = common_size_ratios_df['ROA %']\n",
    "                Data_for_Portfolio['ROIC %'] = common_size_ratios_df['ROIC %']         \n",
    "                Data_for_Portfolio['Dividend Yield %'] = valuation_ratios_df['Dividend Yield %']\n",
    "                Data_for_Portfolio['YoY Rev. per Sh. Growth'] = valuation_and_quality_df['YoY Rev. per Sh. Growth']\n",
    "                Data_for_Portfolio['YoY EPS Growth'] = valuation_and_quality_df['YoY EPS Growth']\n",
    "                Data_for_Portfolio['Dividend Payout Ratio'] = common_size_ratios_df['Dividend Payout Ratio']   \n",
    "                Data_for_Portfolio['Debt-to-Equity'] = balance_df['Debt-to-Equity']  \n",
    "                try:\n",
    "                    Data_for_Portfolio['market_cap'] = (valuation_and_quality_df['Shares Outstanding (EOP)'][-1] * 1000000) * yahoo_df[ticker].dropna()[-1]\n",
    "                except:\n",
    "                    pass           \n",
    "                Data_for_Portfolio['Company'] = ticker\n",
    "                Data_for_Portfolio['Date'] = date_list.tolist()              \n",
    "\n",
    "                Data_for_Portfolio = Data_for_Portfolio.replace([np.inf, -np.inf], 0)\n",
    "                Data_for_Portfolio = Data_for_Portfolio.set_index('Company')\n",
    "                Data_for_Portfolio = Data_for_Portfolio[::-1].fillna(0)\n",
    "\n",
    "                Data_for_Portfolio_TOTAL = pd.concat([Data_for_Portfolio, Data_for_Portfolio_TOTAL])\n",
    "                #Data_for_Portfolio_TOTAL = Data_for_Portfolio_TOTAL[(Data_for_Portfolio_TOTAL['Date'] >= cheked_year) & (Data_for_Portfolio_TOTAL['Date'] <= cheked_year_end)]\n",
    "                Data_for_Portfolio_TOTAL = Data_for_Portfolio_TOTAL[Data_for_Portfolio_TOTAL['Date'] >= cheked_year]\n",
    "                    #delete \"\\r\" to append instead of overwrite\n",
    "                sys.stdout.write(\"\\r\" + str(ticker))\n",
    "                sys.stdout.flush()\n",
    "                time.sleep(0.3)\n",
    "                \n",
    "            except Exception as e:\n",
    "                print(e)\n",
    "                exc_type, exc_obj, exc_tb = sys.exc_info()\n",
    "                fname = os.path.split(exc_tb.tb_frame.f_code.co_filename)[1]\n",
    "                print(exc_type, fname, exc_tb.tb_lineno)\n",
    "                pass\n",
    "\n",
    "    return Data_for_Portfolio_TOTAL\n",
    "\n",
    "def yahoo_adj_close(exchange, project_id):\n",
    "    #print('yahoo_adj_close')\n",
    "    sql_adj_close = f\"\"\"\n",
    "    SELECT *\n",
    "    FROM `buoyant-apogee-281013.FIN.Adj_Close_2`\n",
    "    WHERE _Exchange in {exchange}\n",
    "    \"\"\"\n",
    "    sql_yahoo_data_adj_close = pandas_gbq.read_gbq(sql_adj_close, project_id=project_id)\n",
    "    pre_adj_close = sql_yahoo_data_adj_close.rename(columns=lambda x: x.replace('_', '-')[1:])\n",
    "    pre_adj_close = pre_adj_close.T.rename(columns=sql_yahoo_data_adj_close['_Ticker'])[:-3]\n",
    "    # Converting the index as date\n",
    "    pre_adj_close.index = pd.to_datetime(pre_adj_close.index, format='%Y-%m-%d')\n",
    "    sql_yahoo_data_adj_close = pre_adj_close[:-1]\n",
    "    return sql_yahoo_data_adj_close\n",
    "\n",
    "def yahoo_adj_close_list(company, project_id):\n",
    "    #print('yahoo_adj_close')\n",
    "    sql_adj_close = f\"\"\"\n",
    "    SELECT *\n",
    "    FROM `buoyant-apogee-281013.FIN.Adj_Close_2`\n",
    "    WHERE _Ticker in {company}\n",
    "    \"\"\"\n",
    "    sql_yahoo_data_adj_close = pandas_gbq.read_gbq(sql_adj_close, project_id=project_id)\n",
    "    pre_adj_close = sql_yahoo_data_adj_close.rename(columns=lambda x: x.replace('_', '-')[1:])\n",
    "    pre_adj_close = pre_adj_close.T.rename(columns=sql_yahoo_data_adj_close['_Ticker'])[:-3]\n",
    "    # Converting the index as date\n",
    "    pre_adj_close.index = pd.to_datetime(pre_adj_close.index, format='%Y-%m-%d')\n",
    "    sql_yahoo_data_adj_close = pre_adj_close[:-1]\n",
    "    return sql_yahoo_data_adj_close\n",
    "\n",
    "def sql_index(project_id):\n",
    "    sql_index_req = f\"\"\"\n",
    "    SELECT *\n",
    "    FROM `buoyant-apogee-281013.FIN.INDEXES`\n",
    "    \"\"\"\n",
    "    sql_index = pandas_gbq.read_gbq(sql_index_req, project_id=project_id)\n",
    "    return sql_index\n",
    "\n",
    "def sql_guru(exchange, project_id):\n",
    "    if len(exchange) >= 2:\n",
    "        sql_guru_req = f\"\"\"\n",
    "        SELECT *\n",
    "        FROM `buoyant-apogee-281013.FIN.GURU`\n",
    "        WHERE exchange in {exchange}\n",
    "        \"\"\"\n",
    "    sql_data_guru = pandas_gbq.read_gbq(sql_guru_req, project_id=project_id)\n",
    "    return sql_data_guru\n",
    "\n",
    "def sql_guru_list(company, project_id):\n",
    "    sql_guru_req = f\"\"\"\n",
    "    SELECT *\n",
    "    FROM `buoyant-apogee-281013.FIN.GURU`\n",
    "    WHERE company in {company}\n",
    "    \"\"\"\n",
    "    sql_data_guru = pandas_gbq.read_gbq(sql_guru_req, project_id=project_id)\n",
    "    return sql_data_guru\n",
    "\n",
    "def sql_guru_yahoo_table(project_id):\n",
    "    sql_open = f\"\"\"\n",
    "    SELECT *\n",
    "    FROM `buoyant-apogee-281013.FIN.Yahoo_Exchange`\n",
    "    \"\"\"\n",
    "    bd_data_yahoo = pandas_gbq.read_gbq(sql_open, project_id=project_id)\n",
    "    return bd_data_yahoo\n",
    "\n",
    "def sql_yahoo(ticker_list, guru_yahoo_table):\n",
    "    tickers = []\n",
    "    tickers_name_final = []\n",
    "    for tik in ticker_list:\n",
    "        #print(tik)\n",
    "        if tik.split(':')[0] == 'NAS' or tik.split(':')[0] == 'NYSE':\n",
    "            yah_exc = ''\n",
    "        elif tik.split(':')[0] == 'AMEX':\n",
    "            yah_exc = ''\n",
    "        elif tik.split(':')[0] == 'HKSE':\n",
    "            yah_exc = guru_yahoo_table['yahoo'].where(guru_yahoo_table['guru'] == tik.split(':')[0]).dropna().values[0]\n",
    "        else:\n",
    "            yah_exc = guru_yahoo_table['yahoo'].where(guru_yahoo_table['guru'] == tik.split(':')[0]).dropna().values[0]\n",
    "\n",
    "        if tik.split(':')[0] == 'HKSE':\n",
    "            tickers.append(tik.split(':')[1][1:] + yah_exc)\n",
    "        else:\n",
    "            tickers.append(tik.split(':')[1] + yah_exc)\n",
    "\n",
    "    #print(tickers)\n",
    "    try:\n",
    "        yahoo_data = yf.download(tickers)\n",
    "        # yahoo_data = yahoo_data[:limit_date]\n",
    "        yahoo_data_check = yahoo_data['Adj Close']\n",
    "    except:\n",
    "        pass\n",
    "    tickers_name_yahoo = []\n",
    "\n",
    "    for tik_yahoo in yahoo_data_check.columns.tolist():\n",
    "\n",
    "        if tik_yahoo.split('.')[-1] == 'HK':\n",
    "            for i in range(len(ticker_list)):\n",
    "                if tik_yahoo.split('.')[0] == ticker_list[i].split(':')[1][1:].split('.')[0]:\n",
    "                    tickers_name_final.append(ticker_list[i])\n",
    "                    tickers_name_yahoo.append(tik_yahoo)\n",
    "\n",
    "        else:\n",
    "            for i in range(len(ticker_list)):\n",
    "                if tik_yahoo.split('.')[0] == ticker_list[i].split(':')[1].split('.')[0]:\n",
    "                    tickers_name_final.append(ticker_list[i])\n",
    "                    tickers_name_yahoo.append(tik_yahoo)\n",
    "\n",
    "    #print('tickers_name_yahoo')\n",
    "    #print(tickers_name_yahoo)\n",
    "    yahoo_adj_close = pd.DataFrame()\n",
    "    yahoo_adj_close = yahoo_data['Adj Close'][tickers_name_yahoo].copy().set_axis(tickers_name_final, axis=1)\n",
    "    yahoo_close = yahoo_data['Close'][tickers_name_yahoo].copy().set_axis(tickers_name_final, axis=1)\n",
    "\n",
    "\n",
    "    #print('yahoo_adj_close')\n",
    "    #print(yahoo_adj_close)\n",
    "\n",
    "    return yahoo_adj_close, yahoo_close"
   ]
  },
  {
   "cell_type": "code",
   "execution_count": 3,
   "metadata": {},
   "outputs": [],
   "source": [
    "type_of_get_data = 'From_List'\n",
    "cheked_year= '2007'\n",
    "cheked_year_end = '2021'\n",
    "currency = 'EUR=X'\n",
    "\n",
    "# *****************************SQL params ***************\n",
    "credentials = service_account.Credentials.from_service_account_file('gadgets_database_key.json')\n",
    "project_id = 'buoyant-apogee-281013'\n",
    "client = bigquery.Client(credentials=credentials, project=project_id)\n",
    "table_id_guru = \"buoyant-apogee-281013.FIN.GURU\"\n",
    "table_id_yahoo_adj_close = \"buoyant-apogee-281013.FIN.Adj Close\"\n",
    "job_config = bigquery.QueryJobConfig()\n",
    "\n",
    "options = {'RXI':'RXI', 'HERO':'HERO', 'KXI':'KXI', 'AMLP':'AMLP', 'ICLN':'ICLN', 'IXC':'IXC', 'IXG':'IXG', 'IXJ':'IXJ', 'IBB':'IBB', 'EXI':'EXI', \\\n",
    "          'MXI':'MXI', 'VEGI':'VEGI',  'PICK':'PICK', 'IXN':'IXN',  'IDRV':'IDRV', 'REMX':'REMX', 'URA':'URA', 'NLR':'NLR', \\\n",
    "           'PBJ':'PBJ', 'GDX':'GDX',  'SOXX':'SOXX', 'XT':'XT', 'IXP':'IXP', 'IGF':'IGF',  'SIL':'SIL', 'SNSR':'SNSR', 'BUG':'BUG', 'CLOU':'CLOU',  \\\n",
    "          'CARZ':'CARZ', 'DAPP':'DAPP', 'BOTZ':'BOTZ'}\n",
    "Data_for_Portfolio_TOTAL_2 = pd.DataFrame()\n",
    "Data_for_Portfolio_TOTAL_1 = pd.DataFrame()\n",
    "def show_stats_by_tag(ETF):\n",
    "    \n",
    "    companies = pd.read_excel('ETF.xlsx', sheet_name=options[ETF])['ticker Guru']\n",
    "    companies = tuple(companies)\n",
    "    #print('companies')\n",
    "    print(companies[:10], '...')\n",
    "    print(len(companies))\n",
    "    company = companies\n",
    "    # ===================== treads for qsl requests\n",
    "    pool = ThreadPool(processes=8)\n",
    "\n",
    "    return_sql_data_guru = pool.apply_async(sql_guru_list, (companies, project_id))\n",
    "    return_sql_yahoo_data_adj_close = pool.apply_async(yahoo_adj_close_list, (companies, project_id))\n",
    "    return_sql_index = pool.apply_async(sql_index, ([project_id]))\n",
    "    # do some other stuff in the main process\n",
    "    sql_yahoo_data_adj_close = return_sql_yahoo_data_adj_close.get()\n",
    "    #sql_index = return_sql_index.get()\n",
    "    sql_data_guru = return_sql_data_guru.get()\n",
    "\n",
    "    # *****************************SQL requests ***************\n",
    "    #index = sql_index['index'][0]\n",
    "    tickers_yahoo = sql_yahoo_data_adj_close.columns.tolist()\n",
    "    tickers_guru = sql_yahoo_data_adj_close.columns.tolist()\n",
    "\n",
    "    data_guru = sql_data_guru[sql_data_guru['company'].isin(tickers_guru)].set_index('company')\n",
    "    guru_yahoo_table = sql_guru_yahoo_table(project_id)\n",
    "\n",
    "    yahoo_adj_close= sql_yahoo(companies, guru_yahoo_table)\n",
    "    yahoo_df= pd.DataFrame(yahoo_adj_close[0])\n",
    "    currencies = ['CADUSD=X', 'AUDUSD=X', 'TRYUSD=X', 'CHFUSD=X', 'MYRUSD=X', 'USDMXN=X', 'GBPUSD=X', 'SGDUSD=X', \\\n",
    "            'HKDUSD=X', 'ZARUSD=X', 'ILSUSD=X', 'JPYUSD=X', 'RUBUSD=X', 'EURUSD=X']\n",
    "    df_currencies = pd.DataFrame()\n",
    "    prom_df = pd.DataFrame()\n",
    "    for k in currencies:\n",
    "        prom_df[k] = yf.download(k, progress = False)['Adj Close']\n",
    "        df_currencies[k] = prom_df[k].asfreq('BA')\n",
    "    df_currencies = df_currencies.append(prom_df.iloc[-1]).sort_values(by='Date', ascending=False)\n",
    "    \n",
    "    etf_gold = [ETF, 'GC=F']\n",
    "    df_etf = yf.download(etf_gold, start='2007-01-01', end=datetime.datetime.today().date(), progress = False)['Adj Close'].dropna()\n",
    "    \n",
    "    sql_guru_req = f\"\"\"\n",
    "    SELECT *\n",
    "    FROM `buoyant-apogee-281013.FIN.Summary`\n",
    "    WHERE company in {company}\n",
    "    \"\"\"\n",
    "\n",
    "    sql_data_guru = pandas_gbq.read_gbq(sql_guru_req, project_id=project_id)\n",
    "    sql_data_guru = sql_data_guru.set_index('company')\n",
    "\n",
    "    tickers = sql_data_guru.index.tolist()\n",
    "    company_data_df = []\n",
    "    \n",
    "    #------------------------------------------------------------------------------------------------\n",
    "    Data_for_Portfolio_TOTAL = pd.DataFrame()\n",
    "    Data_for_Portfolio_TOTAL = prepare_data_frame(data_guru, currency, sql_index, yahoo_df)\n",
    "    global Data_for_Portfolio_TOTAL_2 \n",
    "    Data_for_Portfolio_TOTAL_2  = Data_for_Portfolio_TOTAL\n",
    "    global Data_for_Portfolio_TOTAL_1 \n",
    "    Data_for_Portfolio_TOTAL_1  = Data_for_Portfolio_TOTAL\n",
    "    print(' DONE!')\n",
    "    tickers = data_guru.index.tolist()\n",
    "    \n",
    "    list_of_control = ['PE', 'PB', 'PS', 'PEG', 'FCF_Margin_%', 'Net Margin %', 'Operating Margin %', 'ROE %', 'ROA %', 'ROIC %', 'Dividend Yield %', 'Dividend Payout Ratio', \\\n",
    "                  'YoY Rev. per Sh. Growth', 'YoY EPS Growth']\n",
    "    for column in list_of_control:\n",
    "        for i in range(len(Data_for_Portfolio_TOTAL_2)):\n",
    "            if Data_for_Portfolio_TOTAL_2[column][i] > abs(Data_for_Portfolio_TOTAL_2[column].mean())*12:\n",
    "                Data_for_Portfolio_TOTAL_2[column][i] = 0\n",
    "            elif Data_for_Portfolio_TOTAL_2[column][i] < 0:\n",
    "                Data_for_Portfolio_TOTAL_2[column][i] = 0\n",
    "    for ticker in companies:\n",
    "        try:\n",
    "            company_data = pd.DataFrame.from_dict(eval(sql_data_guru.loc[ticker].loc['company_data']), orient='index').T\n",
    "            company_data_df.append(company_data.iloc[0])\n",
    "            a = ['Revenue','Net_Income','Market Cap','market_cap']\n",
    "            for j in a:\n",
    "                num_list = []\n",
    "                cur = 'USD'\n",
    "                for i in range(len(Data_for_Portfolio_TOTAL_2.loc[ticker])):\n",
    "                    if \"TSX:\" in ticker:\n",
    "                        cur = 'CADUSD=X'\n",
    "                    elif 'XSWX:' in ticker:\n",
    "                        cur = 'CHFUSD=X'\n",
    "                    elif 'XKLX:' in ticker:\n",
    "                        cur ='MYRUSD=X'\n",
    "                    elif 'LSE:' in ticker:\n",
    "                        cur = 'GBPUSD=X'\n",
    "                    elif 'SGX:' in ticker:\n",
    "                        cur = 'SGDUSD=X'\n",
    "                    elif 'HKSE:' in ticker:\n",
    "                        cur = 'HKDUSD=X'\n",
    "                    elif 'ASX:' in ticker:\n",
    "                        cur = 'AUDUSD=X'\n",
    "                    elif 'JSE:' in ticker:\n",
    "                        cur = 'ZARUSD=X'\n",
    "                    elif 'XTAE:' in ticker:\n",
    "                        cur = 'ILSUSD=X'\n",
    "                    elif 'JSE:' in ticker:\n",
    "                        cur = 'JPYUSD=X'\n",
    "                    elif 'MIC:' in ticker:\n",
    "                        cur = 'RUBUSD=X' \n",
    "                    elif 'XMAD:' in ticker:\n",
    "                        cur = 'EURUSD=X'\n",
    "                    elif 'FRA:' in ticker:\n",
    "                        cur = 'EURUSD=X'\n",
    "                    elif 'XAMS:' in ticker:\n",
    "                        cur = 'EURUSD=X'\n",
    "                    elif 'XBRU:' in ticker:\n",
    "                        cur = 'EURUSD=X'\n",
    "                    elif 'XPAR:' in ticker:\n",
    "                        cur = 'EURUSD=X'\n",
    "                    elif 'MIL:' in ticker:\n",
    "                        cur = 'EURUSD=X' \n",
    "                    if cur == 'USD':\n",
    "                        num_list.append([Data_for_Portfolio_TOTAL_2.loc[ticker,j][i]*1]) \n",
    "                    else:\n",
    "                        num_list.append([Data_for_Portfolio_TOTAL_2.loc[ticker,j][i]*df_currencies[cur][i]])\n",
    "                Data_for_Portfolio_TOTAL_2.loc[ticker,j] = num_list\n",
    "        except:\n",
    "            pass\n",
    "    company_data_df = pd.DataFrame(company_data_df)\n",
    "    company_data_df['rank_profitability'] = company_data_df['rank_profitability']/10\n",
    "    company_data_df['p2gf_value'] = company_data_df['p2gf_value'].astype('float')\n",
    "    \n",
    "    Data_for_Portfolio_TOTAL_2['FCF'] = Data_for_Portfolio_TOTAL_2['Revenue']*Data_for_Portfolio_TOTAL_2['FCF_Margin_%']\n",
    "    Data_for_Portfolio_TOTAL_2['Dividends payout'] = Data_for_Portfolio_TOTAL_2['Net_Income']*Data_for_Portfolio_TOTAL_2['Dividend Payout Ratio']\n",
    "    Data_for_Portfolio_TOTAL_2 = Data_for_Portfolio_TOTAL_2[Data_for_Portfolio_TOTAL_2['Date']!='2021']\n",
    "    Data_for_Portfolio_TOTAL_2['Date'] = Data_for_Portfolio_TOTAL_2['Date'].replace('TTM', '2021')\n",
    "    portfolio_df = pd.DataFrame()\n",
    "    portfolio_df['PE'] = Data_for_Portfolio_TOTAL_2.groupby('Date')['PE'].mean()\n",
    "    portfolio_df['PB'] = Data_for_Portfolio_TOTAL_2.groupby('Date')['PB'].mean()\n",
    "    portfolio_df['PS'] = Data_for_Portfolio_TOTAL_2.groupby('Date')['PS'].mean()\n",
    "    portfolio_df['PEG'] = Data_for_Portfolio_TOTAL_2.groupby('Date')['PEG'].mean()\n",
    "    portfolio_df['Revenue'] = Data_for_Portfolio_TOTAL_2.groupby('Date')['Revenue'].mean()\n",
    "    portfolio_df['Net_Income'] = Data_for_Portfolio_TOTAL_2.groupby('Date')['Net_Income'].mean()\n",
    "    portfolio_df['FCF'] = Data_for_Portfolio_TOTAL_2.groupby('Date')['FCF'].mean()\n",
    "    portfolio_df['Market Cap'] = Data_for_Portfolio_TOTAL_2.groupby('Date')['Market Cap'].sum()\n",
    "    cagr_period = 3\n",
    "    portfolio_df['Revenue CAGR'] = ''\n",
    "    portfolio_df['Net_Income CAGR'] = ''\n",
    "    for i in range(3,len(portfolio_df)):\n",
    "        portfolio_df['Revenue CAGR'][i] = (portfolio_df['Revenue'][i]/portfolio_df['Revenue'][i-cagr_period]) ** (1/cagr_period) - 1\n",
    "        portfolio_df['Net_Income CAGR'][i] = (portfolio_df['Net_Income'][i]/portfolio_df['Net_Income'][i-cagr_period]) ** (1/cagr_period) - 1\n",
    "    portfolio_df['Net Margin %'] = Data_for_Portfolio_TOTAL_2.groupby('Date')['Net Margin %'].mean()\n",
    "    try:\n",
    "        portfolio_df['Operating Margin %'] = Data_for_Portfolio_TOTAL_2.groupby('Date')['Operating Margin %'].mean()\n",
    "    except:\n",
    "        pass\n",
    "    portfolio_df['YoY Rev. per Sh. Growth'] = Data_for_Portfolio_TOTAL_2.groupby('Date')['YoY Rev. per Sh. Growth'].mean()\n",
    "    portfolio_df['YoY EPS Growth'] = Data_for_Portfolio_TOTAL_2.groupby('Date')['YoY EPS Growth'].mean()\n",
    "    portfolio_df['Dividend Yeld'] = Data_for_Portfolio_TOTAL_2.groupby('Date')['Dividends payout'].sum()/Data_for_Portfolio_TOTAL_2.groupby('Date')['Market Cap'].sum()\n",
    "    portfolio_df['Debt-to-Equity'] = Data_for_Portfolio_TOTAL_2.groupby('Date')['Debt-to-Equity'].mean()\n",
    "    portfolio_df['FCF_Margin_%'] = Data_for_Portfolio_TOTAL_2.groupby('Date')['FCF_Margin_%'].mean()\n",
    "    portfolio_df['ROE %'] = Data_for_Portfolio_TOTAL_2.groupby('Date')['ROE %'].mean()\n",
    "    portfolio_df['ROA %'] = Data_for_Portfolio_TOTAL_2.groupby('Date')['ROA %'].mean()\n",
    "    portfolio_df['ROIC %'] = Data_for_Portfolio_TOTAL_2.groupby('Date')['ROIC %'].mean()\n",
    "    portfolio_df['Dividend Yield %'] = Data_for_Portfolio_TOTAL_2.groupby('Date')['Dividend Yield %'].mean()\n",
    "    portfolio_df['Revenue Growth'] = portfolio_df['Revenue'].pct_change()\n",
    "    portfolio_df['Net_Income Growth'] = portfolio_df['Net_Income'].pct_change()\n",
    "    portfolio_df['FCF Growth'] = portfolio_df['FCF'].pct_change()\n",
    "    portfolio_df['SMA Market Cap'] = portfolio_df['Market Cap'].rolling(5).mean()\n",
    "    portfolio_df['SMA PE'] = portfolio_df['PE'].rolling(5).mean()\n",
    "    portfolio_df['SMA Net_Income Growth'] = portfolio_df['Net_Income Growth'].rolling(5).mean()\n",
    "    #portfolio_df = portfolio_df.drop(portfolio_df.index[-1])\n",
    "    #portfolio_df = portfolio_df[(portfolio_df.index >= cheked_year) & (portfolio_df.index <= cheked_year_end)]\n",
    "    portfolio_df = portfolio_df[portfolio_df.index >= cheked_year]\n",
    "    portfolio_df['Market Cap'][-1] =  Data_for_Portfolio_TOTAL_2.groupby('Date')['market_cap'].sum()[-1]/1000000\n",
    "    output_notebook()\n",
    "    p = figure(title='График PE',\n",
    "                 plot_height=350, plot_width=650,\n",
    "                 x_axis_label='Год', y_axis_label='PE', x_axis_type=\"linear\", toolbar_location='above')\n",
    "    p.line(portfolio_df.index, portfolio_df['PE'], color='green', line_width=1)\n",
    "    o = figure(title='График PB',\n",
    "                 plot_height=350, plot_width=650,\n",
    "                 x_axis_label='Год', y_axis_label='PB', x_axis_type=\"linear\", toolbar_location='above')\n",
    "    o.line(portfolio_df.index, portfolio_df['PB'], color='green', line_width=1)\n",
    "    q = figure(title='График PS',\n",
    "                 plot_height=350, plot_width=650,\n",
    "                 x_axis_label='Год', y_axis_label='PS', x_axis_type=\"linear\", toolbar_location='above')\n",
    "    q.line(portfolio_df.index, portfolio_df['PS'], color='green', line_width=1)\n",
    "    r = figure(title='График PEG',\n",
    "                 plot_height=350, plot_width=650,\n",
    "                 x_axis_label='Год', y_axis_label='PEG', x_axis_type=\"linear\", toolbar_location='above')\n",
    "    r.line(portfolio_df.index, portfolio_df['PEG'], color='green', line_width=1)\n",
    "    p_panel = Panel(child=p, title='PE')\n",
    "    o_panel = Panel(child=o, title='PB')\n",
    "    q_panel = Panel(child=q, title='PS')\n",
    "    r_panel = Panel(child=r, title='PEG')\n",
    "    tabs = Tabs(tabs=[p_panel, o_panel, q_panel, r_panel])\n",
    "    show(tabs)\n",
    "    k = figure(title='График Доходности',\n",
    "                 plot_height=400, plot_width=500,\n",
    "                 x_axis_label='Год', y_axis_label='Доходность', x_axis_type=\"linear\", toolbar_location='above')\n",
    "    par = np.polyfit(portfolio_df.index.astype(float), portfolio_df['Revenue'], 1, full=True)\n",
    "    slope=par[0][0]\n",
    "    intercept=par[0][1]\n",
    "    y_predicted = [slope*i + intercept  for i in portfolio_df.index.astype(float)]\n",
    "    k.line(portfolio_df.index, portfolio_df['Revenue'], color='green', line_width=1, legend='Revenue')\n",
    "    k.line(portfolio_df.index, y_predicted, color='green', line_width=0.5, line_dash='dashed')\n",
    "    # y_column2_range = 'CAGR'+ \"_range\"\n",
    "    # k.extra_y_ranges = {y_column2_range: Range1d(start=portfolio_df['Revenue CAGR'].min() * (1 - 0.1), end=portfolio_df['Revenue CAGR'].max() * (1 + 0.1))}\n",
    "    # k.add_layout(LinearAxis(y_range_name=y_column2_range), \"right\")\n",
    "    # k.line(portfolio_df.index, portfolio_df['Revenue CAGR'], legend='Revenue CAGR', line_width=1, y_range_name=y_column2_range,  color=\"palegreen\")\n",
    "    k.legend.location = 'top_left'\n",
    "    m = figure(title='График Прибыли',\n",
    "                 plot_height=400, plot_width=500,\n",
    "                 x_axis_label='Год', y_axis_label='Прибыль', x_axis_type=\"linear\", toolbar_location='above')\n",
    "    par1 = np.polyfit(portfolio_df.index.astype(float), portfolio_df['Net_Income'], 1, full=True)\n",
    "    slope1=par1[0][0]\n",
    "    intercept1=par1[0][1]\n",
    "    y_predicted1 = [slope1*i + intercept1  for i in portfolio_df.index.astype(float)]\n",
    "    m.line(portfolio_df.index, portfolio_df['Net_Income'], color='red', line_width=1, legend='Net_Income')\n",
    "    m.line(portfolio_df.index, y_predicted1, color='red', line_width=0.5, line_dash='dashed')\n",
    "    # y_column2_range = 'CAGR'+ \"_range\"\n",
    "    # m.extra_y_ranges = {y_column2_range: Range1d(start=portfolio_df['Net_Income CAGR'].min() * (1 - 0.1), end=portfolio_df['Net_Income CAGR'].max() * (1 + 0.1))}\n",
    "    # m.add_layout(LinearAxis(y_range_name=y_column2_range), \"right\")\n",
    "    # m.line(portfolio_df.index, portfolio_df['Net_Income CAGR'], legend='Net_Income CAGR', line_width=1, y_range_name=y_column2_range,  color=\"lightpink\")\n",
    "    m.legend.location = 'top_left'\n",
    "    n = figure(title='График Доходности цепной',\n",
    "                 plot_height=400, plot_width=500,\n",
    "                 x_axis_label='Год', y_axis_label='Доходность', x_axis_type=\"linear\", toolbar_location='above')\n",
    "    n.line(portfolio_df.index, portfolio_df['Revenue']*100/portfolio_df['Revenue'][0], color='green', line_width=1, legend='Revenue')\n",
    "    n.line(portfolio_df.index, portfolio_df['Net_Income']*100/portfolio_df['Net_Income'][0], color='red', line_width=1, legend='Net_Income')\n",
    "    n.line(portfolio_df.index, portfolio_df['FCF']*100/portfolio_df['FCF'][0], color='blue', line_width=1, legend='FCF')\n",
    "    n.line(portfolio_df.index, portfolio_df['Market Cap']*100/portfolio_df['Market Cap'][0], color='orange', line_width=1, legend='Market Cap')\n",
    "    n.legend.location = 'top_left'\n",
    "    l = figure(title='График Роста',\n",
    "                 plot_height=400, plot_width=500,\n",
    "                 x_axis_label='Год', y_axis_label='Рост', x_axis_type=\"linear\", toolbar_location='above')\n",
    "    l.line(portfolio_df.index, portfolio_df['YoY Rev. per Sh. Growth'], color='green', line_width=1, legend='YoY Rev. per Sh. Growth')\n",
    "    l.line(portfolio_df.index, portfolio_df['YoY EPS Growth'], color='red', line_width=1, legend='YoY EPS Growth')\n",
    "    l.legend.location = 'top_left'\n",
    "    show(row(k,m))\n",
    "    show(row(n,l))\n",
    "    s = figure(title='График Маржинальностей',\n",
    "                 plot_height=400, plot_width=650,\n",
    "                 x_axis_label='Год', y_axis_label='Margin %', x_axis_type=\"linear\", toolbar_location='above')\n",
    "    s.line(portfolio_df.index, portfolio_df['Net Margin %'], color='green', line_width=1, legend='Net Margin %')\n",
    "    s.line(portfolio_df.index, portfolio_df['Operating Margin %'], color='blue', line_width=1, legend='Operating Margin %')\n",
    "    s.line(portfolio_df.index, portfolio_df['FCF_Margin_%'], color='red', line_width=1, legend='FCF_Margin_%')\n",
    "    s.legend.location = 'bottom_left'\n",
    "    t = figure(title='График Эффективностей',\n",
    "                 plot_height=400, plot_width=650,\n",
    "                 x_axis_label='Год', y_axis_label='%', x_axis_type=\"linear\", toolbar_location='above')\n",
    "    t.line(portfolio_df.index, portfolio_df['ROE %'], color='green', line_width=1, legend='ROE %')\n",
    "    t.line(portfolio_df.index, portfolio_df['ROA %'], color='blue', line_width=1, legend='ROA %')\n",
    "    t.line(portfolio_df.index, portfolio_df['ROIC %'], color='red', line_width=1, legend='ROIC %')\n",
    "    t.legend.location = 'bottom_left'\n",
    "    u = figure(title='График объема Дивидендов',\n",
    "                 plot_height=400, plot_width=650,\n",
    "                 x_axis_label='Год', y_axis_label='%', toolbar_location='above')\n",
    "    u.line(portfolio_df.index, portfolio_df['Dividend Yeld'], color='green', line_width=1, legend='Dividend Yeld')\n",
    "    u.legend.location = 'bottom_left'\n",
    "    v = figure(title='График Debt-to-Equity',\n",
    "                 plot_height=400, plot_width=650,\n",
    "                 x_axis_label='Год', y_axis_label='%', toolbar_location='above')\n",
    "    v.line(portfolio_df.index, portfolio_df['Debt-to-Equity'], color='green', line_width=1, legend='Debt-to-Equity')\n",
    "    v.legend.location = 'bottom_left'\n",
    "    s_panel = Panel(child=s, title='Маржинальности')\n",
    "    t_panel = Panel(child=t, title='Эффективность')\n",
    "    u_panel = Panel(child=u, title='Дивиденды')\n",
    "    v_panel = Panel(child=v, title='Debt-to-Equity')\n",
    "    tabs2 = Tabs(tabs=[s_panel, t_panel, u_panel, v_panel])\n",
    "    show(tabs2)\n",
    "    w = figure(title='График Сравнения',\n",
    "             plot_height=400, plot_width=900,\n",
    "             x_axis_label='Год', x_axis_type=\"linear\")\n",
    "    #w.line(portfolio_df.index, portfolio_df['SMA Market Cap'], color='orange', line_width=1, legend='SMA Market Cap')\n",
    "    w.line(portfolio_df.index, portfolio_df['Market Cap'], color='orange', line_width=1, legend='Market Cap')\n",
    "    #w.line(portfolio_df.index, portfolio_df['Net_Income Growth']*1000, legend='Net_Income', line_width=1, color=\"blue\")\n",
    "    # SECOND AXIS\n",
    "    y_column2_range = 'PE'+ \"_range\"\n",
    "    w.extra_y_ranges = {y_column2_range: Range1d(start=portfolio_df['PE'].min() * (1 - 0.1), end=portfolio_df['PE'].max() * (1 + 0.1))}\n",
    "    w.add_layout(LinearAxis(y_range_name=y_column2_range), \"right\")\n",
    "    w.line(portfolio_df.index, portfolio_df['SMA PE'], legend='SMA PE', line_width=1, y_range_name=y_column2_range,  color=\"green\")\n",
    "    w.line(portfolio_df.index, portfolio_df['PE'], legend='PE', line_width=1, y_range_name=y_column2_range, color=\"blue\")\n",
    "    #w.line(portfolio_df.index, portfolio_df['SMA Net_Income Growth']/portfolio_df['SMA Net_Income Growth'][0], legend='SMA Net_Income Growth', line_width=1, color=\"blue\")\n",
    "    w.legend.location = 'top_left'\n",
    "    n = figure(title='График Ростов',\n",
    "                 plot_height=300, plot_width=900,\n",
    "                 x_axis_label='Год', y_axis_label='Net_Income', x_axis_type=\"linear\")\n",
    "    n.line(portfolio_df.index, portfolio_df['Net_Income'], color='red', line_width=1, legend='Net_Income')\n",
    "    # SECOND AXIS\n",
    "    # y_column2_range = 'SMA Net_Income Growth'+ \"_range\"\n",
    "    # n.extra_y_ranges = {y_column2_range: Range1d(start=portfolio_df['SMA Net_Income Growth'].min() * (1 - 0.1), end=portfolio_df['SMA Net_Income Growth'].max() * (1 + 0.1))}\n",
    "    # n.add_layout(LinearAxis(y_range_name=y_column2_range), \"right\")\n",
    "    # n.line(portfolio_df.index, portfolio_df['SMA Net_Income Growth'], color='red', y_range_name=y_column2_range, line_width=1, legend='SMA Net_Income Growth')\n",
    "    # n.legend.location = 'top_left'\n",
    "    show(w)\n",
    "    show(n)\n",
    "    print(company_data_df[['p2gf_value', 'rank_financial_strength', 'rank_profitability', 'rank_value']].mean().round(2))\n",
    "    a = figure(title='График ETF к Золоту',\n",
    "                 plot_height=300, plot_width=900,\n",
    "                 x_axis_label='Год', y_axis_label='ETF к Золоту', x_axis_type=\"datetime\")\n",
    "    a.line(df_etf.index, (df_etf[ETF]/df_etf['GC=F'])*31.1035, color='green', line_width=1, legend='ETF к Золоту')\n",
    "    show(a)\n",
    "    return"
   ]
  },
  {
   "cell_type": "markdown",
   "metadata": {},
   "source": [
    "### Выбрать ETF"
   ]
  },
  {
   "cell_type": "code",
   "execution_count": 4,
   "metadata": {},
   "outputs": [
    {
     "data": {
      "application/vnd.jupyter.widget-view+json": {
       "model_id": "56d03d54c7394ecdb7fe758a39dc63d9",
       "version_major": 2,
       "version_minor": 0
      },
      "text/plain": [
       "interactive(children=(Dropdown(description='ETF', index=3, options=('RXI', 'HERO', 'KXI', 'AMLP', 'ICLN', 'IXC…"
      ]
     },
     "metadata": {},
     "output_type": "display_data"
    }
   ],
   "source": [
    "stats = interact(show_stats_by_tag,\n",
    "                ETF=widgets.Dropdown(options = ['RXI', 'HERO', 'KXI', 'AMLP', 'ICLN', 'IXC', 'IXG', 'IXJ', 'IBB', 'EXI', 'MXI', 'VEGI', \\\n",
    "                                                'PICK', 'IXN',  'IDRV', 'REMX', 'URA', 'NLR', 'PBJ', 'GDX',  'SOXX', 'XT', 'IXP', 'IGF',  \\\n",
    "                                                'SIL', 'SNSR', 'BUG', 'CLOU',  'CARZ', 'DAPP', 'BOTZ'], value=\"AMLP\"))"
   ]
  },
  {
   "cell_type": "code",
   "execution_count": 5,
   "metadata": {},
   "outputs": [
    {
     "data": {
      "application/vnd.jupyter.widget-view+json": {
       "model_id": "348e2dca6d23408d89a5d0179fd7f9e8",
       "version_major": 2,
       "version_minor": 0
      },
      "text/plain": [
       "interactive(children=(Dropdown(description='ETF', index=30, options=('RXI', 'HERO', 'KXI', 'AMLP', 'ICLN', 'IX…"
      ]
     },
     "metadata": {},
     "output_type": "display_data"
    }
   ],
   "source": [
    "stats = interact(show_stats_by_tag,\n",
    "                ETF=widgets.Dropdown(options = ['RXI', 'HERO', 'KXI', 'AMLP', 'ICLN', 'IXC', 'IXG', 'IXJ', 'IBB', 'EXI', 'MXI', 'VEGI', \\\n",
    "                                                'PICK', 'IXN',  'IDRV', 'REMX', 'URA', 'NLR', 'PBJ', 'GDX',  'SOXX', 'XT', 'IXP', 'IGF',  \\\n",
    "                                                'SIL', 'SNSR', 'BUG', 'CLOU',  'CARZ', 'DAPP', 'BOTZ'], value=\"BOTZ\"))"
   ]
  },
  {
   "cell_type": "code",
   "execution_count": 6,
   "metadata": {},
   "outputs": [
    {
     "data": {
      "application/vnd.jupyter.widget-view+json": {
       "model_id": "c01823d592844352bbe7ff6f38aa4785",
       "version_major": 2,
       "version_minor": 0
      },
      "text/plain": [
       "interactive(children=(Dropdown(description='ETF', index=29, options=('RXI', 'HERO', 'KXI', 'AMLP', 'ICLN', 'IX…"
      ]
     },
     "metadata": {},
     "output_type": "display_data"
    }
   ],
   "source": [
    "stats = interact(show_stats_by_tag,\n",
    "                ETF=widgets.Dropdown(options = ['RXI', 'HERO', 'KXI', 'AMLP', 'ICLN', 'IXC', 'IXG', 'IXJ', 'IBB', 'EXI', 'MXI', 'VEGI', \\\n",
    "                                                'PICK', 'IXN',  'IDRV', 'REMX', 'URA', 'NLR', 'PBJ', 'GDX',  'SOXX', 'XT', 'IXP', 'IGF',  \\\n",
    "                                                'SIL', 'SNSR', 'BUG', 'CLOU',  'CARZ', 'DAPP', 'BOTZ'], value=\"DAPP\"))"
   ]
  },
  {
   "cell_type": "code",
   "execution_count": 7,
   "metadata": {},
   "outputs": [
    {
     "data": {
      "application/vnd.jupyter.widget-view+json": {
       "model_id": "0b40aa07b025438fbae7a8bafd8a5200",
       "version_major": 2,
       "version_minor": 0
      },
      "text/plain": [
       "interactive(children=(Dropdown(description='ETF', index=28, options=('RXI', 'HERO', 'KXI', 'AMLP', 'ICLN', 'IX…"
      ]
     },
     "metadata": {},
     "output_type": "display_data"
    }
   ],
   "source": [
    "stats = interact(show_stats_by_tag,\n",
    "                ETF=widgets.Dropdown(options = ['RXI', 'HERO', 'KXI', 'AMLP', 'ICLN', 'IXC', 'IXG', 'IXJ', 'IBB', 'EXI', 'MXI', 'VEGI', \\\n",
    "                                                'PICK', 'IXN',  'IDRV', 'REMX', 'URA', 'NLR', 'PBJ', 'GDX',  'SOXX', 'XT', 'IXP', 'IGF',  \\\n",
    "                                                'SIL', 'SNSR', 'BUG', 'CLOU',  'CARZ', 'DAPP', 'BOTZ'], value=\"CARZ\"))"
   ]
  },
  {
   "cell_type": "code",
   "execution_count": 8,
   "metadata": {},
   "outputs": [
    {
     "data": {
      "application/vnd.jupyter.widget-view+json": {
       "model_id": "8cd0e61f66ed41a5a8bc8e26e866207c",
       "version_major": 2,
       "version_minor": 0
      },
      "text/plain": [
       "interactive(children=(Dropdown(description='ETF', index=27, options=('RXI', 'HERO', 'KXI', 'AMLP', 'ICLN', 'IX…"
      ]
     },
     "metadata": {},
     "output_type": "display_data"
    }
   ],
   "source": [
    "stats = interact(show_stats_by_tag,\n",
    "                ETF=widgets.Dropdown(options = ['RXI', 'HERO', 'KXI', 'AMLP', 'ICLN', 'IXC', 'IXG', 'IXJ', 'IBB', 'EXI', 'MXI', 'VEGI', \\\n",
    "                                                'PICK', 'IXN',  'IDRV', 'REMX', 'URA', 'NLR', 'PBJ', 'GDX',  'SOXX', 'XT', 'IXP', 'IGF',  \\\n",
    "                                                'SIL', 'SNSR', 'BUG', 'CLOU',  'CARZ', 'DAPP', 'BOTZ'], value=\"CLOU\"))"
   ]
  },
  {
   "cell_type": "code",
   "execution_count": 9,
   "metadata": {},
   "outputs": [
    {
     "data": {
      "application/vnd.jupyter.widget-view+json": {
       "model_id": "088e7e60466e413ab0314b65c1f2bdc6",
       "version_major": 2,
       "version_minor": 0
      },
      "text/plain": [
       "interactive(children=(Dropdown(description='ETF', index=26, options=('RXI', 'HERO', 'KXI', 'AMLP', 'ICLN', 'IX…"
      ]
     },
     "metadata": {},
     "output_type": "display_data"
    }
   ],
   "source": [
    "stats = interact(show_stats_by_tag,\n",
    "                ETF=widgets.Dropdown(options = ['RXI', 'HERO', 'KXI', 'AMLP', 'ICLN', 'IXC', 'IXG', 'IXJ', 'IBB', 'EXI', 'MXI', 'VEGI', \\\n",
    "                                                'PICK', 'IXN',  'IDRV', 'REMX', 'URA', 'NLR', 'PBJ', 'GDX',  'SOXX', 'XT', 'IXP', 'IGF',  \\\n",
    "                                                'SIL', 'SNSR', 'BUG', 'CLOU',  'CARZ', 'DAPP', 'BOTZ'], value=\"BUG\"))"
   ]
  },
  {
   "cell_type": "code",
   "execution_count": 10,
   "metadata": {},
   "outputs": [
    {
     "data": {
      "application/vnd.jupyter.widget-view+json": {
       "model_id": "fc93cd763d5547c2998e5c9ff6c2324b",
       "version_major": 2,
       "version_minor": 0
      },
      "text/plain": [
       "interactive(children=(Dropdown(description='ETF', index=25, options=('RXI', 'HERO', 'KXI', 'AMLP', 'ICLN', 'IX…"
      ]
     },
     "metadata": {},
     "output_type": "display_data"
    }
   ],
   "source": [
    "stats = interact(show_stats_by_tag,\n",
    "                ETF=widgets.Dropdown(options = ['RXI', 'HERO', 'KXI', 'AMLP', 'ICLN', 'IXC', 'IXG', 'IXJ', 'IBB', 'EXI', 'MXI', 'VEGI', \\\n",
    "                                                'PICK', 'IXN',  'IDRV', 'REMX', 'URA', 'NLR', 'PBJ', 'GDX',  'SOXX', 'XT', 'IXP', 'IGF',  \\\n",
    "                                                'SIL', 'SNSR', 'BUG', 'CLOU',  'CARZ', 'DAPP', 'BOTZ'], value=\"SNSR\"))"
   ]
  },
  {
   "cell_type": "code",
   "execution_count": 11,
   "metadata": {},
   "outputs": [
    {
     "data": {
      "application/vnd.jupyter.widget-view+json": {
       "model_id": "8e8076c4f5bd48fab4102d7d53a46e7b",
       "version_major": 2,
       "version_minor": 0
      },
      "text/plain": [
       "interactive(children=(Dropdown(description='ETF', index=24, options=('RXI', 'HERO', 'KXI', 'AMLP', 'ICLN', 'IX…"
      ]
     },
     "metadata": {},
     "output_type": "display_data"
    }
   ],
   "source": [
    "stats = interact(show_stats_by_tag,\n",
    "                ETF=widgets.Dropdown(options = ['RXI', 'HERO', 'KXI', 'AMLP', 'ICLN', 'IXC', 'IXG', 'IXJ', 'IBB', 'EXI', 'MXI', 'VEGI', \\\n",
    "                                                'PICK', 'IXN',  'IDRV', 'REMX', 'URA', 'NLR', 'PBJ', 'GDX',  'SOXX', 'XT', 'IXP', 'IGF',  \\\n",
    "                                                'SIL', 'SNSR', 'BUG', 'CLOU',  'CARZ', 'DAPP', 'BOTZ'], value=\"SIL\"))"
   ]
  },
  {
   "cell_type": "code",
   "execution_count": 12,
   "metadata": {},
   "outputs": [
    {
     "data": {
      "application/vnd.jupyter.widget-view+json": {
       "model_id": "9d4b270315004eac90a13287c96e452b",
       "version_major": 2,
       "version_minor": 0
      },
      "text/plain": [
       "interactive(children=(Dropdown(description='ETF', index=23, options=('RXI', 'HERO', 'KXI', 'AMLP', 'ICLN', 'IX…"
      ]
     },
     "metadata": {},
     "output_type": "display_data"
    }
   ],
   "source": [
    "stats = interact(show_stats_by_tag,\n",
    "                ETF=widgets.Dropdown(options = ['RXI', 'HERO', 'KXI', 'AMLP', 'ICLN', 'IXC', 'IXG', 'IXJ', 'IBB', 'EXI', 'MXI', 'VEGI', \\\n",
    "                                                'PICK', 'IXN',  'IDRV', 'REMX', 'URA', 'NLR', 'PBJ', 'GDX',  'SOXX', 'XT', 'IXP', 'IGF',  \\\n",
    "                                                'SIL', 'SNSR', 'BUG', 'CLOU',  'CARZ', 'DAPP', 'BOTZ'], value=\"IGF\"))"
   ]
  },
  {
   "cell_type": "code",
   "execution_count": 13,
   "metadata": {},
   "outputs": [
    {
     "data": {
      "application/vnd.jupyter.widget-view+json": {
       "model_id": "a0887ab8c6844cecbce4a85594a7277e",
       "version_major": 2,
       "version_minor": 0
      },
      "text/plain": [
       "interactive(children=(Dropdown(description='ETF', index=22, options=('RXI', 'HERO', 'KXI', 'AMLP', 'ICLN', 'IX…"
      ]
     },
     "metadata": {},
     "output_type": "display_data"
    }
   ],
   "source": [
    "stats = interact(show_stats_by_tag,\n",
    "                ETF=widgets.Dropdown(options = ['RXI', 'HERO', 'KXI', 'AMLP', 'ICLN', 'IXC', 'IXG', 'IXJ', 'IBB', 'EXI', 'MXI', 'VEGI', \\\n",
    "                                                'PICK', 'IXN',  'IDRV', 'REMX', 'URA', 'NLR', 'PBJ', 'GDX',  'SOXX', 'XT', 'IXP', 'IGF',  \\\n",
    "                                                'SIL', 'SNSR', 'BUG', 'CLOU',  'CARZ', 'DAPP', 'BOTZ'], value=\"IXP\"))"
   ]
  },
  {
   "cell_type": "code",
   "execution_count": 14,
   "metadata": {},
   "outputs": [
    {
     "data": {
      "application/vnd.jupyter.widget-view+json": {
       "model_id": "053dc988b1214eaabdec2a8c6d7ef1e1",
       "version_major": 2,
       "version_minor": 0
      },
      "text/plain": [
       "interactive(children=(Dropdown(description='ETF', index=21, options=('RXI', 'HERO', 'KXI', 'AMLP', 'ICLN', 'IX…"
      ]
     },
     "metadata": {},
     "output_type": "display_data"
    }
   ],
   "source": [
    "stats = interact(show_stats_by_tag,\n",
    "                ETF=widgets.Dropdown(options = ['RXI', 'HERO', 'KXI', 'AMLP', 'ICLN', 'IXC', 'IXG', 'IXJ', 'IBB', 'EXI', 'MXI', 'VEGI', \\\n",
    "                                                'PICK', 'IXN',  'IDRV', 'REMX', 'URA', 'NLR', 'PBJ', 'GDX',  'SOXX', 'XT', 'IXP', 'IGF',  \\\n",
    "                                                'SIL', 'SNSR', 'BUG', 'CLOU',  'CARZ', 'DAPP', 'BOTZ'], value=\"XT\"))"
   ]
  },
  {
   "cell_type": "code",
   "execution_count": 15,
   "metadata": {},
   "outputs": [
    {
     "data": {
      "application/vnd.jupyter.widget-view+json": {
       "model_id": "00fec0f796e2409f8abe9d2130c4c064",
       "version_major": 2,
       "version_minor": 0
      },
      "text/plain": [
       "interactive(children=(Dropdown(description='ETF', index=19, options=('RXI', 'HERO', 'KXI', 'AMLP', 'ICLN', 'IX…"
      ]
     },
     "metadata": {},
     "output_type": "display_data"
    }
   ],
   "source": [
    "stats = interact(show_stats_by_tag,\n",
    "                ETF=widgets.Dropdown(options = ['RXI', 'HERO', 'KXI', 'AMLP', 'ICLN', 'IXC', 'IXG', 'IXJ', 'IBB', 'EXI', 'MXI', 'VEGI', \\\n",
    "                                                'PICK', 'IXN',  'IDRV', 'REMX', 'URA', 'NLR', 'PBJ', 'GDX',  'SOXX', 'XT', 'IXP', 'IGF',  \\\n",
    "                                                'SIL', 'SNSR', 'BUG', 'CLOU',  'CARZ', 'DAPP', 'BOTZ'], value=\"GDX\"))"
   ]
  },
  {
   "cell_type": "code",
   "execution_count": 16,
   "metadata": {},
   "outputs": [
    {
     "data": {
      "application/vnd.jupyter.widget-view+json": {
       "model_id": "324a348176ec4b44afe3ec19997d9872",
       "version_major": 2,
       "version_minor": 0
      },
      "text/plain": [
       "interactive(children=(Dropdown(description='ETF', index=18, options=('RXI', 'HERO', 'KXI', 'AMLP', 'ICLN', 'IX…"
      ]
     },
     "metadata": {},
     "output_type": "display_data"
    }
   ],
   "source": [
    "stats = interact(show_stats_by_tag,\n",
    "                ETF=widgets.Dropdown(options = ['RXI', 'HERO', 'KXI', 'AMLP', 'ICLN', 'IXC', 'IXG', 'IXJ', 'IBB', 'EXI', 'MXI', 'VEGI', \\\n",
    "                                                'PICK', 'IXN',  'IDRV', 'REMX', 'URA', 'NLR', 'PBJ', 'GDX',  'SOXX', 'XT', 'IXP', 'IGF',  \\\n",
    "                                                'SIL', 'SNSR', 'BUG', 'CLOU',  'CARZ', 'DAPP', 'BOTZ'], value=\"PBJ\"))"
   ]
  },
  {
   "cell_type": "code",
   "execution_count": 17,
   "metadata": {},
   "outputs": [
    {
     "data": {
      "application/vnd.jupyter.widget-view+json": {
       "model_id": "14402ebbb3d74dba8b4bc0dabc9fccb7",
       "version_major": 2,
       "version_minor": 0
      },
      "text/plain": [
       "interactive(children=(Dropdown(description='ETF', index=17, options=('RXI', 'HERO', 'KXI', 'AMLP', 'ICLN', 'IX…"
      ]
     },
     "metadata": {},
     "output_type": "display_data"
    }
   ],
   "source": [
    "stats = interact(show_stats_by_tag,\n",
    "                ETF=widgets.Dropdown(options = ['RXI', 'HERO', 'KXI', 'AMLP', 'ICLN', 'IXC', 'IXG', 'IXJ', 'IBB', 'EXI', 'MXI', 'VEGI', \\\n",
    "                                                'PICK', 'IXN',  'IDRV', 'REMX', 'URA', 'NLR', 'PBJ', 'GDX',  'SOXX', 'XT', 'IXP', 'IGF',  \\\n",
    "                                                'SIL', 'SNSR', 'BUG', 'CLOU',  'CARZ', 'DAPP', 'BOTZ'], value=\"NLR\"))"
   ]
  },
  {
   "cell_type": "code",
   "execution_count": 18,
   "metadata": {},
   "outputs": [
    {
     "data": {
      "application/vnd.jupyter.widget-view+json": {
       "model_id": "538632d900764048a1d75a2c641c5ee5",
       "version_major": 2,
       "version_minor": 0
      },
      "text/plain": [
       "interactive(children=(Dropdown(description='ETF', index=16, options=('RXI', 'HERO', 'KXI', 'AMLP', 'ICLN', 'IX…"
      ]
     },
     "metadata": {},
     "output_type": "display_data"
    }
   ],
   "source": [
    "stats = interact(show_stats_by_tag,\n",
    "                ETF=widgets.Dropdown(options = ['RXI', 'HERO', 'KXI', 'AMLP', 'ICLN', 'IXC', 'IXG', 'IXJ', 'IBB', 'EXI', 'MXI', 'VEGI', \\\n",
    "                                                'PICK', 'IXN',  'IDRV', 'REMX', 'URA', 'NLR', 'PBJ', 'GDX',  'SOXX', 'XT', 'IXP', 'IGF',  \\\n",
    "                                                'SIL', 'SNSR', 'BUG', 'CLOU',  'CARZ', 'DAPP', 'BOTZ'], value=\"URA\"))"
   ]
  },
  {
   "cell_type": "code",
   "execution_count": 19,
   "metadata": {},
   "outputs": [
    {
     "data": {
      "application/vnd.jupyter.widget-view+json": {
       "model_id": "aafae817f2f44d769c4213c9f386bfcb",
       "version_major": 2,
       "version_minor": 0
      },
      "text/plain": [
       "interactive(children=(Dropdown(description='ETF', index=15, options=('RXI', 'HERO', 'KXI', 'AMLP', 'ICLN', 'IX…"
      ]
     },
     "metadata": {},
     "output_type": "display_data"
    }
   ],
   "source": [
    "stats = interact(show_stats_by_tag,\n",
    "                ETF=widgets.Dropdown(options = ['RXI', 'HERO', 'KXI', 'AMLP', 'ICLN', 'IXC', 'IXG', 'IXJ', 'IBB', 'EXI', 'MXI', 'VEGI', \\\n",
    "                                                'PICK', 'IXN',  'IDRV', 'REMX', 'URA', 'NLR', 'PBJ', 'GDX',  'SOXX', 'XT', 'IXP', 'IGF',  \\\n",
    "                                                'SIL', 'SNSR', 'BUG', 'CLOU',  'CARZ', 'DAPP', 'BOTZ'], value=\"REMX\"))"
   ]
  },
  {
   "cell_type": "code",
   "execution_count": 20,
   "metadata": {},
   "outputs": [
    {
     "data": {
      "application/vnd.jupyter.widget-view+json": {
       "model_id": "edebde23947f41709049872c8a935ca5",
       "version_major": 2,
       "version_minor": 0
      },
      "text/plain": [
       "interactive(children=(Dropdown(description='ETF', index=14, options=('RXI', 'HERO', 'KXI', 'AMLP', 'ICLN', 'IX…"
      ]
     },
     "metadata": {},
     "output_type": "display_data"
    }
   ],
   "source": [
    "stats = interact(show_stats_by_tag,\n",
    "                ETF=widgets.Dropdown(options = ['RXI', 'HERO', 'KXI', 'AMLP', 'ICLN', 'IXC', 'IXG', 'IXJ', 'IBB', 'EXI', 'MXI', 'VEGI', \\\n",
    "                                                'PICK', 'IXN',  'IDRV', 'REMX', 'URA', 'NLR', 'PBJ', 'GDX',  'SOXX', 'XT', 'IXP', 'IGF',  \\\n",
    "                                                'SIL', 'SNSR', 'BUG', 'CLOU',  'CARZ', 'DAPP', 'BOTZ'], value=\"IDRV\"))"
   ]
  },
  {
   "cell_type": "code",
   "execution_count": 21,
   "metadata": {},
   "outputs": [
    {
     "data": {
      "application/vnd.jupyter.widget-view+json": {
       "model_id": "20a4c5f526744a6388551e910190664a",
       "version_major": 2,
       "version_minor": 0
      },
      "text/plain": [
       "interactive(children=(Dropdown(description='ETF', index=13, options=('RXI', 'HERO', 'KXI', 'AMLP', 'ICLN', 'IX…"
      ]
     },
     "metadata": {},
     "output_type": "display_data"
    }
   ],
   "source": [
    "stats = interact(show_stats_by_tag,\n",
    "                ETF=widgets.Dropdown(options = ['RXI', 'HERO', 'KXI', 'AMLP', 'ICLN', 'IXC', 'IXG', 'IXJ', 'IBB', 'EXI', 'MXI', 'VEGI', \\\n",
    "                                                'PICK', 'IXN',  'IDRV', 'REMX', 'URA', 'NLR', 'PBJ', 'GDX',  'SOXX', 'XT', 'IXP', 'IGF',  \\\n",
    "                                                'SIL', 'SNSR', 'BUG', 'CLOU',  'CARZ', 'DAPP', 'BOTZ'], value=\"IXN\"))"
   ]
  },
  {
   "cell_type": "code",
   "execution_count": 22,
   "metadata": {},
   "outputs": [
    {
     "data": {
      "application/vnd.jupyter.widget-view+json": {
       "model_id": "18044cf5a4914bc08808829077d8b3f8",
       "version_major": 2,
       "version_minor": 0
      },
      "text/plain": [
       "interactive(children=(Dropdown(description='ETF', index=12, options=('RXI', 'HERO', 'KXI', 'AMLP', 'ICLN', 'IX…"
      ]
     },
     "metadata": {},
     "output_type": "display_data"
    }
   ],
   "source": [
    "stats = interact(show_stats_by_tag,\n",
    "                ETF=widgets.Dropdown(options = ['RXI', 'HERO', 'KXI', 'AMLP', 'ICLN', 'IXC', 'IXG', 'IXJ', 'IBB', 'EXI', 'MXI', 'VEGI', \\\n",
    "                                                'PICK', 'IXN',  'IDRV', 'REMX', 'URA', 'NLR', 'PBJ', 'GDX',  'SOXX', 'XT', 'IXP', 'IGF',  \\\n",
    "                                                'SIL', 'SNSR', 'BUG', 'CLOU',  'CARZ', 'DAPP', 'BOTZ'], value=\"PICK\"))"
   ]
  },
  {
   "cell_type": "code",
   "execution_count": 23,
   "metadata": {},
   "outputs": [
    {
     "data": {
      "application/vnd.jupyter.widget-view+json": {
       "model_id": "4afa09d0ceed4fc281b42a5e4c872664",
       "version_major": 2,
       "version_minor": 0
      },
      "text/plain": [
       "interactive(children=(Dropdown(description='ETF', index=11, options=('RXI', 'HERO', 'KXI', 'AMLP', 'ICLN', 'IX…"
      ]
     },
     "metadata": {},
     "output_type": "display_data"
    }
   ],
   "source": [
    "stats = interact(show_stats_by_tag,\n",
    "                ETF=widgets.Dropdown(options = ['RXI', 'HERO', 'KXI', 'AMLP', 'ICLN', 'IXC', 'IXG', 'IXJ', 'IBB', 'EXI', 'MXI', 'VEGI', \\\n",
    "                                                'PICK', 'IXN',  'IDRV', 'REMX', 'URA', 'NLR', 'PBJ', 'GDX',  'SOXX', 'XT', 'IXP', 'IGF',  \\\n",
    "                                                'SIL', 'SNSR', 'BUG', 'CLOU',  'CARZ', 'DAPP', 'BOTZ'], value=\"VEGI\"))"
   ]
  },
  {
   "cell_type": "code",
   "execution_count": 24,
   "metadata": {},
   "outputs": [
    {
     "data": {
      "application/vnd.jupyter.widget-view+json": {
       "model_id": "f7a8a69e130241bdb32599dab2080676",
       "version_major": 2,
       "version_minor": 0
      },
      "text/plain": [
       "interactive(children=(Dropdown(description='ETF', index=10, options=('RXI', 'HERO', 'KXI', 'AMLP', 'ICLN', 'IX…"
      ]
     },
     "metadata": {},
     "output_type": "display_data"
    }
   ],
   "source": [
    "stats = interact(show_stats_by_tag,\n",
    "                ETF=widgets.Dropdown(options = ['RXI', 'HERO', 'KXI', 'AMLP', 'ICLN', 'IXC', 'IXG', 'IXJ', 'IBB', 'EXI', 'MXI', 'VEGI', \\\n",
    "                                                'PICK', 'IXN',  'IDRV', 'REMX', 'URA', 'NLR', 'PBJ', 'GDX',  'SOXX', 'XT', 'IXP', 'IGF',  \\\n",
    "                                                'SIL', 'SNSR', 'BUG', 'CLOU',  'CARZ', 'DAPP', 'BOTZ'], value=\"MXI\"))"
   ]
  },
  {
   "cell_type": "code",
   "execution_count": 25,
   "metadata": {},
   "outputs": [
    {
     "data": {
      "application/vnd.jupyter.widget-view+json": {
       "model_id": "15016865f1b9487887b222832272c0d6",
       "version_major": 2,
       "version_minor": 0
      },
      "text/plain": [
       "interactive(children=(Dropdown(description='ETF', index=9, options=('RXI', 'HERO', 'KXI', 'AMLP', 'ICLN', 'IXC…"
      ]
     },
     "metadata": {},
     "output_type": "display_data"
    }
   ],
   "source": [
    "stats = interact(show_stats_by_tag,\n",
    "                ETF=widgets.Dropdown(options = ['RXI', 'HERO', 'KXI', 'AMLP', 'ICLN', 'IXC', 'IXG', 'IXJ', 'IBB', 'EXI', 'MXI', 'VEGI', \\\n",
    "                                                'PICK', 'IXN',  'IDRV', 'REMX', 'URA', 'NLR', 'PBJ', 'GDX',  'SOXX', 'XT', 'IXP', 'IGF',  \\\n",
    "                                                'SIL', 'SNSR', 'BUG', 'CLOU',  'CARZ', 'DAPP', 'BOTZ'], value=\"EXI\"))"
   ]
  },
  {
   "cell_type": "code",
   "execution_count": 26,
   "metadata": {},
   "outputs": [
    {
     "data": {
      "application/vnd.jupyter.widget-view+json": {
       "model_id": "360d0821aee147fea3fa3804d4c1d9aa",
       "version_major": 2,
       "version_minor": 0
      },
      "text/plain": [
       "interactive(children=(Dropdown(description='ETF', index=8, options=('RXI', 'HERO', 'KXI', 'AMLP', 'ICLN', 'IXC…"
      ]
     },
     "metadata": {},
     "output_type": "display_data"
    }
   ],
   "source": [
    "stats = interact(show_stats_by_tag,\n",
    "                ETF=widgets.Dropdown(options = ['RXI', 'HERO', 'KXI', 'AMLP', 'ICLN', 'IXC', 'IXG', 'IXJ', 'IBB', 'EXI', 'MXI', 'VEGI', \\\n",
    "                                                'PICK', 'IXN',  'IDRV', 'REMX', 'URA', 'NLR', 'PBJ', 'GDX',  'SOXX', 'XT', 'IXP', 'IGF',  \\\n",
    "                                                'SIL', 'SNSR', 'BUG', 'CLOU',  'CARZ', 'DAPP', 'BOTZ'], value=\"IBB\"))"
   ]
  },
  {
   "cell_type": "code",
   "execution_count": 27,
   "metadata": {},
   "outputs": [
    {
     "data": {
      "application/vnd.jupyter.widget-view+json": {
       "model_id": "f001a56977b74fff9dbab677dfc04c50",
       "version_major": 2,
       "version_minor": 0
      },
      "text/plain": [
       "interactive(children=(Dropdown(description='ETF', index=7, options=('RXI', 'HERO', 'KXI', 'AMLP', 'ICLN', 'IXC…"
      ]
     },
     "metadata": {},
     "output_type": "display_data"
    }
   ],
   "source": [
    "stats = interact(show_stats_by_tag,\n",
    "                ETF=widgets.Dropdown(options = ['RXI', 'HERO', 'KXI', 'AMLP', 'ICLN', 'IXC', 'IXG', 'IXJ', 'IBB', 'EXI', 'MXI', 'VEGI', \\\n",
    "                                                'PICK', 'IXN',  'IDRV', 'REMX', 'URA', 'NLR', 'PBJ', 'GDX',  'SOXX', 'XT', 'IXP', 'IGF',  \\\n",
    "                                                'SIL', 'SNSR', 'BUG', 'CLOU',  'CARZ', 'DAPP', 'BOTZ'], value=\"IXJ\"))"
   ]
  },
  {
   "cell_type": "code",
   "execution_count": 28,
   "metadata": {},
   "outputs": [
    {
     "data": {
      "application/vnd.jupyter.widget-view+json": {
       "model_id": "ff1ba2c2021a498e9aa85da002986455",
       "version_major": 2,
       "version_minor": 0
      },
      "text/plain": [
       "interactive(children=(Dropdown(description='ETF', index=6, options=('RXI', 'HERO', 'KXI', 'AMLP', 'ICLN', 'IXC…"
      ]
     },
     "metadata": {},
     "output_type": "display_data"
    }
   ],
   "source": [
    "stats = interact(show_stats_by_tag,\n",
    "                ETF=widgets.Dropdown(options = ['RXI', 'HERO', 'KXI', 'AMLP', 'ICLN', 'IXC', 'IXG', 'IXJ', 'IBB', 'EXI', 'MXI', 'VEGI', \\\n",
    "                                                'PICK', 'IXN',  'IDRV', 'REMX', 'URA', 'NLR', 'PBJ', 'GDX',  'SOXX', 'XT', 'IXP', 'IGF',  \\\n",
    "                                                'SIL', 'SNSR', 'BUG', 'CLOU',  'CARZ', 'DAPP', 'BOTZ'], value=\"IXG\"))"
   ]
  },
  {
   "cell_type": "code",
   "execution_count": 29,
   "metadata": {},
   "outputs": [
    {
     "data": {
      "application/vnd.jupyter.widget-view+json": {
       "model_id": "1589284898104ecc9205faf79b0f0488",
       "version_major": 2,
       "version_minor": 0
      },
      "text/plain": [
       "interactive(children=(Dropdown(description='ETF', index=4, options=('RXI', 'HERO', 'KXI', 'AMLP', 'ICLN', 'IXC…"
      ]
     },
     "metadata": {},
     "output_type": "display_data"
    }
   ],
   "source": [
    "stats = interact(show_stats_by_tag,\n",
    "                ETF=widgets.Dropdown(options = ['RXI', 'HERO', 'KXI', 'AMLP', 'ICLN', 'IXC', 'IXG', 'IXJ', 'IBB', 'EXI', 'MXI', 'VEGI', \\\n",
    "                                                'PICK', 'IXN',  'IDRV', 'REMX', 'URA', 'NLR', 'PBJ', 'GDX',  'SOXX', 'XT', 'IXP', 'IGF',  \\\n",
    "                                                'SIL', 'SNSR', 'BUG', 'CLOU',  'CARZ', 'DAPP', 'BOTZ'], value=\"ICLN\"))"
   ]
  },
  {
   "cell_type": "code",
   "execution_count": 30,
   "metadata": {},
   "outputs": [
    {
     "data": {
      "application/vnd.jupyter.widget-view+json": {
       "model_id": "5562f9381696493db3e878857201681f",
       "version_major": 2,
       "version_minor": 0
      },
      "text/plain": [
       "interactive(children=(Dropdown(description='ETF', index=3, options=('RXI', 'HERO', 'KXI', 'AMLP', 'ICLN', 'IXC…"
      ]
     },
     "metadata": {},
     "output_type": "display_data"
    }
   ],
   "source": [
    "stats = interact(show_stats_by_tag,\n",
    "                ETF=widgets.Dropdown(options = ['RXI', 'HERO', 'KXI', 'AMLP', 'ICLN', 'IXC', 'IXG', 'IXJ', 'IBB', 'EXI', 'MXI', 'VEGI', \\\n",
    "                                                'PICK', 'IXN',  'IDRV', 'REMX', 'URA', 'NLR', 'PBJ', 'GDX',  'SOXX', 'XT', 'IXP', 'IGF',  \\\n",
    "                                                'SIL', 'SNSR', 'BUG', 'CLOU',  'CARZ', 'DAPP', 'BOTZ'], value=\"AMLP\"))"
   ]
  },
  {
   "cell_type": "code",
   "execution_count": 31,
   "metadata": {},
   "outputs": [
    {
     "data": {
      "application/vnd.jupyter.widget-view+json": {
       "model_id": "cea536a742974ee88789d31f7c82f0e9",
       "version_major": 2,
       "version_minor": 0
      },
      "text/plain": [
       "interactive(children=(Dropdown(description='ETF', index=2, options=('RXI', 'HERO', 'KXI', 'AMLP', 'ICLN', 'IXC…"
      ]
     },
     "metadata": {},
     "output_type": "display_data"
    }
   ],
   "source": [
    "stats = interact(show_stats_by_tag,\n",
    "                ETF=widgets.Dropdown(options = ['RXI', 'HERO', 'KXI', 'AMLP', 'ICLN', 'IXC', 'IXG', 'IXJ', 'IBB', 'EXI', 'MXI', 'VEGI', \\\n",
    "                                                'PICK', 'IXN',  'IDRV', 'REMX', 'URA', 'NLR', 'PBJ', 'GDX',  'SOXX', 'XT', 'IXP', 'IGF',  \\\n",
    "                                                'SIL', 'SNSR', 'BUG', 'CLOU',  'CARZ', 'DAPP', 'BOTZ'], value=\"KXI\"))"
   ]
  },
  {
   "cell_type": "code",
   "execution_count": 32,
   "metadata": {},
   "outputs": [
    {
     "data": {
      "application/vnd.jupyter.widget-view+json": {
       "model_id": "fc466f01fe1641a5bf7c83cce3e42817",
       "version_major": 2,
       "version_minor": 0
      },
      "text/plain": [
       "interactive(children=(Dropdown(description='ETF', index=1, options=('RXI', 'HERO', 'KXI', 'AMLP', 'ICLN', 'IXC…"
      ]
     },
     "metadata": {},
     "output_type": "display_data"
    }
   ],
   "source": [
    "stats = interact(show_stats_by_tag,\n",
    "                ETF=widgets.Dropdown(options = ['RXI', 'HERO', 'KXI', 'AMLP', 'ICLN', 'IXC', 'IXG', 'IXJ', 'IBB', 'EXI', 'MXI', 'VEGI', \\\n",
    "                                                'PICK', 'IXN',  'IDRV', 'REMX', 'URA', 'NLR', 'PBJ', 'GDX',  'SOXX', 'XT', 'IXP', 'IGF',  \\\n",
    "                                                'SIL', 'SNSR', 'BUG', 'CLOU',  'CARZ', 'DAPP', 'BOTZ'], value=\"HERO\"))"
   ]
  },
  {
   "cell_type": "code",
   "execution_count": 34,
   "metadata": {},
   "outputs": [
    {
     "data": {
      "application/vnd.jupyter.widget-view+json": {
       "model_id": "29f78fb8c3594fd185125a8883d41872",
       "version_major": 2,
       "version_minor": 0
      },
      "text/plain": [
       "interactive(children=(Dropdown(description='ETF', options=('RXI', 'HERO', 'KXI', 'AMLP', 'ICLN', 'IXC', 'IXG',…"
      ]
     },
     "metadata": {},
     "output_type": "display_data"
    }
   ],
   "source": [
    "stats = interact(show_stats_by_tag,\n",
    "                ETF=widgets.Dropdown(options = ['RXI', 'HERO', 'KXI', 'AMLP', 'ICLN', 'IXC', 'IXG', 'IXJ', 'IBB', 'EXI', 'MXI', 'VEGI', \\\n",
    "                                                'PICK', 'IXN',  'IDRV', 'REMX', 'URA', 'NLR', 'PBJ', 'GDX',  'SOXX', 'XT', 'IXP', 'IGF',  \\\n",
    "                                                'SIL', 'SNSR', 'BUG', 'CLOU',  'CARZ', 'DAPP', 'BOTZ'], value=\"RXI\"))"
   ]
  },
  {
   "cell_type": "code",
   "execution_count": 35,
   "metadata": {},
   "outputs": [
    {
     "data": {
      "application/vnd.jupyter.widget-view+json": {
       "model_id": "1a8a2a98472c48c5a018ec7ba08a9371",
       "version_major": 2,
       "version_minor": 0
      },
      "text/plain": [
       "interactive(children=(Dropdown(description='ETF', index=5, options=('RXI', 'HERO', 'KXI', 'AMLP', 'ICLN', 'IXC…"
      ]
     },
     "metadata": {},
     "output_type": "display_data"
    }
   ],
   "source": [
    "stats = interact(show_stats_by_tag,\n",
    "                ETF=widgets.Dropdown(options = ['RXI', 'HERO', 'KXI', 'AMLP', 'ICLN', 'IXC', 'IXG', 'IXJ', 'IBB', 'EXI', 'MXI', 'VEGI', \\\n",
    "                                                'PICK', 'IXN',  'IDRV', 'REMX', 'URA', 'NLR', 'PBJ', 'GDX',  'SOXX', 'XT', 'IXP', 'IGF',  \\\n",
    "                                                'SIL', 'SNSR', 'BUG', 'CLOU',  'CARZ', 'DAPP', 'BOTZ'], value=\"IXC\"))"
   ]
  },
  {
   "cell_type": "code",
   "execution_count": null,
   "metadata": {},
   "outputs": [],
   "source": [
    "stats = interact(show_stats_by_tag,\n",
    "                ETF=widgets.Dropdown(options = ['RXI', 'HERO', 'KXI', 'AMLP', 'ICLN', 'IXC', 'IXG', 'IXJ', 'IBB', 'EXI', 'MXI', 'VEGI', \\\n",
    "                                                'PICK', 'IXN',  'IDRV', 'REMX', 'URA', 'NLR', 'PBJ', 'GDX',  'SOXX', 'XT', 'IXP', 'IGF',  \\\n",
    "                                                'SIL', 'SNSR', 'BUG', 'CLOU',  'CARZ', 'DAPP', 'BOTZ'], value=\"SOXX\"))"
   ]
  },
  {
   "cell_type": "code",
   "execution_count": 33,
   "metadata": {},
   "outputs": [
    {
     "data": {
      "text/plain": [
       "12007922911839.006"
      ]
     },
     "execution_count": 33,
     "metadata": {},
     "output_type": "execute_result"
    }
   ],
   "source": [
    " Data_for_Portfolio_TOTAL_2.groupby('Date')['market_cap'].sum()[-1]"
   ]
  },
  {
   "cell_type": "code",
   "execution_count": null,
   "metadata": {},
   "outputs": [],
   "source": []
  }
 ],
 "metadata": {
  "kernelspec": {
   "display_name": "Python 3",
   "language": "python",
   "name": "python3"
  },
  "language_info": {
   "codemirror_mode": {
    "name": "ipython",
    "version": 3
   },
   "file_extension": ".py",
   "mimetype": "text/x-python",
   "name": "python",
   "nbconvert_exporter": "python",
   "pygments_lexer": "ipython3",
   "version": "3.8.5"
  }
 },
 "nbformat": 4,
 "nbformat_minor": 4
}
