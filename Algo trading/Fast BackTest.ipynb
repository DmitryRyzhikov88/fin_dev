{
 "cells": [
  {
   "cell_type": "code",
   "execution_count": 8,
   "metadata": {},
   "outputs": [
    {
     "name": "stdout",
     "output_type": "stream",
     "text": [
      "Traceback (most recent call last):\r\n",
      "  File \"/usr/local/bin/pip\", line 11, in <module>\r\n",
      "    load_entry_point('pip==21.1.1', 'console_scripts', 'pip')()\r\n",
      "  File \"/System/Library/Frameworks/Python.framework/Versions/2.7/Extras/lib/python/pkg_resources/__init__.py\", line 489, in load_entry_point\r\n",
      "    return get_distribution(dist).load_entry_point(group, name)\r\n",
      "  File \"/System/Library/Frameworks/Python.framework/Versions/2.7/Extras/lib/python/pkg_resources/__init__.py\", line 2843, in load_entry_point\r\n",
      "    return ep.load()\r\n",
      "  File \"/System/Library/Frameworks/Python.framework/Versions/2.7/Extras/lib/python/pkg_resources/__init__.py\", line 2434, in load\r\n",
      "    return self.resolve()\r\n",
      "  File \"/System/Library/Frameworks/Python.framework/Versions/2.7/Extras/lib/python/pkg_resources/__init__.py\", line 2440, in resolve\r\n",
      "    module = __import__(self.module_name, fromlist=['__name__'], level=0)\r\n",
      "  File \"/Library/Python/2.7/site-packages/pip-21.1.1-py2.7.egg/pip/__init__.py\", line 1, in <module>\r\n",
      "    from typing import List, Optional\r\n",
      "ImportError: No module named typing\r\n"
     ]
    }
   ],
   "source": [
    "!pip install numpy"
   ]
  },
  {
   "cell_type": "code",
   "execution_count": 12,
   "metadata": {},
   "outputs": [
    {
     "ename": "ModuleNotFoundError",
     "evalue": "No module named 'backtesting'",
     "output_type": "error",
     "traceback": [
      "\u001b[0;31m---------------------------------------------------------------------------\u001b[0m",
      "\u001b[0;31mModuleNotFoundError\u001b[0m                       Traceback (most recent call last)",
      "\u001b[0;32m<ipython-input-12-b34f9b595e34>\u001b[0m in \u001b[0;36m<module>\u001b[0;34m\u001b[0m\n\u001b[1;32m      3\u001b[0m \u001b[0;34m\u001b[0m\u001b[0m\n\u001b[1;32m      4\u001b[0m \u001b[0;32mfrom\u001b[0m \u001b[0mpandas_datareader\u001b[0m \u001b[0;32mimport\u001b[0m \u001b[0mdata\u001b[0m \u001b[0;31m# read data from yahoo and wikipedia\u001b[0m\u001b[0;34m\u001b[0m\u001b[0;34m\u001b[0m\u001b[0m\n\u001b[0;32m----> 5\u001b[0;31m \u001b[0;32mfrom\u001b[0m \u001b[0mbacktesting\u001b[0m \u001b[0;32mimport\u001b[0m \u001b[0mBacktest\u001b[0m\u001b[0;34m,\u001b[0m \u001b[0mStrategy\u001b[0m\u001b[0;34m\u001b[0m\u001b[0;34m\u001b[0m\u001b[0m\n\u001b[0m\u001b[1;32m      6\u001b[0m \u001b[0;32mfrom\u001b[0m \u001b[0mbacktesting\u001b[0m\u001b[0;34m.\u001b[0m\u001b[0mlib\u001b[0m \u001b[0;32mimport\u001b[0m \u001b[0mcrossover\u001b[0m\u001b[0;34m\u001b[0m\u001b[0;34m\u001b[0m\u001b[0m\n\u001b[1;32m      7\u001b[0m \u001b[0;32mfrom\u001b[0m \u001b[0mbacktesting\u001b[0m\u001b[0;34m.\u001b[0m\u001b[0mtest\u001b[0m \u001b[0;32mimport\u001b[0m \u001b[0mSMA\u001b[0m\u001b[0;34m\u001b[0m\u001b[0;34m\u001b[0m\u001b[0m\n",
      "\u001b[0;31mModuleNotFoundError\u001b[0m: No module named 'backtesting'"
     ]
    }
   ],
   "source": [
    "\n",
    "#https://pypi.org/project/Backtesting/\n",
    "import pandas as pd # Pandas Dataframes\n",
    "\n",
    "from pandas_datareader import data # read data from yahoo and wikipedia\n",
    "from backtesting import Backtest, Strategy\n",
    "from backtesting.lib import crossover\n",
    "from backtesting.test import SMA\n",
    "import numpy as np\n",
    "\n"
   ]
  },
  {
   "cell_type": "code",
   "execution_count": 11,
   "metadata": {},
   "outputs": [
    {
     "ename": "NameError",
     "evalue": "name 'Strategy' is not defined",
     "output_type": "error",
     "traceback": [
      "\u001b[0;31m---------------------------------------------------------------------------\u001b[0m",
      "\u001b[0;31mNameError\u001b[0m                                 Traceback (most recent call last)",
      "\u001b[0;32m<ipython-input-11-8a3e56568d5c>\u001b[0m in \u001b[0;36m<module>\u001b[0;34m\u001b[0m\n\u001b[1;32m      1\u001b[0m \u001b[0;32mdef\u001b[0m \u001b[0mMUL\u001b[0m\u001b[0;34m(\u001b[0m\u001b[0ma\u001b[0m\u001b[0;34m,\u001b[0m\u001b[0mb\u001b[0m\u001b[0;34m,\u001b[0m\u001b[0mcolor\u001b[0m\u001b[0;34m)\u001b[0m\u001b[0;34m:\u001b[0m\u001b[0;34m\u001b[0m\u001b[0;34m\u001b[0m\u001b[0m\n\u001b[1;32m      2\u001b[0m     \u001b[0;32mreturn\u001b[0m \u001b[0mnp\u001b[0m\u001b[0;34m.\u001b[0m\u001b[0mappend\u001b[0m\u001b[0;34m(\u001b[0m\u001b[0;32mFalse\u001b[0m\u001b[0;34m,\u001b[0m\u001b[0ma\u001b[0m\u001b[0;34m*\u001b[0m\u001b[0mb\u001b[0m\u001b[0;34m*\u001b[0m\u001b[0mcolor\u001b[0m\u001b[0;34m)\u001b[0m\u001b[0;34m\u001b[0m\u001b[0;34m\u001b[0m\u001b[0m\n\u001b[0;32m----> 3\u001b[0;31m \u001b[0;32mclass\u001b[0m \u001b[0mCandles\u001b[0m\u001b[0;34m(\u001b[0m\u001b[0mStrategy\u001b[0m\u001b[0;34m)\u001b[0m\u001b[0;34m:\u001b[0m\u001b[0;34m\u001b[0m\u001b[0;34m\u001b[0m\u001b[0m\n\u001b[0m\u001b[1;32m      4\u001b[0m     \u001b[0;32mdef\u001b[0m \u001b[0minit\u001b[0m\u001b[0;34m(\u001b[0m\u001b[0mself\u001b[0m\u001b[0;34m)\u001b[0m\u001b[0;34m:\u001b[0m\u001b[0;34m\u001b[0m\u001b[0;34m\u001b[0m\u001b[0m\n\u001b[1;32m      5\u001b[0m             \u001b[0mClose\u001b[0m \u001b[0;34m=\u001b[0m \u001b[0mself\u001b[0m\u001b[0;34m.\u001b[0m\u001b[0mdata\u001b[0m\u001b[0;34m.\u001b[0m\u001b[0mClose\u001b[0m\u001b[0;34m\u001b[0m\u001b[0;34m\u001b[0m\u001b[0m\n",
      "\u001b[0;31mNameError\u001b[0m: name 'Strategy' is not defined"
     ]
    }
   ],
   "source": [
    "def MUL(a,b,color):\n",
    "    return np.append(False,a*b*color)   \n",
    "class Candles(Strategy):\n",
    "    def init(self):\n",
    "            Close = self.data.Close\n",
    "            Open = self.data.Open    \n",
    "            BarOn1 = (Close[0:-1]>Open[1:]) \n",
    "            BarOn2 = (Open[0:-1]<Close[1:])\n",
    "            green = Open<Close\n",
    "            red = Close<Open\n",
    "            self.BarOn = self.I(MUL,BarOn1,BarOn2,red[0:-1])\n",
    "            BarOff1 = (Open[0:-1]>Close[1:]) \n",
    "            BarOff2 = Close[0:-1]<Open[1:]\n",
    "            self.BarOff =  self.I(MUL,BarOff1,BarOff2,green[0:-1])\n",
    "            \n",
    "    def next(self):\n",
    "         if not self.position and self.BarOn:    \n",
    "            self.buy()\n",
    "         elif self.BarOff:\n",
    "                if self.position.size>0:\n",
    "                       self.position.close()\n",
    "\n"
   ]
  },
  {
   "cell_type": "code",
   "execution_count": null,
   "metadata": {},
   "outputs": [],
   "source": [
    "def RSI(array, n=14):\n",
    "    gain = pd.Series(array).diff()\n",
    "    loss = gain.copy()\n",
    "    gain[gain < 0] = 0\n",
    "    loss[loss > 0] = 0\n",
    "    rs = gain.ewm(span=n,min_periods=0,adjust=False).mean()/loss.abs().ewm(span=n,min_periods=0,adjust=False).mean()\n",
    "    return 100 - 100 / (1 + rs)\n",
    "class RSISystem(Strategy):\n",
    "     def init(self):\n",
    "            self.RSIData = self.I(RSI,self.data.Close,14)\n",
    "        def next(self):\n",
    "             if not self.position and self.RSIData<30:    \n",
    "                self.buy()\n",
    "                #print(\"Buy \")\n",
    "                 elif self.RSIData>70:\n",
    "                        if self.position.size>0:\n",
    "                            self.position.close()\n",
    "\n"
   ]
  },
  {
   "cell_type": "code",
   "execution_count": null,
   "metadata": {},
   "outputs": [],
   "source": [
    "class SmaCross(Strategy):\n",
    "    n1 = 20\n",
    "    n2 = 50\n",
    "    def init(self):\n",
    "        close = self.data.Close\n",
    "        self.sma1 = self.I(SMA, close, self.n1)\n",
    "        self.sma2 = self.I(SMA, close, self.n2)        \n",
    "    def next(self):\n",
    "        if not self.position and crossover(self.sma1,self.sma2):      \n",
    "            self.buy()\n",
    "        elif crossover(self.sma2,self.sma1): \n",
    "            if self.position.size>0:\n",
    "                self.position.close()\n",
    "\n"
   ]
  },
  {
   "cell_type": "code",
   "execution_count": null,
   "metadata": {},
   "outputs": [],
   "source": [
    "df = pd.read_html('https://en.wikipedia.org/wiki/List_of_S&P_500_companies')[0]\n",
    "tickers = df.Symbol.to_list()\n",
    "\n",
    "output_df = pd.DataFrame(columns = ['Stock', 'BnH Return',\n",
    "                                    'Candles','Candles Win Rate',\n",
    "                                    'RSI','RSI Win Rate',\n",
    "                                    'SmaCross','SmaCross Win Rate'])\n",
    "\n",
    "for stock in tickers:\n",
    "    try:\n",
    "        df = data.DataReader(stock, 'yahoo', '2011-1-1', '2021-1-1')\n",
    "        bt = Backtest(df, Candels,cash=1e7, commission=.000,exclusive_orders=False)\n",
    "        output = bt.run()\n",
    "        bt1 = Backtest(df, RSISystem,cash=1e7, commission=.000,exclusive_orders=False)\n",
    "        output1 = bt1.run()\n",
    "        bt2 = Backtest(df, SmaCross,cash=1e7, commission=.000,exclusive_orders=False)\n",
    "        output2 = bt2.run()\n",
    "    except:\n",
    "        print(\"Something went wrong with:\" + stock)\n",
    "    else:\n",
    "        output_df = output_df.append({'Stock' : stock,\n",
    "                                 'BnH Return' : output['Buy & Hold Return [%]'], \n",
    "                                 'Candles' : output['Return [%]'],\n",
    "                                'Candles Win Rate':output['Win Rate [%]'],\n",
    "                                'RSI' : output1['Return [%]'],\n",
    "                                'RSI Win Rate':output1['Win Rate [%]'],\n",
    "                                'SmaCross' : output2['Return [%]'],\n",
    "                                'SmaCross Win Rate':output2['Win Rate [%]'],},\n",
    "                                ignore_index = True)\n",
    "\n"
   ]
  },
  {
   "cell_type": "code",
   "execution_count": null,
   "metadata": {},
   "outputs": [],
   "source": [
    "df = data.DataReader('IVV', 'yahoo', '2011-1-1', '2021-1-1')\n",
    "bt = Backtest(df, RSISystem,cash=1e7, commission=.000,exclusive_orders=False)\n",
    "outputsnp = bt.run()\n",
    "print('B&H: ',outputsnp['Buy & Hold Return [%]'],' RSI: ',outputsnp['Return [%]'])\n",
    "sorted=output_df.sort_values(by=['BnH Return']).reset_index(drop=True)\n",
    "\n"
   ]
  },
  {
   "cell_type": "code",
   "execution_count": null,
   "metadata": {},
   "outputs": [],
   "source": [
    "import matplotlib.pyplot as plt\n",
    "plt.figure(figsize=[10,8])\n",
    "plt.semilogy(1+sorted['Candles']/100,'o')\n",
    "plt.semilogy(1+sorted['RSI']/100,'s')\n",
    "plt.semilogy(1+sorted['SmaCross']/100,'d')\n",
    "plt.semilogy(1+sorted['BnH Return']/100,'x')\n",
    "plt.axhline(y = (1+outputsnp['Buy & Hold Return [%]']/100), color = 'r', linestyle = '-')\n",
    "plt.xlabel('S&P 500',fontsize=15)\n",
    "plt.ylabel('Return on the $',fontsize=15)\n",
    "plt.legend(['Engulfing Patterns','RSI','SMA','Buy and hold','B&H IVV'],fontsize=15)\n",
    "\n",
    "print('All data')\n",
    "print('Candles>B&H: ',format((sorted['BnH Return']<sorted['Candels']).sum()/sorted.shape[0], '.3f'))\n",
    "print('RSI>B&H    : ',format((sorted['BnH Return']<sorted['RSI']).sum()/sorted.shape[0], '.3f'))\n",
    "print('SMA>B&H    : ',format((sorted['BnH Return']<sorted['SmaCross']).sum()/sorted.shape[0], '.3f'))\n",
    "print('Top 250')\n",
    "print('Candles>B&H: ',format((sorted['BnH Return'].iloc[250:]<sorted['Candels'].iloc[250:]).sum()/sorted.iloc[250:].shape[0], '.3f'))\n",
    "print('RSI>B&H    : ',format((sorted['BnH Return'].iloc[250:]<sorted['RSI'].iloc[250:]).sum()/sorted.iloc[250:].shape[0], '.3f'))\n",
    "print('SMA>B&H    : ',format((sorted['BnH Return'].iloc[250:]<sorted['SmaCross'].iloc[250:]).sum()/sorted.iloc[250:].shape[0], '.3f'))\n",
    "print('Bottom 100')\n",
    "print('Candles>B&H: ',format((sorted['BnH Return'].iloc[:100]<sorted['Candels'].iloc[:100]).sum()/sorted.iloc[:100].shape[0], '.3f'))\n",
    "print('RSI>B&H    : ',format((sorted['BnH Return'].iloc[:100]<sorted['RSI'].iloc[:100]).sum()/sorted.iloc[:100].shape[0], '.3f'))\n",
    "print('SMA>B&H    : ',format((sorted['BnH Return'].iloc[:100]<sorted['SmaCross'].iloc[:100]).sum()/sorted.iloc[:100].shape[0], '.3f'))\n",
    "\n",
    "print('Candles: ',format((sorted['Candels']>1).sum()/sorted.shape[0], '.3f'))\n",
    "print('RSI    : ',format((sorted['RSI']>1).sum()/sorted.shape[0], '.3f'))\n",
    "print('SMA    : ',format((sorted['SmaCross']>1).sum()/sorted.shape[0], '.3f'))\n",
    "\n",
    "sorted.to_csv('TA.csv')\n",
    "view rawbacktesting_TA_3_strategies.py hosted with ❤ by GitHub"
   ]
  }
 ],
 "metadata": {
  "kernelspec": {
   "display_name": "Python 3",
   "language": "python",
   "name": "python3"
  },
  "language_info": {
   "codemirror_mode": {
    "name": "ipython",
    "version": 3
   },
   "file_extension": ".py",
   "mimetype": "text/x-python",
   "name": "python",
   "nbconvert_exporter": "python",
   "pygments_lexer": "ipython3",
   "version": "3.8.5"
  }
 },
 "nbformat": 4,
 "nbformat_minor": 4
}
