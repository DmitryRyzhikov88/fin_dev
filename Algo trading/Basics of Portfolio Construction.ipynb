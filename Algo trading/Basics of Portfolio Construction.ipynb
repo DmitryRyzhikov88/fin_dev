{
 "cells": [
  {
   "cell_type": "markdown",
   "metadata": {},
   "source": [
    "# Notebook Instructions\n",
    "\n",
    "1. All the <u>code and data files</u> used in this course are available in the downloadable unit of the <u>last section of this course</u>.\n",
    "2. You can run the notebook document sequentially (one cell at a time) by pressing **shift + enter**. \n",
    "3. While a cell is running, a [*] is shown on the left. After the cell is run, the output will appear on the next line.\n",
    "\n",
    "This course is based on specific versions of python packages. You can find the details of the packages in <a href='https://quantra.quantinsti.com/quantra-notebook' target=\"_blank\" >this manual</a>."
   ]
  },
  {
   "cell_type": "markdown",
   "metadata": {},
   "source": [
    "## Basics of Portfolio Construction\n",
    "In this notebook, you will practice the basic mathematical terms. You will learn the implementation of:\n",
    "\n",
    "1. Annualised returns of the stocks\n",
    "3. Annualised standard deviation of the stocks\n",
    "2. Portfolio returns\n",
    "2. Covariance\n",
    "3. Portfolio standard deviation"
   ]
  },
  {
   "cell_type": "markdown",
   "metadata": {},
   "source": [
    "### Import the libraries"
   ]
  },
  {
   "cell_type": "code",
   "execution_count": 1,
   "metadata": {},
   "outputs": [],
   "source": [
    "# Importing the necessary python modules required in this notebook\n",
    "import pandas as pd\n",
    "import math\n",
    "import numpy as np"
   ]
  },
  {
   "cell_type": "markdown",
   "metadata": {},
   "source": [
    "### Import the data\n",
    "We have imported and saved the prices of the stocks, Microsoft (MSFT) and Google (GOOGL) in a CSV file. You will read the CSV file and save in a dataframe. To do this, you will be using pandas `read_csv()` method."
   ]
  },
  {
   "cell_type": "code",
   "execution_count": 2,
   "metadata": {},
   "outputs": [
    {
     "data": {
      "text/html": [
       "<div>\n",
       "<style scoped>\n",
       "    .dataframe tbody tr th:only-of-type {\n",
       "        vertical-align: middle;\n",
       "    }\n",
       "\n",
       "    .dataframe tbody tr th {\n",
       "        vertical-align: top;\n",
       "    }\n",
       "\n",
       "    .dataframe thead th {\n",
       "        text-align: right;\n",
       "    }\n",
       "</style>\n",
       "<table border=\"1\" class=\"dataframe\">\n",
       "  <thead>\n",
       "    <tr style=\"text-align: right;\">\n",
       "      <th></th>\n",
       "      <th>GOOGL</th>\n",
       "      <th>MSFT</th>\n",
       "    </tr>\n",
       "    <tr>\n",
       "      <th>Date</th>\n",
       "      <th></th>\n",
       "      <th></th>\n",
       "    </tr>\n",
       "  </thead>\n",
       "  <tbody>\n",
       "    <tr>\n",
       "      <th>22-12-2017</th>\n",
       "      <td>1068.859985</td>\n",
       "      <td>85.51</td>\n",
       "    </tr>\n",
       "    <tr>\n",
       "      <th>26-12-2017</th>\n",
       "      <td>1065.849976</td>\n",
       "      <td>85.40</td>\n",
       "    </tr>\n",
       "    <tr>\n",
       "      <th>27-12-2017</th>\n",
       "      <td>1060.199951</td>\n",
       "      <td>85.71</td>\n",
       "    </tr>\n",
       "    <tr>\n",
       "      <th>28-12-2017</th>\n",
       "      <td>1055.949951</td>\n",
       "      <td>85.72</td>\n",
       "    </tr>\n",
       "    <tr>\n",
       "      <th>29-12-2017</th>\n",
       "      <td>1053.400024</td>\n",
       "      <td>85.54</td>\n",
       "    </tr>\n",
       "  </tbody>\n",
       "</table>\n",
       "</div>"
      ],
      "text/plain": [
       "                  GOOGL   MSFT\n",
       "Date                          \n",
       "22-12-2017  1068.859985  85.51\n",
       "26-12-2017  1065.849976  85.40\n",
       "27-12-2017  1060.199951  85.71\n",
       "28-12-2017  1055.949951  85.72\n",
       "29-12-2017  1053.400024  85.54"
      ]
     },
     "execution_count": 2,
     "metadata": {},
     "output_type": "execute_result"
    }
   ],
   "source": [
    "# Read CSV to get the prices\n",
    "stock_prices = pd.read_csv(\n",
    "    '../data_modules/Stock_Prices_2016_To_2017.csv', index_col=0)\n",
    "\n",
    "stock_prices.tail()"
   ]
  },
  {
   "cell_type": "markdown",
   "metadata": {},
   "source": [
    "### Annualised returns of the stocks"
   ]
  },
  {
   "cell_type": "markdown",
   "metadata": {},
   "source": [
    "First you will calculate the annualised returns of the stocks. Mathematically it can be calculated as shown below.\n",
    "\n",
    "![title](https://d2a032ejo53cab.cloudfront.net/Glossary/VLLYjcll/annualreturns.PNG)\n",
    "\n",
    "In the equation, \n",
    "1. total returns are returns for the whole period and \n",
    "2. number of days represents the total trading days.\n",
    "\n",
    "You can calculate the same in Python as shown."
   ]
  },
  {
   "cell_type": "code",
   "execution_count": 3,
   "metadata": {},
   "outputs": [
    {
     "name": "stdout",
     "output_type": "stream",
     "text": [
      "The annualised returns of Microsoft is:  24.99%\n",
      "The annualised returns of Google is:  17.81%\n"
     ]
    }
   ],
   "source": [
    "# Calculate annualised returns\n",
    "annual_returns = ((((stock_prices.iloc[-1]-stock_prices.iloc[0]) /\n",
    "                    stock_prices.iloc[0])+1)**(252/len(stock_prices)) - 1)\n",
    "\n",
    "# Print the annualised returns of the stocks\n",
    "print(\"The annualised returns of Microsoft is: \",\n",
    "      str(round(annual_returns['MSFT']*100, 2))+\"%\")\n",
    "\n",
    "print(\"The annualised returns of Google is: \",\n",
    "      str(round(annual_returns['GOOGL']*100, 2))+\"%\")"
   ]
  },
  {
   "cell_type": "markdown",
   "metadata": {},
   "source": [
    "### Annualised standard deviation of the stocks"
   ]
  },
  {
   "cell_type": "markdown",
   "metadata": {},
   "source": [
    "To calculate the annualised standard deviation of the stocks you need to calculate the daily returns of the stocks. You can calculate daily returns using the `pct_change()` function in Python."
   ]
  },
  {
   "cell_type": "code",
   "execution_count": 4,
   "metadata": {},
   "outputs": [],
   "source": [
    "# Calculate the daily returns\n",
    "price_returns = stock_prices.pct_change()\n",
    "\n",
    "# Drop the rows with NaN values\n",
    "price_returns.dropna(inplace=True)"
   ]
  },
  {
   "cell_type": "markdown",
   "metadata": {},
   "source": [
    "The annualised standard deviation of the returns can be calculated using the `std()` method."
   ]
  },
  {
   "cell_type": "code",
   "execution_count": 5,
   "metadata": {},
   "outputs": [
    {
     "name": "stdout",
     "output_type": "stream",
     "text": [
      "The annualised standard deviation of Microsoft is:  19.15%\n",
      "The annualised standard deviation of Google is:  17.81%\n"
     ]
    }
   ],
   "source": [
    "# Calculate the standard deviation of the returns and to annualise it multiple by sqrt(252)\n",
    "annual_std_dev = price_returns.std()*math.sqrt(252)\n",
    "\n",
    "# Print the annualised standard deviation of the stocks\n",
    "print(\"The annualised standard deviation of Microsoft is: \",\n",
    "      str(round(annual_std_dev['MSFT']*100, 2))+\"%\")\n",
    "\n",
    "print(\"The annualised standard deviation of Google is: \",\n",
    "      str(round(annual_std_dev['GOOGL']*100, 2))+\"%\")"
   ]
  },
  {
   "cell_type": "markdown",
   "metadata": {},
   "source": [
    "### Portfolio returns"
   ]
  },
  {
   "cell_type": "markdown",
   "metadata": {},
   "source": [
    "You have learned the portfolio equation in the previous video which is given as:\n",
    "\n",
    "![title](https://d2a032ejo53cab.cloudfront.net/Glossary/TTHwAVfz/portfolioeq.PNG)\n",
    "\n",
    "Let's assume equal weights and the portfolio returns can be calculated by substituting the annualised returns for X and Y in the equation.<br>\n",
    "\n",
    "\n",
    "![title](https://d2a032ejo53cab.cloudfront.net/Glossary/3W2v7iTd/portfolioret.PNG)\n"
   ]
  },
  {
   "cell_type": "code",
   "execution_count": 6,
   "metadata": {},
   "outputs": [
    {
     "name": "stdout",
     "output_type": "stream",
     "text": [
      "The portfolio returns is:  21.4%\n"
     ]
    }
   ],
   "source": [
    "# Assume equal weights\n",
    "a = 0.5\n",
    "b = 0.5\n",
    "\n",
    "# Calculate portfolio returns\n",
    "portolio_returns = a*annual_returns['MSFT'] + b*annual_returns['GOOGL']\n",
    "\n",
    "# Print the portfolio returns\n",
    "print(\"The portfolio returns is: \", str(round(portolio_returns*100, 2))+\"%\")"
   ]
  },
  {
   "cell_type": "markdown",
   "metadata": {},
   "source": [
    "### Covariance\n",
    "The next concept we learned was the calculation of covariance. The mathematical equation for the same is as shown.\n",
    "\n",
    "![title](https://d2a032ejo53cab.cloudfront.net/Glossary/sDU6kxTb/covarianceformulae.PNG)\n",
    "\n",
    "Here, \n",
    "1. X and Y are the series of data for which you want to calculate the covariance value. \n",
    "2. $\\bar X$ and $\\bar Y$ are the mean values of the respective series.\n",
    "3. n is the number of values in either of the series.\n",
    "\n",
    "To calculate the same in Python, we will use the method from numpy library called `cov()`. \n",
    "\n",
    "This method calculates covariance assuming the data is a sample by default. For a sample data the denominator is taken as n-1 in the covariance formula instead of n. This is to correct the bias in case of sample data.\n",
    "\n",
    "To specify that we are using the population data and take the denominator as 'n', we need to pass one more parameter `bias=True` to the `cov()` method."
   ]
  },
  {
   "cell_type": "code",
   "execution_count": 7,
   "metadata": {},
   "outputs": [
    {
     "data": {
      "text/plain": [
       "array([[1.5 , 2.75],\n",
       "       [2.75, 7.5 ]])"
      ]
     },
     "execution_count": 7,
     "metadata": {},
     "output_type": "execute_result"
    }
   ],
   "source": [
    "# Example data series X and Y\n",
    "X = [5, 2, 4, 5]\n",
    "Y = [4, 0, 1, 7]\n",
    "\n",
    "# Calculate the covariance of X and Y\n",
    "cov_X_Y = np.cov(X, Y, bias=True)\n",
    "cov_X_Y"
   ]
  },
  {
   "cell_type": "markdown",
   "metadata": {},
   "source": [
    "This method takes two series of data as input and gives a 2*2 matrix as output. <br>\n",
    "This matrix has four values where the diagonal ones represent the variance of the stocks. The first value, 2 is the variance of X and the value, 10 is the variance of Y.<br>\n",
    "And the other two values which are equal gives the covariance of the stocks. The value, 3.66666667 is the covariance of X and Y"
   ]
  },
  {
   "cell_type": "code",
   "execution_count": 8,
   "metadata": {},
   "outputs": [
    {
     "name": "stdout",
     "output_type": "stream",
     "text": [
      "The covariance of X and Y is:  2.75\n"
     ]
    }
   ],
   "source": [
    "# Print the covariance value of X and Y\n",
    "print(\"The covariance of X and Y is: \", round(cov_X_Y[0, 1], 2))"
   ]
  },
  {
   "cell_type": "markdown",
   "metadata": {},
   "source": [
    "### Covariance of the stocks"
   ]
  },
  {
   "cell_type": "markdown",
   "metadata": {},
   "source": [
    "You will calculate the covariance for the stocks. This is used in the portfolio standard deviation calculation."
   ]
  },
  {
   "cell_type": "code",
   "execution_count": 9,
   "metadata": {},
   "outputs": [
    {
     "name": "stdout",
     "output_type": "stream",
     "text": [
      "The covariance of MSFT and GOOGL is:  0.0228\n"
     ]
    }
   ],
   "source": [
    "# Calculate the covariance of the stocks and multiply it by 252 to get annualised covariance\n",
    "cov_msft_googl = np.cov(\n",
    "    price_returns['MSFT'], price_returns['GOOGL'], bias=True)*252\n",
    "\n",
    "# Print the covariance value of MSFT and GOOGL\n",
    "print(\"The covariance of MSFT and GOOGL is: \", round(cov_msft_googl[0, 1], 4))"
   ]
  },
  {
   "cell_type": "markdown",
   "metadata": {},
   "source": [
    "### Portfolio standard deviation"
   ]
  },
  {
   "cell_type": "markdown",
   "metadata": {},
   "source": [
    "You have learned the portfolio standard deviation equation in the previous video.\n",
    "\n",
    "![title](https://d2a032ejo53cab.cloudfront.net/Glossary/ydMcIA1J/portstddev.PNG)\n",
    "\n",
    "Let's calculate the standard deviation of the portfolio you have created"
   ]
  },
  {
   "cell_type": "code",
   "execution_count": 10,
   "metadata": {},
   "outputs": [
    {
     "name": "stdout",
     "output_type": "stream",
     "text": [
      "The portfolio standard deviation is:  16.88%\n"
     ]
    }
   ],
   "source": [
    "# Calculate portfolio standard deviation\n",
    "portolio_std_dev = math.sqrt((a**2)*(annual_std_dev['MSFT']**2) + (b**2)*(annual_std_dev['GOOGL']**2)\n",
    "                             + 2*a*b*cov_msft_googl[0, 1])\n",
    "\n",
    "# Print the portfolio standard deviation\n",
    "print(\"The portfolio standard deviation is: \",\n",
    "      str(round(portolio_std_dev*100, 2))+\"%\")"
   ]
  },
  {
   "cell_type": "markdown",
   "metadata": {},
   "source": [
    "In the next section, you will use these concepts and build a portfolio using Modern Portfolio Theory.<br><br>"
   ]
  }
 ],
 "metadata": {
  "kernelspec": {
   "display_name": "Python 3",
   "language": "python",
   "name": "python3"
  },
  "language_info": {
   "codemirror_mode": {
    "name": "ipython",
    "version": 3
   },
   "file_extension": ".py",
   "mimetype": "text/x-python",
   "name": "python",
   "nbconvert_exporter": "python",
   "pygments_lexer": "ipython3",
   "version": "3.7.4"
  }
 },
 "nbformat": 4,
 "nbformat_minor": 2
}
