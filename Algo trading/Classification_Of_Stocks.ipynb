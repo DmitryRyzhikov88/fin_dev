{
 "cells": [
  {
   "cell_type": "markdown",
   "metadata": {
    "colab_type": "text",
    "id": "kqRggC_kVd8H"
   },
   "source": [
    "# Notebook Instructions\n",
    "<i>You can run the notebook document sequentially (one cell at a time) by pressing <b> shift + enter</b>. While a cell is running, a [*] will display on the left. When it has been run, a number will display indicating the order in which it was run in the notebook [8].</i>\n",
    "\n",
    "<i>Enter edit mode by pressing <b>`Enter`</b> or using the mouse to click on a cell's editor area. Edit mode is indicated by a green cell border and a prompt showing in the editor area.</i> <BR>\n",
    "    \n",
    "This course is based on specific versions of python packages. You can find the details of the same in <a href='https://quantra.quantinsti.com/quantra-notebook' target=\"_blank\" >this manual</a>. The manual also explains how to use these codes in other versions of python packages. <BR>"
   ]
  },
  {
   "cell_type": "markdown",
   "metadata": {
    "colab_type": "text",
    "id": "a8FsmHCGVd8O"
   },
   "source": [
    "# Classifying Stocks- Screening Tool\n",
    "\n",
    "In this notebook, you learn how to create a stock screener. \n",
    "1. Create a list of stocks\n",
    "2. Find the regime on a relative basis for each stock\n",
    "3. Identify the start date of the latest regime\n",
    "4. Calculate absolute and relative cumulative returns\n"
   ]
  },
  {
   "cell_type": "markdown",
   "metadata": {
    "colab_type": "text",
    "id": "oAU0BY2gVd8S"
   },
   "source": [
    "### Import libraries"
   ]
  },
  {
   "cell_type": "code",
   "execution_count": 1,
   "metadata": {
    "colab": {},
    "colab_type": "code",
    "id": "jOIbjTubVd8W"
   },
   "outputs": [],
   "source": [
    "# Data manipulation libraries\n",
    "import numpy as np\n",
    "import pandas as pd\n",
    "from datetime import datetime\n",
    "\n",
    "# Calculates swing highs and lows\n",
    "from scipy.signal import *\n",
    "from scipy.signal import argrelextrema\n",
    "\n",
    "# Appends new file paths to import modules\n",
    "import sys\n",
    "sys.path.append(\"..\")\n",
    "\n",
    "# All functions library\n",
    "from data_modules.short_selling import relative\n",
    "from data_modules.short_selling import swings\n",
    "from data_modules.short_selling import regime_fc\n",
    "from data_modules.short_selling import cum_return_percent\n",
    "from data_modules.short_selling import returns\n",
    "\n",
    "# Imports charting libraries\n",
    "import matplotlib.pyplot as plt\n",
    "\n",
    "%matplotlib inline"
   ]
  },
  {
   "cell_type": "markdown",
   "metadata": {
    "colab_type": "text",
    "id": "wr_VPQMrVd8m"
   },
   "source": [
    "### Import data\n",
    "\n",
    "#### Files name:\n",
    "1. BK_Jan_2010_to_Jan_2019, Bank of New York Mellon\n",
    "2. JPM_Jan_2010_to_Jan_2019, JP Morgan\n",
    "3. WFC_Jan_2010_to_Jan_2019, Wells Fargo\n",
    "4. BAC_Jan_2010_to_Jan_2019, Bank of America\n",
    "5. USDGBP_Jan_2010_to_Jan_2019.csv, contains forex data for 'USDGBP'\n",
    "6. SP500_Jan_2010_to_Jan_2019.csv, contains benchmark data for 'SP500'\n",
    "\n",
    "This data is available in the last unit of this course. You can find this file in the downloadables section of the course."
   ]
  },
  {
   "cell_type": "code",
   "execution_count": 2,
   "metadata": {
    "colab": {},
    "colab_type": "code",
    "id": "K-Y0tWLDYD_R"
   },
   "outputs": [],
   "source": [
    "# Data is stored in the directory 'data_modules' \n",
    "relative_path = \"../data_modules/\""
   ]
  },
  {
   "cell_type": "code",
   "execution_count": 3,
   "metadata": {
    "colab": {},
    "colab_type": "code",
    "id": "cRaRxUN-Vd8q"
   },
   "outputs": [],
   "source": [
    "# Import and read benchmark data using the function 'read_csv'\n",
    "benchmark = pd.read_csv(relative_path +\n",
    "                        'SP500_Jan_2010_to_Jan_2019.csv', index_col=0, parse_dates=True)\n",
    "\n",
    "benchmark_name = 'SP500'\n",
    "\n",
    "# Import and read forex data using the function 'read_data'\n",
    "forex = pd.read_csv(relative_path +\n",
    "                    'USDGBP_Jan_2010_to_Jan_2019.csv', index_col=0, parse_dates=True)\n",
    "\n",
    "forex_name = 'USDGBP'"
   ]
  },
  {
   "cell_type": "code",
   "execution_count": 4,
   "metadata": {
    "colab": {},
    "colab_type": "code",
    "id": "VWVXGC0KVd81"
   },
   "outputs": [],
   "source": [
    "# Create a dataframe and dictionary list\n",
    "market_regime = pd.DataFrame()\n",
    "list_dict = []"
   ]
  },
  {
   "cell_type": "markdown",
   "metadata": {
    "colab_type": "text",
    "id": "L5SbO93dVd9B"
   },
   "source": [
    "### Stock classification for Bank of America, BAC."
   ]
  },
  {
   "cell_type": "code",
   "execution_count": 5,
   "metadata": {
    "colab": {},
    "colab_type": "code",
    "id": "3JkDnyj9Vd9F"
   },
   "outputs": [],
   "source": [
    "# Read and process data\n",
    "data = pd.read_csv(relative_path + 'BAC_Jan_2010_to_Jan_2019.csv',\n",
    "                   index_col=0, parse_dates=True)"
   ]
  },
  {
   "cell_type": "markdown",
   "metadata": {
    "colab_type": "text",
    "id": "_zQVS6KFVd9P"
   },
   "source": [
    "#### Find the stock's regime:"
   ]
  },
  {
   "cell_type": "code",
   "execution_count": 6,
   "metadata": {
    "colab": {},
    "colab_type": "code",
    "id": "H1iESmMlVd9T"
   },
   "outputs": [],
   "source": [
    "# Create a relative series\n",
    "data = relative(stock_dataframe=data, benchmark_dataframe=benchmark, benchmark_name='SP500',\n",
    "                forex_dataframe=forex, forex_name='USDGBP', decimals=2, start=None, end=None)\n",
    "\n",
    "# Calculate the swings\n",
    "data = swings(df=data, high='rebased_high',\n",
    "              low='rebased_low', argrel_window=20)\n",
    "\n",
    "# Calculate the stock regime\n",
    "data = regime_fc(df=data, close='rebased_close', swing_low='srebased_low',\n",
    "                 swing_high='srebased_high', threshold=1.5, t_dev=63, decimals=3)\n",
    "\n",
    "# Current regime\n",
    "regime = data['r_regime_floorceiling'][-1]"
   ]
  },
  {
   "cell_type": "markdown",
   "metadata": {
    "colab_type": "text",
    "id": "ba6l26OXVd9e"
   },
   "source": [
    "#### Find the regime change date:"
   ]
  },
  {
   "cell_type": "code",
   "execution_count": 7,
   "metadata": {
    "colab": {},
    "colab_type": "code",
    "id": "64884RK9Vd9h"
   },
   "outputs": [],
   "source": [
    "# Find the latest regime change\n",
    "regime_change_date = datetime.date(\n",
    "    data[data['r_regime_change'].diff() != 0].index[-1])"
   ]
  },
  {
   "cell_type": "markdown",
   "metadata": {
    "colab_type": "text",
    "id": "cI04TD7QVd9s"
   },
   "source": [
    "#### Calculate absolute and relative cumulative returns:"
   ]
  },
  {
   "cell_type": "code",
   "execution_count": 8,
   "metadata": {
    "colab": {},
    "colab_type": "code",
    "id": "9c0sq1GHVd9w"
   },
   "outputs": [],
   "source": [
    "# Calculate cumulative returns for relative series\n",
    "cumulative_relative_returns = cum_return_percent(\n",
    "    returns(data[regime_change_date:]['rebased_close']))[-1]\n",
    "\n",
    "# Calculate cumulative returns for absolute series\n",
    "cumulative_absolute_returns = cum_return_percent(\n",
    "    returns(data[regime_change_date:]['Close']))[-1]"
   ]
  },
  {
   "cell_type": "code",
   "execution_count": 9,
   "metadata": {
    "colab": {},
    "colab_type": "code",
    "id": "13zKlGj7Vd97"
   },
   "outputs": [],
   "source": [
    "# Create a dictionary  of the columns required and append it to the list\n",
    "row = {'file_name': data, 'regime': regime, 'regime_change_date': regime_change_date,\n",
    "       'relative_returns': cumulative_relative_returns, 'absolute_returns': cumulative_absolute_returns}\n",
    "\n",
    "# Append dictionary row to list\n",
    "list_dict.append(row)"
   ]
  },
  {
   "cell_type": "code",
   "execution_count": 10,
   "metadata": {
    "colab": {},
    "colab_type": "code",
    "id": "gMYQm4__Vd-G",
    "outputId": "b9a8ef33-462b-4808-9533-915a4ee06575"
   },
   "outputs": [
    {
     "data": {
      "text/html": [
       "<div>\n",
       "<style scoped>\n",
       "    .dataframe tbody tr th:only-of-type {\n",
       "        vertical-align: middle;\n",
       "    }\n",
       "\n",
       "    .dataframe tbody tr th {\n",
       "        vertical-align: top;\n",
       "    }\n",
       "\n",
       "    .dataframe thead th {\n",
       "        text-align: right;\n",
       "    }\n",
       "</style>\n",
       "<table border=\"1\" class=\"dataframe\">\n",
       "  <thead>\n",
       "    <tr style=\"text-align: right;\">\n",
       "      <th></th>\n",
       "      <th>file_name</th>\n",
       "      <th>regime_change_date</th>\n",
       "      <th>regime</th>\n",
       "      <th>relative_returns</th>\n",
       "      <th>absolute_returns</th>\n",
       "    </tr>\n",
       "  </thead>\n",
       "  <tbody>\n",
       "    <tr>\n",
       "      <th>0</th>\n",
       "      <td>Open   High    Low  Close  USDGBP...</td>\n",
       "      <td>2018-07-30</td>\n",
       "      <td>-1.0</td>\n",
       "      <td>-15.3</td>\n",
       "      <td>-20.3</td>\n",
       "    </tr>\n",
       "  </tbody>\n",
       "</table>\n",
       "</div>"
      ],
      "text/plain": [
       "                                           file_name regime_change_date  \\\n",
       "0               Open   High    Low  Close  USDGBP...         2018-07-30   \n",
       "\n",
       "   regime  relative_returns  absolute_returns  \n",
       "0    -1.0             -15.3             -20.3  "
      ]
     },
     "execution_count": 10,
     "metadata": {},
     "output_type": "execute_result"
    }
   ],
   "source": [
    "# Instantiate market_regime df using pd.DataFrame. from_dict()\n",
    "market_regime = pd.DataFrame.from_dict(list_dict)\n",
    "# Change the order of the columns\n",
    "market_regime = market_regime[['file_name', 'regime_change_date',\n",
    "                               'regime', 'relative_returns', 'absolute_returns']]\n",
    "# Sort columns by regime change date\n",
    "market_regime.sort_values(\n",
    "    by=['regime_change_date'], ascending=False, inplace=True)\n",
    "\n",
    "# Print the market regime\n",
    "market_regime"
   ]
  },
  {
   "cell_type": "markdown",
   "metadata": {
    "colab_type": "text",
    "id": "BoobGMR4Vd-g"
   },
   "source": [
    "Result: Regime for Bank of America is -1, bearish."
   ]
  },
  {
   "cell_type": "markdown",
   "metadata": {
    "colab_type": "text",
    "id": "3c5mYldxVd-j"
   },
   "source": [
    "Now, let's perform these four steps over the other stock data by looping using a 'for' loop."
   ]
  },
  {
   "cell_type": "markdown",
   "metadata": {
    "colab_type": "text",
    "id": "iX6Lfj3dVd-m"
   },
   "source": [
    "#### Create a stock universe:\n",
    "\n",
    "Create a list of stock data, file_names[].\n",
    "1. BK_Jan_2010_to_Jan_2019, Bank of New York Mellon\n",
    "2. JPM_Jan_2010_to_Jan_2019, JP Morgan\n",
    "3. WFC_Jan_2010_to_Jan_2019, Wells Fargo\n",
    "4. BAC_Jan_2010_to_Jan_2019, Bank of America"
   ]
  },
  {
   "cell_type": "code",
   "execution_count": 11,
   "metadata": {
    "colab": {},
    "colab_type": "code",
    "id": "wpb1R4G9Vd-q"
   },
   "outputs": [],
   "source": [
    "# Create a list of stock data\n",
    "file_names = ['BAC_Jan_2010_to_Jan_2019', 'BK_Jan_2010_to_Jan_2019',\n",
    "              'JPM_Jan_2010_to_Jan_2019', 'WFC_Jan_2010_to_Jan_2019']"
   ]
  },
  {
   "cell_type": "markdown",
   "metadata": {
    "colab_type": "text",
    "id": "kl5F5RP5Vd-2"
   },
   "source": [
    "### Loop through the stocks using the same four steps:\n",
    "1. Find the regime on a relative basis for each stock\n",
    "2. Identify the start date of the latest regime\n",
    "3. Calculate absolute and relative cumulative returns"
   ]
  },
  {
   "cell_type": "code",
   "execution_count": 12,
   "metadata": {
    "colab": {},
    "colab_type": "code",
    "id": "FsEj-JZSVd-6"
   },
   "outputs": [],
   "source": [
    "list_dict = []\n",
    "# For loop to iterate over the tickers list\n",
    "for count, file_name in enumerate(file_names):\n",
    "\n",
    "    # Data is stored in the directory 'data_modules'\n",
    "    relative_path = \"../data_modules/\"\n",
    "    # Read and process data: relative, swings, regime_fc\n",
    "    df = pd.read_csv(relative_path + file_name + '.csv',\n",
    "                     index_col=0, parse_dates=True)\n",
    "    df = relative(stock_dataframe=df, benchmark_dataframe=benchmark, benchmark_name='SP500',\n",
    "                  forex_dataframe=forex, forex_name='USDGBP', decimals=2, start=None, end=None)\n",
    "    df = swings(df=df, high='rebased_high',\n",
    "                low='rebased_low', argrel_window=20)\n",
    "    df = regime_fc(df=df, close='rebased_close', swing_low='srebased_low',\n",
    "                   swing_high='srebased_high', threshold=1.5, t_dev=63, decimals=3)\n",
    "\n",
    "    # Instantiate variables with last row values for each field\n",
    "    # Current regime\n",
    "    regime = df['r_regime_floorceiling'][-1]\n",
    "\n",
    "    regime_change_date = datetime.date(\n",
    "        df[df['r_regime_change'].diff() != 0].index[-1])\n",
    "    # Calculate cumulative returns for relative series\n",
    "    cum_rel_rets = cum_return_percent(\n",
    "        returns(df[regime_change_date:]['rebased_close']))[-1]\n",
    "    # Calculate cumulative returns for relative series\n",
    "    cum_abs_rets = cum_return_percent(\n",
    "        returns(df[regime_change_date:]['Close']))[-1]\n",
    "\n",
    "    # Create a row dictionary and list_dict.append(row)\n",
    "    row = {'file_names': file_name, 'regime': regime, 'regime_change_date': regime_change_date,\n",
    "           'relative_returns': cum_rel_rets, 'absolute_returns': cum_abs_rets}\n",
    "    # Append dictionary row to list\n",
    "    list_dict.append(row)"
   ]
  },
  {
   "cell_type": "code",
   "execution_count": 13,
   "metadata": {
    "colab": {},
    "colab_type": "code",
    "id": "mdq2K6CMVd_F",
    "outputId": "a957768d-4e18-45a9-aee3-3dabb6c703a4",
    "scrolled": true
   },
   "outputs": [
    {
     "data": {
      "text/html": [
       "<div>\n",
       "<style scoped>\n",
       "    .dataframe tbody tr th:only-of-type {\n",
       "        vertical-align: middle;\n",
       "    }\n",
       "\n",
       "    .dataframe tbody tr th {\n",
       "        vertical-align: top;\n",
       "    }\n",
       "\n",
       "    .dataframe thead th {\n",
       "        text-align: right;\n",
       "    }\n",
       "</style>\n",
       "<table border=\"1\" class=\"dataframe\">\n",
       "  <thead>\n",
       "    <tr style=\"text-align: right;\">\n",
       "      <th></th>\n",
       "      <th>regime_change_date</th>\n",
       "      <th>regime</th>\n",
       "      <th>relative_returns</th>\n",
       "      <th>absolute_returns</th>\n",
       "    </tr>\n",
       "    <tr>\n",
       "      <th>file_names</th>\n",
       "      <th></th>\n",
       "      <th></th>\n",
       "      <th></th>\n",
       "      <th></th>\n",
       "    </tr>\n",
       "  </thead>\n",
       "  <tbody>\n",
       "    <tr>\n",
       "      <th>BK_Jan_2010_to_Jan_2019</th>\n",
       "      <td>2018-10-10</td>\n",
       "      <td>-1.0</td>\n",
       "      <td>-1.5</td>\n",
       "      <td>-6.3</td>\n",
       "    </tr>\n",
       "    <tr>\n",
       "      <th>BAC_Jan_2010_to_Jan_2019</th>\n",
       "      <td>2018-07-30</td>\n",
       "      <td>-1.0</td>\n",
       "      <td>-15.3</td>\n",
       "      <td>-20.3</td>\n",
       "    </tr>\n",
       "    <tr>\n",
       "      <th>JPM_Jan_2010_to_Jan_2019</th>\n",
       "      <td>2018-07-30</td>\n",
       "      <td>-1.0</td>\n",
       "      <td>-9.6</td>\n",
       "      <td>-14.9</td>\n",
       "    </tr>\n",
       "    <tr>\n",
       "      <th>WFC_Jan_2010_to_Jan_2019</th>\n",
       "      <td>2018-01-24</td>\n",
       "      <td>1.0</td>\n",
       "      <td>-28.8</td>\n",
       "      <td>-28.3</td>\n",
       "    </tr>\n",
       "  </tbody>\n",
       "</table>\n",
       "</div>"
      ],
      "text/plain": [
       "                         regime_change_date  regime  relative_returns  \\\n",
       "file_names                                                              \n",
       "BK_Jan_2010_to_Jan_2019          2018-10-10    -1.0              -1.5   \n",
       "BAC_Jan_2010_to_Jan_2019         2018-07-30    -1.0             -15.3   \n",
       "JPM_Jan_2010_to_Jan_2019         2018-07-30    -1.0              -9.6   \n",
       "WFC_Jan_2010_to_Jan_2019         2018-01-24     1.0             -28.8   \n",
       "\n",
       "                          absolute_returns  \n",
       "file_names                                  \n",
       "BK_Jan_2010_to_Jan_2019               -6.3  \n",
       "BAC_Jan_2010_to_Jan_2019             -20.3  \n",
       "JPM_Jan_2010_to_Jan_2019             -14.9  \n",
       "WFC_Jan_2010_to_Jan_2019             -28.3  "
      ]
     },
     "execution_count": 13,
     "metadata": {},
     "output_type": "execute_result"
    }
   ],
   "source": [
    "# Instantiate market_regime df using pd.DataFrame. from_dict()\n",
    "market_regime = pd.DataFrame.from_dict(list_dict)\n",
    "# Set Index as file_names\n",
    "market_regime = market_regime.set_index('file_names')\n",
    "# Change the order of the columns\n",
    "market_regime = market_regime[['regime_change_date',\n",
    "                               'regime', 'relative_returns', 'absolute_returns']]\n",
    "# Sort columns by regime change date\n",
    "market_regime.sort_values(\n",
    "    by=['regime_change_date'], ascending=False, inplace=True)\n",
    "\n",
    "# Print market regime\n",
    "market_regime"
   ]
  },
  {
   "cell_type": "markdown",
   "metadata": {
    "colab_type": "text",
    "id": "pFNfxoNifk75"
   },
   "source": [
    "### Conclusion\n",
    "This notebook gives you a basic framework to create a powerful daily screening across your entire investment universe. You can scan for signals, calculate performance and perform all sorts of manipulations.\n",
    "Bank of America and New York Mellon have a negative regime change, bearish. Whereas, Wells Fargo and JP Morgan have a positive regime change, bullish.\n",
    "</span> <BR><BR>"
   ]
  }
 ],
 "metadata": {
  "colab": {
   "collapsed_sections": [],
   "name": "Classification_Of_Stocks.ipynb",
   "provenance": []
  },
  "kernelspec": {
   "display_name": "Python 3",
   "language": "python",
   "name": "python3"
  },
  "language_info": {
   "codemirror_mode": {
    "name": "ipython",
    "version": 3
   },
   "file_extension": ".py",
   "mimetype": "text/x-python",
   "name": "python",
   "nbconvert_exporter": "python",
   "pygments_lexer": "ipython3",
   "version": "3.6.5"
  }
 },
 "nbformat": 4,
 "nbformat_minor": 1
}
