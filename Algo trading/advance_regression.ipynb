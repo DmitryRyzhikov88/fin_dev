{
 "cells": [
  {
   "cell_type": "code",
   "execution_count": 154,
   "metadata": {},
   "outputs": [],
   "source": [
    "# Machine learning libraries\n",
    "from sklearn.linear_model import LinearRegression\n",
    "from sklearn.preprocessing import StandardScaler\n",
    "from sklearn.impute import SimpleImputer\n",
    "from sklearn.model_selection import GridSearchCV\n",
    "from sklearn.pipeline import Pipeline\n",
    "\n",
    "# Data manipulation\n",
    "import pandas as pd\n",
    "import numpy as np\n",
    "\n",
    "# Plotting\n",
    "import matplotlib.pyplot as plt\n",
    "\n",
    "# yahoo finance is used to fetch data\n",
    "import yfinance as yf\n",
    "\n",
    "#date and time\n",
    "import datetime as dt\n",
    "current_date = dt.datetime.now()"
   ]
  },
  {
   "cell_type": "code",
   "execution_count": 155,
   "metadata": {},
   "outputs": [
    {
     "name": "stdout",
     "output_type": "stream",
     "text": [
      "[*********************100%***********************]  1 of 1 completed\n"
     ]
    },
    {
     "data": {
      "image/png": "[encoded data removed]",
      "text/plain": [
       "<Figure size 720x360 with 1 Axes>"
      ]
     },
     "metadata": {
      "needs_background": "light"
     },
     "output_type": "display_data"
    }
   ],
   "source": [
    "# Read the data\n",
    "Df = yf.download('GDX', '2012-01-01', current_date, auto_adjust=True)\n",
    "#Df = Df[['Close']]\n",
    "\n",
    "# Plot the closing price of GLD\n",
    "Df.Close.plot(figsize=(10, 5))\n",
    "plt.ylabel(\"Close Price\")\n",
    "plt.show()"
   ]
  },
  {
   "cell_type": "code",
   "execution_count": 156,
   "metadata": {},
   "outputs": [
    {
     "data": {
      "text/html": [
       "<div>\n",
       "<style scoped>\n",
       "    .dataframe tbody tr th:only-of-type {\n",
       "        vertical-align: middle;\n",
       "    }\n",
       "\n",
       "    .dataframe tbody tr th {\n",
       "        vertical-align: top;\n",
       "    }\n",
       "\n",
       "    .dataframe thead th {\n",
       "        text-align: right;\n",
       "    }\n",
       "</style>\n",
       "<table border=\"1\" class=\"dataframe\">\n",
       "  <thead>\n",
       "    <tr style=\"text-align: right;\">\n",
       "      <th></th>\n",
       "      <th>Open</th>\n",
       "      <th>High</th>\n",
       "      <th>Low</th>\n",
       "      <th>Close</th>\n",
       "      <th>Volume</th>\n",
       "      <th>S_3</th>\n",
       "      <th>S_15</th>\n",
       "      <th>S_60</th>\n",
       "      <th>Corr</th>\n",
       "      <th>Std_U</th>\n",
       "      <th>Std_D</th>\n",
       "      <th>OD</th>\n",
       "      <th>OL</th>\n",
       "    </tr>\n",
       "    <tr>\n",
       "      <th>Date</th>\n",
       "      <th></th>\n",
       "      <th></th>\n",
       "      <th></th>\n",
       "      <th></th>\n",
       "      <th></th>\n",
       "      <th></th>\n",
       "      <th></th>\n",
       "      <th></th>\n",
       "      <th></th>\n",
       "      <th></th>\n",
       "      <th></th>\n",
       "      <th></th>\n",
       "      <th></th>\n",
       "    </tr>\n",
       "  </thead>\n",
       "  <tbody>\n",
       "    <tr>\n",
       "      <th>2021-07-06</th>\n",
       "      <td>35.020000</td>\n",
       "      <td>35.049999</td>\n",
       "      <td>34.169998</td>\n",
       "      <td>34.520000</td>\n",
       "      <td>19947100</td>\n",
       "      <td>34.119999</td>\n",
       "      <td>34.925333</td>\n",
       "      <td>36.659333</td>\n",
       "      <td>0.635214</td>\n",
       "      <td>0.029999</td>\n",
       "      <td>0.850002</td>\n",
       "      <td>0.630001</td>\n",
       "      <td>0.600002</td>\n",
       "    </tr>\n",
       "    <tr>\n",
       "      <th>2021-07-07</th>\n",
       "      <td>34.740002</td>\n",
       "      <td>34.790001</td>\n",
       "      <td>34.290001</td>\n",
       "      <td>34.560001</td>\n",
       "      <td>14493700</td>\n",
       "      <td>34.299999</td>\n",
       "      <td>34.691333</td>\n",
       "      <td>36.655833</td>\n",
       "      <td>0.318429</td>\n",
       "      <td>0.049999</td>\n",
       "      <td>0.450001</td>\n",
       "      <td>-0.279999</td>\n",
       "      <td>0.220001</td>\n",
       "    </tr>\n",
       "    <tr>\n",
       "      <th>2021-07-08</th>\n",
       "      <td>34.619999</td>\n",
       "      <td>34.689999</td>\n",
       "      <td>33.389999</td>\n",
       "      <td>33.680000</td>\n",
       "      <td>27118300</td>\n",
       "      <td>34.500000</td>\n",
       "      <td>34.489333</td>\n",
       "      <td>36.665833</td>\n",
       "      <td>0.205327</td>\n",
       "      <td>0.070000</td>\n",
       "      <td>1.230000</td>\n",
       "      <td>-0.120003</td>\n",
       "      <td>0.059998</td>\n",
       "    </tr>\n",
       "    <tr>\n",
       "      <th>2021-07-09</th>\n",
       "      <td>33.799999</td>\n",
       "      <td>34.490002</td>\n",
       "      <td>33.759998</td>\n",
       "      <td>34.369999</td>\n",
       "      <td>18200000</td>\n",
       "      <td>34.253334</td>\n",
       "      <td>34.283333</td>\n",
       "      <td>36.651167</td>\n",
       "      <td>-0.041213</td>\n",
       "      <td>0.690002</td>\n",
       "      <td>0.040001</td>\n",
       "      <td>-0.820000</td>\n",
       "      <td>0.119999</td>\n",
       "    </tr>\n",
       "    <tr>\n",
       "      <th>2021-07-12</th>\n",
       "      <td>34.200001</td>\n",
       "      <td>34.560001</td>\n",
       "      <td>33.830002</td>\n",
       "      <td>33.889999</td>\n",
       "      <td>20288500</td>\n",
       "      <td>34.203334</td>\n",
       "      <td>34.246000</td>\n",
       "      <td>36.652500</td>\n",
       "      <td>-0.173201</td>\n",
       "      <td>0.360001</td>\n",
       "      <td>0.369999</td>\n",
       "      <td>0.400002</td>\n",
       "      <td>-0.169998</td>\n",
       "    </tr>\n",
       "  </tbody>\n",
       "</table>\n",
       "</div>"
      ],
      "text/plain": [
       "                 Open       High        Low      Close    Volume        S_3  \\\n",
       "Date                                                                          \n",
       "2021-07-06  35.020000  35.049999  34.169998  34.520000  19947100  34.119999   \n",
       "2021-07-07  34.740002  34.790001  34.290001  34.560001  14493700  34.299999   \n",
       "2021-07-08  34.619999  34.689999  33.389999  33.680000  27118300  34.500000   \n",
       "2021-07-09  33.799999  34.490002  33.759998  34.369999  18200000  34.253334   \n",
       "2021-07-12  34.200001  34.560001  33.830002  33.889999  20288500  34.203334   \n",
       "\n",
       "                 S_15       S_60      Corr     Std_U     Std_D        OD  \\\n",
       "Date                                                                       \n",
       "2021-07-06  34.925333  36.659333  0.635214  0.029999  0.850002  0.630001   \n",
       "2021-07-07  34.691333  36.655833  0.318429  0.049999  0.450001 -0.279999   \n",
       "2021-07-08  34.489333  36.665833  0.205327  0.070000  1.230000 -0.120003   \n",
       "2021-07-09  34.283333  36.651167 -0.041213  0.690002  0.040001 -0.820000   \n",
       "2021-07-12  34.246000  36.652500 -0.173201  0.360001  0.369999  0.400002   \n",
       "\n",
       "                  OL  \n",
       "Date                  \n",
       "2021-07-06  0.600002  \n",
       "2021-07-07  0.220001  \n",
       "2021-07-08  0.059998  \n",
       "2021-07-09  0.119999  \n",
       "2021-07-12 -0.169998  "
      ]
     },
     "execution_count": 156,
     "metadata": {},
     "output_type": "execute_result"
    }
   ],
   "source": [
    "# Calculate 3-day moving average of close prices\n",
    "Df['S_3'] = Df['Close'].shift(1).rolling(window=3).mean()\n",
    "\n",
    "# Calculate 15-day moving average of close prices\n",
    "Df['S_15'] = Df['Close'].shift(1).rolling(window=15).mean()\n",
    "\n",
    "# Calculate 60-day moving average of close prices\n",
    "Df['S_60'] = Df['Close'].shift(1).rolling(window=60).mean()\n",
    "\n",
    "# Calculate the correlation between close price and 3 day moving average\n",
    "Df['Corr'] = Df['Close'].shift(1).rolling(window=10).corr(Df['S_3'].shift(1))\n",
    "\n",
    "Df['Std_U'] = Df['High']-Df['Open']\n",
    "Df['Std_D'] = Df['Open']-Df['Low']\n",
    "\n",
    "Df['OD'] = Df['Open']-Df['Open'].shift(1)\n",
    "Df['OL'] = Df['Open']-Df['Close'].shift(1)\n",
    "\n",
    "Df.tail()"
   ]
  },
  {
   "cell_type": "code",
   "execution_count": 157,
   "metadata": {},
   "outputs": [
    {
     "data": {
      "text/html": [
       "<div>\n",
       "<style scoped>\n",
       "    .dataframe tbody tr th:only-of-type {\n",
       "        vertical-align: middle;\n",
       "    }\n",
       "\n",
       "    .dataframe tbody tr th {\n",
       "        vertical-align: top;\n",
       "    }\n",
       "\n",
       "    .dataframe thead th {\n",
       "        text-align: right;\n",
       "    }\n",
       "</style>\n",
       "<table border=\"1\" class=\"dataframe\">\n",
       "  <thead>\n",
       "    <tr style=\"text-align: right;\">\n",
       "      <th></th>\n",
       "      <th>Open</th>\n",
       "      <th>S_3</th>\n",
       "      <th>S_15</th>\n",
       "      <th>S_60</th>\n",
       "      <th>OD</th>\n",
       "      <th>OL</th>\n",
       "      <th>Corr</th>\n",
       "    </tr>\n",
       "    <tr>\n",
       "      <th>Date</th>\n",
       "      <th></th>\n",
       "      <th></th>\n",
       "      <th></th>\n",
       "      <th></th>\n",
       "      <th></th>\n",
       "      <th></th>\n",
       "      <th></th>\n",
       "    </tr>\n",
       "  </thead>\n",
       "  <tbody>\n",
       "    <tr>\n",
       "      <th>2021-07-06</th>\n",
       "      <td>35.020000</td>\n",
       "      <td>34.119999</td>\n",
       "      <td>34.925333</td>\n",
       "      <td>36.659333</td>\n",
       "      <td>0.630001</td>\n",
       "      <td>0.600002</td>\n",
       "      <td>0.635214</td>\n",
       "    </tr>\n",
       "    <tr>\n",
       "      <th>2021-07-07</th>\n",
       "      <td>34.740002</td>\n",
       "      <td>34.299999</td>\n",
       "      <td>34.691333</td>\n",
       "      <td>36.655833</td>\n",
       "      <td>-0.279999</td>\n",
       "      <td>0.220001</td>\n",
       "      <td>0.318429</td>\n",
       "    </tr>\n",
       "    <tr>\n",
       "      <th>2021-07-08</th>\n",
       "      <td>34.619999</td>\n",
       "      <td>34.500000</td>\n",
       "      <td>34.489333</td>\n",
       "      <td>36.665833</td>\n",
       "      <td>-0.120003</td>\n",
       "      <td>0.059998</td>\n",
       "      <td>0.205327</td>\n",
       "    </tr>\n",
       "    <tr>\n",
       "      <th>2021-07-09</th>\n",
       "      <td>33.799999</td>\n",
       "      <td>34.253334</td>\n",
       "      <td>34.283333</td>\n",
       "      <td>36.651167</td>\n",
       "      <td>-0.820000</td>\n",
       "      <td>0.119999</td>\n",
       "      <td>-0.041213</td>\n",
       "    </tr>\n",
       "    <tr>\n",
       "      <th>2021-07-12</th>\n",
       "      <td>34.200001</td>\n",
       "      <td>34.203334</td>\n",
       "      <td>34.246000</td>\n",
       "      <td>36.652500</td>\n",
       "      <td>0.400002</td>\n",
       "      <td>-0.169998</td>\n",
       "      <td>-0.173201</td>\n",
       "    </tr>\n",
       "  </tbody>\n",
       "</table>\n",
       "</div>"
      ],
      "text/plain": [
       "                 Open        S_3       S_15       S_60        OD        OL  \\\n",
       "Date                                                                         \n",
       "2021-07-06  35.020000  34.119999  34.925333  36.659333  0.630001  0.600002   \n",
       "2021-07-07  34.740002  34.299999  34.691333  36.655833 -0.279999  0.220001   \n",
       "2021-07-08  34.619999  34.500000  34.489333  36.665833 -0.120003  0.059998   \n",
       "2021-07-09  33.799999  34.253334  34.283333  36.651167 -0.820000  0.119999   \n",
       "2021-07-12  34.200001  34.203334  34.246000  36.652500  0.400002 -0.169998   \n",
       "\n",
       "                Corr  \n",
       "Date                  \n",
       "2021-07-06  0.635214  \n",
       "2021-07-07  0.318429  \n",
       "2021-07-08  0.205327  \n",
       "2021-07-09 -0.041213  \n",
       "2021-07-12 -0.173201  "
      ]
     },
     "execution_count": 157,
     "metadata": {},
     "output_type": "execute_result"
    }
   ],
   "source": [
    "X = Df[['Open', 'S_3', 'S_15', 'S_60', 'OD', 'OL', 'Corr']]\n",
    "X.tail()"
   ]
  },
  {
   "cell_type": "code",
   "execution_count": 158,
   "metadata": {},
   "outputs": [
    {
     "data": {
      "text/plain": [
       "Date\n",
       "2021-07-06    0.029999\n",
       "2021-07-07    0.049999\n",
       "2021-07-08    0.070000\n",
       "2021-07-09    0.690002\n",
       "2021-07-12    0.360001\n",
       "Name: Std_U, dtype: float64"
      ]
     },
     "execution_count": 158,
     "metadata": {},
     "output_type": "execute_result"
    }
   ],
   "source": [
    "yU = Df['Std_U']\n",
    "yU.tail()"
   ]
  },
  {
   "cell_type": "code",
   "execution_count": 159,
   "metadata": {},
   "outputs": [
    {
     "data": {
      "text/plain": [
       "Date\n",
       "2021-07-06    0.850002\n",
       "2021-07-07    0.450001\n",
       "2021-07-08    1.230000\n",
       "2021-07-09    0.040001\n",
       "2021-07-12    0.369999\n",
       "Name: Std_D, dtype: float64"
      ]
     },
     "execution_count": 159,
     "metadata": {},
     "output_type": "execute_result"
    }
   ],
   "source": [
    "yD = Df['Std_D']\n",
    "yD.tail()"
   ]
  },
  {
   "cell_type": "code",
   "execution_count": 160,
   "metadata": {},
   "outputs": [],
   "source": [
    "imp = SimpleImputer(missing_values = np.nan, strategy='most_frequent')\n",
    "steps = [('imputation', imp),\n",
    "         ('scaler',StandardScaler()),\n",
    "         ('linear',LinearRegression())]     \n",
    "pipeline = Pipeline(steps)"
   ]
  },
  {
   "cell_type": "code",
   "execution_count": 161,
   "metadata": {},
   "outputs": [],
   "source": [
    "parameters = {'linear__fit_intercept':[0,1]}"
   ]
  },
  {
   "cell_type": "code",
   "execution_count": 162,
   "metadata": {},
   "outputs": [],
   "source": [
    "reg = GridSearchCV(pipeline, parameters, cv=5)"
   ]
  },
  {
   "cell_type": "code",
   "execution_count": 163,
   "metadata": {},
   "outputs": [
    {
     "data": {
      "text/plain": [
       "GridSearchCV(cv=5,\n",
       "             estimator=Pipeline(steps=[('imputation',\n",
       "                                        SimpleImputer(strategy='most_frequent')),\n",
       "                                       ('scaler', StandardScaler()),\n",
       "                                       ('linear', LinearRegression())]),\n",
       "             param_grid={'linear__fit_intercept': [0, 1]})"
      ]
     },
     "execution_count": 163,
     "metadata": {},
     "output_type": "execute_result"
    }
   ],
   "source": [
    "t = .8\n",
    "split = int(t*len(Df))\n",
    "reg.fit(X[:split],yU[:split])"
   ]
  },
  {
   "cell_type": "code",
   "execution_count": 164,
   "metadata": {},
   "outputs": [],
   "source": [
    "best_fit = reg.best_params_['linear__fit_intercept']"
   ]
  },
  {
   "cell_type": "code",
   "execution_count": 165,
   "metadata": {},
   "outputs": [],
   "source": [
    "reg = LinearRegression(fit_intercept=best_fit)"
   ]
  },
  {
   "cell_type": "code",
   "execution_count": 166,
   "metadata": {},
   "outputs": [],
   "source": [
    "X = imp.fit_transform(X,yU)"
   ]
  },
  {
   "cell_type": "code",
   "execution_count": 167,
   "metadata": {},
   "outputs": [],
   "source": [
    "reg.fit(X[:split], yU[:split])\n",
    "yU_predict = reg.predict(X[split:])\n",
    "\n",
    "# Assign the predicted values to a new column in the dataframe\n",
    "Df.reset_index(inplace=True)\n",
    "Df['Max_U'] = 0\n",
    "Df.loc[Df.index >= split, 'Max_U'] = yU_predict\n",
    "Df.loc[Df['Max_U'] < 0, 'Max_U'] = 0"
   ]
  },
  {
   "cell_type": "code",
   "execution_count": 168,
   "metadata": {},
   "outputs": [],
   "source": [
    "reg = GridSearchCV(pipeline, parameters, cv=5)\n",
    "reg.fit(X[:split], yD[:split])\n",
    "best_fit = reg.best_params_['linear__fit_intercept']\n",
    "reg = LinearRegression(fit_intercept=best_fit)\n",
    "X = imp.fit_transform(X, yD)\n",
    "reg.fit(X[:split], yD[:split])\n",
    "yD_predict = reg.predict(X[split:])\n",
    "\n",
    "# Assign the predicted values to a new column in the data frame\n",
    "Df['Max_D'] = 0\n",
    "Df.loc[Df.index >= split, 'Max_D'] = yD_predict\n",
    "Df.loc[Df['Max_D'] < 0, 'Max_D'] = 0\n",
    "\n",
    "Df.set_index('Date', inplace=True)"
   ]
  },
  {
   "cell_type": "code",
   "execution_count": 169,
   "metadata": {},
   "outputs": [
    {
     "data": {
      "text/html": [
       "<div>\n",
       "<style scoped>\n",
       "    .dataframe tbody tr th:only-of-type {\n",
       "        vertical-align: middle;\n",
       "    }\n",
       "\n",
       "    .dataframe tbody tr th {\n",
       "        vertical-align: top;\n",
       "    }\n",
       "\n",
       "    .dataframe thead th {\n",
       "        text-align: right;\n",
       "    }\n",
       "</style>\n",
       "<table border=\"1\" class=\"dataframe\">\n",
       "  <thead>\n",
       "    <tr style=\"text-align: right;\">\n",
       "      <th></th>\n",
       "      <th>High</th>\n",
       "      <th>P_H</th>\n",
       "      <th>Low</th>\n",
       "      <th>P_L</th>\n",
       "    </tr>\n",
       "    <tr>\n",
       "      <th>Date</th>\n",
       "      <th></th>\n",
       "      <th></th>\n",
       "      <th></th>\n",
       "      <th></th>\n",
       "    </tr>\n",
       "  </thead>\n",
       "  <tbody>\n",
       "    <tr>\n",
       "      <th>2021-07-06</th>\n",
       "      <td>35.049999</td>\n",
       "      <td>35.422602</td>\n",
       "      <td>34.169998</td>\n",
       "      <td>34.563410</td>\n",
       "    </tr>\n",
       "    <tr>\n",
       "      <th>2021-07-07</th>\n",
       "      <td>34.790001</td>\n",
       "      <td>35.167576</td>\n",
       "      <td>34.290001</td>\n",
       "      <td>34.292199</td>\n",
       "    </tr>\n",
       "    <tr>\n",
       "      <th>2021-07-08</th>\n",
       "      <td>34.689999</td>\n",
       "      <td>35.009108</td>\n",
       "      <td>33.389999</td>\n",
       "      <td>34.162674</td>\n",
       "    </tr>\n",
       "    <tr>\n",
       "      <th>2021-07-09</th>\n",
       "      <td>34.490002</td>\n",
       "      <td>34.226956</td>\n",
       "      <td>33.759998</td>\n",
       "      <td>33.368312</td>\n",
       "    </tr>\n",
       "    <tr>\n",
       "      <th>2021-07-12</th>\n",
       "      <td>34.560001</td>\n",
       "      <td>34.511335</td>\n",
       "      <td>33.830002</td>\n",
       "      <td>33.738291</td>\n",
       "    </tr>\n",
       "  </tbody>\n",
       "</table>\n",
       "</div>"
      ],
      "text/plain": [
       "                 High        P_H        Low        P_L\n",
       "Date                                                  \n",
       "2021-07-06  35.049999  35.422602  34.169998  34.563410\n",
       "2021-07-07  34.790001  35.167576  34.290001  34.292199\n",
       "2021-07-08  34.689999  35.009108  33.389999  34.162674\n",
       "2021-07-09  34.490002  34.226956  33.759998  33.368312\n",
       "2021-07-12  34.560001  34.511335  33.830002  33.738291"
      ]
     },
     "execution_count": 169,
     "metadata": {},
     "output_type": "execute_result"
    }
   ],
   "source": [
    "# We will use the predicted upside deviation values to calculate the high price\n",
    "Df['P_H'] = Df['Open']+Df['Max_U']\n",
    "Df['P_L'] = Df['Open']-Df['Max_D']\n",
    "\n",
    "Df[['High', 'P_H', 'Low', 'P_L']].tail()"
   ]
  },
  {
   "cell_type": "code",
   "execution_count": 170,
   "metadata": {},
   "outputs": [],
   "source": [
    "# Trading signal\n",
    "Df['Signal'] = 0\n",
    "Df.loc[(Df['High']>Df['P_H']) &(Df['Low']>Df['P_L']),'Signal'] = -1\n",
    "Df.loc[(Df['High']<Df['P_H']) &(Df['Low']<Df['P_L']),'Signal'] = 1\n",
    "\n",
    "# Compute GLD returns \n",
    "Df['Ret'] = (Df['Close']-Df['Close'].shift(1))/Df['Close'].shift(1)\n",
    "\n",
    "# Compute strategy returns(\n",
    "Df['Ret1'] = Df['Ret']*(Df['Signal'].shift(1))"
   ]
  },
  {
   "cell_type": "code",
   "execution_count": 171,
   "metadata": {},
   "outputs": [
    {
     "data": {
      "image/png": "[encoded data removed]",
      "text/plain": [
       "<Figure size 720x360 with 1 Axes>"
      ]
     },
     "metadata": {
      "needs_background": "light"
     },
     "output_type": "display_data"
    }
   ],
   "source": [
    "plt.figure(figsize=(10,5))\n",
    "plt.plot(((Df['Ret'][split:]+1).cumprod()),color='r',label='GLD Returns')\n",
    "plt.plot(((Df['Ret1'][split:]+1).cumprod()),color='g',label='Strategy Returns')\n",
    "plt.legend()\n",
    "plt.show()"
   ]
  },
  {
   "cell_type": "code",
   "execution_count": 172,
   "metadata": {},
   "outputs": [
    {
     "name": "stdout",
     "output_type": "stream",
     "text": [
      "Sharpe 0.23492021408208053\n"
     ]
    }
   ],
   "source": [
    "# The below function returns the Sharpe ratio for the excess returns\n",
    "def annualized_sharpe_ratio(returns, N=252):\n",
    "    return np.sqrt(N) * returns.mean() / returns.std()\n",
    "\n",
    "# Calculate the excess daily return by assuming an annual risk free rate of return of 5%\n",
    "excess_daily_strategy_return = Df['Ret1'][split:] - 0.05/252\n",
    "\n",
    "# Calculate the annualized Sharpe ratio\n",
    "sharpe = annualized_sharpe_ratio(excess_daily_strategy_return)\n",
    "print('Sharpe', sharpe)"
   ]
  },
  {
   "cell_type": "code",
   "execution_count": 2,
   "metadata": {},
   "outputs": [
    {
     "ename": "ModuleNotFoundError",
     "evalue": "No module named 'flair'",
     "output_type": "error",
     "traceback": [
      "\u001b[0;31m---------------------------------------------------------------------------\u001b[0m",
      "\u001b[0;31mModuleNotFoundError\u001b[0m                       Traceback (most recent call last)",
      "\u001b[0;32m<ipython-input-2-116e686fca3b>\u001b[0m in \u001b[0;36m<module>\u001b[0;34m\u001b[0m\n\u001b[0;32m----> 1\u001b[0;31m \u001b[0;32mimport\u001b[0m \u001b[0mflair\u001b[0m \u001b[0;32mas\u001b[0m \u001b[0mfl\u001b[0m\u001b[0;34m\u001b[0m\u001b[0;34m\u001b[0m\u001b[0m\n\u001b[0m",
      "\u001b[0;31mModuleNotFoundError\u001b[0m: No module named 'flair'"
     ]
    }
   ],
   "source": [
    "import flair as fl"
   ]
  },
  {
   "cell_type": "code",
   "execution_count": 3,
   "metadata": {},
   "outputs": [
    {
     "name": "stdout",
     "output_type": "stream",
     "text": [
      "Found existing installation: flair 0.8.0.post1\n",
      "Uninstalling flair-0.8.0.post1:\n",
      "  Would remove:\n",
      "    /Library/Frameworks/Python.framework/Versions/3.9/lib/python3.9/site-packages/flair-0.8.0.post1.dist-info/*\n",
      "    /Library/Frameworks/Python.framework/Versions/3.9/lib/python3.9/site-packages/flair/*\n",
      "Proceed (y/n)? ^C\n",
      "\u001b[31mERROR: Operation cancelled by user\u001b[0m\n"
     ]
    }
   ],
   "source": [
    "!pip uninstall flair"
   ]
  },
  {
   "cell_type": "code",
   "execution_count": 4,
   "metadata": {},
   "outputs": [
    {
     "ename": "ModuleNotFoundError",
     "evalue": "No module named 'flair'",
     "output_type": "error",
     "traceback": [
      "\u001b[0;31m---------------------------------------------------------------------------\u001b[0m",
      "\u001b[0;31mModuleNotFoundError\u001b[0m                       Traceback (most recent call last)",
      "\u001b[0;32m<ipython-input-4-e42b806689dc>\u001b[0m in \u001b[0;36m<module>\u001b[0;34m\u001b[0m\n\u001b[0;32m----> 1\u001b[0;31m \u001b[0;32mimport\u001b[0m \u001b[0mflair\u001b[0m\u001b[0;34m\u001b[0m\u001b[0;34m\u001b[0m\u001b[0m\n\u001b[0m",
      "\u001b[0;31mModuleNotFoundError\u001b[0m: No module named 'flair'"
     ]
    }
   ],
   "source": [
    "import flair"
   ]
  },
  {
   "cell_type": "code",
   "execution_count": null,
   "metadata": {},
   "outputs": [],
   "source": []
  }
 ],
 "metadata": {
  "kernelspec": {
   "display_name": "Python 3",
   "language": "python",
   "name": "python3"
  },
  "language_info": {
   "codemirror_mode": {
    "name": "ipython",
    "version": 3
   },
   "file_extension": ".py",
   "mimetype": "text/x-python",
   "name": "python",
   "nbconvert_exporter": "python",
   "pygments_lexer": "ipython3",
   "version": "3.8.5"
  }
 },
 "nbformat": 4,
 "nbformat_minor": 4
}
