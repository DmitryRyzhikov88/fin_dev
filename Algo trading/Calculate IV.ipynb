{
 "cells": [
  {
   "cell_type": "code",
   "execution_count": 10,
   "metadata": {},
   "outputs": [],
   "source": [
    "import numpy as np\n",
    "import mibian\n",
    "from tabulate import tabulate\n",
    "import pandas as pd\n",
    "import matplotlib.pyplot as plt\n",
    "\n",
    "nifty_nov_fut = 10350.00\n",
    "nifty_dec_fut = 10387.00\n",
    "\n",
    "strike_price = 10400\n",
    "nov_call_price = 50.50\n",
    "dec_call_price = 148.50\n",
    "setup_cost = dec_call_price - nov_call_price\n",
    "\n",
    "# Today's date is 21 November 2017. Therefore, days to November expiry is 7 days and days to December expiry is 34 days.\n",
    "days_to_expiry_nov_call = 7\n",
    "days_to_expiry_dec_call = 34\n",
    "\n",
    "# Range of values for Nifty\n",
    "sT = np.arange(0.92*nifty_nov_fut,1.1*nifty_nov_fut,1) \n",
    "\n",
    "# Interest rate for input to Black-Scholes model\n",
    "interest_rate = 0.0"
   ]
  },
  {
   "cell_type": "code",
   "execution_count": 11,
   "metadata": {},
   "outputs": [
    {
     "name": "stdout",
     "output_type": "stream",
     "text": [
      "Front Month IV 12.70 %\n",
      "Back Month IV 12.25 %\n"
     ]
    }
   ],
   "source": [
    "nov_call_iv = mibian.BS([nifty_nov_fut, strike_price, interest_rate, days_to_expiry_nov_call], \n",
    "                        callPrice=nov_call_price).impliedVolatility\n",
    "print(\"Front Month IV %.2f\" % nov_call_iv,\"%\")\n",
    "\n",
    "# Back-month IV\n",
    "dec_call_iv = mibian.BS([nifty_dec_fut, strike_price, interest_rate, days_to_expiry_dec_call], \n",
    "                        callPrice=dec_call_price).impliedVolatility\n",
    "print(\"Back Month IV %.2f\" % dec_call_iv,\"%\")"
   ]
  },
  {
   "cell_type": "code",
   "execution_count": 12,
   "metadata": {},
   "outputs": [
    {
     "data": {
      "text/html": [
       "<div>\n",
       "<style scoped>\n",
       "    .dataframe tbody tr th:only-of-type {\n",
       "        vertical-align: middle;\n",
       "    }\n",
       "\n",
       "    .dataframe tbody tr th {\n",
       "        vertical-align: top;\n",
       "    }\n",
       "\n",
       "    .dataframe thead th {\n",
       "        text-align: right;\n",
       "    }\n",
       "</style>\n",
       "<table border=\"1\" class=\"dataframe\">\n",
       "  <thead>\n",
       "    <tr style=\"text-align: right;\">\n",
       "      <th></th>\n",
       "      <th>nifty_price</th>\n",
       "      <th>nov_call_price</th>\n",
       "      <th>dec_call_price</th>\n",
       "    </tr>\n",
       "  </thead>\n",
       "  <tbody>\n",
       "    <tr>\n",
       "      <th>0</th>\n",
       "      <td>9522.0</td>\n",
       "      <td>0.0</td>\n",
       "      <td>0.806387</td>\n",
       "    </tr>\n",
       "    <tr>\n",
       "      <th>1</th>\n",
       "      <td>9523.0</td>\n",
       "      <td>0.0</td>\n",
       "      <td>0.813929</td>\n",
       "    </tr>\n",
       "    <tr>\n",
       "      <th>2</th>\n",
       "      <td>9524.0</td>\n",
       "      <td>0.0</td>\n",
       "      <td>0.821534</td>\n",
       "    </tr>\n",
       "    <tr>\n",
       "      <th>3</th>\n",
       "      <td>9525.0</td>\n",
       "      <td>0.0</td>\n",
       "      <td>0.829203</td>\n",
       "    </tr>\n",
       "    <tr>\n",
       "      <th>4</th>\n",
       "      <td>9526.0</td>\n",
       "      <td>0.0</td>\n",
       "      <td>0.836937</td>\n",
       "    </tr>\n",
       "  </tbody>\n",
       "</table>\n",
       "</div>"
      ],
      "text/plain": [
       "   nifty_price  nov_call_price  dec_call_price\n",
       "0       9522.0             0.0        0.806387\n",
       "1       9523.0             0.0        0.813929\n",
       "2       9524.0             0.0        0.821534\n",
       "3       9525.0             0.0        0.829203\n",
       "4       9526.0             0.0        0.836937"
      ]
     },
     "execution_count": 12,
     "metadata": {},
     "output_type": "execute_result"
    }
   ],
   "source": [
    "days_to_expiry_nov_call = 0.001\n",
    "days_to_expiry_dec_call = 29 - days_to_expiry_nov_call\n",
    "\n",
    "df = pd.DataFrame()\n",
    "df['nifty_price'] = sT\n",
    "df['nov_call_price'] = np.nan\n",
    "df['dec_call_price'] = np.nan\n",
    "\n",
    "# Calculating call price for different possible values of Nifty\n",
    "for i in range(0,len(df)):\n",
    "    df.loc[i,'nov_call_price'] = mibian.BS([df.iloc[i]['nifty_price'], strike_price, interest_rate, days_to_expiry_nov_call], \n",
    "                                           volatility=nov_call_iv).callPrice\n",
    "    \n",
    "    # Since interest rate is considered 0%, 35 is added to the nifty price to get the Nifty December futures price. \n",
    "    df.loc[i,'dec_call_price'] = mibian.BS([df.iloc[i]['nifty_price']+35, strike_price, interest_rate, days_to_expiry_dec_call], \n",
    "                                           volatility=dec_call_iv).callPrice\n",
    "df.head()"
   ]
  },
  {
   "cell_type": "code",
   "execution_count": 13,
   "metadata": {},
   "outputs": [
    {
     "data": {
      "image/png": "[encoded data removed]",
      "text/plain": [
       "<Figure size 720x360 with 1 Axes>"
      ]
     },
     "metadata": {
      "needs_background": "light"
     },
     "output_type": "display_data"
    }
   ],
   "source": [
    "df['payoff'] = df.dec_call_price - df.nov_call_price - setup_cost\n",
    "plt.figure(figsize=(10,5))\n",
    "plt.ylabel(\"payoff\")\n",
    "plt.xlabel(\"Nifty Price\")\n",
    "plt.plot(sT,df.payoff)\n",
    "plt.show()"
   ]
  }
 ],
 "metadata": {
  "kernelspec": {
   "display_name": "Python 3",
   "language": "python",
   "name": "python3"
  },
  "language_info": {
   "codemirror_mode": {
    "name": "ipython",
    "version": 3
   },
   "file_extension": ".py",
   "mimetype": "text/x-python",
   "name": "python",
   "nbconvert_exporter": "python",
   "pygments_lexer": "ipython3",
   "version": "3.8.5"
  }
 },
 "nbformat": 4,
 "nbformat_minor": 4
}
