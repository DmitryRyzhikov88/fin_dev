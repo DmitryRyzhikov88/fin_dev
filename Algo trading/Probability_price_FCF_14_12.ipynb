{
 "cells": [
  {
   "cell_type": "code",
   "execution_count": 271,
   "metadata": {},
   "outputs": [],
   "source": [
    "from yahoo_fin import stock_info as si\n",
    "from matplotlib import pyplot as plt \n",
    "import pandas_datareader as dr\n",
    "import quandl\n",
    "import pandas as pd\n",
    "import numpy as np\n",
    "from pandas_datareader import data as wb\n",
    "import datetime\n",
    "import yfinance as yf\n",
    "from requests_html import HTMLSession\n",
    "\n",
    "'''----// General input variables //----'''\n",
    "\n",
    "\n",
    "long_term_growth = 0.01 # динамическое значение инфляции для каждой страны\n",
    "iterations = 1000\n"
   ]
  },
  {
   "cell_type": "code",
   "execution_count": 272,
   "metadata": {},
   "outputs": [],
   "source": [
    "data_csv_ticker = pd.read_csv('TICKER_companies.csv')\n",
    "data_csv = data_csv_ticker.set_index('country')\n",
    "data_ticker = data_csv[['ticker', 'compnumber']]\n",
    "\n",
    "CAN = data_ticker.loc['CAN']    # дергаем отсюда тикер и номер компании\n",
    "DEU = data_ticker.loc['DEU']\n",
    "POL = data_ticker.loc['POL']"
   ]
  },
  {
   "cell_type": "markdown",
   "metadata": {},
   "source": [
    "# ДАННЫЕ КОМПАНИИ"
   ]
  },
  {
   "cell_type": "code",
   "execution_count": 273,
   "metadata": {},
   "outputs": [],
   "source": [
    "COUNTRY = DEU\n",
    "COMPANY = 'VNNV F'"
   ]
  },
  {
   "cell_type": "markdown",
   "metadata": {},
   "source": [
    "# ---------------------------"
   ]
  },
  {
   "cell_type": "code",
   "execution_count": 274,
   "metadata": {},
   "outputs": [
    {
     "data": {
      "text/plain": [
       "140205"
      ]
     },
     "execution_count": 274,
     "metadata": {},
     "output_type": "execute_result"
    }
   ],
   "source": [
    "company_number = COUNTRY.set_index('ticker').loc[COMPANY]['compnumber']\n",
    "company_number"
   ]
  },
  {
   "cell_type": "code",
   "execution_count": 275,
   "metadata": {},
   "outputs": [
    {
     "ename": "ValueError",
     "evalue": "not enough values to unpack (expected 14, got 13)",
     "output_type": "error",
     "traceback": [
      "\u001b[0;31m---------------------------------------------------------------------------\u001b[0m",
      "\u001b[0;31mValueError\u001b[0m                                Traceback (most recent call last)",
      "\u001b[0;32m<ipython-input-275-9f74410ea78f>\u001b[0m in \u001b[0;36m<module>\u001b[0;34m\u001b[0m\n\u001b[1;32m     11\u001b[0m \u001b[0;34m\u001b[0m\u001b[0m\n\u001b[1;32m     12\u001b[0m \u001b[0;34m\u001b[0m\u001b[0m\n\u001b[0;32m---> 13\u001b[0;31m \u001b[0mwork_table\u001b[0m\u001b[0;34m[\u001b[0m\u001b[0;34m'revenue'\u001b[0m\u001b[0;34m]\u001b[0m\u001b[0;34m,\u001b[0m \u001b[0mwork_table\u001b[0m\u001b[0;34m[\u001b[0m\u001b[0;34m'operatingIncome'\u001b[0m\u001b[0;34m]\u001b[0m\u001b[0;34m,\u001b[0m \u001b[0mwork_table\u001b[0m\u001b[0;34m[\u001b[0m\u001b[0;34m'netIncome'\u001b[0m\u001b[0;34m]\u001b[0m\u001b[0;34m,\u001b[0m \u001b[0mwork_table\u001b[0m\u001b[0;34m[\u001b[0m\u001b[0;34m'eps'\u001b[0m\u001b[0;34m]\u001b[0m\u001b[0;34m,\u001b[0m\u001b[0;31m\\\u001b[0m\u001b[0;34m\u001b[0m\u001b[0;34m\u001b[0m\u001b[0m\n\u001b[0m\u001b[1;32m     14\u001b[0m     \u001b[0mwork_table\u001b[0m\u001b[0;34m[\u001b[0m\u001b[0;34m'ebitda'\u001b[0m\u001b[0;34m]\u001b[0m\u001b[0;34m,\u001b[0m \u001b[0mwork_table\u001b[0m\u001b[0;34m[\u001b[0m\u001b[0;34m'totalAssets'\u001b[0m\u001b[0;34m]\u001b[0m\u001b[0;34m,\u001b[0m \u001b[0mwork_table\u001b[0m\u001b[0;34m[\u001b[0m\u001b[0;34m'operatingMargin'\u001b[0m\u001b[0;34m]\u001b[0m\u001b[0;34m,\u001b[0m \u001b[0mwork_table\u001b[0m\u001b[0;34m[\u001b[0m\u001b[0;34m'currentLiabilities'\u001b[0m\u001b[0;34m]\u001b[0m\u001b[0;34m,\u001b[0m\u001b[0;31m\\\u001b[0m\u001b[0;34m\u001b[0m\u001b[0;34m\u001b[0m\u001b[0m\n\u001b[1;32m     15\u001b[0m     \u001b[0mwork_table\u001b[0m\u001b[0;34m[\u001b[0m\u001b[0;34m'currentAssets'\u001b[0m\u001b[0;34m]\u001b[0m\u001b[0;34m,\u001b[0m \u001b[0mwork_table\u001b[0m\u001b[0;34m[\u001b[0m\u001b[0;34m'interestExpense'\u001b[0m\u001b[0;34m]\u001b[0m\u001b[0;34m,\u001b[0m \u001b[0mwork_table\u001b[0m\u001b[0;34m[\u001b[0m\u001b[0;34m'stockholdersEquity'\u001b[0m\u001b[0;34m]\u001b[0m\u001b[0;34m,\u001b[0m \u001b[0mwork_table\u001b[0m\u001b[0;34m[\u001b[0m\u001b[0;34m'shares'\u001b[0m\u001b[0;34m]\u001b[0m\u001b[0;34m,\u001b[0m\u001b[0;31m \u001b[0m\u001b[0;31m\\\u001b[0m\u001b[0;34m\u001b[0m\u001b[0;34m\u001b[0m\u001b[0m\n",
      "\u001b[0;31mValueError\u001b[0m: not enough values to unpack (expected 14, got 13)"
     ]
    }
   ],
   "source": [
    "quandl.ApiConfig.api_key = 'c3baa8FMfeFWP_wpbhKL'\n",
    "\n",
    "data = pd.DataFrame(quandl.get_table('MER/F1', compnumber=company_number, reporttype='A',  paginate=True))\n",
    "\n",
    "main_data = data.sort_values(by=['reportdate']).set_index('indicator')\n",
    "data_amount = main_data['amount']\n",
    "\n",
    "work_table = pd.DataFrame()\n",
    "\n",
    "work_table['date'] = main_data['reportdate'].T.drop_duplicates().T.reset_index(drop=True)\n",
    "\n",
    "\n",
    "work_table['revenue'], work_table['operatingIncome'], work_table['netIncome'], work_table['eps'],\\\n",
    "    work_table['ebitda'], work_table['totalAssets'], work_table['operatingMargin'], work_table['currentLiabilities'],\\\n",
    "    work_table['currentAssets'], work_table['interestExpense'], work_table['stockholdersEquity'], work_table['shares'], \\\n",
    "    work_table['taxRate'], work_table['ROE'],\\\n",
    "    = data_amount['Total Revenue'].reset_index(drop=True), data_amount['Operating Income'].reset_index(drop=True),\\\n",
    "      data_amount['Net Income'].reset_index(drop=True), data_amount['EPS - Net Income - Basic'].reset_index(drop=True), \\\n",
    "      data_amount['EBITDA'].reset_index(drop=True), data_amount['Total Assets'].reset_index(drop=True), \\\n",
    "      data_amount['Operating Margin'].reset_index(drop=True), data_amount['Current Liabilities'].reset_index(drop=True), \\\n",
    "      data_amount['Current Assets'].reset_index(drop=True),  \\\n",
    "      data_amount['''Stockholders' Equity'''].reset_index(drop=True), data_amount['Shares Outstanding'].reset_index(drop=True),\\\n",
    "      data_amount['Calculated Tax Rate'].reset_index(drop=True), data_amount['Return on Equity'].reset_index(drop=True)\n",
    "      \n",
    "\n",
    "\n",
    "\n",
    "work_table['grossProfit'] = (data_amount['Gross Margin'].reset_index(drop=True) * data_amount['Total Revenue'].reset_index(drop=True)) / 100\n",
    "\n",
    "work_table['totalDebt'] = (data_amount['Total Debt to Equity'].reset_index(drop=True) * data_amount['''Stockholders' Equity'''].reset_index(drop=True))\n",
    "\n",
    "work_table['longTermObligations'] = (data_amount['Long Term Debt to Equity'].reset_index(drop=True) * data_amount['''Stockholders' Equity'''].reset_index(drop=True))\n",
    "\n",
    "work_table['netDebt'] = work_table['currentLiabilities'] + work_table['totalDebt'] - work_table['currentAssets']\n",
    "\n",
    "\n",
    "work_table['incomeTaxExpense'] = work_table['netIncome'] * data_amount['Calculated Tax Rate'].reset_index(drop=True)\n",
    "\n",
    "work_table['incomeBeforeTax'] = work_table['netIncome'] + work_table['incomeTaxExpense']\n",
    "\n"
   ]
  },
  {
   "cell_type": "code",
   "execution_count": null,
   "metadata": {},
   "outputs": [],
   "source": [
    "work_table = work_table[::-1][:10].reset_index(drop=True).fillna(0)\n",
    "work_table\n",
    "year_len = len(work_table.index) - 1 #"
   ]
  },
  {
   "cell_type": "code",
   "execution_count": null,
   "metadata": {},
   "outputs": [],
   "source": [
    "# расчет стандартного отоклонения для CAGR\n",
    "\n",
    "mean_cagr_9_year = [] # cоздаем список для CAGR на 10 лет период 1 год\n",
    "mean_cagr_net_income_9_year = []# cоздаем список для CAGR_income на 10 лет период 1 год\n",
    "\n",
    "# считаем   CAGR  на 10 лет период 1 год\n",
    "for j in range(1, year_len+1):\n",
    "    mean_cagr_9_year.append((work_table['revenue'][j-1] / work_table['revenue'][j])**(1)-1)\n",
    "    mean_cagr_net_income_9_year.append((work_table['netIncome'][j-1] / work_table['netIncome'][j])**(1)-1)\n",
    "    \n",
    "cagr_dict = {\"revenue_cagr\":mean_cagr_9_year, \"netIncome_cagr\": mean_cagr_net_income_9_year}\n",
    "cagr_df = pd.DataFrame(cagr_dict) # получаем датафрейм для отклонения, используем при распредилеии "
   ]
  },
  {
   "cell_type": "code",
   "execution_count": null,
   "metadata": {},
   "outputs": [],
   "source": [
    "'''----// Calculate average revenue CAGR & EBIT margin //----'''\n",
    "    \n",
    "mean_cagr = (work_table['revenue'][0] / work_table['revenue'][year_len])**(1/year_len)-1\n",
    "cagr_net_income = (work_table['netIncome'][0] / work_table['netIncome'][year_len])**(1/year_len)-1\n",
    "mean_margin = work_table['operatingMargin'].mean() / 100   \n",
    "\n",
    "\n",
    "'''----// Create forecast function through which random variables will flow //----'''\n",
    "\n",
    "\n",
    "\n",
    "def get_forecast(cagr, margin, long_term_growth, cagr_net_income):\n",
    "    forecast_lst = []\n",
    "\n",
    "    for i in range(5):\n",
    "#         if i < 5:\n",
    "        operating_income = (np.random.normal(work_table['revenue'][0], work_table['revenue'].std())*(1+cagr)**(i+1)*margin) # учитываем распределение 'revenue' шаг - стандартное отклонение\n",
    "        net_income = operating_income*(np.random.normal(work_table['taxRate'][0], work_table['taxRate'].std())/100) # учитываем распределение 'taxRate' шаг - стандартное отклонение\n",
    "        reinvest_cof = cagr_net_income / np.random.normal(work_table['ROE'].mean(), work_table['ROE'].std())  # учитываем распределение 'ROE' шаг - стандартное отклонение\n",
    "        reinvest = net_income * reinvest_cof\n",
    "        forecast_lst.append(operating_income - net_income - reinvest)\n",
    "#         else: \n",
    "#             forecast_lst.append((work_table['revenue'][0]*(1+cagr)**(i)*margin)-((work_table['revenue'][0]*(1+cagr)**(i)*margin)*(work_table['taxRate'][0]/100))-(((work_table['revenue'][0]*(1+cagr)**(i)*margin)*(work_table['taxRate'][0]/100))*(cagr/work_table['ROE'].mean()))*(1 + long_term_growth)) \n",
    "\n",
    "    return forecast_lst\n",
    "\n"
   ]
  },
  {
   "cell_type": "code",
   "execution_count": 276,
   "metadata": {},
   "outputs": [
    {
     "name": "stdout",
     "output_type": "stream",
     "text": [
      "RF 0.0127\n",
      "beta 0.43307399999999996\n",
      "Годовая доходность S&P500 3.9677891260847837\n",
      "Стоимость капитала 2.438342327990042\n"
     ]
    },
    {
     "ename": "KeyError",
     "evalue": "'netDebt'",
     "output_type": "error",
     "traceback": [
      "\u001b[0;31m---------------------------------------------------------------------------\u001b[0m",
      "\u001b[0;31mKeyError\u001b[0m                                  Traceback (most recent call last)",
      "\u001b[0;32m/Applications/anaconda3/lib/python3.8/site-packages/pandas/core/indexes/base.py\u001b[0m in \u001b[0;36mget_loc\u001b[0;34m(self, key, method, tolerance)\u001b[0m\n\u001b[1;32m   2645\u001b[0m             \u001b[0;32mtry\u001b[0m\u001b[0;34m:\u001b[0m\u001b[0;34m\u001b[0m\u001b[0;34m\u001b[0m\u001b[0m\n\u001b[0;32m-> 2646\u001b[0;31m                 \u001b[0;32mreturn\u001b[0m \u001b[0mself\u001b[0m\u001b[0;34m.\u001b[0m\u001b[0m_engine\u001b[0m\u001b[0;34m.\u001b[0m\u001b[0mget_loc\u001b[0m\u001b[0;34m(\u001b[0m\u001b[0mkey\u001b[0m\u001b[0;34m)\u001b[0m\u001b[0;34m\u001b[0m\u001b[0;34m\u001b[0m\u001b[0m\n\u001b[0m\u001b[1;32m   2647\u001b[0m             \u001b[0;32mexcept\u001b[0m \u001b[0mKeyError\u001b[0m\u001b[0;34m:\u001b[0m\u001b[0;34m\u001b[0m\u001b[0;34m\u001b[0m\u001b[0m\n",
      "\u001b[0;32mpandas/_libs/index.pyx\u001b[0m in \u001b[0;36mpandas._libs.index.IndexEngine.get_loc\u001b[0;34m()\u001b[0m\n",
      "\u001b[0;32mpandas/_libs/index.pyx\u001b[0m in \u001b[0;36mpandas._libs.index.IndexEngine.get_loc\u001b[0;34m()\u001b[0m\n",
      "\u001b[0;32mpandas/_libs/hashtable_class_helper.pxi\u001b[0m in \u001b[0;36mpandas._libs.hashtable.PyObjectHashTable.get_item\u001b[0;34m()\u001b[0m\n",
      "\u001b[0;32mpandas/_libs/hashtable_class_helper.pxi\u001b[0m in \u001b[0;36mpandas._libs.hashtable.PyObjectHashTable.get_item\u001b[0;34m()\u001b[0m\n",
      "\u001b[0;31mKeyError\u001b[0m: 'netDebt'",
      "\nDuring handling of the above exception, another exception occurred:\n",
      "\u001b[0;31mKeyError\u001b[0m                                  Traceback (most recent call last)",
      "\u001b[0;32m<ipython-input-276-6bcfb93c2d93>\u001b[0m in \u001b[0;36m<module>\u001b[0;34m\u001b[0m\n\u001b[1;32m     41\u001b[0m \u001b[0;34m\u001b[0m\u001b[0m\n\u001b[1;32m     42\u001b[0m \u001b[0;34m\u001b[0m\u001b[0m\n\u001b[0;32m---> 43\u001b[0;31m WACC = ((marketCap) / ((marketCap) + work_table['netDebt'][0:2].mean())) * ke + (\n\u001b[0m\u001b[1;32m     44\u001b[0m                 \u001b[0mwork_table\u001b[0m\u001b[0;34m[\u001b[0m\u001b[0;34m'netDebt'\u001b[0m\u001b[0;34m]\u001b[0m\u001b[0;34m[\u001b[0m\u001b[0;36m0\u001b[0m\u001b[0;34m:\u001b[0m\u001b[0;36m2\u001b[0m\u001b[0;34m]\u001b[0m\u001b[0;34m.\u001b[0m\u001b[0mmean\u001b[0m\u001b[0;34m(\u001b[0m\u001b[0;34m)\u001b[0m \u001b[0;34m/\u001b[0m \u001b[0;34m(\u001b[0m\u001b[0;34m(\u001b[0m\u001b[0mmarketCap\u001b[0m\u001b[0;34m)\u001b[0m \u001b[0;34m+\u001b[0m \u001b[0mwork_table\u001b[0m\u001b[0;34m[\u001b[0m\u001b[0;34m'netDebt'\u001b[0m\u001b[0;34m]\u001b[0m\u001b[0;34m[\u001b[0m\u001b[0;36m0\u001b[0m\u001b[0;34m:\u001b[0m\u001b[0;36m2\u001b[0m\u001b[0;34m]\u001b[0m\u001b[0;34m.\u001b[0m\u001b[0mmean\u001b[0m\u001b[0;34m(\u001b[0m\u001b[0;34m)\u001b[0m\u001b[0;34m)\u001b[0m\u001b[0;34m)\u001b[0m \u001b[0;34m*\u001b[0m \u001b[0;34m(\u001b[0m\u001b[0;34m\u001b[0m\u001b[0;34m\u001b[0m\u001b[0m\n\u001b[1;32m     45\u001b[0m                         work_table['interestExpense'][0] / work_table['netDebt'][0:2].mean()) \\\n",
      "\u001b[0;32m/Applications/anaconda3/lib/python3.8/site-packages/pandas/core/frame.py\u001b[0m in \u001b[0;36m__getitem__\u001b[0;34m(self, key)\u001b[0m\n\u001b[1;32m   2798\u001b[0m             \u001b[0;32mif\u001b[0m \u001b[0mself\u001b[0m\u001b[0;34m.\u001b[0m\u001b[0mcolumns\u001b[0m\u001b[0;34m.\u001b[0m\u001b[0mnlevels\u001b[0m \u001b[0;34m>\u001b[0m \u001b[0;36m1\u001b[0m\u001b[0;34m:\u001b[0m\u001b[0;34m\u001b[0m\u001b[0;34m\u001b[0m\u001b[0m\n\u001b[1;32m   2799\u001b[0m                 \u001b[0;32mreturn\u001b[0m \u001b[0mself\u001b[0m\u001b[0;34m.\u001b[0m\u001b[0m_getitem_multilevel\u001b[0m\u001b[0;34m(\u001b[0m\u001b[0mkey\u001b[0m\u001b[0;34m)\u001b[0m\u001b[0;34m\u001b[0m\u001b[0;34m\u001b[0m\u001b[0m\n\u001b[0;32m-> 2800\u001b[0;31m             \u001b[0mindexer\u001b[0m \u001b[0;34m=\u001b[0m \u001b[0mself\u001b[0m\u001b[0;34m.\u001b[0m\u001b[0mcolumns\u001b[0m\u001b[0;34m.\u001b[0m\u001b[0mget_loc\u001b[0m\u001b[0;34m(\u001b[0m\u001b[0mkey\u001b[0m\u001b[0;34m)\u001b[0m\u001b[0;34m\u001b[0m\u001b[0;34m\u001b[0m\u001b[0m\n\u001b[0m\u001b[1;32m   2801\u001b[0m             \u001b[0;32mif\u001b[0m \u001b[0mis_integer\u001b[0m\u001b[0;34m(\u001b[0m\u001b[0mindexer\u001b[0m\u001b[0;34m)\u001b[0m\u001b[0;34m:\u001b[0m\u001b[0;34m\u001b[0m\u001b[0;34m\u001b[0m\u001b[0m\n\u001b[1;32m   2802\u001b[0m                 \u001b[0mindexer\u001b[0m \u001b[0;34m=\u001b[0m \u001b[0;34m[\u001b[0m\u001b[0mindexer\u001b[0m\u001b[0;34m]\u001b[0m\u001b[0;34m\u001b[0m\u001b[0;34m\u001b[0m\u001b[0m\n",
      "\u001b[0;32m/Applications/anaconda3/lib/python3.8/site-packages/pandas/core/indexes/base.py\u001b[0m in \u001b[0;36mget_loc\u001b[0;34m(self, key, method, tolerance)\u001b[0m\n\u001b[1;32m   2646\u001b[0m                 \u001b[0;32mreturn\u001b[0m \u001b[0mself\u001b[0m\u001b[0;34m.\u001b[0m\u001b[0m_engine\u001b[0m\u001b[0;34m.\u001b[0m\u001b[0mget_loc\u001b[0m\u001b[0;34m(\u001b[0m\u001b[0mkey\u001b[0m\u001b[0;34m)\u001b[0m\u001b[0;34m\u001b[0m\u001b[0;34m\u001b[0m\u001b[0m\n\u001b[1;32m   2647\u001b[0m             \u001b[0;32mexcept\u001b[0m \u001b[0mKeyError\u001b[0m\u001b[0;34m:\u001b[0m\u001b[0;34m\u001b[0m\u001b[0;34m\u001b[0m\u001b[0m\n\u001b[0;32m-> 2648\u001b[0;31m                 \u001b[0;32mreturn\u001b[0m \u001b[0mself\u001b[0m\u001b[0;34m.\u001b[0m\u001b[0m_engine\u001b[0m\u001b[0;34m.\u001b[0m\u001b[0mget_loc\u001b[0m\u001b[0;34m(\u001b[0m\u001b[0mself\u001b[0m\u001b[0;34m.\u001b[0m\u001b[0m_maybe_cast_indexer\u001b[0m\u001b[0;34m(\u001b[0m\u001b[0mkey\u001b[0m\u001b[0;34m)\u001b[0m\u001b[0;34m)\u001b[0m\u001b[0;34m\u001b[0m\u001b[0;34m\u001b[0m\u001b[0m\n\u001b[0m\u001b[1;32m   2649\u001b[0m         \u001b[0mindexer\u001b[0m \u001b[0;34m=\u001b[0m \u001b[0mself\u001b[0m\u001b[0;34m.\u001b[0m\u001b[0mget_indexer\u001b[0m\u001b[0;34m(\u001b[0m\u001b[0;34m[\u001b[0m\u001b[0mkey\u001b[0m\u001b[0;34m]\u001b[0m\u001b[0;34m,\u001b[0m \u001b[0mmethod\u001b[0m\u001b[0;34m=\u001b[0m\u001b[0mmethod\u001b[0m\u001b[0;34m,\u001b[0m \u001b[0mtolerance\u001b[0m\u001b[0;34m=\u001b[0m\u001b[0mtolerance\u001b[0m\u001b[0;34m)\u001b[0m\u001b[0;34m\u001b[0m\u001b[0;34m\u001b[0m\u001b[0m\n\u001b[1;32m   2650\u001b[0m         \u001b[0;32mif\u001b[0m \u001b[0mindexer\u001b[0m\u001b[0;34m.\u001b[0m\u001b[0mndim\u001b[0m \u001b[0;34m>\u001b[0m \u001b[0;36m1\u001b[0m \u001b[0;32mor\u001b[0m \u001b[0mindexer\u001b[0m\u001b[0;34m.\u001b[0m\u001b[0msize\u001b[0m \u001b[0;34m>\u001b[0m \u001b[0;36m1\u001b[0m\u001b[0;34m:\u001b[0m\u001b[0;34m\u001b[0m\u001b[0;34m\u001b[0m\u001b[0m\n",
      "\u001b[0;32mpandas/_libs/index.pyx\u001b[0m in \u001b[0;36mpandas._libs.index.IndexEngine.get_loc\u001b[0;34m()\u001b[0m\n",
      "\u001b[0;32mpandas/_libs/index.pyx\u001b[0m in \u001b[0;36mpandas._libs.index.IndexEngine.get_loc\u001b[0;34m()\u001b[0m\n",
      "\u001b[0;32mpandas/_libs/hashtable_class_helper.pxi\u001b[0m in \u001b[0;36mpandas._libs.hashtable.PyObjectHashTable.get_item\u001b[0;34m()\u001b[0m\n",
      "\u001b[0;32mpandas/_libs/hashtable_class_helper.pxi\u001b[0m in \u001b[0;36mpandas._libs.hashtable.PyObjectHashTable.get_item\u001b[0;34m()\u001b[0m\n",
      "\u001b[0;31mKeyError\u001b[0m: 'netDebt'"
     ]
    }
   ],
   "source": [
    "# ________________________________________  Расчет WACC  _______________________________________________\n",
    "start = datetime.datetime(2019, 2, 1)\n",
    "end= datetime.datetime.today().strftime('%Y-%m-%d')\n",
    "\n",
    "# Получаем ставку облигации\n",
    "\n",
    "session = HTMLSession()\n",
    "oblig_site = session.get('https://tradingeconomics.com/bonds')\n",
    "oblig_pars = oblig_site.html.find('#p')\n",
    "\n",
    "# ^GSPTSE - CA\n",
    "# ^GDAXI - DE\n",
    "\n",
    "obligation_dict = {\"DEU\":[oblig_pars[3].text], \"CAN\": [oblig_pars[31].text]}\n",
    "obligation = pd.DataFrame(obligation_dict)\n",
    "\n",
    "\n",
    "RF = 1.27 / 100\n",
    "print(f'RF {RF}')\n",
    "\n",
    "# Парсим beta с yahoo finance\n",
    "pars_data_beta = yf.Ticker(COMPANY.replace(' ', '')) #!!!!!!!!!!!!!!!!!!!!!!!!!!!!!!!!!!!!!!!!!!!!!!\n",
    "beta = pars_data_beta.info['beta']  \n",
    "print(f'beta {beta}')\n",
    "\n",
    "# Считаем годовую доходность\n",
    "data = wb.DataReader('EPOL', data_source='yahoo', start='2001-1-1') # нужно определиться с переменной индекс\n",
    "data['simple_return'] = (data['Adj Close'] / data['Adj Close'].shift(1)) - 1\n",
    "data['simple_return'].replace(np.nan, 0)\n",
    "avg_returns_a = data['simple_return'].mean() * 250\n",
    "\n",
    "print(f'Годовая доходность S&P500 {avg_returns_a*100}')\n",
    "\n",
    " \n",
    "ke = RF + (beta * (avg_returns_a - RF))\n",
    "print(f'Стоимость капитала {ke*100}')\n",
    "\n",
    "pars_mktCap = yf.Ticker(COMPANY.replace(' ', '')) #!!!!!!!!!!!!!!!!!!!!!!!!!!!!!!!!!!!!!!!!!!!!!!\n",
    "marketCap = pars_data_beta.info['marketCap']  # перевод валюты\n",
    "\n",
    "\n",
    "\n",
    "WACC = ((marketCap) / ((marketCap) + work_table['netDebt'][0:2].mean())) * ke + (\n",
    "                work_table['netDebt'][0:2].mean() / ((marketCap) + work_table['netDebt'][0:2].mean())) * (\n",
    "                        work_table['interestExpense'][0] / work_table['netDebt'][0:2].mean()) \\\n",
    "               * (1 - (work_table['incomeTaxExpense'][0] / work_table['incomeBeforeTax'][0]))\n",
    "\n",
    "print(f'WACC {WACC}')\n"
   ]
  },
  {
   "cell_type": "code",
   "execution_count": null,
   "metadata": {},
   "outputs": [],
   "source": []
  },
  {
   "cell_type": "code",
   "execution_count": null,
   "metadata": {},
   "outputs": [],
   "source": [
    "mean_wacc = WACC\n",
    "net_debt = work_table['netDebt'][0]"
   ]
  },
  {
   "cell_type": "code",
   "execution_count": null,
   "metadata": {},
   "outputs": [],
   "source": [
    "'''----// Discount EBIT figures to arrive at the PV of the firm's cash flows //----'''\n",
    "\n",
    "def discount(forecast, discount_rate, long_term_rate):\n",
    "    discount_lst = []\n",
    "    for x,i in enumerate(forecast):\n",
    "        if x < 5:\n",
    "            discount_lst.append(i/(1+discount_rate)**(x+1))\n",
    "        else:\n",
    "            discount_lst.append(i/(discount_rate-long_term_rate)*(1/(1+discount_rate)**5))\n",
    "    return sum(discount_lst)\n",
    "\n",
    "'''----// Run simulation and plot distribution of model forecasts //----'''\n",
    "\n",
    "hist_lst = []\n",
    "\n",
    "for i in range(iterations):\n",
    "    cagr = np.random.normal(mean_cagr, cagr_df['revenue_cagr'].std()) # шаг в качестве стандартного отклоенения\n",
    "    cagr_net_income_normal = np.random.normal(cagr_net_income, cagr_df['netIncome_cagr'].std())# шаг в качестве стандартного отклоенения\n",
    "    margin = np.random.normal(mean_margin, (work_table['operatingMargin'] / 100).std() )# шаг в качестве стандартного отклоенения\n",
    "    long_term_rate = np.random.normal(long_term_growth, 0.001)\n",
    "    discount_rate = np.random.normal(mean_wacc, 0.001)\n",
    "    assets = np.random.normal(work_table['currentAssets'][0], work_table['currentAssets'].std()) # шаг в качестве стандартного отклоенения\n",
    "    forecast1 = get_forecast(cagr, margin, long_term_rate, cagr_net_income_normal)\n",
    "    forecast = forecast1.append(forecast1[4]*(1+long_term_growth)) \n",
    "    hist_lst.append(discount(forecast1, discount_rate, long_term_rate)-net_debt + assets)\n",
    "hist_array = np.array(hist_lst)\n",
    "plt.hist(hist_array, bins=50, align='mid', color = 'steelblue', edgecolor='black')\n",
    "plt.title('Sample Distribution ' + COMPANY, {'fontname':'Calibri'})\n",
    "plt.xlabel('Equity Value in $', {'fontname':'Calibri'})\n",
    "plt.ylabel('Frequency', {'fontname':'Calibri'})\n",
    "\n",
    "plt.show()\n",
    "\n",
    "mean = hist_array.mean()\n",
    "standard_error = hist_array.std()\n",
    "\n",
    "lower_bound = (mean-standard_error) / work_table['shares'][0] # work_table['stockholdersEquity']\n",
    "upper_bound = (mean+standard_error ) / work_table['shares'][0] # work_table['stockholdersEquity']\n",
    "\n",
    "\n",
    "\n",
    "print(lower_bound)\n",
    "print(upper_bound)\n",
    "print(mean / work_table['shares'][0])"
   ]
  },
  {
   "cell_type": "code",
   "execution_count": null,
   "metadata": {},
   "outputs": [],
   "source": [
    "get_forecast(cagr, margin, long_term_growth, cagr_net_income_normal) # Forcast на 5 лет\n"
   ]
  },
  {
   "cell_type": "code",
   "execution_count": null,
   "metadata": {},
   "outputs": [],
   "source": [
    "forecast1"
   ]
  },
  {
   "cell_type": "code",
   "execution_count": null,
   "metadata": {},
   "outputs": [],
   "source": [
    "work_table['shares'][0]"
   ]
  },
  {
   "cell_type": "code",
   "execution_count": null,
   "metadata": {},
   "outputs": [],
   "source": [
    "work_table['revenue']"
   ]
  },
  {
   "cell_type": "code",
   "execution_count": null,
   "metadata": {},
   "outputs": [],
   "source": [
    " data"
   ]
  },
  {
   "cell_type": "code",
   "execution_count": null,
   "metadata": {},
   "outputs": [],
   "source": [
    " "
   ]
  },
  {
   "cell_type": "code",
   "execution_count": null,
   "metadata": {},
   "outputs": [],
   "source": []
  }
 ],
 "metadata": {
  "kernelspec": {
   "display_name": "Python 3",
   "language": "python",
   "name": "python3"
  },
  "language_info": {
   "codemirror_mode": {
    "name": "ipython",
    "version": 3
   },
   "file_extension": ".py",
   "mimetype": "text/x-python",
   "name": "python",
   "nbconvert_exporter": "python",
   "pygments_lexer": "ipython3",
   "version": "3.8.3"
  }
 },
 "nbformat": 4,
 "nbformat_minor": 4
}
