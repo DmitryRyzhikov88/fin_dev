{
 "cells": [
  {
   "cell_type": "markdown",
   "metadata": {},
   "source": [
    "# Notebook Instructions\n",
    "\n",
    "1. All the <u>code and data files</u> used in this course are available in the downloadable unit of the <u>last section of this course</u>.\n",
    "2. You can run the notebook document sequentially (one cell at a time) by pressing **shift + enter**. \n",
    "3. While a cell is running, a [*] is shown on the left. After the cell is run, the output will appear on the next line.\n",
    "\n",
    "This course is based on specific versions of python packages. You can find the details of the packages in <a href='https://quantra.quantinsti.com/quantra-notebook' target=\"_blank\" >this manual</a>."
   ]
  },
  {
   "cell_type": "markdown",
   "metadata": {},
   "source": [
    "# Calculation of Beta\n",
    "\n",
    "In this notebook, you will learn about the calculation of beta using regression analysis and variance-covariance method.\n",
    "\n",
    "The steps for the same:\n",
    "1. Read the data from CSV \n",
    "2. Calculate the daily returns\n",
    "3. Calculate the beta using regression method\n",
    "4. Calculate the beta using variance-covariance method\n"
   ]
  },
  {
   "cell_type": "markdown",
   "metadata": {},
   "source": [
    "### Read the data from CSV\n",
    "The `read_csv()` method is used to read the data from CSV file. We will read the price of Amazon (AMZN) and S&P500 (SPY) from the CSV file. The data we are using for the calculation of Beta is from 14-June-2018 to 14-June-2019. This is arbitrarily chosen dates for illustration purpose. Also, the beta should not be computed for a shorter period of time (at least 1-year data is required)."
   ]
  },
  {
   "cell_type": "code",
   "execution_count": 1,
   "metadata": {
    "scrolled": false
   },
   "outputs": [
    {
     "data": {
      "text/html": [
       "<div>\n",
       "<style scoped>\n",
       "    .dataframe tbody tr th:only-of-type {\n",
       "        vertical-align: middle;\n",
       "    }\n",
       "\n",
       "    .dataframe tbody tr th {\n",
       "        vertical-align: top;\n",
       "    }\n",
       "\n",
       "    .dataframe thead th {\n",
       "        text-align: right;\n",
       "    }\n",
       "</style>\n",
       "<table border=\"1\" class=\"dataframe\">\n",
       "  <thead>\n",
       "    <tr style=\"text-align: right;\">\n",
       "      <th></th>\n",
       "      <th>amazon_price</th>\n",
       "      <th>spy_price</th>\n",
       "    </tr>\n",
       "    <tr>\n",
       "      <th>date</th>\n",
       "      <th></th>\n",
       "      <th></th>\n",
       "    </tr>\n",
       "  </thead>\n",
       "  <tbody>\n",
       "    <tr>\n",
       "      <th>14-06-2018</th>\n",
       "      <td>1723.86</td>\n",
       "      <td>278.73</td>\n",
       "    </tr>\n",
       "    <tr>\n",
       "      <th>15-06-2018</th>\n",
       "      <td>1715.97</td>\n",
       "      <td>277.13</td>\n",
       "    </tr>\n",
       "    <tr>\n",
       "      <th>18-06-2018</th>\n",
       "      <td>1723.79</td>\n",
       "      <td>276.56</td>\n",
       "    </tr>\n",
       "    <tr>\n",
       "      <th>19-06-2018</th>\n",
       "      <td>1734.78</td>\n",
       "      <td>275.50</td>\n",
       "    </tr>\n",
       "    <tr>\n",
       "      <th>20-06-2018</th>\n",
       "      <td>1750.08</td>\n",
       "      <td>275.97</td>\n",
       "    </tr>\n",
       "  </tbody>\n",
       "</table>\n",
       "</div>"
      ],
      "text/plain": [
       "            amazon_price  spy_price\n",
       "date                               \n",
       "14-06-2018       1723.86     278.73\n",
       "15-06-2018       1715.97     277.13\n",
       "18-06-2018       1723.79     276.56\n",
       "19-06-2018       1734.78     275.50\n",
       "20-06-2018       1750.08     275.97"
      ]
     },
     "execution_count": 1,
     "metadata": {},
     "output_type": "execute_result"
    }
   ],
   "source": [
    "# Import the pandas library\n",
    "import pandas as pd\n",
    "\n",
    "# Read the data\n",
    "data = pd.read_csv(\n",
    "    '../data_modules/AMZN_SPY_Prices_2018_to_2019_Beta.csv', index_col=0)\n",
    "data.head()"
   ]
  },
  {
   "cell_type": "markdown",
   "metadata": {},
   "source": [
    "### Calculate the daily returns\n",
    "The `pct_change()` method is used to calculate the daily percentage change. "
   ]
  },
  {
   "cell_type": "code",
   "execution_count": 2,
   "metadata": {},
   "outputs": [
    {
     "data": {
      "text/html": [
       "<div>\n",
       "<style scoped>\n",
       "    .dataframe tbody tr th:only-of-type {\n",
       "        vertical-align: middle;\n",
       "    }\n",
       "\n",
       "    .dataframe tbody tr th {\n",
       "        vertical-align: top;\n",
       "    }\n",
       "\n",
       "    .dataframe thead th {\n",
       "        text-align: right;\n",
       "    }\n",
       "</style>\n",
       "<table border=\"1\" class=\"dataframe\">\n",
       "  <thead>\n",
       "    <tr style=\"text-align: right;\">\n",
       "      <th></th>\n",
       "      <th>amazon_price</th>\n",
       "      <th>spy_price</th>\n",
       "      <th>daily_amazon_returns</th>\n",
       "      <th>daily_spy_returns</th>\n",
       "    </tr>\n",
       "    <tr>\n",
       "      <th>date</th>\n",
       "      <th></th>\n",
       "      <th></th>\n",
       "      <th></th>\n",
       "      <th></th>\n",
       "    </tr>\n",
       "  </thead>\n",
       "  <tbody>\n",
       "    <tr>\n",
       "      <th>15-06-2018</th>\n",
       "      <td>1715.97</td>\n",
       "      <td>277.13</td>\n",
       "      <td>-0.004577</td>\n",
       "      <td>-0.005740</td>\n",
       "    </tr>\n",
       "    <tr>\n",
       "      <th>18-06-2018</th>\n",
       "      <td>1723.79</td>\n",
       "      <td>276.56</td>\n",
       "      <td>0.004557</td>\n",
       "      <td>-0.002057</td>\n",
       "    </tr>\n",
       "    <tr>\n",
       "      <th>19-06-2018</th>\n",
       "      <td>1734.78</td>\n",
       "      <td>275.50</td>\n",
       "      <td>0.006375</td>\n",
       "      <td>-0.003833</td>\n",
       "    </tr>\n",
       "    <tr>\n",
       "      <th>20-06-2018</th>\n",
       "      <td>1750.08</td>\n",
       "      <td>275.97</td>\n",
       "      <td>0.008820</td>\n",
       "      <td>0.001706</td>\n",
       "    </tr>\n",
       "    <tr>\n",
       "      <th>21-06-2018</th>\n",
       "      <td>1730.22</td>\n",
       "      <td>274.24</td>\n",
       "      <td>-0.011348</td>\n",
       "      <td>-0.006269</td>\n",
       "    </tr>\n",
       "  </tbody>\n",
       "</table>\n",
       "</div>"
      ],
      "text/plain": [
       "            amazon_price  spy_price  daily_amazon_returns  daily_spy_returns\n",
       "date                                                                        \n",
       "15-06-2018       1715.97     277.13             -0.004577          -0.005740\n",
       "18-06-2018       1723.79     276.56              0.004557          -0.002057\n",
       "19-06-2018       1734.78     275.50              0.006375          -0.003833\n",
       "20-06-2018       1750.08     275.97              0.008820           0.001706\n",
       "21-06-2018       1730.22     274.24             -0.011348          -0.006269"
      ]
     },
     "execution_count": 2,
     "metadata": {},
     "output_type": "execute_result"
    }
   ],
   "source": [
    "# Calculate the daily returns of Amazon\n",
    "data['daily_amazon_returns'] = data.amazon_price.pct_change()\n",
    "\n",
    "# Calculate the daily returns of S&P500\n",
    "data['daily_spy_returns'] = data.spy_price.pct_change()\n",
    "\n",
    "# Drop NaN values\n",
    "data = data.dropna()\n",
    "\n",
    "# Print the first five rows of data dataframe\n",
    "data.head()"
   ]
  },
  {
   "cell_type": "markdown",
   "metadata": {},
   "source": [
    "### Calculate the beta using regression method\n",
    "We have daily returns of Amazon and S&P500. We will use the ordinary least square (OLS) regression to calculate the Beta of the Amazon. \n",
    "\n",
    "For that, we will use the OLS function from statsmodels library.\n",
    "\n",
    "Syntax: \n",
    "\n",
    "`OLS(y, X)`\n",
    "\n",
    "In our case, `y` = daily_amazon_returns and `X` = daily_spy_returns"
   ]
  },
  {
   "cell_type": "code",
   "execution_count": 3,
   "metadata": {},
   "outputs": [
    {
     "name": "stdout",
     "output_type": "stream",
     "text": [
      "Beta of Amazon: 1.87\n"
     ]
    }
   ],
   "source": [
    "# Import statsmodels library\n",
    "import statsmodels.api as sm\n",
    "\n",
    "# Create a regression model\n",
    "reg = sm.OLS(data.daily_amazon_returns,\n",
    "             data.daily_spy_returns)\n",
    "\n",
    "# Fit the model\n",
    "results = reg.fit()\n",
    "\n",
    "# Print the beta of Amazon\n",
    "print('Beta of Amazon: %.2f' % results.params[0])"
   ]
  },
  {
   "cell_type": "markdown",
   "metadata": {},
   "source": [
    "### Calculate the beta using variance-covariance method\n",
    "\n",
    "The formula for calculating beta of stock using variance and covariance:\n",
    "\n",
    "\n",
    "![title](https://d2a032ejo53cab.cloudfront.net/Glossary/B6MC6lQO/beta.PNG)\n",
    "\n",
    "In our case, \n",
    "\n",
    "Beta (Amazon) = Covariance (Returns of Amazon, Returns of S&P500) / Variance (Returns of S&P500)\n",
    "\n",
    "To calculate covariance, we use `cov` method from numpy. The `numpy.cov` method takes two series of data as input and gives a 2×2 array as output. The 2×2 array has elements equal to\n",
    "\n",
    "cov(a,a)  cov(a,b)\n",
    "\n",
    "cov(a,b)  cov(b,b)\n",
    "\n",
    "So, you can either use np.cov(a,b)[1][0] or np.cov(a,b)[0][1]\n",
    "\n",
    "To calculate variance, we use `var` method from numpy."
   ]
  },
  {
   "cell_type": "code",
   "execution_count": 4,
   "metadata": {},
   "outputs": [
    {
     "name": "stdout",
     "output_type": "stream",
     "text": [
      "Beta of Amazon: 1.87\n"
     ]
    }
   ],
   "source": [
    "# Import the numpy library\n",
    "import numpy as np\n",
    "\n",
    "# Calculate the covariance of Amazon and S&P500.\n",
    "Covariance = np.cov(data.daily_amazon_returns,\n",
    "                    data.daily_spy_returns)[0][1]\n",
    "\n",
    "\n",
    "# Calculate the variance of S&P500\n",
    "Variance = np.var(data.daily_spy_returns)\n",
    "\n",
    "# Print the beta of Amazon\n",
    "print('Beta of Amazon: %.2f' % (Covariance / Variance))"
   ]
  },
  {
   "cell_type": "markdown",
   "metadata": {},
   "source": [
    "As you can see the value of beta for Amazon (AMZN) comes out to be approximately same using both regression and variance-covariance methods.  <br><br>"
   ]
  }
 ],
 "metadata": {
  "kernelspec": {
   "display_name": "Python 3",
   "language": "python",
   "name": "python3"
  },
  "language_info": {
   "codemirror_mode": {
    "name": "ipython",
    "version": 3
   },
   "file_extension": ".py",
   "mimetype": "text/x-python",
   "name": "python",
   "nbconvert_exporter": "python",
   "pygments_lexer": "ipython3",
   "version": "3.7.4"
  }
 },
 "nbformat": 4,
 "nbformat_minor": 2
}
