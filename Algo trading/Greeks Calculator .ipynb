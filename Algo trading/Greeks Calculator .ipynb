{
 "cells": [
  {
   "cell_type": "markdown",
   "metadata": {
    "colab_type": "text",
    "id": "UVGIXwAfaI4Z"
   },
   "source": [
    "# Notebook Instructions\n",
    "<i>You can run the notebook document sequentially (one cell a time) by pressing <b> shift + enter</b>. While a cell is running, a [*] will display on the left. When it has been run, a number will display indicating the order in which it was run in the notebook [8].</i>\n",
    "\n",
    "<i>Enter edit mode by pressing <b>`Enter`</b> or using the mouse to click on a cell's editor area. Edit mode is indicated by a green cell border and a prompt showing in the editor area.</i>"
   ]
  },
  {
   "cell_type": "markdown",
   "metadata": {
    "colab_type": "text",
    "id": "JL2alBMEaI4b"
   },
   "source": [
    "# Greeks calculator\n",
    "\n",
    "It is now time to learn how to calculate the Greeks (Delta, Gamma, Vega, Theta, and Rho) in Python using the mibian library."
   ]
  },
  {
   "cell_type": "markdown",
   "metadata": {
    "colab_type": "text",
    "id": "AoC-bEtHaI4c"
   },
   "source": [
    "# Import the libraries\n",
    "\n",
    "Mibian is an open source Python library for options pricing and computing Options Greeks. It can be used to calculate the call price, the put price, the implied volatility, the greeks of an option using the Black-Scholes Model (BS).\n",
    "\n",
    "To install mibian in your pc/laptop type following line from a Jupyter notebook or Python shell:\n",
    "\n",
    "!pip install mibian"
   ]
  },
  {
   "cell_type": "code",
   "execution_count": 2,
   "metadata": {
    "colab": {
     "base_uri": "https://localhost:8080/",
     "height": 316
    },
    "colab_type": "code",
    "executionInfo": {
     "elapsed": 1163,
     "status": "error",
     "timestamp": 1558442469949,
     "user": {
      "displayName": "Manuj Agarwal",
      "photoUrl": "",
      "userId": "17321244719502728314"
     },
     "user_tz": -330
    },
    "id": "YEnrTIDpaI4d",
    "outputId": "11dee367-9e21-4c37-c051-82236a43ecf0"
   },
   "outputs": [],
   "source": [
    "# Import library\n",
    "import mibian\n",
    "from tabulate import tabulate"
   ]
  },
  {
   "cell_type": "markdown",
   "metadata": {
    "colab_type": "text",
    "id": "XG49vRa1aI4h"
   },
   "source": [
    "# Define parameters for the call option contract\n",
    "\n",
    "stock_price: This is the price at which the stock is trading.\n",
    "\n",
    "strike_price: This is the price at which the option will be exercised.\n",
    "\n",
    "interest_rate: This is the risk-free rate prevailing in the economy. In our example, we will take future price as the stock_price and consider the interest rate as 0. This is because the future price includes the interest rate.\n",
    "\n",
    "days_to_expiry: This the number of calendar days left to expiry.\n",
    "\n",
    "Volatility: This is the option's implied volatility."
   ]
  },
  {
   "cell_type": "code",
   "execution_count": 3,
   "metadata": {
    "colab": {},
    "colab_type": "code",
    "id": "_3HD8-eBaI4i"
   },
   "outputs": [],
   "source": [
    "stock_price = 340.3\n",
    "strike_price = 350\n",
    "interest_rate = 0\n",
    "days_to_expiry = 29\n",
    "volatility = 30.0"
   ]
  },
  {
   "cell_type": "markdown",
   "metadata": {
    "colab_type": "text",
    "id": "F7XBw3X0aI4l"
   },
   "source": [
    "# Compute Greeks\n",
    "\n",
    "BS (Black-Scholes) is used for pricing European options on the stocks without dividends. The syntax is as follows:\n",
    "\n",
    "BS([stock_price, strike_price, interest_rate, days_to_expiry], volatility=x, callPrice=y, putPrice=z).\n",
    "\n",
    "The BS function returns  the following callPrice, putPrice, callDelta, putDelta, callTheta, putTheta, callRho, putRho, vega, and gamma\t\n"
   ]
  },
  {
   "cell_type": "code",
   "execution_count": 4,
   "metadata": {
    "colab": {
     "base_uri": "https://localhost:8080/",
     "height": 183
    },
    "colab_type": "code",
    "executionInfo": {
     "elapsed": 1199,
     "status": "error",
     "timestamp": 1558442469991,
     "user": {
      "displayName": "Manuj Agarwal",
      "photoUrl": "",
      "userId": "17321244719502728314"
     },
     "user_tz": -330
    },
    "id": "4xt_x4_iaI4m",
    "outputId": "b9038ef2-1cb0-43e7-ed7c-4126e3876b2a"
   },
   "outputs": [],
   "source": [
    "greeks = mibian.BS([stock_price, strike_price, interest_rate, days_to_expiry], \\\n",
    "                   volatility=volatility)"
   ]
  },
  {
   "cell_type": "code",
   "execution_count": 5,
   "metadata": {
    "colab": {},
    "colab_type": "code",
    "id": "AeHagPe0aI4p"
   },
   "outputs": [
    {
     "data": {
      "text/plain": [
       "0.09843024517833651"
      ]
     },
     "execution_count": 5,
     "metadata": {},
     "output_type": "execute_result"
    }
   ],
   "source": [
    "greeks.callRho"
   ]
  },
  {
   "cell_type": "markdown",
   "metadata": {
    "colab_type": "text",
    "id": "ngh3_62laI4v"
   },
   "source": [
    "# Greeks for Call Option"
   ]
  },
  {
   "cell_type": "code",
   "execution_count": 6,
   "metadata": {
    "colab": {},
    "colab_type": "code",
    "id": "_fawQhNhaI4w",
    "scrolled": true
   },
   "outputs": [
    {
     "name": "stdout",
     "output_type": "stream",
     "text": [
      "| Greeks   |      Value |\n",
      "|----------+------------|\n",
      "| Delta    |  0.385875  |\n",
      "| Gamma    |  0.0132923 |\n",
      "| Vega     |  0.366903  |\n",
      "| Theta    | -0.189778  |\n",
      "| Rho      |  0.0984302 |\n",
      "\n",
      "The Call price is: 7.426905031477048\n"
     ]
    }
   ],
   "source": [
    "print(\n",
    "    tabulate(\n",
    "        [\n",
    "            ['Delta',greeks.callDelta],\n",
    "            ['Gamma',greeks.gamma],\n",
    "            ['Vega',greeks.vega],\n",
    "            ['Theta',greeks.callTheta],\n",
    "            ['Rho',greeks.callRho]\n",
    "        ],\n",
    "        headers=['Greeks','Value'],tablefmt='orgtbl'))\n",
    "print(\"\")\n",
    "print(\"The Call price is:\",greeks.callPrice)"
   ]
  },
  {
   "cell_type": "markdown",
   "metadata": {
    "colab_type": "text",
    "id": "zkY7oJ1faI41"
   },
   "source": [
    "# Greeks for Put Option"
   ]
  },
  {
   "cell_type": "code",
   "execution_count": 7,
   "metadata": {
    "colab": {},
    "colab_type": "code",
    "id": "LRPhboVDaI42"
   },
   "outputs": [
    {
     "name": "stdout",
     "output_type": "stream",
     "text": [
      "| Greeks   |      Value |\n",
      "|----------+------------|\n",
      "| Delta    | -0.614125  |\n",
      "| Gamma    |  0.0132923 |\n",
      "| Vega     |  0.366903  |\n",
      "| Theta    | -0.189778  |\n",
      "| Rho      | -0.179652  |\n",
      "\n",
      "The Put price is: 17.12690503147701\n",
      "The Call price is: 7.426905031477048\n"
     ]
    }
   ],
   "source": [
    "print(\n",
    "    tabulate(\n",
    "        [\n",
    "            ['Delta', greeks.putDelta],\n",
    "            ['Gamma', greeks.gamma],\n",
    "            ['Vega', greeks.vega],\n",
    "            ['Theta', greeks.putTheta],\n",
    "            ['Rho', greeks.putRho]\n",
    "        ],\n",
    "        headers=['Greeks', 'Value'], tablefmt='orgtbl'))\n",
    "print(\"\")\n",
    "print(\"The Put price is:\",greeks.putPrice)\n",
    "print(\"The Call price is:\",greeks.callPrice)"
   ]
  },
  {
   "cell_type": "markdown",
   "metadata": {
    "colab_type": "text",
    "id": "7mJFX3RraI46"
   },
   "source": [
    "Below the Options Greeks table, the price of 100 strike call and 100 strike put is calculated. This is the theoretical option price as per the Black-Scholes options pricing model. This should ideally match the option price in the market. In the upcoming units, we will discuss in depth all the important Options Greeks and their sensitivity.\n",
    "<BR>\n"
   ]
  }
 ],
 "metadata": {
  "colab": {
   "name": "Greeks Calculator .ipynb",
   "provenance": [],
   "version": "0.3.2"
  },
  "kernelspec": {
   "display_name": "Python 3",
   "language": "python",
   "name": "python3"
  },
  "language_info": {
   "codemirror_mode": {
    "name": "ipython",
    "version": 3
   },
   "file_extension": ".py",
   "mimetype": "text/x-python",
   "name": "python",
   "nbconvert_exporter": "python",
   "pygments_lexer": "ipython3",
   "version": "3.6.5"
  }
 },
 "nbformat": 4,
 "nbformat_minor": 1
}
